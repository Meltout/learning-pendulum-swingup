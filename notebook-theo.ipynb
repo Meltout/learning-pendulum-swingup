{
 "cells": [
  {
   "cell_type": "markdown",
   "metadata": {},
   "source": [
    "## Adapt section 5, *Learning to balance*, using the Cart Pole environment of Gymnasium\n",
    "\n",
    "### Main steps to take\n",
    "- gather samples of the system's dynamics by running a random policy\n",
    "- learn a local linear model of the system's dynamic around the point $\\theta = 0$\n",
    "- modify the reward function in equation (4) to reflect that in our problem the acceleration input can take only 2 values\n",
    "- compute a balancing policy by leveraging the local linear model and reward function (e.g. LQR controller)"
   ]
  },
  {
   "cell_type": "code",
   "execution_count": null,
   "metadata": {},
   "outputs": [],
   "source": [
    "import gymnasium as gym\n",
    "import numpy as np\n",
    "import pandas as pd"
   ]
  },
  {
   "cell_type": "code",
   "execution_count": null,
   "metadata": {},
   "outputs": [],
   "source": [
    "env = gym.make(\"CartPole-v1\")\n",
    "# an observation is a tuple (Cart Position, Cart Velocity, Pole Angle, Pole Angular Velocity)\n",
    "print(env.observation_space)\n",
    "# there are two possible actions, 0 and 1, which correspond to pushing the cart left or right\n",
    "print(env.action_space)"
   ]
  },
  {
   "cell_type": "code",
   "execution_count": null,
   "metadata": {},
   "outputs": [],
   "source": [
    "def generate_sample_of_system_dynamics(env, nb_samples):\n",
    "  \"\"\" \n",
    "  Returns: a dataframe containing predictors and outcomes\n",
    "  \"\"\"\n",
    "  \n",
    "  samples = []\n",
    "  s, _ = env.reset()\n",
    "  for _ in range(nb_samples):\n",
    "    a = np.random.randint(0, 2)\n",
    "    next_s, _, d, _, _ = env.step(a)\n",
    "    samples.append({\n",
    "      'x': s[0], \n",
    "      'x_dot': s[1], \n",
    "      'theta': s[2], \n",
    "      'theta_dot': s[3], \n",
    "      '2u - 1': 2 * a - 1, # mapping inputs to {-1, 1} rather than {0, 1} is important, because otherwise the linear regression needs a non-zero constant to fit well\n",
    "      'evolution_x': next_s[0], \n",
    "      'evolution_x_dot': next_s[1], \n",
    "      'evolution_theta_dot': next_s[3]})\n",
    "    if d:\n",
    "      s, _ = env.reset()\n",
    "    else:\n",
    "      s = next_s\n",
    "  return pd.DataFrame(samples)"
   ]
  },
  {
   "cell_type": "code",
   "execution_count": null,
   "metadata": {},
   "outputs": [],
   "source": [
    "env = gym.make(\"CartPole-v1\")\n",
    "samples = generate_sample_of_system_dynamics(env, 10000)\n",
    "print(samples.describe())"
   ]
  },
  {
   "cell_type": "markdown",
   "metadata": {},
   "source": [
    "## Fitting a linear model for the system's dynamics around $\\theta=0$\n",
    "\n",
    "Under the assumption thata the pole's angular velocity is a linear\n",
    "function of the state and action we use linear regression to find\n",
    "the coefficients based on sample data"
   ]
  },
  {
   "cell_type": "code",
   "execution_count": null,
   "metadata": {},
   "outputs": [],
   "source": [
    "from statsmodels.api import OLS\n",
    "\n",
    "small_angle_samples = samples[np.abs(samples[\"theta\"]) < 0.05]\n",
    "predictors = small_angle_samples[['x', 'x_dot', 'theta', 'theta_dot', '2u - 1']]\n",
    "outcomes = ['evolution_x_dot', 'evolution_theta_dot', 'evolution_x']\n",
    "for o in outcomes:\n",
    "  model = OLS(small_angle_samples[o], predictors)\n",
    "  fit = model.fit()\n",
    "  print(f\"{o} linear model:\")\n",
    "  print(fit.params)\n",
    "  print(f\"Mean squared error of {o} fit\", fit.mse_resid)"
   ]
  },
  {
   "cell_type": "markdown",
   "metadata": {},
   "source": [
    "## Computing a state-feedback controller according to a discrete-time linear quadratic regulator design"
   ]
  },
  {
   "cell_type": "code",
   "execution_count": null,
   "metadata": {},
   "outputs": [],
   "source": [
    "from control import dlqr\n",
    "\n",
    "dT = 0.02\n",
    "A = np.array([\n",
    "  [1, dT, 0, 0], #x\n",
    "  [0, 1, -0.014107, 0], #x_dot\n",
    "  [0, 0, 1, dT], #theta\n",
    "  [0.000031, 0.000019, 0.315099, 0.999998] #theta_dot\n",
    "])\n",
    "B = np.array([\n",
    "  [0], #x\n",
    "  [0.195111], #x_dot\n",
    "  [0], #theta\n",
    "  [-0.292548] #theta_dot\n",
    "])\n",
    "Q = np.diag([125, 50, 1200, 25])\n",
    "R = np.diag([1.5])\n",
    "\n",
    "K, S, E = dlqr(A, B, Q, R)\n",
    "print(K)"
   ]
  },
  {
   "cell_type": "markdown",
   "metadata": {},
   "source": [
    "## Trying out the learned control policy"
   ]
  },
  {
   "cell_type": "code",
   "execution_count": null,
   "metadata": {},
   "outputs": [],
   "source": [
    "env = gym.make(\"CartPole-v1\", render_mode='human')\n",
    "s, _ = env.reset()\n",
    "while True:\n",
    "  print(np.dot(-K, s))\n",
    "  a = 0 if np.dot(-K, s) < 0.5 else 1\n",
    "  s, _, dead, trunc, _ = env.step(a)\n",
    "  if dead or trunc:\n",
    "    break"
   ]
  },
  {
   "cell_type": "code",
   "execution_count": null,
   "metadata": {},
   "outputs": [],
   "source": [
    "env.close()"
   ]
  },
  {
   "cell_type": "markdown",
   "metadata": {},
   "source": [
    "## 3. Pick a robot arm description and load it in PyBullet"
   ]
  },
  {
   "cell_type": "code",
   "execution_count": null,
   "metadata": {},
   "outputs": [],
   "source": [
    "#We choose the edo arm for its simplicity of use and minimal DOF (6).\n",
    "\n",
    "arm_name = 'edo_description'\n",
    "\n",
    "#ur5 could be simple too as S Caron provides Pink implementation example for it\n"
   ]
  },
  {
   "cell_type": "code",
   "execution_count": null,
   "metadata": {},
   "outputs": [],
   "source": [
    "import pybullet as p\n",
    "from robot_descriptions.loaders.pybullet import load_robot_description"
   ]
  },
  {
   "cell_type": "code",
   "execution_count": null,
   "metadata": {},
   "outputs": [],
   "source": [
    "p.connect(p.GUI_SERVER)"
   ]
  },
  {
   "cell_type": "code",
   "execution_count": null,
   "metadata": {},
   "outputs": [],
   "source": [
    "robot_id = load_robot_description(arm_name)"
   ]
  },
  {
   "cell_type": "markdown",
   "metadata": {},
   "source": [
    "## 4. Apply pybullet.TORQUE_CONTROL with PD gains to make the robot go to a desired configuration."
   ]
  },
  {
   "cell_type": "code",
   "execution_count": null,
   "metadata": {},
   "outputs": [],
   "source": [
    "import numpy as np\n",
    "import time\n",
    "from tqdm import tqdm\n",
    "\n",
    "def pd_control(q_desired, v_desired, q_measured, v_measured, Kp, Kd):\n",
    "    \"\"\"\n",
    "    Compute the joint torques using PD control based on desired and measured positions and velocities.\n",
    "\n",
    "    Parameters:\n",
    "    q_desired (np.array): Desired joint positions\n",
    "    v_desired (np.array): Desired joint velocities\n",
    "    q_measured (np.array): Measured joint positions\n",
    "    v_measured (np.array): Measured joint velocities\n",
    "    Kp (np.array): Proportional gains\n",
    "    Kd (np.array): Derivative gains\n",
    "\n",
    "    Returns:\n",
    "    tau (np.array): Joint torques\n",
    "    \"\"\"\n",
    "    # Compute position and velocity errors\n",
    "    position_error = q_desired - q_measured\n",
    "    velocity_error = v_desired - v_measured\n",
    "    \n",
    "    # Compute torques using PD control\n",
    "    tau = Kp * position_error + Kd * velocity_error\n",
    "    return tau\n",
    "\n",
    "\n",
    "# Get the number of joints in the robot\n",
    "nq = p.getNumJoints(robot_id)\n",
    "\n",
    "# Set desired joint positions and velocities (targets for the PD control)\n",
    "q_desired = np.array([0, 0.0, 0,1.0,0,0])  # Desired joint positions (radians)\n",
    "v_desired = np.zeros_like(q_desired)  # Desired joint velocities (radians/sec)\n",
    "\n",
    "# Initialize the PD control gains (these can be tuned)\n",
    "Kp = np.array([0,0,0,100,0,0])  # Proportional gains\n",
    "Kd = np.array([0,0,0,0,0,0])     # Derivative gains\n",
    "\n",
    "# Simulate and apply torques using PD control\n",
    "for step in range(25):\n",
    "    # Get the current joint states (positions and velocities)\n",
    "    q_measured = np.array([p.getJointState(robot_id, i)[0] for i in range(nq)])\n",
    "    v_measured = np.array([p.getJointState(robot_id, i)[1] for i in range(nq)])\n",
    "\n",
    "    # Compute the joint torques using the PD controller\n",
    "    tau = pd_control(q_desired, v_desired, q_measured, v_measured, Kp, Kd)\n",
    "\n",
    "    # Apply the torques to the robot joints\n",
    "    for i in range(nq):\n",
    "        if i==4:\n",
    "            p.setJointMotorControl2(robot_id, 2, p.TORQUE_CONTROL, force=10)\n",
    "\n",
    "    # Step the simulation forward\n",
    "    p.stepSimulation()\n",
    "\n",
    "    # Optional: Slow down the simulation for visualization or debugging\n",
    "    time.sleep(0.01)\n"
   ]
  },
  {
   "cell_type": "code",
   "execution_count": null,
   "metadata": {},
   "outputs": [],
   "source": [
    "#to reinitialise position\n",
    "startPos = [0, 0, 0]\n",
    "startOrientation = [0, 0, 0, 1]\n",
    "p.resetBasePositionAndOrientation(robot_id, startPos, startOrientation )\n"
   ]
  },
  {
   "cell_type": "markdown",
   "metadata": {},
   "source": [
    "## 6. Modify the URDF file of the robot description to add a pendulum at the end effector of the arm"
   ]
  },
  {
   "cell_type": "code",
   "execution_count": null,
   "metadata": {},
   "outputs": [],
   "source": [
    "import os\n",
    "\n",
    "# Assuming you've imported the robot description as follows\n",
    "from robot_descriptions import edo_description\n",
    "\n",
    "# Get the URDF path\n",
    "urdf_path = edo_description.URDF_PATH\n",
    "print(f\"Original URDF path: {urdf_path}\")\n",
    "\n",
    "# Check if the URDF file exists\n",
    "if os.path.exists(urdf_path):\n",
    "    # Open the URDF file to read\n",
    "    with open(urdf_path, 'r') as file:\n",
    "        urdf_content = file.read()\n",
    "\n",
    "    # Print out the first 500 characters for inspection\n",
    "    print(\"Original URDF content (first 500 characters):\")\n",
    "    print(urdf_content[:500])\n",
    "\n",
    "    # Define the pendulum link (with mass and inertia)\n",
    "    pendulum_link = \"\"\"\n",
    "    <!-- Pendulum link -->\n",
    "    <link name=\"pendulum_link\">\n",
    "        <inertial>\n",
    "            <origin xyz=\"0 0 0\" rpy=\"0 0 0\" />\n",
    "            <mass value=\"0.1\" /> <!-- Adjust the mass as needed -->\n",
    "            <inertia ixx=\"0.0001\" ixy=\"0\" ixz=\"0\" iyy=\"0.0001\" iyz=\"0\" izz=\"0.0001\" />\n",
    "        </inertial>\n",
    "        <visual>\n",
    "            <origin xyz=\"0 0 0\" rpy=\"0 0 0\" />\n",
    "            <geometry>\n",
    "                <mesh filename=\"package://edo_sim/meshes/pendulum_mesh.stl\" />\n",
    "            </geometry>\n",
    "            <material name=\"gray\"/>\n",
    "        </visual>\n",
    "        <collision>\n",
    "            <origin xyz=\"0 0 0\" rpy=\"0 0 0\" />\n",
    "            <geometry>\n",
    "                <mesh filename=\"package://edo_sim/meshes/pendulum_mesh.stl\" />\n",
    "            </geometry>\n",
    "        </collision>\n",
    "    </link>\n",
    "    \"\"\"\n",
    "\n",
    "    # Define the pendulum joint connecting to the end-effector (link_6)\n",
    "    pendulum_joint = \"\"\"\n",
    "    <!-- Pendulum joint -->\n",
    "    <joint name=\"pendulum_joint\" type=\"revolute\">\n",
    "        <origin xyz=\"0 0 0\" rpy=\"0 0 0\" />  <!-- Position of the joint relative to link_6 -->\n",
    "        <parent link=\"link_6\" />\n",
    "        <child link=\"pendulum_link\" />\n",
    "        <axis xyz=\"0 1 0\" />  <!-- The axis of rotation (along y-axis) -->\n",
    "        <limit lower=\"0\" upper=\"3.14\" effort=\"0\" velocity=\"1\" />  <!-- Swing range 0 to 180 degrees -->\n",
    "    </joint>\n",
    "    \"\"\"\n",
    "\n",
    "    # Append the pendulum link and joint to the URDF content\n",
    "    urdf_content += pendulum_link\n",
    "    urdf_content += pendulum_joint\n",
    "\n",
    "    # Save the modified URDF back to the same file\n",
    "    with open(urdf_path, 'w') as file:\n",
    "        file.write(urdf_content)\n",
    "\n",
    "    print(f\"Modified URDF saved to: {urdf_path}\")\n",
    "else:\n",
    "    print(f\"URDF file not found at {urdf_path}\")\n"
   ]
  }
 ],
 "metadata": {
  "kernelspec": {
   "display_name": "venv",
   "language": "python",
   "name": "python3"
  },
  "language_info": {
   "codemirror_mode": {
    "name": "ipython",
    "version": 3
   },
   "file_extension": ".py",
   "mimetype": "text/x-python",
   "name": "python",
   "nbconvert_exporter": "python",
   "pygments_lexer": "ipython3",
   "version": "3.10.15"
  }
 },
 "nbformat": 4,
 "nbformat_minor": 2
}
