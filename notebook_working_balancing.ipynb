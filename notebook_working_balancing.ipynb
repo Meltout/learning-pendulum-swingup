{
 "cells": [
  {
   "cell_type": "code",
   "execution_count": 1,
   "metadata": {},
   "outputs": [
    {
     "name": "stderr",
     "output_type": "stream",
     "text": [
      "pybullet build time: Nov 29 2024 16:26:49\n"
     ]
    }
   ],
   "source": [
    "import numpy as np\n",
    "import pybullet as p\n",
    "import pandas as pd\n",
    "import time\n",
    "from robot_descriptions.loaders.pybullet import load_robot_description"
   ]
  },
  {
   "cell_type": "code",
   "execution_count": 2,
   "metadata": {},
   "outputs": [
    {
     "name": "stdout",
     "output_type": "stream",
     "text": [
      "Version = 4.1 Metal - 76.3\n",
      "Vendor = Apple\n",
      "Renderer = Apple M1\n",
      "b3Printf: Selected demo: Physics Server\n",
      "startThreads creating 1 threads.\n",
      "starting thread 0\n",
      "started thread 0 \n",
      "b3Printf: PosixSharedMemory::releaseSharedMemory removed shared memory\n",
      "b3Printf: PosixSharedMemory::releaseSharedMemory detached shared memory\n",
      "\n",
      "b3Printf: PosixSharedMemory::releaseSharedMemory removed shared memory\n",
      "b3Printf: PosixSharedMemory::releaseSharedMemory detached shared memory\n",
      "\n",
      "MotionThreadFunc thread started\n"
     ]
    }
   ],
   "source": [
    "p.connect(p.GUI_SERVER)\n",
    "p.setTimeStep(0.0001)\n",
    "p.setGravity(0, 0, -9.81)"
   ]
  },
  {
   "cell_type": "code",
   "execution_count": 3,
   "metadata": {},
   "outputs": [
    {
     "name": "stdout",
     "output_type": "stream",
     "text": [
      "(0, b'world_joint', 4, -1, -1, 0, 0.0, 0.0, 0.0, -1.0, 0.0, 0.0, b'base_link', (0.0, 0.0, 0.0), (0.0, 0.0, 0.0), (0.0, 0.0, 0.0, 1.0), -1)\n",
      "False\n",
      "(1, b'shoulder_pan_joint', 0, 7, 6, 1, 0.0, 0.0, -6.28318530718, 6.28318530718, 150.0, 3.15, b'shoulder_link', (0.0, 0.0, 1.0), (0.0, 0.0, 0.089159), (0.0, 0.0, 0.0, 1.0), 0)\n",
      "True\n",
      "(2, b'shoulder_lift_joint', 0, 8, 7, 1, 0.0, 0.0, -6.28318530718, 6.28318530718, 150.0, 3.15, b'upper_arm_link', (0.0, 1.0, 0.0), (0.0, 0.13585, 0.0), (0.0, -0.7071067811848163, 0.0, 0.7071067811882787), 1)\n",
      "True\n",
      "(3, b'elbow_joint', 0, 9, 8, 1, 0.0, 0.0, -3.14159265359, 3.14159265359, 150.0, 3.15, b'forearm_link', (0.0, 1.0, 0.0), (0.0, -0.1197, 0.14499999999999996), (0.0, 0.0, 0.0, 1.0), 2)\n",
      "True\n",
      "(4, b'wrist_1_joint', 0, 10, 9, 1, 0.0, 0.0, -6.28318530718, 6.28318530718, 28.0, 3.2, b'wrist_1_link', (0.0, 1.0, 0.0), (0.0, 0.0, 0.14225), (0.0, -0.7071067811848163, 0.0, 0.7071067811882787), 3)\n",
      "True\n",
      "(5, b'wrist_2_joint', 0, 11, 10, 1, 0.0, 0.0, -0.223598776, 0.223598776, 28.0, 1.2, b'wrist_2_link', (0.0, 0.0, 1.0), (0.0, 0.093, 0.0), (0.0, 0.0, 0.0, 1.0), 4)\n",
      "True\n",
      "(6, b'wrist_3_joint', 0, 12, 11, 1, 0.0, 0.0, -6.28318530718, 6.28318530718, 28.0, 3.2, b'wrist_3_link', (0.0, 1.0, 0.0), (0.0, 0.0, 0.09465), (0.0, 0.0, 0.0, 1.0), 5)\n",
      "True\n",
      "(7, b'ee_fixed_joint', 4, -1, -1, 0, 0.0, 0.0, 0.0, -1.0, 0.0, 0.0, b'ee_link', (0.0, 0.0, 0.0), (0.0, 0.0823, 0.0), (0.0, 0.0, -0.7071067811848163, 0.7071067811882787), 6)\n",
      "False\n",
      "(8, b'pendulum_joint', 0, 13, 12, 1, 0.1, 0.01, -6.28318530718, 6.28318530718, 0.0, 0.0, b'pendulum_link', (0.0, 0.0, 1.0), (0.0, 0.0, 0.0), (0.0, 0.9999999999932537, 0.0, 3.6732051033465744e-06), 7)\n",
      "True\n",
      "(9, b'pendulum_mass_joint', 4, -1, -1, 0, 0.0, 0.0, 0.0, -1.0, 0.0, 0.0, b'pendulum_mass', (0.0, 0.0, 0.0), (0.0, 0.0, -0.125), (0.0, 0.0, 0.0, 1.0), 8)\n",
      "False\n",
      "(10, b'base_link-base_fixed_joint', 4, -1, -1, 0, 0.0, 0.0, 0.0, -1.0, 0.0, 0.0, b'base', (0.0, 0.0, 0.0), (0.0, 0.0, 0.0), (0.0, 0.0, 1.0, -1.0341155355510722e-13), 0)\n",
      "False\n",
      "End effector joint:  7\n",
      "Revolute joints:  [1, 2, 3, 4, 5, 6, 8]\n"
     ]
    }
   ],
   "source": [
    "robot_id = load_robot_description('ur5_description', useFixedBase=True) \n",
    "joint_indices = [i for i in range(p.getNumJoints(robot_id)) if p.getJointInfo(robot_id, i)[2] == p.JOINT_REVOLUTE]\n",
    "for i in range(p.getNumJoints(robot_id)):\n",
    "  print(p.getJointInfo(robot_id, i))\n",
    "  print(p.getJointInfo(robot_id, i)[2] == p.JOINT_REVOLUTE)\n",
    "\n",
    "immovable_joints = [6, 8]\n",
    "wrist3_joint = 6\n",
    "eff_idx = 7\n",
    "pendulum_joint_idx = 8\n",
    "print(\"End effector joint: \", eff_idx)\n",
    "print(\"Revolute joints: \", joint_indices)"
   ]
  },
  {
   "cell_type": "markdown",
   "metadata": {},
   "source": [
    "# Inverse kinematics with preferred positions"
   ]
  },
  {
   "cell_type": "code",
   "execution_count": 4,
   "metadata": {},
   "outputs": [
    {
     "name": "stdout",
     "output_type": "stream",
     "text": [
      "[-6.28, 0.6105555555555556, -1.133888888888889, 0.2616666666666667, -0.6977777777777778, 3.052777777777778, 0.0]\n",
      "[6.28, 0.785, -0.9594444444444445, 0.785, 0.6977777777777778, 3.052777777777778, 0.0]\n",
      "[12.56, 0.17444444444444446, 0.17444444444444446, 0.5233333333333334, 1.3955555555555557, 0.0, 0.0]\n",
      "[0.0, 0.6977777777777778, -1.0466666666666669, 0.5233333333333334, 0.0, 3.052777777777778, 0.0]\n"
     ]
    }
   ],
   "source": [
    "#lower limits for null space\n",
    "ll = [3.14 / 18 * x for x in [-36, 3.5, -6.5, 1.5, -4, 17.5, 0]]\n",
    "#upper limits for null space\n",
    "ul = [3.14 / 18 * x for x in [36,  4.5, -5.5, 4.5,  4, 17.5, 0]]\n",
    "#joint ranges for null space\n",
    "jr = [3.14 / 18  * x for x in [72,    1,    1,   3,  8,    0, 0]]\n",
    "#restposes for null space\n",
    "rp = [3.14 / 18 * x for x in [0,     4,   -6,   3,  0, 17.5, 0]]\n",
    "\n",
    "print(ll)\n",
    "print(ul)\n",
    "print(jr)\n",
    "print(rp)\n",
    "\n",
    "def smoothInverseKinematics(robot_id, eff_idx, target_pos):\n",
    "  current_positon = p.getLinkState(robot_id, eff_idx)[0]\n",
    "  return p.calculateInverseKinematics(\n",
    "    robot_id,\n",
    "    eff_idx,\n",
    "    target_pos,\n",
    "    lowerLimits = ll,\n",
    "    upperLimits = ul,\n",
    "    jointRanges = jr,\n",
    "    restPoses   = rp,\n",
    "    solver=420,\n",
    "    maxNumIterations=20,\n",
    "    residualThreshold=.01\n",
    "  )"
   ]
  },
  {
   "cell_type": "markdown",
   "metadata": {},
   "source": [
    "# Disable default motor control"
   ]
  },
  {
   "cell_type": "code",
   "execution_count": 5,
   "metadata": {},
   "outputs": [],
   "source": [
    "for i in joint_indices:\n",
    "    p.setJointMotorControl2(\n",
    "        bodyUniqueId=robot_id,\n",
    "        jointIndex=i,\n",
    "        controlMode=p.VELOCITY_CONTROL,\n",
    "        force=0  # Disable motor forces\n",
    "    )"
   ]
  },
  {
   "cell_type": "markdown",
   "metadata": {},
   "source": [
    "# Feedback and Stabilization"
   ]
  },
  {
   "cell_type": "code",
   "execution_count": 6,
   "metadata": {},
   "outputs": [],
   "source": [
    "def pd_control(robot_id, q_desired, v_desired, Kp, Kd):\n",
    "  joint_states = p.getJointStates(robot_id, joint_indices)\n",
    "  q_measured = np.array([state[0] for state in joint_states])\n",
    "  v_measured = np.array([state[1] for state in joint_states])\n",
    "  position_error = q_desired - q_measured\n",
    "  velocity_error = v_desired - v_measured\n",
    "  \n",
    "  tau = Kp * position_error + Kd * velocity_error\n",
    "  # add gravity compensation\n",
    "  tau += np.array(p.calculateInverseDynamics(robot_id, q_measured.tolist(), [0] * len(joint_indices), [0] * len(joint_indices)))\n",
    "  for i in range(len(joint_indices)):\n",
    "    if joint_indices[i] in immovable_joints: # ensure pendulum and wrist 3 joint is commanded with zero torque\n",
    "      tau[i] = 0\n",
    "  return tau\n",
    "\n",
    "Kp = 100 * np.ones_like(joint_indices)\n",
    "Kd = 5 * np.ones_like(joint_indices)\n",
    "\n",
    "def control_to_desired_configuration(robot_id, q_desired, v_desired=None, max_steps=5000, sleep=None):\n",
    "  if v_desired is None:\n",
    "    v_desired = np.zeros_like(q_desired)\n",
    "  for step in range(max_steps):  # Simulation steps\n",
    "    torques = pd_control(robot_id, q_desired, v_desired, Kp, Kd).tolist()\n",
    "    p.setJointMotorControlArray(\n",
    "      bodyUniqueId=robot_id,\n",
    "      jointIndices=joint_indices,\n",
    "      controlMode=p.TORQUE_CONTROL,\n",
    "      forces=torques\n",
    "    )\n",
    "    p.stepSimulation()\n",
    "    if sleep is not None:\n",
    "      time.sleep(sleep)\n",
    "    "
   ]
  },
  {
   "cell_type": "markdown",
   "metadata": {},
   "source": [
    "# Resetting to balanced pose"
   ]
  },
  {
   "cell_type": "code",
   "execution_count": 7,
   "metadata": {},
   "outputs": [],
   "source": [
    "rest_pose_balancing = [np.pi / 18 * x for x in [0, 4, -6, 3, 0, 17.3, 0]]\n",
    "def reset_to_balancing_pose(robot_id):\n",
    "  for i in range(len(joint_indices)): \n",
    "    p.resetJointState(robot_id, joint_indices[i], targetValue=-rest_pose_balancing[i], targetVelocity=0)\n",
    "    p.setJointMotorControl2(\n",
    "          bodyUniqueId=robot_id,\n",
    "          jointIndex=joint_indices[i],\n",
    "          controlMode=p.VELOCITY_CONTROL,\n",
    "          force=0  # Disable motor forces\n",
    "      )"
   ]
  },
  {
   "cell_type": "code",
   "execution_count": 8,
   "metadata": {},
   "outputs": [],
   "source": [
    "reset_to_balancing_pose(robot_id)\n",
    "for _ in range(1000):\n",
    "  p.stepSimulation()\n",
    "  time.sleep(1 / 240.0)"
   ]
  },
  {
   "cell_type": "code",
   "execution_count": 34,
   "metadata": {},
   "outputs": [],
   "source": [
    "rest_pose_swing = [np.pi / 18 * x for x in [0, 4, -6, 3, 0, -0.7, 18]]\n",
    "def reset_to_swing_pose(robot_id):\n",
    "  for i in range(len(joint_indices)): \n",
    "    p.resetJointState(robot_id, joint_indices[i], targetValue=-rest_pose_swing[i], targetVelocity=0)\n",
    "    p.setJointMotorControl2(\n",
    "          bodyUniqueId=robot_id,\n",
    "          jointIndex=joint_indices[i],\n",
    "          controlMode=p.VELOCITY_CONTROL,\n",
    "          force=0  # Disable motor forces\n",
    "          )"
   ]
  },
  {
   "cell_type": "code",
   "execution_count": 39,
   "metadata": {},
   "outputs": [],
   "source": [
    "reset_to_swing_pose(robot_id)\n",
    "for _ in range(100):\n",
    "  p.stepSimulation()\n",
    "  time.sleep(1 / 240.0)"
   ]
  },
  {
   "cell_type": "code",
   "execution_count": 9,
   "metadata": {},
   "outputs": [
    {
     "name": "stdout",
     "output_type": "stream",
     "text": [
      "((-0.14817353738091515, 0.5253125444382822, 0.24820681800360578), (0.9431227580589041, 0.2995063042063883, -0.023132242095106205, 0.14240904587718267), (0.0, 0.0, 0.0), (0.0, 0.0, 0.0, 1.0), (-0.14817354083061218, 0.5253125429153442, 0.24820682406425476), (0.9431227445602417, 0.2995063066482544, -0.023132242262363434, 0.1424090415239334))\n"
     ]
    }
   ],
   "source": [
    "print(p.getLinkState(robot_id, eff_idx))"
   ]
  },
  {
   "cell_type": "code",
   "execution_count": 10,
   "metadata": {},
   "outputs": [
    {
     "data": {
      "text/plain": [
       "(-2.592828433681426,\n",
       " -3.6366718337288426,\n",
       " 0.9528549038234174,\n",
       " 0.32206969024520976,\n",
       " -0.029645342794459312,\n",
       " -4.724387428565335,\n",
       " -0.8073026164801754)"
      ]
     },
     "execution_count": 10,
     "metadata": {},
     "output_type": "execute_result"
    }
   ],
   "source": [
    "p.calculateInverseKinematics(robot_id, eff_idx, (0.7105991188452455, 0.19145000000000006, 0.13497427907824033))"
   ]
  },
  {
   "cell_type": "markdown",
   "metadata": {},
   "source": [
    "# Moving end-effector along a horizontal line"
   ]
  },
  {
   "cell_type": "markdown",
   "metadata": {},
   "source": [
    "## Forward movement"
   ]
  },
  {
   "cell_type": "code",
   "execution_count": 11,
   "metadata": {},
   "outputs": [
    {
     "name": "stdout",
     "output_type": "stream",
     "text": [
      "[0.71059912 0.19145    0.13497428] [0.91059912 0.19145    0.13497428]\n",
      "(7, b'ee_fixed_joint', 4, -1, -1, 0, 0.0, 0.0, 0.0, -1.0, 0.0, 0.0, b'ee_link', (0.0, 0.0, 0.0), (0.0, 0.0823, 0.0), (0.0, 0.0, -0.7071067811848163, 0.7071067811882787), 6)\n"
     ]
    }
   ],
   "source": [
    "# Define the start point and direction of the line\n",
    "reset_to_balancing_pose(robot_id)\n",
    "start_point = np.array([0.7105991188452455, 0.19145000000000006, 0.13497427907824033])  # [x, y, z] in 3D space\n",
    "direction_vector = np.array([+0.2, 0, 0])  # Direction along X-axis (horizontal)\n",
    "target_positions = start_point + np.linspace(0, 1, num=10)[:, np.newaxis] * direction_vector[np.newaxis, :]\n",
    "print(target_positions[0], target_positions[-1])\n",
    "print(p.getJointInfo(robot_id, eff_idx))\n",
    "\n",
    "time.sleep(1)\n",
    "for target in target_positions:\n",
    "  joint_angles = p.calculateInverseKinematics(robot_id,eff_idx,target)\n",
    "  control_to_desired_configuration(robot_id, joint_angles)\n",
    "  time.sleep(1 / 1000.)"
   ]
  },
  {
   "cell_type": "markdown",
   "metadata": {},
   "source": [
    "## Backward movement"
   ]
  },
  {
   "cell_type": "code",
   "execution_count": 12,
   "metadata": {},
   "outputs": [
    {
     "name": "stdout",
     "output_type": "stream",
     "text": [
      "[0.71059912 0.19145    0.13497428] [0.41059912 0.19145    0.13497428]\n",
      "(7, b'ee_fixed_joint', 4, -1, -1, 0, 0.0, 0.0, 0.0, -1.0, 0.0, 0.0, b'ee_link', (0.0, 0.0, 0.0), (0.0, 0.0823, 0.0), (0.0, 0.0, -0.7071067811848163, 0.7071067811882787), 6)\n"
     ]
    }
   ],
   "source": [
    "# Define the start point and direction of the line\n",
    "reset_to_balancing_pose(robot_id)\n",
    "start_point = np.array([0.7105991188452455, 0.19145000000000006, 0.13497427907824033])  # [x, y, z] in 3D space\n",
    "direction_vector = np.array([-0.3, 0, 0])  # Direction along X-axis (horizontal)\n",
    "target_positions = start_point + np.linspace(0, 1, num=10)[:, np.newaxis] * direction_vector[np.newaxis, :]\n",
    "print(target_positions[0], target_positions[-1])\n",
    "print(p.getJointInfo(robot_id, eff_idx))\n",
    "\n",
    "time.sleep(1)\n",
    "for target in target_positions:\n",
    "  joint_angles = p.calculateInverseKinematics(robot_id,eff_idx,target)\n",
    "  control_to_desired_configuration(robot_id, joint_angles)\n",
    "  time.sleep(1 / 1000.)"
   ]
  },
  {
   "cell_type": "code",
   "execution_count": 13,
   "metadata": {},
   "outputs": [],
   "source": [
    "reset_to_balancing_pose(robot_id)\n",
    "left_point = np.array([0.7105991188452455, 0.19145000000000006, 0.13497427907824033])  - np.array([0.1, 0, 0])\n",
    "right_point = np.array([0.7105991188452455, 0.19145000000000006, 0.13497427907824033])  + np.array([0.1, 0, 0])\n",
    "\n",
    "time.sleep(2)\n",
    "for i in range(10):\n",
    "  if i % 2 == 0:\n",
    "    target = left_point\n",
    "  else:\n",
    "    target = right_point\n",
    "  joint_angles = p.calculateInverseKinematics(robot_id,eff_idx,target)\n",
    "  control_to_desired_configuration(robot_id, joint_angles)\n",
    "  time.sleep(0.01)"
   ]
  },
  {
   "cell_type": "markdown",
   "metadata": {},
   "source": [
    "# Balancing the pendulum"
   ]
  },
  {
   "cell_type": "code",
   "execution_count": 80,
   "metadata": {},
   "outputs": [],
   "source": [
    "from tqdm import tqdm\n",
    "\n",
    "class EnvRealistic:\n",
    "  axis_vector = np.array([0.2, 0, 0])\n",
    "  action_space = \"Continuous [-1, 1]\"\n",
    "  def __init__(self, TIME_HORIZON=1000, sleep=None,swing= False):\n",
    "    self.TIME_HORIZON = TIME_HORIZON\n",
    "    self.sleep=sleep\n",
    "    self.swing = swing\n",
    "    self.reset()\n",
    "\n",
    "  def rand_action(self):\n",
    "    return np.random.rand() * 2 - 1\n",
    "\n",
    "  def convert_3d_coords_to_line_position(self, world_pos):\n",
    "    return world_pos[0] - self.start_point[0]\n",
    "\n",
    "  def convert_3d_velo_to_line_velo(self, world_vel):\n",
    "    return np.dot(EnvRealistic.axis_vector, world_vel)\n",
    "\n",
    "  def get_state(self):\n",
    "    (world_pos, _, _, _, _, _, world_velo, _) = p.getLinkState(robot_id, eff_idx, computeLinkVelocity=True)\n",
    "    x = self.convert_3d_coords_to_line_position(np.array(world_pos))\n",
    "    x_dot = self.convert_3d_velo_to_line_velo(np.array(world_velo))\n",
    "    theta = p.getJointState(robot_id, wrist3_joint)[0] - self.initial_theta\n",
    "    theta_dot = p.getJointState(robot_id, wrist3_joint)[1]\n",
    "    return (x, x_dot, theta, theta_dot)\n",
    "\n",
    "  def reset(self):\n",
    "    \"\"\" \n",
    "    Returns state\n",
    "    \"\"\"\n",
    "    self.timestep = 0\n",
    "    reset_to_balancing_pose(robot_id)\n",
    "    \n",
    "\n",
    "    self.initial_theta = p.getJointState(robot_id, wrist3_joint)[0] #we keep the same reference 0 angle , even for swing task\n",
    "    if self.swing: \n",
    "      reset_to_swing_pose(robot_id)\n",
    "    self.start_point = p.getLinkState(robot_id, eff_idx)[0]\n",
    "    self.left_point = start_point - 3 * EnvRealistic.axis_vector\n",
    "    self.right_point = start_point  + 3 * EnvRealistic.axis_vector\n",
    "    return (0, 0, 0, 0)\n",
    "\n",
    "  \n",
    "  def step(self, action):\n",
    "    \"\"\"\n",
    "    Returns tuple (state, dead, truncated)\n",
    "    \"\"\"\n",
    "    if action < -1 or action > 1:\n",
    "      raise Exception(\"Action not in range [-1, 1]\")\n",
    "    current_position = p.getLinkState(robot_id, eff_idx)[0]\n",
    "    target = current_position + action * EnvRealistic.axis_vector\n",
    "      \n",
    "    joint_angles = p.calculateInverseKinematics(robot_id,eff_idx,target)\n",
    "    control_to_desired_configuration(robot_id, joint_angles, max_steps=100, sleep=self.sleep)\n",
    "    (x, x_dot, theta, theta_dot) = self.get_state()\n",
    "    self.timestep += 1\n",
    "    dead = False\n",
    "    truncated = False\n",
    "    if np.abs(theta) > 0.2 and not self.swing:\n",
    "      print(theta, \" theta DEAD\")\n",
    "      dead = True\n",
    "    if (x + self.start_point[0] < self.left_point[0] or x + self.start_point[0] > self.right_point[0]) and not self.swing:\n",
    "      print(x, \" x DEAD\")\n",
    "      dead = True\n",
    "    if self.timestep == self.TIME_HORIZON:\n",
    "      truncated = True\n",
    "    return ((x, x_dot, theta, theta_dot), dead, truncated)\n",
    "\n",
    "\n",
    "def generate_sample_of_system_dynamics_realistic(env, nb_samples):\n",
    "  samples = []\n",
    "  s = env.reset()\n",
    "  for _ in tqdm(range(nb_samples)):\n",
    "    a = env.rand_action()\n",
    "    next_s, dead, trunc = env.step(a)\n",
    "    samples.append({\n",
    "      'x': s[0], \n",
    "      'x_dot': s[1], \n",
    "      'theta': s[2], \n",
    "      'theta_dot': s[3], \n",
    "      'u': a, # mapping inputs to {-1, 1} rather than {0, 1} is important, because otherwise the linear regression needs a non-zero constant to fit well\n",
    "      'evolution_x': next_s[0], \n",
    "      'evolution_x_dot': next_s[1], \n",
    "      'evolution_theta': next_s[2],\n",
    "      'evolution_theta_dot': next_s[3]})\n",
    "    if dead or trunc :\n",
    "      s = env.reset()\n",
    "    else:\n",
    "      s = next_s\n",
    "  return pd.DataFrame(samples)"
   ]
  },
  {
   "cell_type": "code",
   "execution_count": 15,
   "metadata": {},
   "outputs": [
    {
     "name": "stderr",
     "output_type": "stream",
     "text": [
      "  2%|▏         | 24/1000 [00:12<08:03,  2.02it/s]"
     ]
    },
    {
     "name": "stdout",
     "output_type": "stream",
     "text": [
      "0.20983863015903914  theta DEAD\n"
     ]
    },
    {
     "name": "stderr",
     "output_type": "stream",
     "text": [
      "  7%|▋         | 72/1000 [00:40<11:55,  1.30it/s]"
     ]
    },
    {
     "name": "stdout",
     "output_type": "stream",
     "text": [
      "-0.22494921045022176  theta DEAD\n"
     ]
    },
    {
     "name": "stderr",
     "output_type": "stream",
     "text": [
      " 10%|█         | 103/1000 [00:54<07:57,  1.88it/s]"
     ]
    },
    {
     "name": "stdout",
     "output_type": "stream",
     "text": [
      "-0.20059490131816693  theta DEAD\n"
     ]
    },
    {
     "name": "stderr",
     "output_type": "stream",
     "text": [
      " 15%|█▌        | 151/1000 [01:15<05:52,  2.41it/s]"
     ]
    },
    {
     "name": "stdout",
     "output_type": "stream",
     "text": [
      "0.20294120295901585  theta DEAD\n"
     ]
    },
    {
     "name": "stderr",
     "output_type": "stream",
     "text": [
      " 19%|█▉        | 192/1000 [01:32<05:38,  2.39it/s]"
     ]
    },
    {
     "name": "stdout",
     "output_type": "stream",
     "text": [
      "-0.20133676541865597  theta DEAD\n"
     ]
    },
    {
     "name": "stderr",
     "output_type": "stream",
     "text": [
      " 23%|██▎       | 228/1000 [01:48<05:21,  2.40it/s]"
     ]
    },
    {
     "name": "stdout",
     "output_type": "stream",
     "text": [
      "0.20517218471226384  theta DEAD\n"
     ]
    },
    {
     "name": "stderr",
     "output_type": "stream",
     "text": [
      " 26%|██▌       | 259/1000 [02:02<05:11,  2.38it/s]"
     ]
    },
    {
     "name": "stdout",
     "output_type": "stream",
     "text": [
      "-0.20181481086514763  theta DEAD\n"
     ]
    },
    {
     "name": "stderr",
     "output_type": "stream",
     "text": [
      " 29%|██▉       | 294/1000 [02:19<05:02,  2.33it/s]"
     ]
    },
    {
     "name": "stdout",
     "output_type": "stream",
     "text": [
      "-0.2438638005934104  theta DEAD\n"
     ]
    },
    {
     "name": "stderr",
     "output_type": "stream",
     "text": [
      " 32%|███▎      | 325/1000 [02:32<04:34,  2.46it/s]"
     ]
    },
    {
     "name": "stdout",
     "output_type": "stream",
     "text": [
      "0.21140111702172293  theta DEAD\n"
     ]
    },
    {
     "name": "stderr",
     "output_type": "stream",
     "text": [
      " 36%|███▌      | 359/1000 [02:47<04:40,  2.29it/s]"
     ]
    },
    {
     "name": "stdout",
     "output_type": "stream",
     "text": [
      "-0.21054240726566453  theta DEAD\n"
     ]
    },
    {
     "name": "stderr",
     "output_type": "stream",
     "text": [
      " 41%|████      | 407/1000 [03:08<04:09,  2.37it/s]"
     ]
    },
    {
     "name": "stdout",
     "output_type": "stream",
     "text": [
      "-0.21219285363263563  theta DEAD\n"
     ]
    },
    {
     "name": "stderr",
     "output_type": "stream",
     "text": [
      " 46%|████▌     | 456/1000 [03:30<04:00,  2.26it/s]"
     ]
    },
    {
     "name": "stdout",
     "output_type": "stream",
     "text": [
      "-0.20015367166629305  theta DEAD\n"
     ]
    },
    {
     "name": "stderr",
     "output_type": "stream",
     "text": [
      " 51%|█████     | 510/1000 [03:52<03:17,  2.49it/s]"
     ]
    },
    {
     "name": "stdout",
     "output_type": "stream",
     "text": [
      "0.20579678791556066  theta DEAD\n"
     ]
    },
    {
     "name": "stderr",
     "output_type": "stream",
     "text": [
      " 54%|█████▍    | 542/1000 [04:06<03:09,  2.42it/s]"
     ]
    },
    {
     "name": "stdout",
     "output_type": "stream",
     "text": [
      "-0.20868130379002015  theta DEAD\n"
     ]
    },
    {
     "name": "stderr",
     "output_type": "stream",
     "text": [
      " 59%|█████▉    | 591/1000 [04:27<02:51,  2.39it/s]"
     ]
    },
    {
     "name": "stdout",
     "output_type": "stream",
     "text": [
      "-0.207890288151809  theta DEAD\n"
     ]
    },
    {
     "name": "stderr",
     "output_type": "stream",
     "text": [
      " 63%|██████▎   | 627/1000 [04:43<02:38,  2.35it/s]"
     ]
    },
    {
     "name": "stdout",
     "output_type": "stream",
     "text": [
      "-0.21633758992580887  theta DEAD\n"
     ]
    },
    {
     "name": "stderr",
     "output_type": "stream",
     "text": [
      " 71%|███████   | 710/1000 [05:19<02:12,  2.18it/s]"
     ]
    },
    {
     "name": "stdout",
     "output_type": "stream",
     "text": [
      "0.2193297501132836  theta DEAD\n"
     ]
    },
    {
     "name": "stderr",
     "output_type": "stream",
     "text": [
      " 74%|███████▍  | 738/1000 [05:31<01:50,  2.37it/s]"
     ]
    },
    {
     "name": "stdout",
     "output_type": "stream",
     "text": [
      "-0.20093038121960527  theta DEAD\n"
     ]
    },
    {
     "name": "stderr",
     "output_type": "stream",
     "text": [
      " 77%|███████▋  | 768/1000 [05:45<01:43,  2.24it/s]"
     ]
    },
    {
     "name": "stdout",
     "output_type": "stream",
     "text": [
      "0.21991069945126718  theta DEAD\n"
     ]
    },
    {
     "name": "stderr",
     "output_type": "stream",
     "text": [
      " 80%|████████  | 801/1000 [05:59<01:25,  2.33it/s]"
     ]
    },
    {
     "name": "stdout",
     "output_type": "stream",
     "text": [
      "0.20159117475629973  theta DEAD\n"
     ]
    },
    {
     "name": "stderr",
     "output_type": "stream",
     "text": [
      " 83%|████████▎ | 834/1000 [06:14<01:11,  2.32it/s]"
     ]
    },
    {
     "name": "stdout",
     "output_type": "stream",
     "text": [
      "-0.2088405499085173  theta DEAD\n"
     ]
    },
    {
     "name": "stderr",
     "output_type": "stream",
     "text": [
      " 93%|█████████▎| 931/1000 [06:55<00:38,  1.77it/s]"
     ]
    },
    {
     "name": "stdout",
     "output_type": "stream",
     "text": [
      "-0.20758358577451164  theta DEAD\n"
     ]
    },
    {
     "name": "stderr",
     "output_type": "stream",
     "text": [
      " 98%|█████████▊| 983/1000 [07:17<00:07,  2.37it/s]"
     ]
    },
    {
     "name": "stdout",
     "output_type": "stream",
     "text": [
      "0.20423859116693555  theta DEAD\n"
     ]
    },
    {
     "name": "stderr",
     "output_type": "stream",
     "text": [
      "100%|██████████| 1000/1000 [07:25<00:00,  2.25it/s]\n"
     ]
    }
   ],
   "source": [
    "env = EnvRealistic(sleep=0.0001)\n",
    "samples = generate_sample_of_system_dynamics_realistic(env, 1000)"
   ]
  },
  {
   "cell_type": "code",
   "execution_count": 16,
   "metadata": {},
   "outputs": [
    {
     "name": "stdout",
     "output_type": "stream",
     "text": [
      "                 x        x_dot        theta    theta_dot            u  \\\n",
      "count  1000.000000  1000.000000  1000.000000  1000.000000  1000.000000   \n",
      "mean      0.006397     0.006588    -0.006799    -0.099823     0.011270   \n",
      "std       0.049232     0.128427     0.070076     1.142969     0.569721   \n",
      "min      -0.108525    -0.334843    -0.196699    -3.974104    -0.999869   \n",
      "25%      -0.024447    -0.092683    -0.040555    -0.899779    -0.475876   \n",
      "50%       0.001704     0.000000     0.000000    -0.031508     0.016853   \n",
      "75%       0.033885     0.108985     0.023819     0.684930     0.494313   \n",
      "max       0.157071     0.340799     0.197685     3.517292     0.999725   \n",
      "\n",
      "       evolution_x  evolution_x_dot  evolution_theta  evolution_theta_dot  \n",
      "count  1000.000000      1000.000000      1000.000000          1000.000000  \n",
      "mean      0.006759         0.006117        -0.007901            -0.121227  \n",
      "std       0.050820         0.129714         0.076886             1.206361  \n",
      "min      -0.108525        -0.334843        -0.243864            -5.752130  \n",
      "25%      -0.025524        -0.096489        -0.043590            -0.944085  \n",
      "50%       0.003278         0.000775        -0.000726            -0.069502  \n",
      "75%       0.036593         0.110655         0.024719             0.720415  \n",
      "max       0.157071         0.340799         0.219911             3.567011  \n"
     ]
    }
   ],
   "source": [
    "print(samples.describe())"
   ]
  },
  {
   "cell_type": "markdown",
   "metadata": {},
   "source": [
    "## Fit a Linear regression on the data"
   ]
  },
  {
   "cell_type": "code",
   "execution_count": 17,
   "metadata": {},
   "outputs": [
    {
     "name": "stdout",
     "output_type": "stream",
     "text": [
      "evolution_x_dot linear model:\n",
      "x           -0.367460\n",
      "x_dot        0.624352\n",
      "theta        0.324281\n",
      "theta_dot   -0.043198\n",
      "u            0.207921\n",
      "dtype: float64\n",
      "Mean squared error of evolution_x_dot fit 0.00021291248893943196\n",
      "evolution_theta_dot linear model:\n",
      "x           -8.085805\n",
      "x_dot       -2.380682\n",
      "theta        6.746941\n",
      "theta_dot    0.139121\n",
      "u            1.434685\n",
      "dtype: float64\n",
      "Mean squared error of evolution_theta_dot fit 0.04145475241873904\n",
      "evolution_x linear model:\n",
      "x            0.982664\n",
      "x_dot        0.035660\n",
      "theta        0.016485\n",
      "theta_dot   -0.002209\n",
      "u            0.008441\n",
      "dtype: float64\n",
      "Mean squared error of evolution_x fit 4.555947372120091e-07\n",
      "evolution_theta linear model:\n",
      "x           -0.066549\n",
      "x_dot       -0.022698\n",
      "theta        1.056496\n",
      "theta_dot    0.002658\n",
      "u            0.014848\n",
      "dtype: float64\n",
      "Mean squared error of evolution_theta fit 2.7341346403350147e-06\n"
     ]
    }
   ],
   "source": [
    "from statsmodels.api import OLS\n",
    "\n",
    "small_angle_samples = samples[np.abs(samples[\"theta\"]) < 0.2]\n",
    "predictors = small_angle_samples[['x', 'x_dot', 'theta', 'theta_dot', 'u']]\n",
    "outcomes = ['evolution_x_dot', 'evolution_theta_dot', 'evolution_x', 'evolution_theta']\n",
    "params = {}\n",
    "for o in outcomes:\n",
    "  model = OLS(small_angle_samples[o], predictors)\n",
    "  fit = model.fit()\n",
    "  print(f\"{o} linear model:\")\n",
    "  print(fit.params)\n",
    "  print(f\"Mean squared error of {o} fit\", fit.mse_resid)\n",
    "  params[o] = fit.params.to_numpy()"
   ]
  },
  {
   "cell_type": "markdown",
   "metadata": {},
   "source": [
    "## Computing a state-feedback controller according to a discrete-time linear quadratic regulator design"
   ]
  },
  {
   "cell_type": "code",
   "execution_count": 18,
   "metadata": {},
   "outputs": [
    {
     "name": "stdout",
     "output_type": "stream",
     "text": [
      "[[ 18.72268648   3.72082772 -18.95004362  -0.27747666]]\n"
     ]
    }
   ],
   "source": [
    "from control import dlqr\n",
    "\n",
    "dT = 0.0001\n",
    "A = np.array([\n",
    "  params['evolution_x'][:4], #x\n",
    "  params['evolution_x_dot'][:4], #x_dot\n",
    "  params['evolution_theta'][:4], #theta\n",
    "  params['evolution_theta_dot'][:4] #theta_dot\n",
    "])\n",
    "B = np.array([\n",
    "  [params['evolution_x'][4]], #x\n",
    "  [params['evolution_x_dot'][4]], #x_dot\n",
    "  [params['evolution_theta'][4]], #theta\n",
    "  [params['evolution_theta_dot'][4]] #theta_dot\n",
    "])\n",
    "Q = np.diag([125, 50, 1200, 25])\n",
    "R = np.diag([1.5])\n",
    "\n",
    "K, S, E = dlqr(A, B, Q, R)\n",
    "print(K)"
   ]
  },
  {
   "cell_type": "markdown",
   "metadata": {},
   "source": [
    "# Trying out the learned policy"
   ]
  },
  {
   "cell_type": "code",
   "execution_count": 19,
   "metadata": {},
   "outputs": [
    {
     "name": "stdout",
     "output_type": "stream",
     "text": [
      "[0.]\n",
      "[-0.00676844]\n",
      "[-0.01474559]\n",
      "[-0.02343163]\n",
      "[-0.03222365]\n",
      "[-0.04063953]\n",
      "[-0.04833027]\n",
      "[-0.05505994]\n",
      "[-0.06068666]\n",
      "[-0.06514432]\n",
      "[-0.06842606]\n",
      "[-0.07057002]\n",
      "[-0.0716469]\n",
      "[-0.07174951]\n",
      "[-0.07098368]\n",
      "[-0.06946084]\n",
      "[-0.06729177]\n",
      "[-0.06458197]\n",
      "[-0.06142822]\n",
      "[-0.05791647]\n",
      "[-0.05412093]\n",
      "[-0.050104]\n",
      "[-0.0459171]\n",
      "[-0.04160192]\n",
      "[-0.037192]\n",
      "[-0.03271443]\n",
      "[-0.02819149]\n",
      "[-0.02364209]\n",
      "[-0.01908306]\n",
      "[-0.01453006]\n",
      "[-0.00999829]\n",
      "[-0.00550291]\n",
      "[-0.00105931]\n",
      "[0.00319942]\n",
      "[0.0075728]\n",
      "[0.01176835]\n",
      "[0.01585463]\n",
      "[0.0198095]\n",
      "[0.02361511]\n",
      "[0.02725575]\n",
      "[0.03071621]\n",
      "[0.03398178]\n",
      "[0.03703823]\n",
      "[0.03987168]\n",
      "[0.04246848]\n",
      "[0.04481517]\n",
      "[0.04689841]\n",
      "[0.04870497]\n",
      "[0.0502217]\n",
      "[0.05143554]\n",
      "[0.05233362]\n",
      "[0.05290327]\n",
      "[0.05313216]\n",
      "[0.05300845]\n",
      "[0.05252096]\n",
      "[0.0516594]\n",
      "[0.05041466]\n",
      "[0.04877919]\n",
      "[0.04674734]\n",
      "[0.04431591]\n",
      "[0.04148463]\n",
      "[0.03825681]\n",
      "[0.03463995]\n",
      "[0.03064648]\n",
      "[0.02629437]\n",
      "[0.02160788]\n",
      "[0.01661809]\n",
      "[0.01136335]\n",
      "[0.00588958]\n",
      "[0.00025025]\n",
      "[-0.00543867]\n",
      "[-0.01122831]\n",
      "[-0.01698166]\n",
      "[-0.02262385]\n",
      "[-0.02807649]\n",
      "[-0.03326029]\n",
      "[-0.03809926]\n",
      "[-0.04252298]\n",
      "[-0.04646894]\n",
      "[-0.04988468]\n",
      "[-0.05272948]\n",
      "[-0.05497559]\n",
      "[-0.05660871]\n",
      "[-0.05762789]\n",
      "[-0.05804474]\n",
      "[-0.05788209]\n",
      "[-0.05717217]\n",
      "[-0.05595456]\n",
      "[-0.054274]\n",
      "[-0.05217826]\n",
      "[-0.04971616]\n",
      "[-0.04693589]\n",
      "[-0.04388374]\n",
      "[-0.04060309]\n",
      "[-0.03713385]\n",
      "[-0.03351221]\n",
      "[-0.02977066]\n",
      "[-0.02593819]\n",
      "[-0.0220407]\n",
      "[-0.01810139]\n",
      "[-0.01414129]\n",
      "[-0.01017964]\n",
      "[-0.00623437]\n",
      "[-0.00232236]\n",
      "[0.0014506]\n",
      "[0.00536779]\n",
      "[0.0090759]\n",
      "[0.01269802]\n",
      "[0.01620955]\n",
      "[0.01959492]\n",
      "[0.02284103]\n",
      "[0.02593464]\n",
      "[0.02886259]\n",
      "[0.03161182]\n",
      "[0.03416939]\n",
      "[0.03652251]\n",
      "[0.03865857]\n",
      "[0.04056521]\n",
      "[0.04223032]\n",
      "[0.0436421]\n",
      "[0.04478912]\n",
      "[0.04566035]\n",
      "[0.04624522]\n",
      "[0.04653375]\n",
      "[0.04651663]\n",
      "[0.04618536]\n",
      "[0.04553247]\n",
      "[0.04455168]\n",
      "[0.0432382]\n",
      "[0.04158898]\n",
      "[0.03960311]\n",
      "[0.03728214]\n",
      "[0.03463051]\n",
      "[0.03165601]\n",
      "[0.02837017]\n",
      "[0.02478874]\n",
      "[0.02093206]\n",
      "[0.01682544]\n",
      "[0.01249935]\n",
      "[0.00798962]\n",
      "[0.00333732]\n",
      "[-0.0013682]\n",
      "[-0.00626518]\n",
      "[-0.01104174]\n",
      "[-0.01575576]\n",
      "[-0.02034448]\n",
      "[-0.02474768]\n",
      "[-0.02890879]\n",
      "[-0.03277375]\n",
      "[-0.03629283]\n",
      "[-0.0394222]\n",
      "[-0.04212524]\n",
      "[-0.04437363]\n",
      "[-0.04614805]\n",
      "[-0.04743841]\n",
      "[-0.04824379]\n",
      "[-0.04857187]\n",
      "[-0.04843805]\n",
      "[-0.04786441]\n",
      "[-0.04687832]\n",
      "[-0.04551113]\n",
      "[-0.04379683]\n",
      "[-0.04177077]\n",
      "[-0.03946856]\n",
      "[-0.03692518]\n",
      "[-0.03417429]\n",
      "[-0.03124774]\n",
      "[-0.02817532]\n",
      "[-0.0249846]\n",
      "[-0.02170102]\n",
      "[-0.01834799]\n",
      "[-0.01494709]\n",
      "[-0.01151831]\n",
      "[-0.00808026]\n",
      "[-0.00465047]\n",
      "[-0.00126274]\n",
      "[0.00198437]\n",
      "[0.00541349]\n",
      "[0.00864934]\n",
      "[0.01180959]\n",
      "[0.01487069]\n",
      "[0.01781704]\n",
      "[0.0206359]\n",
      "[0.02331475]\n",
      "[0.02584148]\n",
      "[0.02820425]\n",
      "[0.03039151]\n",
      "[0.03239195]\n",
      "[0.03419452]\n",
      "[0.03578848]\n",
      "[0.03716341]\n",
      "[0.03830927]\n",
      "[0.03921647]\n",
      "[0.03987593]\n",
      "[0.04027916]\n",
      "[0.04041841]\n",
      "[0.04028673]\n",
      "[0.03987816]\n",
      "[0.03918786]\n",
      "[0.03821235]\n",
      "[0.03694967]\n",
      "[0.03539966]\n",
      "[0.03356419]\n",
      "[0.03144749]\n",
      "[0.02905637]\n",
      "[0.02640058]\n",
      "[0.02349306]\n",
      "[0.0203502]\n",
      "[0.01699207]\n",
      "[0.01344256]\n",
      "[0.00972944]\n",
      "[0.00588434]\n",
      "[0.00194258]\n",
      "[-0.00198171]\n",
      "[-0.0060885]\n",
      "[-0.01007369]\n",
      "[-0.01398955]\n",
      "[-0.01778654]\n",
      "[-0.02141766]\n",
      "[-0.02483955]\n",
      "[-0.02801135]\n",
      "[-0.03089578]\n",
      "[-0.0334602]\n",
      "[-0.03567738]\n",
      "[-0.03752617]\n",
      "[-0.03899192]\n",
      "[-0.04006658]\n",
      "[-0.0407487]\n",
      "[-0.04104297]\n",
      "[-0.04095976]\n",
      "[-0.04051434]\n",
      "[-0.0397261]\n",
      "[-0.03861764]\n",
      "[-0.03721387]\n",
      "[-0.03554121]\n",
      "[-0.03362681]\n",
      "[-0.03149787]\n",
      "[-0.02918118]\n",
      "[-0.02670268]\n",
      "[-0.0240872]\n",
      "[-0.01855795]\n",
      "-0.27587281417272713  theta DEAD\n",
      "Successfull balancing for 241 timesteps\n"
     ]
    }
   ],
   "source": [
    "env  = EnvRealistic(sleep=0.0001)\n",
    "s = env.reset()\n",
    "time.sleep(1)\n",
    "while True:\n",
    "  a = np.clip(np.dot(-K, s), -1, 1)\n",
    "  print(a)\n",
    "  s, dead, trunc = env.step(a)\n",
    "  if dead or trunc:\n",
    "    print(f\"Successfull balancing for {env.timestep} timesteps\")\n",
    "    break"
   ]
  },
  {
   "cell_type": "markdown",
   "metadata": {},
   "source": [
    "## Swinging-up the pendulum"
   ]
  },
  {
   "cell_type": "code",
   "execution_count": 89,
   "metadata": {},
   "outputs": [
    {
     "name": "stderr",
     "output_type": "stream",
     "text": [
      "This process is not trusted! Input event monitoring will not be possible until it is added to accessibility clients.\n"
     ]
    },
    {
     "name": "stdout",
     "output_type": "stream",
     "text": [
      "Cursor X: 458, Action: 0.36388888888888893\n",
      "Cursor X: 788, Action: -0.09444444444444455\n",
      "Cursor X: 788, Action: -0.09444444444444455\n",
      "Cursor X: 788, Action: -0.09444444444444455\n",
      "Cursor X: 788, Action: -0.09444444444444455\n",
      "Cursor X: 788, Action: -0.09444444444444455\n",
      "Cursor X: 788, Action: -0.09444444444444455\n",
      "Cursor X: 788, Action: -0.09444444444444455\n",
      "Cursor X: 788, Action: -0.09444444444444455\n",
      "Cursor X: 788, Action: -0.09444444444444455\n",
      "Cursor X: 788, Action: -0.09444444444444455\n",
      "Cursor X: 788, Action: -0.09444444444444455\n",
      "Cursor X: 788, Action: -0.09444444444444455\n",
      "Cursor X: 788, Action: -0.09444444444444455\n",
      "Cursor X: 788, Action: -0.09444444444444455\n",
      "Cursor X: 788, Action: -0.09444444444444455\n",
      "Cursor X: 788, Action: -0.09444444444444455\n",
      "Cursor X: 788, Action: -0.09444444444444455\n",
      "Cursor X: 788, Action: -0.09444444444444455\n",
      "Cursor X: 788, Action: -0.09444444444444455\n",
      "Cursor X: 788, Action: -0.09444444444444455\n",
      "Cursor X: 849, Action: -0.1791666666666667\n",
      "Cursor X: 1305, Action: -0.8125\n",
      "Cursor X: 1305, Action: -0.8125\n",
      "Cursor X: 1305, Action: -0.8125\n",
      "Cursor X: 1305, Action: -0.8125\n",
      "Cursor X: 1305, Action: -0.8125\n",
      "Cursor X: 1305, Action: -0.8125\n",
      "Cursor X: 1305, Action: -0.8125\n",
      "Cursor X: 1305, Action: -0.8125\n",
      "Cursor X: 1305, Action: -0.8125\n",
      "Cursor X: 1305, Action: -0.8125\n",
      "Cursor X: 1305, Action: -0.8125\n",
      "Cursor X: 1305, Action: -0.8125\n",
      "Cursor X: 1305, Action: -0.8125\n",
      "Cursor X: 494, Action: 0.3138888888888889\n",
      "Cursor X: 0, Action: 1.0\n",
      "Cursor X: 0, Action: 1.0\n",
      "Cursor X: 0, Action: 1.0\n",
      "Cursor X: 0, Action: 1.0\n",
      "Cursor X: 0, Action: 1.0\n",
      "Cursor X: 0, Action: 1.0\n",
      "Cursor X: 0, Action: 1.0\n",
      "Cursor X: 0, Action: 1.0\n",
      "Cursor X: 0, Action: 1.0\n",
      "Cursor X: 0, Action: 1.0\n",
      "Cursor X: 0, Action: 1.0\n",
      "Cursor X: 0, Action: 1.0\n",
      "Cursor X: 0, Action: 1.0\n",
      "Cursor X: 0, Action: 1.0\n",
      "Cursor X: 0, Action: 1.0\n",
      "Cursor X: 0, Action: 1.0\n",
      "Cursor X: 0, Action: 1.0\n",
      "Cursor X: 0, Action: 1.0\n",
      "Cursor X: 0, Action: 1.0\n",
      "Cursor X: 0, Action: 1.0\n",
      "Cursor X: 0, Action: 1.0\n",
      "Cursor X: 0, Action: 1.0\n",
      "Cursor X: 0, Action: 1.0\n",
      "Cursor X: 86, Action: 0.8805555555555555\n",
      "Cursor X: 379, Action: 0.4736111111111111\n",
      "Cursor X: 620, Action: 0.13888888888888884\n",
      "Loop stopped by mouse click.\n"
     ]
    },
    {
     "data": {
      "image/png": "[encoded data removed]",
      "text/plain": [
       "<Figure size 800x600 with 1 Axes>"
      ]
     },
     "metadata": {},
     "output_type": "display_data"
    },
    {
     "data": {
      "image/png": "[encoded data removed]",
      "text/plain": [
       "<Figure size 800x600 with 1 Axes>"
      ]
     },
     "metadata": {},
     "output_type": "display_data"
    },
    {
     "data": {
      "image/png": "[encoded data removed]",
      "text/plain": [
       "<Figure size 800x600 with 1 Axes>"
      ]
     },
     "metadata": {},
     "output_type": "display_data"
    },
    {
     "data": {
      "image/png": "[encoded data removed]",
      "text/plain": [
       "<Figure size 800x600 with 1 Axes>"
      ]
     },
     "metadata": {},
     "output_type": "display_data"
    },
    {
     "data": {
      "image/png": "[encoded data removed]",
      "text/plain": [
       "<Figure size 800x600 with 1 Axes>"
      ]
     },
     "metadata": {},
     "output_type": "display_data"
    }
   ],
   "source": [
    "import pyautogui\n",
    "from pynput.mouse import Listener\n",
    "\n",
    "# Function to map cursor x position to action\n",
    "def cursor_to_action(x, screen_width, action_min=-1, action_max=1):\n",
    "    return-(( x / screen_width) * (action_max - action_min) + action_min)\n",
    "\n",
    "# Initialize environment\n",
    "env = EnvRealistic(TIME_HORIZON=1000,swing = True)\n",
    "\n",
    "# Main loop to continuously track the cursor position and control the robot\n",
    "screen_width, screen_height = pyautogui.size()  # Get screen dimensions\n",
    "\n",
    "# Global flag to stop the loop when mouse is clicked\n",
    "stop_loop = False\n",
    "\n",
    "x_dem = []\n",
    "theta_dem = []\n",
    "xdot_dem = []\n",
    "thetadot_dem = []\n",
    "action_dem = []\n",
    "\n",
    "# Listener function to detect mouse click\n",
    "def on_click(x, y, button, pressed):\n",
    "    global stop_loop\n",
    "    if pressed:  # If the mouse button is pressed\n",
    "        stop_loop = True  # Set the flag to True\n",
    "# Start the mouse listener in the background\n",
    "listener = Listener(on_click=on_click)\n",
    "listener.start()\n",
    "\n",
    "while not stop_loop :\n",
    "    # Get the current cursor position\n",
    "    cursor_x, cursor_y = pyautogui.position()\n",
    "    \n",
    "    # Map the cursor's x position to robot action\n",
    "    action = cursor_to_action(cursor_x, screen_width)\n",
    "    \n",
    "    # Step the environment with the new action\n",
    "    state, dead, truncated = env.step(action)\n",
    "    x_dem.append(state[0])\n",
    "    theta_dem.append(state[2])\n",
    "    xdot_dem.append(state[1])\n",
    "    thetadot_dem.append(state[3])\n",
    "    action_dem.append(action)\n",
    "    if state[2] > 2* np.pi :\n",
    "        stop_loop = True\n",
    "    # Optionally, print or log the state or action if needed\n",
    "    print(f\"Cursor X: {cursor_x}, Action: {action}\")\n",
    "    \n",
    "    # Add a sleep interval to control the loop speed if needed\n",
    "    time.sleep(0.05)  # Adjust for responsiveness (lower values = faster control)\n",
    "# Stop the listener once the loop is stopped\n",
    "listener.stop()\n",
    "\n",
    "print(\"Loop stopped by mouse click.\")\n",
    "\n",
    "#plotting the obtained trajectory\n",
    "import matplotlib.pyplot as plt\n",
    "\n",
    "\n",
    "\n",
    "#plot theta\n",
    "plt.figure(figsize=(8,6))\n",
    "plt.plot(np.arange(len(theta_dem)),theta_dem)\n",
    "plt.xlabel('action number')\n",
    "plt.ylabel('theta value')\n",
    "plt.title('evolution of theta along actions')\n",
    "# Add a horizontal line at y = 2 * pi\n",
    "plt.axhline(y=2 * np.pi, color='r', linestyle='--', label=r'$2\\pi$')\n",
    "plt.text(len(theta_dem) * 0.8, 2 * np.pi, r'$2\\pi$', color='r', ha='center', va='bottom')\n",
    "# Add grid to the plot\n",
    "plt.grid(True)\n",
    "plt.show()\n",
    "\n",
    "#plot x\n",
    "plt.figure(figsize=(8,6))\n",
    "plt.plot(np.arange(len(x_dem)),x_dem)\n",
    "plt.xlabel('action number')\n",
    "plt.ylabel('x value')\n",
    "plt.title('evolution of x along actions')\n",
    "# Add grid to the plot\n",
    "plt.grid(True)\n",
    "plt.show()\n",
    "\n",
    "#plot theta dot\n",
    "plt.figure(figsize=(8,6))\n",
    "plt.plot(np.arange(len(thetadot_dem)),thetadot_dem)\n",
    "plt.xlabel('action number')\n",
    "plt.ylabel('theta dot value')\n",
    "plt.title('evolution of theta dot along actions')\n",
    "# Add grid to the plot\n",
    "plt.grid(True)\n",
    "plt.show()\n",
    "\n",
    "#plot x dot\n",
    "plt.figure(figsize=(8,6))\n",
    "plt.plot(np.arange(len(xdot_dem)),xdot_dem)\n",
    "plt.xlabel('action number')\n",
    "plt.ylabel('x dot value')\n",
    "plt.title('evolution of x dot along actions')\n",
    "# Add grid to the plot\n",
    "plt.grid(True)\n",
    "plt.show()\n",
    "\n",
    "#plot actions\n",
    "plt.figure(figsize=(8,6))\n",
    "plt.plot(np.arange(len(action_dem)),action_dem)\n",
    "plt.xlabel('action number')\n",
    "plt.ylabel('action value')\n",
    "plt.title('evolution of control value along actions')\n",
    "# Add grid to the plot\n",
    "plt.grid(True)\n",
    "plt.show()\n"
   ]
  },
  {
   "cell_type": "markdown",
   "metadata": {},
   "source": [
    "Save the results in txt files"
   ]
  },
  {
   "cell_type": "code",
   "execution_count": null,
   "metadata": {},
   "outputs": [],
   "source": [
    "modify_hist = False #change to True if you want to edit the files (only if taking a new human demo)"
   ]
  },
  {
   "cell_type": "code",
   "execution_count": null,
   "metadata": {},
   "outputs": [],
   "source": [
    "if modify_hist : #to avoid modifying the saved files by accident\n",
    "    with open('x_dem.txt', 'w') as file:\n",
    "        for item in x_dem:\n",
    "            file.write(f\"{item}\\n\")  # Write each item on a new line\n",
    "\n",
    "    with open('xdot_dem.txt', 'w') as file:\n",
    "        for item in xdot_dem:\n",
    "            file.write(f\"{item}\\n\")  # Write each item on a new line\n",
    "\n",
    "    with open('theta_dem.txt', 'w') as file:\n",
    "        for item in theta_dem:\n",
    "            file.write(f\"{item}\\n\")  # Write each item on a new line\n",
    "\n",
    "    with open('thetadot_dem.txt', 'w') as file:\n",
    "        for item in thetadot_dem:\n",
    "            file.write(f\"{item}\\n\")  # Write each item on a new line\n",
    "    with open('action_dem.txt', 'w') as file:\n",
    "        for item in action_dem:\n",
    "            file.write(f\"{item}\\n\")  # Write each item on a new line\n",
    "    "
   ]
  },
  {
   "cell_type": "markdown",
   "metadata": {},
   "source": [
    "Load the results from saved demo file"
   ]
  },
  {
   "cell_type": "code",
   "execution_count": null,
   "metadata": {},
   "outputs": [],
   "source": [
    "with open('x_dem.txt', 'r') as file:\n",
    "    x_dem = [float(line.strip()) for line in file]\n",
    "\n",
    "with open('theta_dem.txt', 'r') as file:\n",
    "    theta_dem = [float(line.strip()) for line in file]\n",
    "\n",
    "with open('action_dem.txt', 'r') as file:\n",
    "    action_dem = [float(line.strip()) for line in file]\n",
    "\n",
    "with open('xdot_dem.txt', 'r') as file:\n",
    "    xdot_dem = [float(line.strip()) for line in file]\n",
    "\n",
    "with open('thetadot_dem.txt', 'r') as file:\n",
    "    thetadot_dem = [float(line.strip()) for line in file]\n",
    "\n"
   ]
  },
  {
   "cell_type": "markdown",
   "metadata": {},
   "source": [
    "To display the human demonstration run the following cell"
   ]
  },
  {
   "cell_type": "code",
   "execution_count": 46,
   "metadata": {},
   "outputs": [
    {
     "name": "stdout",
     "output_type": "stream",
     "text": [
      "0.2219553438354247  theta DEAD\n",
      "0.20576198653157807  theta DEAD\n",
      "-0.23062288757739782  theta DEAD\n",
      "-0.3283437687429043  theta DEAD\n",
      "-0.42845932180728774  theta DEAD\n",
      "-0.5298170117734041  theta DEAD\n",
      "-0.6314453488715872  theta DEAD\n",
      "-0.7325227378809563  theta DEAD\n",
      "-0.8323535848851686  theta DEAD\n",
      "-0.9281509724961619  theta DEAD\n",
      "-1.0208987830617176  theta DEAD\n",
      "-1.1116698456987395  theta DEAD\n",
      "-1.2001924450608092  theta DEAD\n",
      "-1.2862466872564735  theta DEAD\n",
      "-1.3696538898825152  theta DEAD\n",
      "-1.4502702046087415  theta DEAD\n",
      "-1.5279811784512447  theta DEAD\n",
      "-1.6025449883813825  theta DEAD\n",
      "-1.6411332130696519  theta DEAD\n",
      "-1.6529910911991554  theta DEAD\n",
      "-1.6418118606592436  theta DEAD\n",
      "-1.6056025058850372  theta DEAD\n",
      "-1.548457202935718  theta DEAD\n",
      "-1.4720618751318408  theta DEAD\n",
      "-1.3774909969627718  theta DEAD\n",
      "-1.2657344195488194  theta DEAD\n",
      "-1.1377745134007347  theta DEAD\n",
      "-0.9946579337627515  theta DEAD\n",
      "-0.8375494915014643  theta DEAD\n",
      "-0.6677644099739849  theta DEAD\n",
      "-0.4867781849381426  theta DEAD\n",
      "-0.3053990685021911  theta DEAD\n",
      "0.2662958597335158  theta DEAD\n",
      "0.4590791525939823  theta DEAD\n",
      "0.6468672903642338  theta DEAD\n",
      "0.8329840713570003  theta DEAD\n",
      "1.0159350881216922  theta DEAD\n",
      "1.1941979628129065  theta DEAD\n",
      "1.3662930752143394  theta DEAD\n",
      "1.530799258118464  theta DEAD\n",
      "1.6831124420345578  theta DEAD\n",
      "1.8257979884061566  theta DEAD\n",
      "1.9593958335734722  theta DEAD\n",
      "2.0843960424615977  theta DEAD\n",
      "2.2014693317204013  theta DEAD\n",
      "2.31135181447854  theta DEAD\n",
      "2.4146125010660895  theta DEAD\n",
      "2.5105536120794096  theta DEAD\n",
      "2.5995398005873307  theta DEAD\n",
      "2.6823362469356256  theta DEAD\n",
      "2.760052321829301  theta DEAD\n",
      "2.8332789923008472  theta DEAD\n",
      "2.9023631324117516  theta DEAD\n",
      "2.965726623570674  theta DEAD\n",
      "3.0232781135711817  theta DEAD\n",
      "3.0760437911110627  theta DEAD\n",
      "3.125174308603738  theta DEAD\n",
      "3.1702114243235204  theta DEAD\n",
      "3.211537097803918  theta DEAD\n",
      "3.2492473184971074  theta DEAD\n",
      "3.2835524146877333  theta DEAD\n",
      "3.3145557192882507  theta DEAD\n",
      "3.341893962533181  theta DEAD\n",
      "3.365598043330434  theta DEAD\n",
      "3.385126399764543  theta DEAD\n",
      "3.398563822535429  theta DEAD\n",
      "3.4072235992886633  theta DEAD\n",
      "3.4120719334435687  theta DEAD\n",
      "3.413411541912567  theta DEAD\n",
      "3.4113853723852796  theta DEAD\n",
      "3.4056420532594083  theta DEAD\n",
      "3.3965695168199095  theta DEAD\n",
      "3.3853310032337274  theta DEAD\n",
      "3.372625431256443  theta DEAD\n",
      "3.3590939843245318  theta DEAD\n",
      "3.3453547954886456  theta DEAD\n",
      "3.331982196814317  theta DEAD\n",
      "3.319167471647381  theta DEAD\n",
      "3.2990816214803362  theta DEAD\n",
      "3.280495842098428  theta DEAD\n",
      "3.264207648991541  theta DEAD\n",
      "3.250199439355568  theta DEAD\n",
      "3.24875084261555  theta DEAD\n",
      "3.250497330130822  theta DEAD\n"
     ]
    }
   ],
   "source": [
    "env = EnvRealistic(TIME_HORIZON=1000,swing = True)\n",
    "time.sleep(2)\n",
    "for t in range(len(action_dem)):\n",
    "    state, dead, truncated = env.step(action_dem[t])\n",
    "    \n",
    "    time.sleep(0.05)\n"
   ]
  },
  {
   "cell_type": "code",
   "execution_count": null,
   "metadata": {},
   "outputs": [],
   "source": [
    "xlistbis = np.array(xpos_list[:131])\n",
    "thetalistbis= np.array(theta_list[:131])\n",
    "xdot_list = np.array(xdot_list)\n",
    "thetadot_list = np.array(thetadot_list)"
   ]
  },
  {
   "cell_type": "code",
   "execution_count": null,
   "metadata": {},
   "outputs": [],
   "source": [
    "state_D = np.vstack((xlistbis,xdot_list,thetalistbis,thetadot_list)).T"
   ]
  }
 ],
 "metadata": {
  "kernelspec": {
   "display_name": "venv",
   "language": "python",
   "name": "python3"
  },
  "language_info": {
   "codemirror_mode": {
    "name": "ipython",
    "version": 3
   },
   "file_extension": ".py",
   "mimetype": "text/x-python",
   "name": "python",
   "nbconvert_exporter": "python",
   "pygments_lexer": "ipython3",
   "version": "3.10.15"
  }
 },
 "nbformat": 4,
 "nbformat_minor": 2
}
