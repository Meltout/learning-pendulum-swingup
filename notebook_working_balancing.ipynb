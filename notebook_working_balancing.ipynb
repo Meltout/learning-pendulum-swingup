{
 "cells": [
  {
   "cell_type": "code",
   "execution_count": null,
   "metadata": {},
   "outputs": [],
   "source": [
    "import numpy as np\n",
    "import pybullet as p\n",
    "import pandas as pd\n",
    "import time\n",
    "from robot_descriptions.loaders.pybullet import load_robot_description"
   ]
  },
  {
   "cell_type": "code",
   "execution_count": null,
   "metadata": {},
   "outputs": [],
   "source": [
    "p.connect(p.GUI_SERVER)\n",
    "sim_timestep = 0.0001\n",
    "p.setTimeStep(sim_timestep)\n",
    "p.setGravity(0, 0, -9.81)"
   ]
  },
  {
   "cell_type": "code",
   "execution_count": null,
   "metadata": {},
   "outputs": [],
   "source": [
    "robot_id = load_robot_description('ur5_description', useFixedBase=True) \n",
    "joint_indices = [i for i in range(p.getNumJoints(robot_id)) if p.getJointInfo(robot_id, i)[2] == p.JOINT_REVOLUTE]\n",
    "for i in range(p.getNumJoints(robot_id)):\n",
    "  print(p.getJointInfo(robot_id, i))\n",
    "  print(p.getJointInfo(robot_id, i)[2] == p.JOINT_REVOLUTE)\n",
    "\n",
    "wrist3_joint = 6\n",
    "eff_idx = 7\n",
    "pendulum_joint_idx = 8\n",
    "immovable_joints = [pendulum_joint_idx]\n",
    "print(\"End effector joint: \", eff_idx)\n",
    "print(\"Revolute joints: \", joint_indices)"
   ]
  },
  {
   "cell_type": "markdown",
   "metadata": {},
   "source": [
    "# Disable default motor control"
   ]
  },
  {
   "cell_type": "code",
   "execution_count": null,
   "metadata": {},
   "outputs": [],
   "source": [
    "for i in joint_indices:\n",
    "    p.setJointMotorControl2(\n",
    "        bodyUniqueId=robot_id,\n",
    "        jointIndex=i,\n",
    "        controlMode=p.VELOCITY_CONTROL,\n",
    "        force=0  # Disable motor forces\n",
    "    )"
   ]
  },
  {
   "cell_type": "markdown",
   "metadata": {},
   "source": [
    "# Feedback and Stabilization"
   ]
  },
  {
   "cell_type": "code",
   "execution_count": null,
   "metadata": {},
   "outputs": [],
   "source": [
    "def pd_control(robot_id, q_desired, v_desired, Kp, Kd):\n",
    "  joint_states = p.getJointStates(robot_id, joint_indices)\n",
    "  q_measured = np.array([state[0] for state in joint_states])\n",
    "  v_measured = np.array([state[1] for state in joint_states])\n",
    "  position_error = q_desired - q_measured\n",
    "  velocity_error = v_desired - v_measured\n",
    "  \n",
    "  tau = Kp * position_error + Kd * velocity_error\n",
    "  # add gravity compensation\n",
    "  tau += np.array(p.calculateInverseDynamics(robot_id, q_measured.tolist(), [0] * len(joint_indices), [0] * len(joint_indices)))\n",
    "  for i in range(len(joint_indices)):\n",
    "    if joint_indices[i] in immovable_joints: # ensure pendulum and wrist 3 joint is commanded with zero torque\n",
    "      tau[i] = 0\n",
    "  return tau\n",
    "\n",
    "Kp = 100 * np.ones_like(joint_indices)\n",
    "Kd = 5 * np.ones_like(joint_indices)\n",
    "\n",
    "def control_to_desired_configuration(robot_id, q_desired, v_desired=None, max_steps=5000, sleep=None):\n",
    "  if v_desired is None:\n",
    "    v_desired = np.zeros_like(q_desired)\n",
    "  for step in range(max_steps):  # Simulation steps\n",
    "    torques = pd_control(robot_id, q_desired, v_desired, Kp, Kd).tolist()\n",
    "    p.setJointMotorControlArray(\n",
    "      bodyUniqueId=robot_id,\n",
    "      jointIndices=joint_indices,\n",
    "      controlMode=p.TORQUE_CONTROL,\n",
    "      forces=torques\n",
    "    )\n",
    "    p.stepSimulation()\n",
    "    if sleep is not None:\n",
    "      time.sleep(sleep)\n",
    "    "
   ]
  },
  {
   "cell_type": "markdown",
   "metadata": {},
   "source": [
    "# Resetting to balanced pose"
   ]
  },
  {
   "cell_type": "code",
   "execution_count": null,
   "metadata": {},
   "outputs": [],
   "source": [
    "rest_pose_balancing = [-np.pi / 18 * x for x in [0, 4, -6, 3, 0, 0]]\n",
    "def reset_to_balancing_pose(robot_id):\n",
    "  for i in range(len(joint_indices)): \n",
    "    p.resetJointState(robot_id, joint_indices[i], targetValue=rest_pose_balancing[i], targetVelocity=0)\n",
    "    p.setJointMotorControl2(\n",
    "          bodyUniqueId=robot_id,\n",
    "          jointIndex=joint_indices[i],\n",
    "          controlMode=p.VELOCITY_CONTROL,\n",
    "          force=0  # Disable motor forces\n",
    "      )"
   ]
  },
  {
   "cell_type": "code",
   "execution_count": null,
   "metadata": {},
   "outputs": [],
   "source": [
    "reset_to_balancing_pose(robot_id)\n",
    "print(p.getLinkState(robot_id, eff_idx))"
   ]
  },
  {
   "cell_type": "markdown",
   "metadata": {},
   "source": [
    "# Moving end-effector along a horizontal line"
   ]
  },
  {
   "cell_type": "markdown",
   "metadata": {},
   "source": [
    "## Forward movement"
   ]
  },
  {
   "cell_type": "code",
   "execution_count": null,
   "metadata": {},
   "outputs": [],
   "source": [
    "# Define the start point and direction of the line\n",
    "reset_to_balancing_pose(robot_id)\n",
    "start_point = np.array(p.getLinkState(robot_id, eff_idx)[0])  # [x, y, z] in 3D space\n",
    "direction_vector = np.array([+0.2, 0, 0])  # Direction along X-axis (horizontal)\n",
    "target_positions = start_point + np.linspace(0, 1, num=50)[:, np.newaxis] * direction_vector[np.newaxis, :]\n",
    "print(target_positions[0], target_positions[-1])\n",
    "print(p.getJointInfo(robot_id, eff_idx))\n",
    "\n",
    "time.sleep(1)\n",
    "for target in target_positions:\n",
    "  joint_angles = p.calculateInverseKinematics(robot_id,eff_idx,target)\n",
    "  control_to_desired_configuration(robot_id, joint_angles)\n",
    "  time.sleep(1 / 1000.)"
   ]
  },
  {
   "cell_type": "markdown",
   "metadata": {},
   "source": [
    "## Backward movement"
   ]
  },
  {
   "cell_type": "code",
   "execution_count": null,
   "metadata": {},
   "outputs": [],
   "source": [
    "# Define the start point and direction of the line\n",
    "reset_to_balancing_pose(robot_id)\n",
    "start_point = np.array(p.getLinkState(robot_id, eff_idx)[0])  # [x, y, z] in 3D space\n",
    "direction_vector = np.array([-0.3, 0, 0])  # Direction along X-axis (horizontal)\n",
    "target_positions = start_point + np.linspace(0, 1, num=50)[:, np.newaxis] * direction_vector[np.newaxis, :]\n",
    "print(target_positions[0], target_positions[-1])\n",
    "print(p.getJointInfo(robot_id, eff_idx))\n",
    "\n",
    "time.sleep(1)\n",
    "for target in target_positions:\n",
    "  joint_angles = p.calculateInverseKinematics(robot_id,eff_idx,target)\n",
    "  control_to_desired_configuration(robot_id, joint_angles)\n",
    "  time.sleep(1 / 1000.)"
   ]
  },
  {
   "cell_type": "markdown",
   "metadata": {},
   "source": [
    "# Balancing the pendulum"
   ]
  },
  {
   "cell_type": "code",
   "execution_count": null,
   "metadata": {},
   "outputs": [],
   "source": [
    "from tqdm import tqdm\n",
    "from math import fmod\n",
    "\n",
    "class EnvRealistic:\n",
    "  axis_vector = np.array([0.1, 0, 0])\n",
    "  action_space = \"Continuous [-1, 1]\"\n",
    "  def __init__(self, TIME_HORIZON=1000, sleep=None):\n",
    "    self.TIME_HORIZON = TIME_HORIZON\n",
    "    self.sleep=sleep\n",
    "    self.print_dead = True\n",
    "    self.reference_zero = 0\n",
    "    self.reset()\n",
    "\n",
    "  def rand_action(self):\n",
    "    return np.random.rand() * 2 - 1\n",
    "\n",
    "  def convert_3d_coords_to_line_position(self, world_pos):\n",
    "    return world_pos[0] - self.start_point[0]\n",
    "\n",
    "  def convert_3d_velo_to_line_velo(self, world_vel):\n",
    "    return np.dot(EnvRealistic.axis_vector, world_vel)\n",
    "\n",
    "  def get_state(self):\n",
    "    (world_pos, _, _, _, _, _, world_velo, _) = p.getLinkState(robot_id, eff_idx, computeLinkVelocity=True)\n",
    "    x = self.convert_3d_coords_to_line_position(np.array(world_pos))\n",
    "    x_dot = self.convert_3d_velo_to_line_velo(np.array(world_velo))\n",
    "    theta = fmod(p.getJointState(robot_id, pendulum_joint_idx)[0] - self.reference_zero, 2 * np.pi)\n",
    "    if theta > np.pi:\n",
    "      theta = theta - 2 * np.pi\n",
    "    elif theta < -np.pi:\n",
    "      theta = 2 * np.pi + theta\n",
    "    # print(p.getJointState(robot_id, pendulum_joint_idx)[0], theta)\n",
    "    theta_dot = p.getJointState(robot_id, pendulum_joint_idx)[1]\n",
    "    return (x, x_dot, theta, theta_dot)\n",
    "\n",
    "  def reset(self, randomize_theta_dot=False):\n",
    "    \"\"\" \n",
    "    Returns state\n",
    "    \"\"\"\n",
    "    self.timestep = 0\n",
    "    reset_to_balancing_pose(robot_id)\n",
    "    if randomize_theta_dot:\n",
    "      max_theta_dot = 0.4\n",
    "      max_theta_deviation = 0.03\n",
    "      p.resetJointState(robot_id, pendulum_joint_idx, \n",
    "      targetValue=rest_pose_balancing[-1] + np.random.rand() * 2 * max_theta_deviation - max_theta_deviation,\n",
    "      targetVelocity=np.random.rand() * 2 * max_theta_dot - max_theta_dot)\n",
    "    self.start_point = p.getLinkState(robot_id, eff_idx)[0]\n",
    "    self.back_point = start_point - 3 * EnvRealistic.axis_vector\n",
    "    self.front_point = start_point  + 2 * EnvRealistic.axis_vector\n",
    "    return (0, 0, 0, 0)\n",
    "\n",
    "  \n",
    "  def step(self, action):\n",
    "    \"\"\"\n",
    "    Returns tuple (state, dead, truncated)\n",
    "    \"\"\"\n",
    "    if action < -1 or action > 1:\n",
    "      raise Exception(\"Action not in range [-1, 1]\")\n",
    "    current_position = p.getLinkState(robot_id, eff_idx)[0]\n",
    "    target = np.array(current_position) + action * EnvRealistic.axis_vector\n",
    "      \n",
    "    joint_angles = p.calculateInverseKinematics(robot_id,eff_idx,target)\n",
    "    control_to_desired_configuration(robot_id, joint_angles, max_steps=100, sleep=self.sleep)\n",
    "    (x, x_dot, theta, theta_dot) = self.get_state()\n",
    "    self.timestep += 1\n",
    "    dead = False\n",
    "    truncated = False\n",
    "    if np.abs(theta) > 0.3:\n",
    "      if self.print_dead:\n",
    "        print(theta, \" theta DEAD\")\n",
    "      dead = True\n",
    "    if self.timestep == self.TIME_HORIZON:\n",
    "      truncated = True\n",
    "    return ((x, x_dot, theta, theta_dot), dead, truncated)\n",
    "\n",
    "\n",
    "def generate_sample_of_system_dynamics_realistic(env, nb_samples):\n",
    "  samples = []\n",
    "  s = env.reset(randomize_theta_dot=True)\n",
    "  for _ in tqdm(range(nb_samples)):\n",
    "    a = env.rand_action()\n",
    "    next_s, dead, trunc = env.step(a)\n",
    "    samples.append({\n",
    "      'x': s[0], \n",
    "      'x_dot': s[1], \n",
    "      'theta': s[2], \n",
    "      'theta_dot': s[3], \n",
    "      'u': a, # mapping inputs to {-1, 1} rather than {0, 1} is important, because otherwise the linear regression needs a non-zero constant to fit well\n",
    "      'evolution_x': next_s[0], \n",
    "      'evolution_x_dot': next_s[1], \n",
    "      'evolution_theta': next_s[2],\n",
    "      'evolution_theta_dot': next_s[3]})\n",
    "    if dead or trunc:\n",
    "      s = env.reset(randomize_theta_dot=True)\n",
    "    else:\n",
    "      s = next_s\n",
    "  return pd.DataFrame(samples)"
   ]
  },
  {
   "cell_type": "code",
   "execution_count": null,
   "metadata": {},
   "outputs": [],
   "source": [
    "env = EnvRealistic(sleep=0.0001)\n",
    "env.print_dead = False\n",
    "samples = generate_sample_of_system_dynamics_realistic(env, 5000)"
   ]
  },
  {
   "cell_type": "code",
   "execution_count": null,
   "metadata": {},
   "outputs": [],
   "source": [
    "print(samples.describe())"
   ]
  },
  {
   "cell_type": "markdown",
   "metadata": {},
   "source": [
    "## Fit a Linear regression on the data"
   ]
  },
  {
   "cell_type": "code",
   "execution_count": null,
   "metadata": {},
   "outputs": [],
   "source": [
    "from statsmodels.api import OLS\n",
    "\n",
    "small_angle_samples = samples\n",
    "predictors = small_angle_samples[['x', 'x_dot', 'theta', 'theta_dot', 'u']]\n",
    "outcomes = ['evolution_x_dot', 'evolution_theta_dot', 'evolution_x', 'evolution_theta']\n",
    "params = {}\n",
    "for o in outcomes:\n",
    "  model = OLS(small_angle_samples[o], predictors)\n",
    "  fit = model.fit()\n",
    "  print(f\"{o} linear model:\")\n",
    "  print(fit.params)\n",
    "  print(f\"Mean squared error of {o} fit\", fit.mse_resid)\n",
    "  params[o] = fit.params.to_numpy()"
   ]
  },
  {
   "cell_type": "markdown",
   "metadata": {},
   "source": [
    "## Computing a state-feedback controller according to a discrete-time linear quadratic regulator design"
   ]
  },
  {
   "cell_type": "code",
   "execution_count": null,
   "metadata": {},
   "outputs": [],
   "source": [
    "from control import dlqr\n",
    "\n",
    "dT = 0.0001\n",
    "A = np.array([\n",
    "  params['evolution_x'][:4], #x\n",
    "  params['evolution_x_dot'][:4], #x_dot\n",
    "  params['evolution_theta'][:4], #theta\n",
    "  params['evolution_theta_dot'][:4] #theta_dot\n",
    "])\n",
    "B = np.array([\n",
    "  [params['evolution_x'][4]], #x\n",
    "  [params['evolution_x_dot'][4]], #x_dot\n",
    "  [params['evolution_theta'][4]], #theta\n",
    "  [params['evolution_theta_dot'][4]] #theta_dot\n",
    "])\n",
    "Q = np.diag([125, 50, 1250, 25])\n",
    "R = np.diag([1.5])\n",
    "\n",
    "K, S, E = dlqr(A, B, Q, R)\n",
    "print(K)"
   ]
  },
  {
   "cell_type": "markdown",
   "metadata": {},
   "source": [
    "# Trying out the learned policy"
   ]
  },
  {
   "cell_type": "code",
   "execution_count": null,
   "metadata": {},
   "outputs": [],
   "source": [
    "s = env.reset()\n",
    "time.sleep(1)\n",
    "while True:\n",
    "  a = np.clip(np.dot(-K, s), -1, 1)\n",
    "  print(a)\n",
    "  s, dead, trunc = env.step(a)\n",
    "  if dead or trunc:\n",
    "    print(f\"Successfull balancing for {env.timestep} timesteps\")\n",
    "    break"
   ]
  },
  {
   "cell_type": "markdown",
   "metadata": {},
   "source": [
    "## Reseting to swing pose"
   ]
  },
  {
   "cell_type": "code",
   "execution_count": null,
   "metadata": {},
   "outputs": [],
   "source": [
    "rest_pose_swing = rest_pose_balancing.copy()\n",
    "rest_pose_swing[-1] = np.pi\n",
    "def reset_to_swing_pose(robot_id):\n",
    "  for i in range(len(joint_indices)): \n",
    "    p.resetJointState(robot_id, joint_indices[i], targetValue=rest_pose_swing[i], targetVelocity=0)\n",
    "    p.setJointMotorControl2(\n",
    "          bodyUniqueId=robot_id,\n",
    "          jointIndex=joint_indices[i],\n",
    "          controlMode=p.VELOCITY_CONTROL,\n",
    "          force=0  # Disable motor forces\n",
    "      )"
   ]
  },
  {
   "cell_type": "code",
   "execution_count": null,
   "metadata": {},
   "outputs": [],
   "source": [
    "reset_to_swing_pose(robot_id)"
   ]
  },
  {
   "cell_type": "markdown",
   "metadata": {},
   "source": [
    "## Read imitations file"
   ]
  },
  {
   "cell_type": "code",
   "execution_count": null,
   "metadata": {},
   "outputs": [],
   "source": [
    "imitation = []\n",
    "with open(\"u_opt.txt\", \"r\") as f:\n",
    "  for line in f.readlines():\n",
    "    imitation.append(float(line))"
   ]
  },
  {
   "cell_type": "markdown",
   "metadata": {},
   "source": [
    "## Perform imitation"
   ]
  },
  {
   "cell_type": "code",
   "execution_count": null,
   "metadata": {},
   "outputs": [],
   "source": [
    "reset_to_swing_pose(robot_id)\n",
    "for a in imitation:\n",
    "  (x, x_dot, theta, theta_dot), _, _ = env.step(a)"
   ]
  },
  {
   "cell_type": "markdown",
   "metadata": {},
   "source": [
    "## Hard coded imitation"
   ]
  },
  {
   "cell_type": "code",
   "execution_count": null,
   "metadata": {},
   "outputs": [],
   "source": [
    "hard_coded_imitation = [-0.7] * 30 + [0] * 50 + [0.75] * 30 + [0] * 35 + [-1] * 25 + [0] * 30 + [0.575] * 41 + [0] * 100\n",
    "reset_to_swing_pose(robot_id)\n",
    "for a in hard_coded_imitation:\n",
    "  (x, x_dot, theta, theta_dot), _, _ = env.step(a)\n"
   ]
  },
  {
   "cell_type": "markdown",
   "metadata": {},
   "source": [
    "## Perform swing up + balancing"
   ]
  },
  {
   "cell_type": "code",
   "execution_count": null,
   "metadata": {},
   "outputs": [],
   "source": [
    "def should_switch_to_balancing(x, x_dot, theta, theta_dot):\n",
    "  return abs(theta) < 0.5 and abs(theta_dot) < 0.27\n",
    "\n",
    "reset_to_swing_pose(robot_id)\n",
    "env.print_dead = False\n",
    "s = None\n",
    "for a in hard_coded_imitation:\n",
    "  (x, x_dot, theta, theta_dot), _, _ = env.step(a)\n",
    "  if should_switch_to_balancing(x, x_dot, theta, theta_dot):\n",
    "    s = (x, x_dot, theta, theta_dot)\n",
    "    print(x, x_dot, theta, theta_dot)\n",
    "    break\n",
    "\n",
    "env.reference_zero = p.getJointState(robot_id, pendulum_joint_idx)[0]\n",
    "print(env.reference_zero)\n",
    "time.sleep(1)\n",
    "while True:\n",
    "  a = np.clip(np.dot(-K, s), -1, 1)\n",
    "  s, dead, trunc = env.step(a)"
   ]
  }
 ],
 "metadata": {
  "kernelspec": {
   "display_name": "venv",
   "language": "python",
   "name": "python3"
  },
  "language_info": {
   "codemirror_mode": {
    "name": "ipython",
    "version": 3
   },
   "file_extension": ".py",
   "mimetype": "text/x-python",
   "name": "python",
   "nbconvert_exporter": "python",
   "pygments_lexer": "ipython3",
   "version": "3.10.12"
  }
 },
 "nbformat": 4,
 "nbformat_minor": 2
}
