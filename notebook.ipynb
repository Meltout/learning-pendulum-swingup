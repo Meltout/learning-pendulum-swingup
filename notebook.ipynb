{
 "cells": [
  {
   "cell_type": "markdown",
   "metadata": {},
   "source": [
    "## Adapt section 5, *Learning to balance*, using the Cart Pole environment of Gymnasium\n",
    "\n",
    "### Main steps to take\n",
    "- gather samples of the system's dynamics by running a random policy\n",
    "- learn a local linear model of the system's dynamic around the point $\\theta = 0$\n",
    "- modify the reward function in equation (4) to reflect that in our problem the acceleration input can take only 2 values\n",
    "- compute a balancing policy by leveraging the local linear model and reward function (e.g. LQR controller)"
   ]
  },
  {
   "cell_type": "code",
   "execution_count": null,
   "metadata": {},
   "outputs": [],
   "source": [
    "import gymnasium as gym\n",
    "import numpy as np\n",
    "import pandas as pd"
   ]
  },
  {
   "cell_type": "code",
   "execution_count": null,
   "metadata": {},
   "outputs": [],
   "source": [
    "env = gym.make(\"CartPole-v1\")\n",
    "# an observation is a tuple (Cart Position, Cart Velocity, Pole Angle, Pole Angular Velocity)\n",
    "print(env.observation_space)\n",
    "# there are two possible actions, 0 and 1, which correspond to pushing the cart left or right\n",
    "print(env.action_space)"
   ]
  },
  {
   "cell_type": "code",
   "execution_count": null,
   "metadata": {},
   "outputs": [],
   "source": [
    "def generate_sample_of_system_dynamics(env, nb_samples):\n",
    "  \"\"\" \n",
    "  Returns: a dataframe containing predictors and outcomes\n",
    "  \"\"\"\n",
    "  \n",
    "  samples = []\n",
    "  s, _ = env.reset()\n",
    "  for _ in range(nb_samples):\n",
    "    a = np.random.randint(0, 2)\n",
    "    next_s, _, d, _, _ = env.step(a)\n",
    "    samples.append({\n",
    "      'x': s[0], \n",
    "      'x_dot': s[1], \n",
    "      'theta': s[2], \n",
    "      'theta_dot': s[3], \n",
    "      '2u - 1': 2 * a - 1, # mapping inputs to {-1, 1} rather than {0, 1} is important, because otherwise the linear regression needs a non-zero constant to fit well\n",
    "      'evolution_x': next_s[0], \n",
    "      'evolution_x_dot': next_s[1], \n",
    "      'evolution_theta_dot': next_s[3]})\n",
    "    if d:\n",
    "      s, _ = env.reset()\n",
    "    else:\n",
    "      s = next_s\n",
    "  return pd.DataFrame(samples)"
   ]
  },
  {
   "cell_type": "code",
   "execution_count": null,
   "metadata": {},
   "outputs": [],
   "source": [
    "env = gym.make(\"CartPole-v1\")\n",
    "samples = generate_sample_of_system_dynamics(env, 10000)\n",
    "print(samples.describe())"
   ]
  },
  {
   "cell_type": "markdown",
   "metadata": {},
   "source": [
    "## Fitting a linear model for the system's dynamics around $\\theta=0$\n",
    "\n",
    "Under the assumption thata the pole's angular velocity is a linear\n",
    "function of the state and action we use linear regression to find\n",
    "the coefficients based on sample data"
   ]
  },
  {
   "cell_type": "code",
   "execution_count": null,
   "metadata": {},
   "outputs": [],
   "source": [
    "from statsmodels.api import OLS\n",
    "\n",
    "small_angle_samples = samples[np.abs(samples[\"theta\"]) < 0.05]\n",
    "predictors = small_angle_samples[['x', 'x_dot', 'theta', 'theta_dot', '2u - 1']]\n",
    "outcomes = ['evolution_x_dot', 'evolution_theta_dot', 'evolution_x']\n",
    "for o in outcomes:\n",
    "  model = OLS(small_angle_samples[o], predictors)\n",
    "  fit = model.fit()\n",
    "  print(f\"{o} linear model:\")\n",
    "  print(fit.params)\n",
    "  print(f\"Mean squared error of {o} fit\", fit.mse_resid)"
   ]
  },
  {
   "cell_type": "markdown",
   "metadata": {},
   "source": [
    "## Computing a state-feedback controller according to a discrete-time linear quadratic regulator design"
   ]
  },
  {
   "cell_type": "code",
   "execution_count": null,
   "metadata": {},
   "outputs": [],
   "source": [
    "from control import dlqr\n",
    "\n",
    "dT = 0.02\n",
    "A = np.array([\n",
    "  [1, dT, 0, 0], #x\n",
    "  [0, 1, -0.014107, 0], #x_dot\n",
    "  [0, 0, 1, dT], #theta\n",
    "  [0.000031, 0.000019, 0.315099, 0.999998] #theta_dot\n",
    "])\n",
    "B = np.array([\n",
    "  [0], #x\n",
    "  [0.195111], #x_dot\n",
    "  [0], #theta\n",
    "  [-0.292548] #theta_dot\n",
    "])\n",
    "Q = np.diag([125, 50, 1200, 25])\n",
    "R = np.diag([1.5])\n",
    "\n",
    "K, S, E = dlqr(A, B, Q, R)\n",
    "print(K)"
   ]
  },
  {
   "cell_type": "markdown",
   "metadata": {},
   "source": [
    "## Trying out the learned control policy"
   ]
  },
  {
   "cell_type": "code",
   "execution_count": null,
   "metadata": {},
   "outputs": [],
   "source": [
    "# env = gym.make(\"CartPole-v1\", render_mode='human')\n",
    "# s, _ = env.reset()\n",
    "# while True:\n",
    "#   print(np.dot(-K, s))\n",
    "#   a = 0 if np.dot(-K, s) < 0.5 else 1\n",
    "#   s, _, dead, trunc, _ = env.step(a)\n",
    "#   if dead or trunc:\n",
    "#     break"
   ]
  },
  {
   "cell_type": "code",
   "execution_count": null,
   "metadata": {},
   "outputs": [],
   "source": [
    "env.close()"
   ]
  },
  {
   "cell_type": "markdown",
   "metadata": {},
   "source": [
    "## 3. Pick a robot arm description and load it in PyBullet"
   ]
  },
  {
   "cell_type": "code",
   "execution_count": 7,
   "metadata": {},
   "outputs": [],
   "source": [
    "#We choose the edo arm for its simplicity of use and minimal DOF (6).\n",
    "\n",
    "arm_name = 'edo_description'\n",
    "\n",
    "#ur5 could be simple too as S Caron provides Pink implementation example for it\n"
   ]
  },
  {
   "cell_type": "code",
   "execution_count": 5,
   "metadata": {},
   "outputs": [
    {
     "name": "stderr",
     "output_type": "stream",
     "text": [
      "pybullet build time: Nov 29 2024 16:26:49\n"
     ]
    }
   ],
   "source": [
    "import pybullet\n",
    "from robot_descriptions.loaders.pybullet import load_robot_description\n"
   ]
  },
  {
   "cell_type": "code",
   "execution_count": 8,
   "metadata": {},
   "outputs": [
    {
     "name": "stdout",
     "output_type": "stream",
     "text": [
      "Version = 4.1 Metal - 76.3\n",
      "Vendor = Apple\n",
      "Renderer = Apple M1\n"
     ]
    },
    {
     "name": "stderr",
     "output_type": "stream",
     "text": [
      "UNSUPPORTED (log once): POSSIBLE ISSUE: unit 1 GLD_TEXTURE_INDEX_2D is unloadable and bound to sampler type (Depth) - using zero texture because texture unloadable\n"
     ]
    }
   ],
   "source": [
    "pybullet.connect(pybullet.GUI_SERVER)\n",
    "pybullet.setGravity(0, 0, -9.81)\n",
    "robot_id = load_robot_description(arm_name, useFixedBase=True)"
   ]
  },
  {
   "cell_type": "code",
   "execution_count": 3,
   "metadata": {},
   "outputs": [],
   "source": [
    "initial_joint_positions = [0.0, 0.0, 0.0, 0.0, 0.0, 0.0]\n",
    "def reset_to_initial_state():\n",
    "  for i in range(len(initial_joint_positions)):\n",
    "    pybullet.resetJointState(\n",
    "      bodyUniqueId=robot_id,\n",
    "      jointIndex=i,\n",
    "      targetValue=initial_joint_positions[i],\n",
    "      targetVelocity=0\n",
    "    )\n",
    "    # pybullet.changeDynamics(robot_id, i, linearDamping=0.0, angularDamping=0.0) # not sure if this is important\n",
    "    pybullet.setJointMotorControl2(robot_id, i, pybullet.VELOCITY_CONTROL, force=0) # apparently this is really important\n"
   ]
  },
  {
   "cell_type": "markdown",
   "metadata": {},
   "source": [
    "## 4. Apply pybullet.TORQUE_CONTROL with PD gains to make the robot go to a desired configuration."
   ]
  },
  {
   "cell_type": "code",
   "execution_count": 5,
   "metadata": {},
   "outputs": [
    {
     "name": "stderr",
     "output_type": "stream",
     "text": [
      "  0%|          | 3/1000 [00:00<01:51,  8.98it/s]"
     ]
    },
    {
     "name": "stdout",
     "output_type": "stream",
     "text": [
      "[0.5 0.5 0.5 0.5 0.5 0.5]\n"
     ]
    },
    {
     "name": "stderr",
     "output_type": "stream",
     "text": [
      " 10%|█         | 103/1000 [00:08<01:14, 11.97it/s]"
     ]
    },
    {
     "name": "stdout",
     "output_type": "stream",
     "text": [
      "[0.02434907 0.03278645 0.06304277 0.04146687 0.24941721 0.5       ]\n"
     ]
    },
    {
     "name": "stderr",
     "output_type": "stream",
     "text": [
      " 20%|██        | 203/1000 [00:16<01:05, 12.16it/s]"
     ]
    },
    {
     "name": "stdout",
     "output_type": "stream",
     "text": [
      "[0.02577654 0.02784675 0.0609294  0.04170306 0.25085769 0.5       ]\n"
     ]
    },
    {
     "name": "stderr",
     "output_type": "stream",
     "text": [
      " 30%|███       | 303/1000 [00:27<01:08, 10.20it/s]"
     ]
    },
    {
     "name": "stdout",
     "output_type": "stream",
     "text": [
      "[0.02578146 0.02782936 0.06092007 0.0417043  0.25085994 0.5       ]\n"
     ]
    },
    {
     "name": "stderr",
     "output_type": "stream",
     "text": [
      " 40%|████      | 402/1000 [00:37<00:50, 11.78it/s]"
     ]
    },
    {
     "name": "stdout",
     "output_type": "stream",
     "text": [
      "[0.02578147 0.02782931 0.06092004 0.0417043  0.25085994 0.5       ]\n"
     ]
    },
    {
     "name": "stderr",
     "output_type": "stream",
     "text": [
      " 50%|█████     | 502/1000 [00:46<00:42, 11.83it/s]"
     ]
    },
    {
     "name": "stdout",
     "output_type": "stream",
     "text": [
      "[0.02578147 0.02782931 0.06092004 0.0417043  0.25085994 0.5       ]\n"
     ]
    },
    {
     "name": "stderr",
     "output_type": "stream",
     "text": [
      " 60%|██████    | 602/1000 [00:55<00:33, 12.02it/s]"
     ]
    },
    {
     "name": "stdout",
     "output_type": "stream",
     "text": [
      "[0.02578147 0.02782931 0.06092004 0.0417043  0.25085994 0.5       ]\n"
     ]
    },
    {
     "name": "stderr",
     "output_type": "stream",
     "text": [
      " 70%|███████   | 703/1000 [01:05<00:27, 10.88it/s]"
     ]
    },
    {
     "name": "stdout",
     "output_type": "stream",
     "text": [
      "[0.02578147 0.02782931 0.06092004 0.0417043  0.25085994 0.5       ]\n"
     ]
    },
    {
     "name": "stderr",
     "output_type": "stream",
     "text": [
      " 80%|████████  | 803/1000 [01:13<00:17, 11.32it/s]"
     ]
    },
    {
     "name": "stdout",
     "output_type": "stream",
     "text": [
      "[0.02578147 0.02782931 0.06092004 0.0417043  0.25085994 0.5       ]\n"
     ]
    },
    {
     "name": "stderr",
     "output_type": "stream",
     "text": [
      " 90%|█████████ | 903/1000 [01:22<00:08, 11.74it/s]"
     ]
    },
    {
     "name": "stdout",
     "output_type": "stream",
     "text": [
      "[0.02578147 0.02782931 0.06092004 0.0417043  0.25085994 0.5       ]\n"
     ]
    },
    {
     "name": "stderr",
     "output_type": "stream",
     "text": [
      "100%|██████████| 1000/1000 [01:30<00:00, 11.03it/s]\n"
     ]
    }
   ],
   "source": [
    "import numpy as np\n",
    "import time\n",
    "from tqdm import tqdm\n",
    "\n",
    "def pd_control(q_desired, v_desired, q_measured, v_measured, Kp, Kd):\n",
    "    \"\"\"\n",
    "    Compute the joint torques using PD control based on desired and measured positions and velocities.\n",
    "\n",
    "    Parameters:\n",
    "    q_desired (np.array): Desired joint positions\n",
    "    v_desired (np.array): Desired joint velocities\n",
    "    q_measured (np.array): Measured joint positions\n",
    "    v_measured (np.array): Measured joint velocities\n",
    "    Kp (np.array): Proportional gains\n",
    "    Kd (np.array): Derivative gains\n",
    "\n",
    "    Returns:\n",
    "    tau (np.array): Joint torques\n",
    "    \"\"\"\n",
    "    # Compute position and velocity errors\n",
    "    position_error = q_desired - q_measured\n",
    "    velocity_error = v_desired - v_measured\n",
    "    \n",
    "    # Compute torques using PD control\n",
    "    tau = Kp * position_error + Kd * velocity_error\n",
    "    return tau\n",
    "\n",
    "def control_to_desired_configuration(q_desired, v_desired, eps=1e-4):\n",
    "  # Get the number of joints in the robot\n",
    "  nq = pybullet.getNumJoints(robot_id)\n",
    "  # Initialize the PD control gains (these can be tuned)\n",
    "  Kp = 20 * np.ones((nq,))  # Proportional gains\n",
    "  Kd = 0.05 * Kp # Derivative gains\n",
    "  for step in range(1000):\n",
    "      # Get the current joint states (positions and velocities)\n",
    "      joint_states = pybullet.getJointStates(robot_id, list(range(nq)))\n",
    "      q_measured = np.array([s[0] for s in joint_states])\n",
    "      v_measured = np.array([s[1] for s in joint_states])\n",
    "\n",
    "      if np.max(np.abs(q_measured - q_desired)) < eps and np.max(np.abs(v_measured - v_desired)) < eps:\n",
    "        return\n",
    "\n",
    "      # Compute the joint torques using the PD controller\n",
    "      tau = np.clip(pd_control(q_desired, v_desired, q_measured, v_measured, Kp, Kd), -50, 50)\n",
    "\n",
    "      # Apply the torques to the robot joints\n",
    "      for i in range(nq):\n",
    "        pybullet.setJointMotorControl2(\n",
    "          bodyIndex=robot_id, \n",
    "          jointIndex=i, \n",
    "          controlMode=pybullet.TORQUE_CONTROL, \n",
    "          force=tau[i])\n",
    "\n",
    "      # Step the simulation forward\n",
    "      pybullet.stepSimulation()"
   ]
  },
  {
   "cell_type": "code",
   "execution_count": null,
   "metadata": {},
   "outputs": [],
   "source": [
    "reset_to_initial_state()\n",
    "control_to_desired_configuration(np.array([0.5, 0.5, 0.5, 0.5, 0.5, 0.5]), np.array([0, 0, 0, 0, 0, 0]))"
   ]
  },
  {
   "cell_type": "markdown",
   "metadata": {},
   "source": [
    "## 5. Moving the end-effector of the robot arm along a horizontal line\n",
    "\n",
    "The line will be defined by two points $ p_1 = (0.1, 0.3, 0) $ and $ p_2 = (0, 0.3, 0.1) $"
   ]
  },
  {
   "cell_type": "code",
   "execution_count": null,
   "metadata": {},
   "outputs": [],
   "source": [
    "def move_end_effector_along_trajectory(traj, eff_idx):\n",
    "  for target in traj:\n",
    "    q_desired = pybullet.calculateInverseKinematics(\n",
    "      bodyIndex=robot_id,\n",
    "      endEffectorLinkIndex=eff_idx, \n",
    "      targetPosition=target\n",
    "    )\n",
    "    control_to_desired_configuration(q_desired, np.zeros_like(q_desired))\n"
   ]
  },
  {
   "cell_type": "code",
   "execution_count": null,
   "metadata": {},
   "outputs": [],
   "source": [
    "reset_to_initial_state()\n",
    "time.sleep(1)\n",
    "p1 = np.array((0.5, 0, 0.8))\n",
    "p2 = np.array((0, 0.5, 0.8))\n",
    "traj = p1 + np.outer(np.linspace(0, 1, 100), p2 - p1)\n",
    "move_end_effector_along_trajectory(traj, 5)"
   ]
  },
  {
   "cell_type": "markdown",
   "metadata": {},
   "source": [
    "## 6. Modify the URDF file of the robot description to add a pendulum at the end effector of the arm"
   ]
  },
  {
   "cell_type": "code",
   "execution_count": 1,
   "metadata": {},
   "outputs": [],
   "source": [
    "import os\n",
    "\n",
    "from robot_descriptions import edo_description\n",
    "urdf_file_path = edo_description.URDF_PATH\n",
    "\n",
    "def addpendulum_urdf(urdf_file_path):\n",
    "    # Read the URDF file\n",
    "    with open(urdf_file_path, 'r') as file:\n",
    "        urdf_data = file.readlines()\n",
    "\n",
    "    # Remove trailing blank lines and the </robot> tag\n",
    "    while urdf_data and urdf_data[-1].strip() == \"\":  # Remove blank lines\n",
    "        urdf_data.pop()\n",
    "    # Remove the last line (`</robot>`)\n",
    "    if urdf_data[-1].strip() == \"</robot>\":\n",
    "        urdf_data.pop()\n",
    "\n",
    "\n",
    "    # The pendulum components to add\n",
    "    pendulum_urdf = \"\"\"\n",
    "  <!-- Pendulum Link (Thin cylinder attached to link_6) -->\n",
    "  <link name=\"pendulum_link\">\n",
    "    <inertial>\n",
    "      <origin xyz=\"0 0 -0.25\" rpy=\"0 0 0\" />\n",
    "      <mass value=\"0.1\" />\n",
    "      <inertia ixx=\"0.0083\" ixy=\"0\" ixz=\"0\" iyy=\"0.0000\" iyz=\"0\" izz=\"0.0083\" /> <!-- ixx =izz = m * l **2 /3, rest is 0 (source wiki)  -->\n",
    "    </inertial>\n",
    "    <visual>\n",
    "      <origin xyz=\"0 0 -0.25\" rpy=\"0 0 0\" />\n",
    "      <geometry>\n",
    "       <cylinder length=\"0.5\" radius=\"0.01\"/> <!-- Thin cylinder, length 0.5m, radius 0.01m -->\n",
    "      </geometry>\n",
    "      <material name=\"\">\n",
    "        <color rgba=\"0.792156862745098 0.819607843137255 0.933333333333333 1\" />\n",
    "      </material>\n",
    "    </visual>\n",
    "    <collision>\n",
    "      <origin xyz=\"0 0 -0.25\" rpy=\"0 0 0\" />\n",
    "      <geometry>\n",
    "       <cylinder length=\"0.5\" radius=\"0.01\"/> <!-- Thin cylinder, length 0.5m, radius 0.01m -->\n",
    "      </geometry>\n",
    "    </collision>\n",
    "  </link>\n",
    "\n",
    "  <!-- Pendulum Mass at the end of the pendulum_link -->\n",
    "  <link name=\"pendulum_mass\">\n",
    "    <inertial>\n",
    "      <origin xyz=\"0 0 -0.5\" rpy=\"0 0 0\" />\n",
    "      <mass value=\"0.5\" /> <!-- Mass m at the end -->\n",
    "      <inertia ixx=\"0.001\" ixy=\"0\" ixz=\"0\" iyy=\"0.0005\" iyz=\"0\" izz=\"0.0005\" /> <!-- ixx = iyy=izz = 2 *m * r **2 /5 , rest is 0 (source wiki)   -->\n",
    "    </inertial>\n",
    "    <visual>\n",
    "      <origin xyz=\"0 0 -0.5\" rpy=\"0 0 0\" />\n",
    "      <geometry>\n",
    "        <sphere radius =\"0.05\" /> <!-- Small sphere representing the mass, radius r -->\n",
    "      </geometry>\n",
    "      <material name=\"\">\n",
    "        <color rgba=\"0.792156862745098 0.819607843137255 0.933333333333333 1\" />\n",
    "      </material>\n",
    "    </visual>\n",
    "    <collision>\n",
    "      <origin xyz=\"0 0 -0.5\" rpy=\"0 0 0\" />\n",
    "      <geometry>\n",
    "        <sphere radius=\"0.05\" />\n",
    "      </geometry>\n",
    "    </collision>\n",
    "  </link>\n",
    "\n",
    "  <!-- Pendulum Revolute Joint (connects pendulum_link to link_6) -->\n",
    "  <joint name=\"pendulum_joint\" type=\"fixed\">\n",
    "    <parent link=\"link_6\" /> <!-- Attach to link_6 -->\n",
    "    <child link=\"pendulum_link\" />\n",
    "    <origin xyz=\"0 0 -0.25\" rpy=\"0 0 0\" /> <!-- Positioning pendulum at link_6's end -->\n",
    "    <axis xyz=\"0 1 0\" /> <!-- Swinging along Y-axis -->\n",
    "    <limit lower=\"0\" upper=\"3.1416\" effort=\"0\" velocity=\"0\" /> <!-- Passive joint with zero effort -->\n",
    "    <dynamics damping=\"0.1\" friction=\"0.1\" />\n",
    "  </joint>\n",
    "\n",
    "  <!-- Pendulum Mass Joint (fixes mass to the end of the pendulum) -->\n",
    "  <joint name=\"pendulum_mass_joint\" type=\"fixed\">\n",
    "    <parent link=\"pendulum_link\" />\n",
    "    <child link=\"pendulum_mass\" />\n",
    "    <origin xyz=\"0 0 -0.5\" rpy=\"0 0 0\" /> <!-- Attach mass at the tip of pendulum -->\n",
    "  </joint>\n",
    "\"\"\"\n",
    "    # Append the pendulum components to the URDF data\n",
    "    urdf_data.append(pendulum_urdf)\n",
    "\n",
    "    # Add the </robot> tag back\n",
    "    urdf_data.append(\"</robot>\\n\")\n",
    "\n",
    "    # Write the modified URDF back to the file\n",
    "    with open(urdf_file_path, 'w') as file:\n",
    "        file.writelines(urdf_data)\n",
    "\n",
    "    print(\"URDF file has been updated with pendulum components.\")\n",
    "\n",
    "\n",
    "\n",
    "\n"
   ]
  },
  {
   "cell_type": "code",
   "execution_count": 2,
   "metadata": {},
   "outputs": [
    {
     "name": "stdout",
     "output_type": "stream",
     "text": [
      "pop !\n",
      "URDF file has been updated with pendulum components.\n"
     ]
    }
   ],
   "source": [
    "addpendulum_urdf(urdf_file_path)"
   ]
  },
  {
   "cell_type": "markdown",
   "metadata": {},
   "source": [
    "Watch out, you might want to get the initial file back, the next function helps to do so. You might also do it by hand by clicking on the following link and removing the links and joints corresponding to the pendulum"
   ]
  },
  {
   "cell_type": "code",
   "execution_count": 14,
   "metadata": {},
   "outputs": [
    {
     "name": "stdout",
     "output_type": "stream",
     "text": [
      "/Users/theo/.cache/robot_descriptions/edo_sim/robots/edo_sim.urdf\n"
     ]
    }
   ],
   "source": [
    "print(urdf_file_path) #run to get yours"
   ]
  },
  {
   "cell_type": "code",
   "execution_count": 13,
   "metadata": {},
   "outputs": [
    {
     "name": "stdout",
     "output_type": "stream",
     "text": [
      "URDF file has been reverted to its original state (pendulum removed, comments removed).\n"
     ]
    }
   ],
   "source": [
    "import os\n",
    "\n",
    "def undo_modify_urdf(urdf_file_path):\n",
    "    # Read the URDF file\n",
    "    with open(urdf_file_path, 'r') as file:\n",
    "        urdf_data = file.readlines()\n",
    "\n",
    "    # Remove trailing blank lines and the </robot> tag\n",
    "    while urdf_data and urdf_data[-1].strip() == \"\":  # Remove blank lines\n",
    "        urdf_data.pop()\n",
    "    \n",
    "    # Remove the last line </robot> if it exists\n",
    "    if urdf_data and urdf_data[-1].strip() == \"</robot>\":\n",
    "        urdf_data.pop()\n",
    "\n",
    "    # Identify and remove the pendulum components and their comments\n",
    "    pendulum_tags = [\n",
    "        \"<link name=\\\"pendulum_link\\\">\",\n",
    "        \"<link name=\\\"pendulum_mass\\\">\",\n",
    "        \"<joint name=\\\"pendulum_joint\\\" type=\\\"fixed\\\">\",\n",
    "        \"<joint name=\\\"pendulum_mass_joint\\\" type=\\\"fixed\\\">\",\n",
    "        \"<!-- Pendulum Link (Thin cylinder attached to link_6) -->\",\n",
    "        \"<!-- Pendulum Mass at the end of the pendulum_link -->\",\n",
    "        \"<!-- Pendulum Revolute Joint (connects pendulum_link to link_6) -->\"\n",
    "    ]\n",
    "    \n",
    "    pendulum_lines_to_remove = []\n",
    "\n",
    "    # Find the lines related to pendulum components and mark them for removal\n",
    "    in_pendulum_block = False\n",
    "    for i, line in enumerate(urdf_data):\n",
    "        # We want to capture lines that are part of the pendulum section or its comments\n",
    "        if any(tag in line for tag in pendulum_tags):\n",
    "            in_pendulum_block = True\n",
    "        if in_pendulum_block:\n",
    "            pendulum_lines_to_remove.append(i)\n",
    "        # End of a pendulum link, mark end of block\n",
    "        if \"</link>\" in line and in_pendulum_block:\n",
    "            in_pendulum_block = False\n",
    "\n",
    "    # Remove the lines related to the pendulum (including comments)\n",
    "    for index in reversed(pendulum_lines_to_remove):\n",
    "        urdf_data.pop(index)\n",
    "\n",
    "    # Add the closing </robot> tag back to the file if it's missing\n",
    "    urdf_data.append(\"</robot>\\n\")\n",
    "\n",
    "    # Write the modified URDF back to the file\n",
    "    with open(urdf_file_path, 'w') as file:\n",
    "        file.writelines(urdf_data)\n",
    "\n",
    "    print(\"URDF file has been reverted to its original state (pendulum removed, comments removed).\")\n",
    "\n",
    "\n",
    "\n"
   ]
  },
  {
   "cell_type": "code",
   "execution_count": null,
   "metadata": {},
   "outputs": [],
   "source": [
    "#run to get back the initial file after running addpendulum_urdf\n",
    "#undo_modify_urdf(urdf_file_path) "
   ]
  },
  {
   "cell_type": "code",
   "execution_count": 1,
   "metadata": {},
   "outputs": [
    {
     "name": "stderr",
     "output_type": "stream",
     "text": [
      "pybullet build time: Nov 29 2024 16:26:49\n"
     ]
    },
    {
     "name": "stdout",
     "output_type": "stream",
     "text": [
      "Version = 4.1 Metal - 76.3\n",
      "Vendor = Apple\n",
      "Renderer = Apple M1\n",
      "b3Printf: Selected demo: Physics Server\n",
      "startThreads creating 1 threads.\n",
      "starting thread 0\n",
      "started thread 0 \n",
      "b3Printf: PosixSharedMemory::releaseSharedMemory removed shared memory\n",
      "b3Printf: PosixSharedMemory::releaseSharedMemory detached shared memory\n",
      "\n",
      "b3Printf: PosixSharedMemory::releaseSharedMemory removed shared memory\n",
      "b3Printf: PosixSharedMemory::releaseSharedMemory detached shared memory\n",
      "\n",
      "MotionThreadFunc thread started\n"
     ]
    }
   ],
   "source": [
    "#you can now load the updated robot \n",
    "# (I don't know how to do otherwise than restarting the kernel if I had previously launched a physics server for the previous part)\n",
    "arm_name = 'edo_description'\n",
    "\n",
    "import pybullet\n",
    "from robot_descriptions.loaders.pybullet import load_robot_description\n",
    "pybullet.connect(pybullet.GUI_SERVER)\n",
    "pybullet.setGravity(0, 0, -9.81)\n",
    "robot_id = load_robot_description(arm_name, useFixedBase=True)"
   ]
  },
  {
   "cell_type": "code",
   "execution_count": null,
   "metadata": {},
   "outputs": [],
   "source": [
    "#and even play with the now different dynamics of the controller"
   ]
  },
  {
   "cell_type": "code",
   "execution_count": 3,
   "metadata": {},
   "outputs": [
    {
     "name": "stderr",
     "output_type": "stream",
     "text": [
      "  0%|          | 3/1000 [00:00<01:42,  9.72it/s]"
     ]
    },
    {
     "name": "stdout",
     "output_type": "stream",
     "text": [
      "[0.5 0.5 0.5 0.5 0.5 0.5 0.5 0. ]\n"
     ]
    },
    {
     "name": "stderr",
     "output_type": "stream",
     "text": [
      " 10%|█         | 102/1000 [00:09<01:12, 12.47it/s]"
     ]
    },
    {
     "name": "stdout",
     "output_type": "stream",
     "text": [
      "[ 2.0394658  13.67434275  0.76152051  0.16703117  0.66380499  0.42334593\n",
      "  0.5         0.        ]\n"
     ]
    },
    {
     "name": "stderr",
     "output_type": "stream",
     "text": [
      " 20%|██        | 203/1000 [00:18<01:12, 10.97it/s]"
     ]
    },
    {
     "name": "stdout",
     "output_type": "stream",
     "text": [
      "[13.11098993 24.00096057  0.51529001  0.26477651  0.85502472  0.38137854\n",
      "  0.5         0.        ]\n"
     ]
    },
    {
     "name": "stderr",
     "output_type": "stream",
     "text": [
      " 20%|██        | 205/1000 [00:19<01:14, 10.70it/s]\n"
     ]
    },
    {
     "ename": "KeyboardInterrupt",
     "evalue": "",
     "output_type": "error",
     "traceback": [
      "\u001b[0;31m---------------------------------------------------------------------------\u001b[0m",
      "\u001b[0;31mKeyboardInterrupt\u001b[0m                         Traceback (most recent call last)",
      "Cell \u001b[0;32mIn[3], line 56\u001b[0m\n\u001b[1;32m     53\u001b[0m Kd \u001b[38;5;241m=\u001b[39m \u001b[38;5;241m0.05\u001b[39m \u001b[38;5;241m*\u001b[39m Kp \u001b[38;5;66;03m# Derivative gains\u001b[39;00m\n\u001b[1;32m     54\u001b[0m \u001b[38;5;28;01mfor\u001b[39;00m step \u001b[38;5;129;01min\u001b[39;00m tqdm(\u001b[38;5;28mrange\u001b[39m(\u001b[38;5;241m1000\u001b[39m)):\n\u001b[1;32m     55\u001b[0m     \u001b[38;5;66;03m# Get the current joint states (positions and velocities)\u001b[39;00m\n\u001b[0;32m---> 56\u001b[0m     joint_states \u001b[38;5;241m=\u001b[39m \u001b[43mpybullet\u001b[49m\u001b[38;5;241;43m.\u001b[39;49m\u001b[43mgetJointStates\u001b[49m\u001b[43m(\u001b[49m\u001b[43mrobot_id\u001b[49m\u001b[43m,\u001b[49m\u001b[43m \u001b[49m\u001b[38;5;28;43mlist\u001b[39;49m\u001b[43m(\u001b[49m\u001b[38;5;28;43mrange\u001b[39;49m\u001b[43m(\u001b[49m\u001b[43mnq\u001b[49m\u001b[43m)\u001b[49m\u001b[43m)\u001b[49m\u001b[43m)\u001b[49m\n\u001b[1;32m     57\u001b[0m     q_measured \u001b[38;5;241m=\u001b[39m np\u001b[38;5;241m.\u001b[39marray([s[\u001b[38;5;241m0\u001b[39m] \u001b[38;5;28;01mfor\u001b[39;00m s \u001b[38;5;129;01min\u001b[39;00m joint_states])\n\u001b[1;32m     58\u001b[0m     v_measured \u001b[38;5;241m=\u001b[39m np\u001b[38;5;241m.\u001b[39marray([s[\u001b[38;5;241m1\u001b[39m] \u001b[38;5;28;01mfor\u001b[39;00m s \u001b[38;5;129;01min\u001b[39;00m joint_states])\n",
      "\u001b[0;31mKeyboardInterrupt\u001b[0m: "
     ]
    }
   ],
   "source": [
    "import numpy as np\n",
    "import time\n",
    "from tqdm import tqdm\n",
    "initial_joint_positions = [0.0, 0.0, 0.0, 0.0, 0.0, 0.0,0.0,0.0]\n",
    "def reset_to_initial_state():\n",
    "  for i in range(len(initial_joint_positions)):\n",
    "    pybullet.resetJointState(\n",
    "      bodyUniqueId=robot_id,\n",
    "      jointIndex=i,\n",
    "      targetValue=initial_joint_positions[i],\n",
    "      targetVelocity=0\n",
    "    )\n",
    "    # pybullet.changeDynamics(robot_id, i, linearDamping=0.0, angularDamping=0.0) # not sure if this is important\n",
    "    pybullet.setJointMotorControl2(robot_id, i, pybullet.VELOCITY_CONTROL, force=0) # apparently this is really important\n",
    "\n",
    "\n",
    "def pd_control(q_desired, v_desired, q_measured, v_measured, Kp, Kd):\n",
    "    \"\"\"\n",
    "    Compute the joint torques using PD control based on desired and measured positions and velocities.\n",
    "\n",
    "    Parameters:\n",
    "    q_desired (np.array): Desired joint positions\n",
    "    v_desired (np.array): Desired joint velocities\n",
    "    q_measured (np.array): Measured joint positions\n",
    "    v_measured (np.array): Measured joint velocities\n",
    "    Kp (np.array): Proportional gains\n",
    "    Kd (np.array): Derivative gains\n",
    "\n",
    "    Returns:\n",
    "    tau (np.array): Joint torques\n",
    "    \"\"\"\n",
    "    # Compute position and velocity errors\n",
    "    position_error = q_desired - q_measured\n",
    "    velocity_error = v_desired - v_measured\n",
    "    \n",
    "    # Compute torques using PD control\n",
    "    tau = Kp * position_error + Kd * velocity_error\n",
    "    return tau\n",
    "\n",
    "reset_to_initial_state()\n",
    "\n",
    "# Get the number of joints in the robot\n",
    "nq = pybullet.getNumJoints(robot_id)\n",
    "\n",
    "# Set desired joint positions and velocities (targets for the PD control)\n",
    "q_desired = np.array([0.5, 0.5, 0.5, 0.5, 0.5, 0.5,0.5,0])  # Desired joint positions (radians), added for the last 2 joints\n",
    "v_desired = np.zeros_like(q_desired)  # Desired joint velocities (radians/sec)\n",
    "\n",
    "time.sleep(1)\n",
    "\n",
    "# Initialize the PD control gains (these can be tuned\n",
    "Kp = 20 * np.ones((nq,))  # Proportional gains\n",
    "Kd = 0.05 * Kp # Derivative gains\n",
    "for step in tqdm(range(1000)):\n",
    "    # Get the current joint states (positions and velocities)\n",
    "    joint_states = pybullet.getJointStates(robot_id, list(range(nq)))\n",
    "    q_measured = np.array([s[0] for s in joint_states])\n",
    "    v_measured = np.array([s[1] for s in joint_states])\n",
    "\n",
    "    # Compute the joint torques using the PD controller\n",
    "    tau = np.clip(pd_control(q_desired, v_desired, q_measured, v_measured, Kp, Kd), -50, 50)\n",
    "\n",
    "    if step % 100 == 0:\n",
    "      print(np.abs(q_measured - q_desired))\n",
    "\n",
    "    # Apply the torques to the robot joints\n",
    "    for i in range(nq):\n",
    "      pybullet.setJointMotorControl2(\n",
    "        bodyIndex=robot_id, \n",
    "        jointIndex=i, \n",
    "        controlMode=pybullet.TORQUE_CONTROL, \n",
    "        force=tau[i])\n",
    "\n",
    "    # Step the simulation forward\n",
    "    pybullet.stepSimulation()\n",
    "\n",
    "    # Optional: Slow down the simulation for visualization or debugging\n",
    "    time.sleep(1.0 / 240)"
   ]
  }
 ],
 "metadata": {
  "kernelspec": {
   "display_name": "venv",
   "language": "python",
   "name": "python3"
  },
  "language_info": {
   "codemirror_mode": {
    "name": "ipython",
    "version": 3
   },
   "file_extension": ".py",
   "mimetype": "text/x-python",
   "name": "python",
   "nbconvert_exporter": "python",
   "pygments_lexer": "ipython3",
   "version": "3.10.15"
  }
 },
 "nbformat": 4,
 "nbformat_minor": 2
}
