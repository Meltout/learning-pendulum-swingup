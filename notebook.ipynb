{
 "cells": [
  {
   "cell_type": "markdown",
   "metadata": {},
   "source": [
    "## Adapt section 5, *Learning to balance*, using the Cart Pole environment of Gymnasium\n",
    "\n",
    "### Main steps to take\n",
    "- gather samples of the system's dynamics by running a random policy\n",
    "- learn a local linear model of the system's dynamic around the point $\\theta = 0$\n",
    "- modify the reward function in equation (4) to reflect that in our problem the acceleration input can take only 2 values\n",
    "- compute a balancing policy by leveraging the local linear model and reward function (e.g. LQR controller)"
   ]
  },
  {
   "cell_type": "code",
   "execution_count": null,
   "metadata": {},
   "outputs": [],
   "source": [
    "import gymnasium as gym\n",
    "import numpy as np\n",
    "import pandas as pd"
   ]
  },
  {
   "cell_type": "code",
   "execution_count": null,
   "metadata": {},
   "outputs": [],
   "source": [
    "env = gym.make(\"CartPole-v1\")\n",
    "# an observation is a tuple (Cart Position, Cart Velocity, Pole Angle, Pole Angular Velocity)\n",
    "print(env.observation_space)\n",
    "# there are two possible actions, 0 and 1, which correspond to pushing the cart left or right\n",
    "print(env.action_space)"
   ]
  },
  {
   "cell_type": "code",
   "execution_count": null,
   "metadata": {},
   "outputs": [],
   "source": [
    "def generate_sample_of_system_dynamics(env, nb_samples):\n",
    "  \"\"\" \n",
    "  Returns: a dataframe containing predictors and outcomes\n",
    "  \"\"\"\n",
    "  \n",
    "  samples = []\n",
    "  s, _ = env.reset()\n",
    "  for _ in range(nb_samples):\n",
    "    a = np.random.randint(0, 2)\n",
    "    next_s, _, d, _, _ = env.step(a)\n",
    "    samples.append({\n",
    "      'x': s[0], \n",
    "      'x_dot': s[1], \n",
    "      'theta': s[2], \n",
    "      'theta_dot': s[3], \n",
    "      '2u - 1': 2 * a - 1, # mapping inputs to {-1, 1} rather than {0, 1} is important, because otherwise the linear regression needs a non-zero constant to fit well\n",
    "      'evolution_x': next_s[0], \n",
    "      'evolution_x_dot': next_s[1], \n",
    "      'evolution_theta_dot': next_s[3]})\n",
    "    if d:\n",
    "      s, _ = env.reset()\n",
    "    else:\n",
    "      s = next_s\n",
    "  return pd.DataFrame(samples)"
   ]
  },
  {
   "cell_type": "code",
   "execution_count": null,
   "metadata": {},
   "outputs": [],
   "source": [
    "env = gym.make(\"CartPole-v1\")\n",
    "samples = generate_sample_of_system_dynamics(env, 10000)\n",
    "print(samples.describe())"
   ]
  },
  {
   "cell_type": "markdown",
   "metadata": {},
   "source": [
    "## Fitting a linear model for the system's dynamics around $\\theta=0$\n",
    "\n",
    "Under the assumption thata the pole's angular velocity is a linear\n",
    "function of the state and action we use linear regression to find\n",
    "the coefficients based on sample data"
   ]
  },
  {
   "cell_type": "code",
   "execution_count": null,
   "metadata": {},
   "outputs": [],
   "source": [
    "from statsmodels.api import OLS\n",
    "\n",
    "small_angle_samples = samples[np.abs(samples[\"theta\"]) < 0.05]\n",
    "predictors = small_angle_samples[['x', 'x_dot', 'theta', 'theta_dot', '2u - 1']]\n",
    "outcomes = ['evolution_x_dot', 'evolution_theta_dot', 'evolution_x']\n",
    "for o in outcomes:\n",
    "  model = OLS(small_angle_samples[o], predictors)\n",
    "  fit = model.fit()\n",
    "  print(f\"{o} linear model:\")\n",
    "  print(fit.params)\n",
    "  print(f\"Mean squared error of {o} fit\", fit.mse_resid)"
   ]
  },
  {
   "cell_type": "markdown",
   "metadata": {},
   "source": [
    "## Computing a state-feedback controller according to a discrete-time linear quadratic regulator design"
   ]
  },
  {
   "cell_type": "code",
   "execution_count": null,
   "metadata": {},
   "outputs": [],
   "source": [
    "from control import dlqr\n",
    "\n",
    "dT = 0.02\n",
    "A = np.array([\n",
    "  [1, dT, 0, 0], #x\n",
    "  [0, 1, -0.014107, 0], #x_dot\n",
    "  [0, 0, 1, dT], #theta\n",
    "  [0.000031, 0.000019, 0.315099, 0.999998] #theta_dot\n",
    "])\n",
    "B = np.array([\n",
    "  [0], #x\n",
    "  [0.195111], #x_dot\n",
    "  [0], #theta\n",
    "  [-0.292548] #theta_dot\n",
    "])\n",
    "Q = np.diag([125, 50, 1200, 25])\n",
    "R = np.diag([1.5])\n",
    "\n",
    "K, S, E = dlqr(A, B, Q, R)\n",
    "print(K)"
   ]
  },
  {
   "cell_type": "markdown",
   "metadata": {},
   "source": [
    "## Trying out the learned control policy"
   ]
  },
  {
   "cell_type": "code",
   "execution_count": null,
   "metadata": {},
   "outputs": [],
   "source": [
    "env = gym.make(\"CartPole-v1\", render_mode='human')\n",
    "s, _ = env.reset()\n",
    "while True:\n",
    "  print(np.dot(-K, s))\n",
    "  a = 0 if np.dot(-K, s) < 0.5 else 1\n",
    "  s, _, dead, trunc, _ = env.step(a)\n",
    "  if dead or trunc:\n",
    "    break"
   ]
  },
  {
   "cell_type": "code",
   "execution_count": null,
   "metadata": {},
   "outputs": [],
   "source": [
    "env.close()"
   ]
  }
 ],
 "metadata": {
  "kernelspec": {
   "display_name": "venv",
   "language": "python",
   "name": "python3"
  },
  "language_info": {
   "codemirror_mode": {
    "name": "ipython",
    "version": 3
   },
   "file_extension": ".py",
   "mimetype": "text/x-python",
   "name": "python",
   "nbconvert_exporter": "python",
   "pygments_lexer": "ipython3",
   "version": "3.10.12"
  }
 },
 "nbformat": 4,
 "nbformat_minor": 2
}
