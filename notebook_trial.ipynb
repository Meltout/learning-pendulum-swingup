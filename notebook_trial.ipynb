{
 "cells": [
  {
   "cell_type": "code",
   "execution_count": 1,
   "metadata": {},
   "outputs": [
    {
     "name": "stderr",
     "output_type": "stream",
     "text": [
      "pybullet build time: Nov 29 2024 16:26:49\n"
     ]
    }
   ],
   "source": [
    "import numpy as np\n",
    "import pybullet as p\n",
    "import pandas as pd\n",
    "import time\n",
    "from robot_descriptions.loaders.pybullet import load_robot_description"
   ]
  },
  {
   "cell_type": "code",
   "execution_count": 2,
   "metadata": {},
   "outputs": [
    {
     "name": "stdout",
     "output_type": "stream",
     "text": [
      "Version = 4.1 Metal - 76.3\n",
      "Vendor = Apple\n",
      "Renderer = Apple M1\n",
      "b3Printf: Selected demo: Physics Server\n",
      "startThreads creating 1 threads.\n",
      "starting thread 0\n",
      "started thread 0 \n",
      "MotionThreadFunc thread started\n"
     ]
    }
   ],
   "source": [
    "p.connect(p.GUI)\n",
    "p.setTimeStep(0.0001)\n",
    "p.setGravity(0, 0, -9.81)"
   ]
  },
  {
   "cell_type": "code",
   "execution_count": 3,
   "metadata": {},
   "outputs": [
    {
     "name": "stdout",
     "output_type": "stream",
     "text": [
      "/Users/theo/.cache/robot_descriptions/example-robot-data/robots/ur_description/urdf/ur5_robot.urdf\n"
     ]
    }
   ],
   "source": [
    "from robot_descriptions import ur5_description\n",
    "print(ur5_description.URDF_PATH)"
   ]
  },
  {
   "cell_type": "code",
   "execution_count": 3,
   "metadata": {},
   "outputs": [
    {
     "name": "stdout",
     "output_type": "stream",
     "text": [
      "(0, b'world_joint', 4, -1, -1, 0, 0.0, 0.0, 0.0, -1.0, 0.0, 0.0, b'base_link', (0.0, 0.0, 0.0), (0.0, 0.0, 0.0), (0.0, 0.0, 0.0, 1.0), -1)\n",
      "False\n",
      "(1, b'shoulder_pan_joint', 0, 7, 6, 1, 0.0, 0.0, -6.28318530718, 6.28318530718, 150.0, 3.15, b'shoulder_link', (0.0, 0.0, 1.0), (0.0, 0.0, 0.089159), (0.0, 0.0, 0.0, 1.0), 0)\n",
      "True\n",
      "(2, b'shoulder_lift_joint', 0, 8, 7, 1, 0.0, 0.0, -6.28318530718, 6.28318530718, 150.0, 3.15, b'upper_arm_link', (0.0, 1.0, 0.0), (0.0, 0.13585, 0.0), (0.0, -0.7071067811848163, 0.0, 0.7071067811882787), 1)\n",
      "True\n",
      "(3, b'elbow_joint', 0, 9, 8, 1, 0.0, 0.0, -3.14159265359, 3.14159265359, 150.0, 3.15, b'forearm_link', (0.0, 1.0, 0.0), (0.0, -0.1197, 0.14499999999999996), (0.0, 0.0, 0.0, 1.0), 2)\n",
      "True\n",
      "(4, b'wrist_1_joint', 0, 10, 9, 1, 0.0, 0.0, -6.28318530718, 6.28318530718, 28.0, 3.2, b'wrist_1_link', (0.0, 1.0, 0.0), (0.0, 0.0, 0.14225), (0.0, -0.7071067811848163, 0.0, 0.7071067811882787), 3)\n",
      "True\n",
      "(5, b'wrist_2_joint', 0, 11, 10, 1, 0.0, 0.0, -6.28318530718, 6.28318530718, 28.0, 3.2, b'wrist_2_link', (0.0, 0.0, 1.0), (0.0, 0.093, 0.0), (0.0, 0.0, 0.0, 1.0), 4)\n",
      "True\n",
      "(6, b'wrist_3_joint', 0, 12, 11, 1, 0.0, 0.0, -6.28318530718, 6.28318530718, 28.0, 3.2, b'wrist_3_link', (0.0, 1.0, 0.0), (0.0, 0.0, 0.09465), (0.0, 0.0, 0.0, 1.0), 5)\n",
      "True\n",
      "(7, b'ee_fixed_joint', 4, -1, -1, 0, 0.0, 0.0, 0.0, -1.0, 0.0, 0.0, b'ee_link', (0.0, 0.0, 0.0), (0.0, 0.0823, 0.0), (0.0, 0.0, -0.7071067811848163, 0.7071067811882787), 6)\n",
      "False\n",
      "(8, b'pendulum_joint', 0, 13, 12, 1, 0.0, 0.0, -6.28318530718, 6.28318530718, 0.0, 0.0, b'pendulum_link', (0.0, 1.0, 0.0), (0.0, 0.0, 0.0), (0.0, 0.9999999999932537, 0.0, 3.6732051033465744e-06), 7)\n",
      "True\n",
      "(9, b'pendulum_mass_joint', 4, -1, -1, 0, 0.0, 0.0, 0.0, -1.0, 0.0, 0.0, b'pendulum_mass', (0.0, 0.0, 0.0), (0.0, 0.0, -0.125), (0.0, 0.0, 0.0, 1.0), 8)\n",
      "False\n",
      "(10, b'base_link-base_fixed_joint', 4, -1, -1, 0, 0.0, 0.0, 0.0, -1.0, 0.0, 0.0, b'base', (0.0, 0.0, 0.0), (0.0, 0.0, 0.0), (0.0, 0.0, 1.0, -1.0341155355510722e-13), 0)\n",
      "False\n",
      "End effector joint:  7\n",
      "Revolute joints:  [1, 2, 3, 4, 5, 6, 8]\n"
     ]
    }
   ],
   "source": [
    "robot_id = load_robot_description('ur5_description', useFixedBase=True) \n",
    "joint_indices = [i for i in range(p.getNumJoints(robot_id)) if p.getJointInfo(robot_id, i)[2] == p.JOINT_REVOLUTE]\n",
    "for i in range(p.getNumJoints(robot_id)):\n",
    "  print(p.getJointInfo(robot_id, i))\n",
    "  print(p.getJointInfo(robot_id, i)[2] == p.JOINT_REVOLUTE)\n",
    "\n",
    "immovable_joints = [6, 8]\n",
    "wrist3_joint = 6\n",
    "eff_idx = 7\n",
    "pendulum_joint_idx = 8\n",
    "print(\"End effector joint: \", eff_idx)\n",
    "print(\"Revolute joints: \", joint_indices)"
   ]
  },
  {
   "cell_type": "markdown",
   "metadata": {},
   "source": [
    "# Inverse kinematics with preferred positions"
   ]
  },
  {
   "cell_type": "code",
   "execution_count": 4,
   "metadata": {},
   "outputs": [
    {
     "name": "stdout",
     "output_type": "stream",
     "text": [
      "[-6.28, 0.6105555555555556, -1.133888888888889, 0.2616666666666667, -0.6977777777777778, 3.052777777777778, 0.0]\n",
      "[6.28, 0.785, -0.9594444444444445, 0.785, 0.6977777777777778, 3.052777777777778, 0.0]\n",
      "[12.56, 0.17444444444444446, 0.17444444444444446, 0.5233333333333334, 1.3955555555555557, 0.0, 0.0]\n",
      "[0.0, 0.6977777777777778, -1.0466666666666669, 0.5233333333333334, 0.0, 3.052777777777778, 0.0]\n"
     ]
    }
   ],
   "source": [
    "#lower limits for null space\n",
    "ll = [3.14 / 18 * x for x in [-36, 3.5, -6.5, 1.5, -4, 17.5, 0]]\n",
    "#upper limits for null space\n",
    "ul = [3.14 / 18 * x for x in [36,  4.5, -5.5, 4.5,  4, 17.5, 0]]\n",
    "#joint ranges for null space\n",
    "jr = [3.14 / 18  * x for x in [72,    1,    1,   3,  8,    0, 0]]\n",
    "#restposes for null space\n",
    "rp = [3.14 / 18 * x for x in [0,     4,   -6,   3,  0, 17.5, 0]]\n",
    "\n",
    "print(ll)\n",
    "print(ul)\n",
    "print(jr)\n",
    "print(rp)\n",
    "\n",
    "def smoothInverseKinematics(robot_id, eff_idx, target_pos):\n",
    "  current_positon = p.getLinkState(robot_id, eff_idx)[0]\n",
    "  return p.calculateInverseKinematics(\n",
    "    robot_id,\n",
    "    eff_idx,\n",
    "    target_pos,\n",
    "    lowerLimits = ll,\n",
    "    upperLimits = ul,\n",
    "    jointRanges = jr,\n",
    "    restPoses   = rp,\n",
    "    solver=420,\n",
    "    maxNumIterations=20,\n",
    "    residualThreshold=.01\n",
    "  )"
   ]
  },
  {
   "cell_type": "markdown",
   "metadata": {},
   "source": [
    "# Disable default motor control"
   ]
  },
  {
   "cell_type": "code",
   "execution_count": 5,
   "metadata": {},
   "outputs": [],
   "source": [
    "for i in joint_indices:\n",
    "    p.setJointMotorControl2(\n",
    "        bodyUniqueId=robot_id,\n",
    "        jointIndex=i,\n",
    "        controlMode=p.VELOCITY_CONTROL,\n",
    "        force=0  # Disable motor forces\n",
    "    )"
   ]
  },
  {
   "cell_type": "markdown",
   "metadata": {},
   "source": [
    "# Feedback and Stabilization"
   ]
  },
  {
   "cell_type": "code",
   "execution_count": 6,
   "metadata": {},
   "outputs": [],
   "source": [
    "def pd_control(robot_id, q_desired, v_desired, Kp, Kd):\n",
    "  joint_states = p.getJointStates(robot_id, joint_indices)\n",
    "  q_measured = np.array([state[0] for state in joint_states])\n",
    "  v_measured = np.array([state[1] for state in joint_states])\n",
    "  position_error = q_desired - q_measured\n",
    "  velocity_error = v_desired - v_measured\n",
    "  \n",
    "  tau = Kp * position_error + Kd * velocity_error\n",
    "  # add gravity compensation\n",
    "  tau += np.array(p.calculateInverseDynamics(robot_id, q_measured.tolist(), [0] * len(joint_indices), [0] * len(joint_indices)))\n",
    "  for i in range(len(joint_indices)):\n",
    "    if joint_indices[i] in immovable_joints: # ensure pendulum and wrist 3 joint is commanded with zero torque\n",
    "      tau[i] = 0\n",
    "  return tau\n",
    "\n",
    "Kp = 100 * np.ones_like(joint_indices)\n",
    "Kd = 5 * np.ones_like(joint_indices)\n",
    "\n",
    "def control_to_desired_configuration(robot_id, q_desired, v_desired=None, max_steps=5000, sleep=None):\n",
    "  if v_desired is None:\n",
    "    v_desired = np.zeros_like(q_desired)\n",
    "  for step in range(max_steps):  # Simulation steps\n",
    "    torques = pd_control(robot_id, q_desired, v_desired, Kp, Kd).tolist()\n",
    "    p.setJointMotorControlArray(\n",
    "      bodyUniqueId=robot_id,\n",
    "      jointIndices=joint_indices,\n",
    "      controlMode=p.TORQUE_CONTROL,\n",
    "      forces=torques\n",
    "    )\n",
    "    p.stepSimulation()\n",
    "    if sleep is not None:\n",
    "      time.sleep(sleep)\n",
    "    "
   ]
  },
  {
   "cell_type": "markdown",
   "metadata": {},
   "source": [
    "# Resetting to balanced pose"
   ]
  },
  {
   "cell_type": "code",
   "execution_count": 7,
   "metadata": {},
   "outputs": [],
   "source": [
    "rest_pose_balancing = [np.pi / 18 * x for x in [0, 4, -6, 3, 0, 17.15, 0]]\n",
    "def reset_to_balancing_pose(robot_id):\n",
    "  for i in range(len(joint_indices)): \n",
    "    p.resetJointState(robot_id, joint_indices[i], targetValue=-rest_pose_balancing[i], targetVelocity=0)\n",
    "    p.setJointMotorControl2(\n",
    "          bodyUniqueId=robot_id,\n",
    "          jointIndex=joint_indices[i],\n",
    "          controlMode=p.VELOCITY_CONTROL,\n",
    "          force=0  # Disable motor forces\n",
    "      )"
   ]
  },
  {
   "cell_type": "code",
   "execution_count": 8,
   "metadata": {},
   "outputs": [],
   "source": [
    "rest_pose_swing = [np.pi / 18 * x for x in [0, 4, -6, 3, 0, 17.15, 18]]\n",
    "def reset_to_swing_pose(robot_id):\n",
    "  for i in range(len(joint_indices)): \n",
    "    p.resetJointState(robot_id, joint_indices[i], targetValue=-rest_pose_swing[i], targetVelocity=0)\n",
    "    p.setJointMotorControl2(\n",
    "          bodyUniqueId=robot_id,\n",
    "          jointIndex=joint_indices[i],\n",
    "          controlMode=p.VELOCITY_CONTROL,\n",
    "          force=0  # Disable motor forces\n",
    "      )"
   ]
  },
  {
   "cell_type": "code",
   "execution_count": 10,
   "metadata": {},
   "outputs": [],
   "source": [
    "reset_to_balancing_pose(robot_id)"
   ]
  },
  {
   "cell_type": "code",
   "execution_count": 11,
   "metadata": {},
   "outputs": [
    {
     "name": "stdout",
     "output_type": "stream",
     "text": [
      "((0.7105991188452455, 0.19145000000000006, 0.13497427907824033), (-0.009255741794926584, -0.009255741794971906, 0.7070462016313909, 0.7070462016348529), (0.0, 0.0, 0.0), (0.0, 0.0, 0.0, 1.0), (0.7105991244316101, 0.19144999980926514, 0.13497428596019745), (-0.00925574079155922, -0.00925574079155922, 0.7070462107658386, 0.7070462107658386))\n"
     ]
    }
   ],
   "source": [
    "print(p.getLinkState(robot_id, eff_idx))"
   ]
  },
  {
   "cell_type": "code",
   "execution_count": 12,
   "metadata": {},
   "outputs": [
    {
     "data": {
      "text/plain": [
       "(3.4187670006900682e-18,\n",
       " -0.6981317007977319,\n",
       " 1.0471975511965974,\n",
       " -0.5235987755982988,\n",
       " 3.2627810165066864e-17,\n",
       " -2.993239667170275,\n",
       " 0.0)"
      ]
     },
     "execution_count": 12,
     "metadata": {},
     "output_type": "execute_result"
    }
   ],
   "source": [
    "p.calculateInverseKinematics(robot_id, eff_idx, (0.7105991188452455, 0.19145000000000006, 0.13497427907824033))"
   ]
  },
  {
   "cell_type": "markdown",
   "metadata": {},
   "source": [
    "# Moving end-effector along a horizontal line"
   ]
  },
  {
   "cell_type": "markdown",
   "metadata": {},
   "source": [
    "## Forward movement"
   ]
  },
  {
   "cell_type": "code",
   "execution_count": 13,
   "metadata": {},
   "outputs": [
    {
     "name": "stdout",
     "output_type": "stream",
     "text": [
      "[0.69310873 0.19145    0.25235053] [0.99310873 0.19145    0.25235053]\n",
      "(7, b'ee_fixed_joint', 4, -1, -1, 0, 0.0, 0.0, 0.0, -1.0, 0.0, 0.0, b'ee_link', (0.0, 0.0, 0.0), (0.0, 0.0823, 0.0), (0.0, 0.0, -0.7071067811848163, 0.7071067811882787), 6)\n"
     ]
    }
   ],
   "source": [
    "# Define the start point and direction of the line\n",
    "reset_to_balancing_pose(robot_id)\n",
    "start_point =p.getLinkState(robot_id, eff_idx)[0] #np.array([0.7105991188452455, 0.19145000000000006, 0.13497427907824033])  # [x, y, z] in 3D space\n",
    "direction_vector = np.array([+0.3, 0, 0])  # Direction along X-axis (horizontal)\n",
    "target_positions = start_point + np.linspace(0, 1, num=10)[:, np.newaxis] * direction_vector[np.newaxis, :]\n",
    "print(target_positions[0], target_positions[-1])\n",
    "print(p.getJointInfo(robot_id, eff_idx))\n",
    "\n",
    "time.sleep(1)\n",
    "for target in target_positions:\n",
    "  joint_angles = p.calculateInverseKinematics(robot_id,eff_idx,target)\n",
    "  control_to_desired_configuration(robot_id, joint_angles)\n",
    "  time.sleep(1 / 1000.)"
   ]
  },
  {
   "cell_type": "markdown",
   "metadata": {},
   "source": [
    "## Backward movement"
   ]
  },
  {
   "cell_type": "code",
   "execution_count": 14,
   "metadata": {},
   "outputs": [
    {
     "name": "stdout",
     "output_type": "stream",
     "text": [
      "[0.69310873 0.19145    0.25235053] [0.39310873 0.19145    0.25235053]\n",
      "(7, b'ee_fixed_joint', 4, -1, -1, 0, 0.0, 0.0, 0.0, -1.0, 0.0, 0.0, b'ee_link', (0.0, 0.0, 0.0), (0.0, 0.0823, 0.0), (0.0, 0.0, -0.7071067811848163, 0.7071067811882787), 6)\n"
     ]
    }
   ],
   "source": [
    "# Define the start point and direction of the line\n",
    "reset_to_balancing_pose(robot_id)\n",
    "start_point = p.getLinkState(robot_id, eff_idx)[0] #np.array([0.7105991188452455, 0.19145000000000006, 0.13497427907824033])  # [x, y, z] in 3D space\n",
    "direction_vector = np.array([-0.3, 0, 0])  # Direction along X-axis (horizontal)\n",
    "target_positions = start_point + np.linspace(0, 1, num=10)[:, np.newaxis] * direction_vector[np.newaxis, :]\n",
    "print(target_positions[0], target_positions[-1])\n",
    "print(p.getJointInfo(robot_id, eff_idx))\n",
    "\n",
    "time.sleep(1)\n",
    "for target in target_positions:\n",
    "  joint_angles = p.calculateInverseKinematics(robot_id,eff_idx,target)\n",
    "  control_to_desired_configuration(robot_id, joint_angles)\n",
    "  time.sleep(1 / 1000.)"
   ]
  },
  {
   "cell_type": "code",
   "execution_count": 15,
   "metadata": {},
   "outputs": [],
   "source": [
    "reset_to_balancing_pose(robot_id)\n",
    "start_point = p.getLinkState(robot_id, eff_idx)[0]\n",
    "left_point = start_point  - np.array([0.3, 0, 0])\n",
    "right_point = start_point + np.array([0.3, 0, 0])\n",
    "\n",
    "time.sleep(2)\n",
    "for i in range(10):\n",
    "  if i % 2 == 0:\n",
    "    target = left_point\n",
    "  else:\n",
    "    target = right_point\n",
    "  joint_angles = p.calculateInverseKinematics(robot_id,eff_idx,target)\n",
    "  control_to_desired_configuration(robot_id, joint_angles)\n",
    "  time.sleep(0.01)"
   ]
  },
  {
   "cell_type": "markdown",
   "metadata": {},
   "source": [
    "# Balancing the pendulum"
   ]
  },
  {
   "cell_type": "code",
   "execution_count": 9,
   "metadata": {},
   "outputs": [],
   "source": [
    "from tqdm import tqdm\n",
    "\n",
    "class EnvRealistic:\n",
    "  axis_vector = np.array([0.1, 0, 0])\n",
    "  action_space = \"Continuous [0, 1]\"\n",
    "  def __init__(self, TIME_HORIZON=1000, sleep=None,swing = False ):\n",
    "    self.TIME_HORIZON = TIME_HORIZON\n",
    "    self.sleep=sleep\n",
    "    self.swing= swing\n",
    "    self.reset()\n",
    "    \n",
    "\n",
    "  def rand_action(self):\n",
    "    return np.random.rand() * 2 - 1\n",
    "\n",
    "  def convert_3d_coords_to_line_position(self, world_pos):\n",
    "    return world_pos[0] - self.start_point[0]\n",
    "\n",
    "  def convert_3d_velo_to_line_velo(self, world_vel):\n",
    "    return np.dot(EnvRealistic.axis_vector, world_vel)\n",
    "\n",
    "  def get_state(self):\n",
    "    (world_pos, _, _, _, _, _, world_velo, _) = p.getLinkState(robot_id, eff_idx, computeLinkVelocity=True)\n",
    "    x = self.convert_3d_coords_to_line_position(np.array(world_pos))\n",
    "    x_dot = self.convert_3d_velo_to_line_velo(np.array(world_velo))\n",
    "    theta = p.getJointState(robot_id, wrist3_joint)[0] - self.initial_theta\n",
    "    theta_dot = p.getJointState(robot_id, wrist3_joint)[1]\n",
    "  \n",
    "    return (x, x_dot, theta, theta_dot)\n",
    "\n",
    "  def reset(self):\n",
    "    \"\"\" \n",
    "    Returns state\n",
    "    \"\"\"\n",
    "    self.timestep = 0\n",
    "    reset_to_balancing_pose(robot_id)\n",
    "    if self.swing :\n",
    "      reset_to_swing_pose(robot_id)\n",
    "    self.initial_theta = p.getJointState(robot_id, wrist3_joint)[0]\n",
    "    self.start_point = p.getLinkState(robot_id, eff_idx)[0]\n",
    "    self.left_point = self.start_point - 3 * EnvRealistic.axis_vector\n",
    "    self.right_point = self.start_point  + 3 * EnvRealistic.axis_vector\n",
    "    return (0, 0, 0, 0)\n",
    "  \n",
    "  def step(self, action):\n",
    "    \"\"\"\n",
    "    Returns tuple (state, dead, truncated)\n",
    "    \"\"\"\n",
    "    if action < -1 or action > 1:\n",
    "      raise Exception(\"Action not in range [-1, 1]\")\n",
    "    current_position = p.getLinkState(robot_id, eff_idx)[0]\n",
    "    target = self.start_point - action * EnvRealistic.axis_vector\n",
    "    \n",
    "      \n",
    "    joint_angles = p.calculateInverseKinematics(robot_id,eff_idx,target)\n",
    "    control_to_desired_configuration(robot_id, joint_angles, max_steps=100, sleep=self.sleep)\n",
    "    (x, x_dot, theta, theta_dot) = self.get_state()\n",
    "    self.timestep += 1\n",
    "    dead = False\n",
    "    truncated = False\n",
    "    #if np.abs(theta) > 0.25:\n",
    "      #print(theta, \" theta DEAD\")\n",
    "      #dead = True\n",
    "    if x + self.start_point[0] < self.left_point[0] or x + self.start_point[0] > self.right_point[0]:\n",
    "      print(x, \" x DEAD\")\n",
    "      dead = True\n",
    "    #if self.timestep == self.TIME_HORIZON:\n",
    "    #  truncated = True\n",
    " \n",
    "    return ((x, x_dot, theta, theta_dot), dead, truncated)\n",
    "\n",
    "\n",
    "def generate_sample_of_system_dynamics_realistic(env, nb_samples):\n",
    "  samples = []\n",
    "  s = env.reset()\n",
    "  for _ in tqdm(range(nb_samples)):\n",
    "    a = env.rand_action()\n",
    "    next_s, dead, trunc = env.step(a)\n",
    "    samples.append({\n",
    "      'x': s[0], \n",
    "      'x_dot': s[1], \n",
    "      'theta': s[2], \n",
    "      'theta_dot': s[3], \n",
    "      'u': a, # mapping inputs to {-1, 1} rather than {0, 1} is important, because otherwise the linear regression needs a non-zero constant to fit well\n",
    "      'evolution_x': next_s[0], \n",
    "      'evolution_x_dot': next_s[1], \n",
    "      'evolution_theta': next_s[2],\n",
    "      'evolution_theta_dot': next_s[3]})\n",
    "    if dead or trunc:\n",
    "      s = env.reset()\n",
    "    else:\n",
    "      s = next_s\n",
    "  return pd.DataFrame(samples)"
   ]
  },
  {
   "cell_type": "code",
   "execution_count": 18,
   "metadata": {},
   "outputs": [
    {
     "name": "stderr",
     "output_type": "stream",
     "text": [
      "  0%|          | 1/1000 [00:00<07:39,  2.17it/s]"
     ]
    },
    {
     "name": "stdout",
     "output_type": "stream",
     "text": [
      "z = 0.2525515936114975\n",
      "-0.0005902245770247339\n",
      "-0.006661330494119433\n"
     ]
    },
    {
     "name": "stderr",
     "output_type": "stream",
     "text": [
      "  0%|          | 2/1000 [00:00<08:24,  1.98it/s]"
     ]
    },
    {
     "name": "stdout",
     "output_type": "stream",
     "text": [
      "z = 0.2529515648742796\n",
      "-0.001789336756935822\n",
      "-0.017548920174818128\n"
     ]
    },
    {
     "name": "stderr",
     "output_type": "stream",
     "text": [
      "  0%|          | 3/1000 [00:01<08:55,  1.86it/s]"
     ]
    },
    {
     "name": "stdout",
     "output_type": "stream",
     "text": [
      "z = 0.25314113937451377\n",
      "-0.0024472412766793905\n",
      "-0.01805277948848316\n"
     ]
    },
    {
     "name": "stderr",
     "output_type": "stream",
     "text": [
      "  0%|          | 4/1000 [00:02<08:29,  1.96it/s]"
     ]
    },
    {
     "name": "stdout",
     "output_type": "stream",
     "text": [
      "z = 0.2539667261640223\n",
      "-0.004919076535026989\n",
      "-0.03925112158679933\n"
     ]
    },
    {
     "name": "stderr",
     "output_type": "stream",
     "text": [
      "  0%|          | 5/1000 [00:02<08:04,  2.06it/s]"
     ]
    },
    {
     "name": "stdout",
     "output_type": "stream",
     "text": [
      "z = 0.2530606763717718\n",
      "-0.0026066830876080305\n",
      "0.0057789648024630935\n"
     ]
    },
    {
     "name": "stderr",
     "output_type": "stream",
     "text": [
      "  1%|          | 6/1000 [00:02<07:49,  2.12it/s]"
     ]
    },
    {
     "name": "stdout",
     "output_type": "stream",
     "text": [
      "z = 0.2538497117243103\n",
      "-0.004963576558907112\n",
      "-0.01795442870978803\n"
     ]
    },
    {
     "name": "stderr",
     "output_type": "stream",
     "text": [
      "  1%|          | 7/1000 [00:03<08:03,  2.05it/s]"
     ]
    },
    {
     "name": "stdout",
     "output_type": "stream",
     "text": [
      "z = 0.25459095456302494\n",
      "-0.00738984546587651\n",
      "-0.03072062409398968\n"
     ]
    },
    {
     "name": "stderr",
     "output_type": "stream",
     "text": [
      "  1%|          | 8/1000 [00:04<08:23,  1.97it/s]"
     ]
    },
    {
     "name": "stdout",
     "output_type": "stream",
     "text": [
      "z = 0.25570952005284125\n",
      "-0.011043985558955693\n",
      "-0.0528252018737686\n"
     ]
    },
    {
     "name": "stderr",
     "output_type": "stream",
     "text": [
      "  1%|          | 9/1000 [00:04<08:04,  2.05it/s]"
     ]
    },
    {
     "name": "stdout",
     "output_type": "stream",
     "text": [
      "z = 0.255188346646442\n",
      "-0.010294795456976424\n",
      "-0.01458929796861086\n"
     ]
    },
    {
     "name": "stderr",
     "output_type": "stream",
     "text": [
      "  1%|          | 10/1000 [00:04<07:50,  2.10it/s]"
     ]
    },
    {
     "name": "stdout",
     "output_type": "stream",
     "text": [
      "z = 0.25405210825233476\n",
      "-0.006960240266785878\n",
      "0.04081287639123665\n"
     ]
    },
    {
     "name": "stderr",
     "output_type": "stream",
     "text": [
      "  1%|          | 11/1000 [00:05<07:40,  2.15it/s]"
     ]
    },
    {
     "name": "stdout",
     "output_type": "stream",
     "text": [
      "z = 0.2545132807037881\n",
      "-0.008363232588185832\n",
      "0.025915819009588725\n"
     ]
    },
    {
     "name": "stderr",
     "output_type": "stream",
     "text": [
      "  1%|          | 12/1000 [00:05<07:34,  2.17it/s]"
     ]
    },
    {
     "name": "stdout",
     "output_type": "stream",
     "text": [
      "z = 0.25567859239692126\n",
      "-0.012179129390633037\n",
      "-0.005134547588599325\n"
     ]
    },
    {
     "name": "stderr",
     "output_type": "stream",
     "text": [
      "  1%|▏         | 13/1000 [00:06<07:29,  2.20it/s]"
     ]
    },
    {
     "name": "stdout",
     "output_type": "stream",
     "text": [
      "z = 0.2562810776921847\n",
      "-0.014684694318109037\n",
      "-0.007045887072031798\n"
     ]
    },
    {
     "name": "stderr",
     "output_type": "stream",
     "text": [
      "  1%|▏         | 14/1000 [00:06<07:03,  2.33it/s]"
     ]
    },
    {
     "name": "stdout",
     "output_type": "stream",
     "text": [
      "z = 0.25533444843664854\n",
      "-0.012321296790420377\n",
      "0.049187642975439316\n"
     ]
    },
    {
     "name": "stderr",
     "output_type": "stream",
     "text": [
      "  2%|▏         | 15/1000 [00:07<07:09,  2.29it/s]"
     ]
    },
    {
     "name": "stdout",
     "output_type": "stream",
     "text": [
      "z = 0.25471167368015785\n",
      "-0.010224425908467505\n",
      "0.0841902571164847\n"
     ]
    },
    {
     "name": "stderr",
     "output_type": "stream",
     "text": [
      "  2%|▏         | 16/1000 [00:07<07:35,  2.16it/s]"
     ]
    },
    {
     "name": "stdout",
     "output_type": "stream",
     "text": [
      "z = 0.25500126415895386\n",
      "-0.011143292129972782\n",
      "0.07678825234789832\n"
     ]
    },
    {
     "name": "stderr",
     "output_type": "stream",
     "text": [
      "  2%|▏         | 17/1000 [00:08<07:28,  2.19it/s]"
     ]
    },
    {
     "name": "stdout",
     "output_type": "stream",
     "text": [
      "z = 0.253950073765828\n",
      "-0.007423865318599843\n",
      "0.1330016384228433\n"
     ]
    },
    {
     "name": "stderr",
     "output_type": "stream",
     "text": [
      "  2%|▏         | 18/1000 [00:08<07:33,  2.16it/s]"
     ]
    },
    {
     "name": "stdout",
     "output_type": "stream",
     "text": [
      "z = 0.2539820228699792\n",
      "-0.007408661507478986\n",
      "0.13151107642952736\n"
     ]
    },
    {
     "name": "stderr",
     "output_type": "stream",
     "text": [
      "  2%|▏         | 19/1000 [00:09<09:03,  1.81it/s]"
     ]
    },
    {
     "name": "stdout",
     "output_type": "stream",
     "text": [
      "z = 0.2542424829139654\n",
      "-0.008326695298265352\n",
      "0.12633480157507448\n"
     ]
    },
    {
     "name": "stderr",
     "output_type": "stream",
     "text": [
      "  2%|▏         | 20/1000 [00:09<08:59,  1.82it/s]"
     ]
    },
    {
     "name": "stdout",
     "output_type": "stream",
     "text": [
      "z = 0.2544077509861228\n",
      "-0.009007050208859835\n",
      "0.12975765283847923\n"
     ]
    },
    {
     "name": "stderr",
     "output_type": "stream",
     "text": [
      "  2%|▏         | 21/1000 [00:10<08:28,  1.93it/s]"
     ]
    },
    {
     "name": "stdout",
     "output_type": "stream",
     "text": [
      "z = 0.25514823522183383\n",
      "-0.011739570217198292\n",
      "0.1121459373146741\n"
     ]
    },
    {
     "name": "stderr",
     "output_type": "stream",
     "text": [
      "  2%|▏         | 22/1000 [00:10<08:09,  2.00it/s]"
     ]
    },
    {
     "name": "stdout",
     "output_type": "stream",
     "text": [
      "z = 0.25609867222128685\n",
      "-0.015428640577943686\n",
      "0.09444579572770656\n"
     ]
    },
    {
     "name": "stderr",
     "output_type": "stream",
     "text": [
      "  2%|▏         | 23/1000 [00:11<07:54,  2.06it/s]"
     ]
    },
    {
     "name": "stdout",
     "output_type": "stream",
     "text": [
      "z = 0.2566096324514261\n",
      "-0.01801292627417206\n",
      "0.09796118470750798\n"
     ]
    },
    {
     "name": "stderr",
     "output_type": "stream",
     "text": [
      "  2%|▏         | 24/1000 [00:11<07:43,  2.10it/s]"
     ]
    },
    {
     "name": "stdout",
     "output_type": "stream",
     "text": [
      "z = 0.255542495953569\n",
      "-0.015132035037146219\n",
      "0.16604859035316533\n"
     ]
    },
    {
     "name": "stderr",
     "output_type": "stream",
     "text": [
      "  2%|▎         | 25/1000 [00:12<07:39,  2.12it/s]"
     ]
    },
    {
     "name": "stdout",
     "output_type": "stream",
     "text": [
      "z = 0.25541744347926343\n",
      "-0.014834416051198063\n",
      "0.1823441921338867\n"
     ]
    },
    {
     "name": "stderr",
     "output_type": "stream",
     "text": [
      "  3%|▎         | 26/1000 [00:12<07:58,  2.04it/s]"
     ]
    },
    {
     "name": "stdout",
     "output_type": "stream",
     "text": [
      "z = 0.2555665429630691\n",
      "-0.015571396789339942\n",
      "0.1860682093778826\n"
     ]
    },
    {
     "name": "stderr",
     "output_type": "stream",
     "text": [
      "  3%|▎         | 27/1000 [00:13<07:45,  2.09it/s]"
     ]
    },
    {
     "name": "stdout",
     "output_type": "stream",
     "text": [
      "z = 0.25475740090849985\n",
      "-0.012664105684991878\n",
      "0.2360833775295093\n"
     ]
    },
    {
     "name": "stderr",
     "output_type": "stream",
     "text": [
      "  3%|▎         | 28/1000 [00:13<07:35,  2.13it/s]"
     ]
    },
    {
     "name": "stdout",
     "output_type": "stream",
     "text": [
      "z = 0.25365615278648834\n",
      "-0.008012580227877097\n",
      "0.29508953188417053\n"
     ]
    },
    {
     "name": "stderr",
     "output_type": "stream",
     "text": [
      "  3%|▎         | 29/1000 [00:13<07:36,  2.13it/s]"
     ]
    },
    {
     "name": "stdout",
     "output_type": "stream",
     "text": [
      "z = 0.25373315157876936\n",
      "-0.008374465773878015\n",
      "0.2839459097919069\n"
     ]
    },
    {
     "name": "stderr",
     "output_type": "stream",
     "text": [
      "  3%|▎         | 30/1000 [00:14<09:27,  1.71it/s]"
     ]
    },
    {
     "name": "stdout",
     "output_type": "stream",
     "text": [
      "z = 0.2536102199011342\n",
      "-0.007982472791357442\n",
      "0.2937585555340875\n"
     ]
    },
    {
     "name": "stderr",
     "output_type": "stream",
     "text": [
      "  3%|▎         | 31/1000 [00:15<09:25,  1.71it/s]"
     ]
    },
    {
     "name": "stdout",
     "output_type": "stream",
     "text": [
      "z = 0.2529534655152899\n",
      "-0.0053659332051696484\n",
      "0.3312653251772403\n"
     ]
    },
    {
     "name": "stderr",
     "output_type": "stream",
     "text": [
      "  3%|▎         | 32/1000 [00:16<11:02,  1.46it/s]"
     ]
    },
    {
     "name": "stdout",
     "output_type": "stream",
     "text": [
      "z = 0.25271259935834217\n",
      "-0.004501123465421419\n",
      "0.34091284033119607\n"
     ]
    },
    {
     "name": "stderr",
     "output_type": "stream",
     "text": [
      "  3%|▎         | 33/1000 [00:17<11:20,  1.42it/s]"
     ]
    },
    {
     "name": "stdout",
     "output_type": "stream",
     "text": [
      "z = 0.25236007671288974\n",
      "-0.003195438040910603\n",
      "0.3587347565699993\n"
     ]
    },
    {
     "name": "stderr",
     "output_type": "stream",
     "text": [
      "  3%|▎         | 34/1000 [00:17<11:15,  1.43it/s]"
     ]
    },
    {
     "name": "stdout",
     "output_type": "stream",
     "text": [
      "z = 0.2529731807787894\n",
      "-0.005849646389683327\n",
      "0.3303611515220317\n"
     ]
    },
    {
     "name": "stderr",
     "output_type": "stream",
     "text": [
      "  4%|▎         | 35/1000 [00:18<11:49,  1.36it/s]"
     ]
    },
    {
     "name": "stdout",
     "output_type": "stream",
     "text": [
      "z = 0.2526463511704272\n",
      "-0.004794377969208563\n",
      "0.3616094753765874\n"
     ]
    },
    {
     "name": "stderr",
     "output_type": "stream",
     "text": [
      "  4%|▎         | 36/1000 [00:19<11:36,  1.38it/s]"
     ]
    },
    {
     "name": "stdout",
     "output_type": "stream",
     "text": [
      "z = 0.25297668654068267\n",
      "-0.006308001733937751\n",
      "0.3539808380639198\n"
     ]
    },
    {
     "name": "stderr",
     "output_type": "stream",
     "text": [
      "  4%|▎         | 37/1000 [00:20<12:05,  1.33it/s]"
     ]
    },
    {
     "name": "stdout",
     "output_type": "stream",
     "text": [
      "z = 0.25203526104017354\n",
      "-0.0025428718322833\n",
      "0.4174270913128809\n"
     ]
    },
    {
     "name": "stderr",
     "output_type": "stream",
     "text": [
      "  4%|▍         | 38/1000 [00:20<11:04,  1.45it/s]"
     ]
    },
    {
     "name": "stdout",
     "output_type": "stream",
     "text": [
      "z = 0.25140123953845217\n",
      "0.0001657251416271599\n",
      "0.4514882344973908\n"
     ]
    },
    {
     "name": "stderr",
     "output_type": "stream",
     "text": [
      "  4%|▍         | 39/1000 [00:21<10:24,  1.54it/s]"
     ]
    },
    {
     "name": "stdout",
     "output_type": "stream",
     "text": [
      "z = 0.25112728372732646\n",
      "0.0011288371840649791\n",
      "0.4596577263071963\n"
     ]
    },
    {
     "name": "stderr",
     "output_type": "stream",
     "text": [
      "  4%|▍         | 40/1000 [00:21<09:23,  1.70it/s]"
     ]
    },
    {
     "name": "stdout",
     "output_type": "stream",
     "text": [
      "z = 0.25113296318260186\n",
      "0.0008468438463615779\n",
      "0.4554874153347943\n"
     ]
    },
    {
     "name": "stderr",
     "output_type": "stream",
     "text": [
      "  4%|▍         | 41/1000 [00:22<08:47,  1.82it/s]"
     ]
    },
    {
     "name": "stdout",
     "output_type": "stream",
     "text": [
      "z = 0.2504939371764225\n",
      "0.0036087805843290077\n",
      "0.49345911785363844\n"
     ]
    },
    {
     "name": "stderr",
     "output_type": "stream",
     "text": [
      "  4%|▍         | 42/1000 [00:22<09:50,  1.62it/s]"
     ]
    },
    {
     "name": "stdout",
     "output_type": "stream",
     "text": [
      "z = 0.24949443742837354\n",
      "0.008241512763134895\n",
      "0.546891557561099\n"
     ]
    },
    {
     "name": "stderr",
     "output_type": "stream",
     "text": [
      "  4%|▍         | 43/1000 [00:23<09:32,  1.67it/s]"
     ]
    },
    {
     "name": "stdout",
     "output_type": "stream",
     "text": [
      "z = 0.24989222490396074\n",
      "0.005718609881731895\n",
      "0.5067707051631578\n"
     ]
    },
    {
     "name": "stderr",
     "output_type": "stream",
     "text": [
      "  4%|▍         | 44/1000 [00:23<08:53,  1.79it/s]"
     ]
    },
    {
     "name": "stdout",
     "output_type": "stream",
     "text": [
      "z = 0.2506557752862691\n",
      "0.00242063646519175\n",
      "0.4769565753486898\n"
     ]
    },
    {
     "name": "stderr",
     "output_type": "stream",
     "text": [
      "  4%|▍         | 45/1000 [00:24<08:25,  1.89it/s]"
     ]
    },
    {
     "name": "stdout",
     "output_type": "stream",
     "text": [
      "z = 0.25181494188520365\n",
      "-0.0022199626902260627\n",
      "0.44195203437726815\n"
     ]
    },
    {
     "name": "stderr",
     "output_type": "stream",
     "text": [
      "  5%|▍         | 46/1000 [00:24<08:02,  1.98it/s]"
     ]
    },
    {
     "name": "stdout",
     "output_type": "stream",
     "text": [
      "z = 0.253042644648582\n",
      "-0.007148131698957894\n",
      "0.41492341065743116\n"
     ]
    },
    {
     "name": "stderr",
     "output_type": "stream",
     "text": [
      "  5%|▍         | 47/1000 [00:25<07:47,  2.04it/s]"
     ]
    },
    {
     "name": "stdout",
     "output_type": "stream",
     "text": [
      "z = 0.25303355242569014\n",
      "-0.007385339149811765\n",
      "0.4497298287758502\n"
     ]
    },
    {
     "name": "stderr",
     "output_type": "stream",
     "text": [
      "  5%|▍         | 48/1000 [00:25<07:35,  2.09it/s]"
     ]
    },
    {
     "name": "stdout",
     "output_type": "stream",
     "text": [
      "z = 0.25238876945041855\n",
      "-0.0042572450442142085\n",
      "0.5100109673057276\n"
     ]
    },
    {
     "name": "stderr",
     "output_type": "stream",
     "text": [
      "  5%|▍         | 49/1000 [00:26<07:27,  2.12it/s]"
     ]
    },
    {
     "name": "stdout",
     "output_type": "stream",
     "text": [
      "z = 0.25182501009773417\n",
      "-0.0009948778486505994\n",
      "0.55328392783663\n"
     ]
    },
    {
     "name": "stderr",
     "output_type": "stream",
     "text": [
      "  5%|▌         | 50/1000 [00:26<07:20,  2.16it/s]"
     ]
    },
    {
     "name": "stdout",
     "output_type": "stream",
     "text": [
      "z = 0.25124622104806116\n",
      "0.0024002534789583363\n",
      "0.587453707247143\n"
     ]
    },
    {
     "name": "stderr",
     "output_type": "stream",
     "text": [
      "  5%|▌         | 51/1000 [00:27<07:19,  2.16it/s]"
     ]
    },
    {
     "name": "stdout",
     "output_type": "stream",
     "text": [
      "z = 0.2511235870444843\n",
      "0.0028069588492652953\n",
      "0.5791743848290184\n"
     ]
    },
    {
     "name": "stderr",
     "output_type": "stream",
     "text": [
      "  5%|▌         | 52/1000 [00:28<10:35,  1.49it/s]"
     ]
    },
    {
     "name": "stdout",
     "output_type": "stream",
     "text": [
      "z = 0.2517924816007204\n",
      "-0.000688997606002717\n",
      "0.5325100376859143\n"
     ]
    },
    {
     "name": "stderr",
     "output_type": "stream",
     "text": [
      "  5%|▌         | 53/1000 [00:28<10:09,  1.55it/s]"
     ]
    },
    {
     "name": "stdout",
     "output_type": "stream",
     "text": [
      "z = 0.2522816114114744\n",
      "-0.0026955513007911325\n",
      "0.520220789554574\n"
     ]
    },
    {
     "name": "stderr",
     "output_type": "stream",
     "text": [
      "  5%|▌         | 54/1000 [00:29<10:38,  1.48it/s]"
     ]
    },
    {
     "name": "stdout",
     "output_type": "stream",
     "text": [
      "z = 0.253055630921778\n",
      "-0.0060647701537063226\n",
      "0.49322200372764546\n"
     ]
    },
    {
     "name": "stderr",
     "output_type": "stream",
     "text": [
      "  6%|▌         | 55/1000 [00:30<10:32,  1.49it/s]"
     ]
    },
    {
     "name": "stdout",
     "output_type": "stream",
     "text": [
      "z = 0.253318013050591\n",
      "-0.007014090101785331\n",
      "0.5010126240371235\n"
     ]
    },
    {
     "name": "stderr",
     "output_type": "stream",
     "text": [
      "  6%|▌         | 56/1000 [00:30<09:29,  1.66it/s]"
     ]
    },
    {
     "name": "stdout",
     "output_type": "stream",
     "text": [
      "z = 0.253141921402497\n",
      "-0.0056751835365640435\n",
      "0.5289101118138421\n"
     ]
    },
    {
     "name": "stderr",
     "output_type": "stream",
     "text": [
      "  6%|▌         | 57/1000 [00:31<08:44,  1.80it/s]"
     ]
    },
    {
     "name": "stdout",
     "output_type": "stream",
     "text": [
      "z = 0.2538118434332475\n",
      "-0.008833583202314754\n",
      "0.4939135854211195\n"
     ]
    },
    {
     "name": "stderr",
     "output_type": "stream",
     "text": [
      "  6%|▌         | 58/1000 [00:31<07:53,  1.99it/s]"
     ]
    },
    {
     "name": "stdout",
     "output_type": "stream",
     "text": [
      "z = 0.25360170774524005\n",
      "-0.00724565989284387\n",
      "0.526721411688098\n"
     ]
    },
    {
     "name": "stderr",
     "output_type": "stream",
     "text": [
      "  6%|▌         | 59/1000 [00:32<07:57,  1.97it/s]"
     ]
    },
    {
     "name": "stdout",
     "output_type": "stream",
     "text": [
      "z = 0.25311007748948666\n",
      "-0.003683449079733614\n",
      "0.5691250894865403\n"
     ]
    },
    {
     "name": "stderr",
     "output_type": "stream",
     "text": [
      "  6%|▌         | 60/1000 [00:32<07:38,  2.05it/s]"
     ]
    },
    {
     "name": "stdout",
     "output_type": "stream",
     "text": [
      "z = 0.253369261461399\n",
      "-0.0051331062317897524\n",
      "0.5401378117817276\n"
     ]
    },
    {
     "name": "stderr",
     "output_type": "stream",
     "text": [
      "  6%|▌         | 61/1000 [00:32<07:06,  2.20it/s]"
     ]
    },
    {
     "name": "stdout",
     "output_type": "stream",
     "text": [
      "z = 0.2533209351046959\n",
      "-0.004356782051715413\n",
      "0.5477548098393009\n"
     ]
    },
    {
     "name": "stderr",
     "output_type": "stream",
     "text": [
      "  6%|▌         | 62/1000 [00:33<07:04,  2.21it/s]"
     ]
    },
    {
     "name": "stdout",
     "output_type": "stream",
     "text": [
      "z = 0.2534070025553696\n",
      "-0.004548481127413351\n",
      "0.5388211427727969\n"
     ]
    },
    {
     "name": "stderr",
     "output_type": "stream",
     "text": [
      "  6%|▋         | 63/1000 [00:33<07:03,  2.21it/s]"
     ]
    },
    {
     "name": "stdout",
     "output_type": "stream",
     "text": [
      "z = 0.2539255279227369\n",
      "-0.007252649218725038\n",
      "0.5028886444480426\n"
     ]
    },
    {
     "name": "stderr",
     "output_type": "stream",
     "text": [
      "  6%|▋         | 64/1000 [00:34<07:01,  2.22it/s]"
     ]
    },
    {
     "name": "stdout",
     "output_type": "stream",
     "text": [
      "z = 0.25363770728562274\n",
      "-0.004845807688612758\n",
      "0.5377452214973477\n"
     ]
    },
    {
     "name": "stderr",
     "output_type": "stream",
     "text": [
      "  6%|▋         | 65/1000 [00:34<07:28,  2.08it/s]"
     ]
    },
    {
     "name": "stdout",
     "output_type": "stream",
     "text": [
      "z = 0.2540689765997849\n",
      "-0.007192954621973557\n",
      "0.503114637196317\n"
     ]
    },
    {
     "name": "stderr",
     "output_type": "stream",
     "text": [
      "  7%|▋         | 66/1000 [00:35<07:22,  2.11it/s]"
     ]
    },
    {
     "name": "stdout",
     "output_type": "stream",
     "text": [
      "z = 0.2538958535458137\n",
      "-0.005412002474925459\n",
      "0.5279746758046089\n"
     ]
    },
    {
     "name": "stderr",
     "output_type": "stream",
     "text": [
      "  7%|▋         | 67/1000 [00:35<07:14,  2.15it/s]"
     ]
    },
    {
     "name": "stdout",
     "output_type": "stream",
     "text": [
      "z = 0.25446145623236427\n",
      "-0.008637640244224976\n",
      "0.4838223518058939\n"
     ]
    },
    {
     "name": "stderr",
     "output_type": "stream",
     "text": [
      "  7%|▋         | 68/1000 [00:36<07:07,  2.18it/s]"
     ]
    },
    {
     "name": "stdout",
     "output_type": "stream",
     "text": [
      "z = 0.25507886736699675\n",
      "-0.011819175069996524\n",
      "0.4543001925375297\n"
     ]
    },
    {
     "name": "stderr",
     "output_type": "stream",
     "text": [
      "  7%|▋         | 69/1000 [00:36<07:03,  2.20it/s]"
     ]
    },
    {
     "name": "stdout",
     "output_type": "stream",
     "text": [
      "z = 0.25587093220089707\n",
      "-0.016058143011320913\n",
      "0.41747998222006444\n"
     ]
    },
    {
     "name": "stderr",
     "output_type": "stream",
     "text": [
      "  7%|▋         | 70/1000 [00:36<07:01,  2.21it/s]"
     ]
    },
    {
     "name": "stdout",
     "output_type": "stream",
     "text": [
      "z = 0.2557377483612034\n",
      "-0.014892775974397199\n",
      "0.4509059996545567\n"
     ]
    },
    {
     "name": "stderr",
     "output_type": "stream",
     "text": [
      "  7%|▋         | 71/1000 [00:37<07:00,  2.21it/s]"
     ]
    },
    {
     "name": "stdout",
     "output_type": "stream",
     "text": [
      "z = 0.25537120985137685\n",
      "-0.011453672710575513\n",
      "0.4934053932709518\n"
     ]
    },
    {
     "name": "stderr",
     "output_type": "stream",
     "text": [
      "  7%|▋         | 72/1000 [00:37<06:57,  2.22it/s]"
     ]
    },
    {
     "name": "stdout",
     "output_type": "stream",
     "text": [
      "z = 0.25543780195095395\n",
      "-0.011742211560634708\n",
      "0.4763059044639116\n"
     ]
    },
    {
     "name": "stderr",
     "output_type": "stream",
     "text": [
      "  7%|▋         | 73/1000 [00:38<06:56,  2.23it/s]"
     ]
    },
    {
     "name": "stdout",
     "output_type": "stream",
     "text": [
      "z = 0.25561767449306366\n",
      "-0.012823040118277174\n",
      "0.4547511666232399\n"
     ]
    },
    {
     "name": "stderr",
     "output_type": "stream",
     "text": [
      "  7%|▋         | 74/1000 [00:38<07:24,  2.08it/s]"
     ]
    },
    {
     "name": "stdout",
     "output_type": "stream",
     "text": [
      "z = 0.2561045222335522\n",
      "-0.016008423722977505\n",
      "0.4139627101022123\n"
     ]
    },
    {
     "name": "stderr",
     "output_type": "stream",
     "text": [
      "  8%|▊         | 75/1000 [00:39<08:15,  1.87it/s]"
     ]
    },
    {
     "name": "stdout",
     "output_type": "stream",
     "text": [
      "z = 0.25681724303036046\n",
      "-0.02051606333927858\n",
      "0.3698943690052885\n"
     ]
    },
    {
     "name": "stderr",
     "output_type": "stream",
     "text": [
      "  8%|▊         | 76/1000 [00:39<07:56,  1.94it/s]"
     ]
    },
    {
     "name": "stdout",
     "output_type": "stream",
     "text": [
      "z = 0.2571066396513758\n",
      "-0.022447582107300024\n",
      "0.3650776506081057\n"
     ]
    },
    {
     "name": "stderr",
     "output_type": "stream",
     "text": [
      "  8%|▊         | 77/1000 [00:40<07:35,  2.03it/s]"
     ]
    },
    {
     "name": "stdout",
     "output_type": "stream",
     "text": [
      "z = 0.2570677238939968\n",
      "-0.022057523771250698\n",
      "0.38025295305694895\n"
     ]
    },
    {
     "name": "stderr",
     "output_type": "stream",
     "text": [
      "  8%|▊         | 78/1000 [00:40<07:22,  2.08it/s]"
     ]
    },
    {
     "name": "stdout",
     "output_type": "stream",
     "text": [
      "z = 0.25743970792494686\n",
      "-0.02479880970988846\n",
      "0.3491013327772252\n"
     ]
    },
    {
     "name": "stderr",
     "output_type": "stream",
     "text": [
      "  8%|▊         | 79/1000 [00:41<07:13,  2.13it/s]"
     ]
    },
    {
     "name": "stdout",
     "output_type": "stream",
     "text": [
      "z = 0.25773143674395227\n",
      "-0.027099330656627618\n",
      "0.3306184015530226\n"
     ]
    },
    {
     "name": "stderr",
     "output_type": "stream",
     "text": [
      "  8%|▊         | 80/1000 [00:41<06:46,  2.26it/s]"
     ]
    },
    {
     "name": "stdout",
     "output_type": "stream",
     "text": [
      "z = 0.25771763745709264\n",
      "-0.027208898478981114\n",
      "0.33723246783455635\n"
     ]
    },
    {
     "name": "stderr",
     "output_type": "stream",
     "text": [
      "  8%|▊         | 81/1000 [00:42<06:45,  2.27it/s]"
     ]
    },
    {
     "name": "stdout",
     "output_type": "stream",
     "text": [
      "z = 0.2580074840349459\n",
      "-0.02976355776134365\n",
      "0.30856026344006504\n"
     ]
    },
    {
     "name": "stderr",
     "output_type": "stream",
     "text": [
      "  8%|▊         | 82/1000 [00:42<06:44,  2.27it/s]"
     ]
    },
    {
     "name": "stdout",
     "output_type": "stream",
     "text": [
      "z = 0.2577936681649974\n",
      "-0.028311948955497712\n",
      "0.3325240348321008\n"
     ]
    },
    {
     "name": "stderr",
     "output_type": "stream",
     "text": [
      "  8%|▊         | 83/1000 [00:43<06:46,  2.26it/s]"
     ]
    },
    {
     "name": "stdout",
     "output_type": "stream",
     "text": [
      "z = 0.2579232096631456\n",
      "-0.02981774080463684\n",
      "0.30953741781891775\n"
     ]
    },
    {
     "name": "stderr",
     "output_type": "stream",
     "text": [
      "  8%|▊         | 84/1000 [00:43<06:45,  2.26it/s]"
     ]
    },
    {
     "name": "stdout",
     "output_type": "stream",
     "text": [
      "z = 0.25764299168418214\n",
      "-0.02755048527738968\n",
      "0.33605002725287836\n"
     ]
    },
    {
     "name": "stderr",
     "output_type": "stream",
     "text": [
      "  8%|▊         | 85/1000 [00:43<06:45,  2.25it/s]"
     ]
    },
    {
     "name": "stdout",
     "output_type": "stream",
     "text": [
      "z = 0.2574591042676482\n",
      "-0.02628131394121025\n",
      "0.337859367396682\n"
     ]
    },
    {
     "name": "stderr",
     "output_type": "stream",
     "text": [
      "  9%|▊         | 86/1000 [00:44<06:50,  2.23it/s]"
     ]
    },
    {
     "name": "stdout",
     "output_type": "stream",
     "text": [
      "z = 0.2571120579149644\n",
      "-0.02325980123702298\n",
      "0.3581766013190574\n"
     ]
    },
    {
     "name": "stderr",
     "output_type": "stream",
     "text": [
      "  9%|▊         | 87/1000 [00:44<07:33,  2.01it/s]"
     ]
    },
    {
     "name": "stdout",
     "output_type": "stream",
     "text": [
      "z = 0.2568934134274606\n",
      "-0.022297483601209644\n",
      "0.3472644953107471\n"
     ]
    },
    {
     "name": "stderr",
     "output_type": "stream",
     "text": [
      "  9%|▉         | 88/1000 [00:45<07:59,  1.90it/s]"
     ]
    },
    {
     "name": "stdout",
     "output_type": "stream",
     "text": [
      "z = 0.2569857582620296\n",
      "-0.024489328830019086\n",
      "0.306660833126564\n"
     ]
    },
    {
     "name": "stderr",
     "output_type": "stream",
     "text": [
      "  9%|▉         | 89/1000 [00:46<08:48,  1.72it/s]"
     ]
    },
    {
     "name": "stdout",
     "output_type": "stream",
     "text": [
      "z = 0.2567134531464334\n",
      "-0.022486448104674484\n",
      "0.3287027110324011\n"
     ]
    },
    {
     "name": "stderr",
     "output_type": "stream",
     "text": [
      "  9%|▉         | 90/1000 [00:46<08:38,  1.76it/s]"
     ]
    },
    {
     "name": "stdout",
     "output_type": "stream",
     "text": [
      "z = 0.2562495069079912\n",
      "-0.01807028573945746\n",
      "0.3682926670959956\n"
     ]
    },
    {
     "name": "stderr",
     "output_type": "stream",
     "text": [
      "  9%|▉         | 91/1000 [00:47<08:04,  1.88it/s]"
     ]
    },
    {
     "name": "stdout",
     "output_type": "stream",
     "text": [
      "z = 0.25584961685434354\n",
      "-0.015543880919318909\n",
      "0.37344393916575647\n"
     ]
    },
    {
     "name": "stderr",
     "output_type": "stream",
     "text": [
      "  9%|▉         | 92/1000 [00:47<08:29,  1.78it/s]"
     ]
    },
    {
     "name": "stdout",
     "output_type": "stream",
     "text": [
      "z = 0.2553415885453597\n",
      "-0.01157789672960119\n",
      "0.3959120724077087\n"
     ]
    },
    {
     "name": "stderr",
     "output_type": "stream",
     "text": [
      "  9%|▉         | 93/1000 [00:48<08:06,  1.87it/s]"
     ]
    },
    {
     "name": "stdout",
     "output_type": "stream",
     "text": [
      "z = 0.25494079892714844\n",
      "-0.010508619699110544\n",
      "0.37989113443466943\n"
     ]
    },
    {
     "name": "stderr",
     "output_type": "stream",
     "text": [
      "  9%|▉         | 94/1000 [00:48<08:07,  1.86it/s]"
     ]
    },
    {
     "name": "stdout",
     "output_type": "stream",
     "text": [
      "z = 0.25489804920574277\n",
      "-0.012785112111044161\n",
      "0.3356373015912916\n"
     ]
    },
    {
     "name": "stderr",
     "output_type": "stream",
     "text": [
      " 10%|▉         | 95/1000 [00:49<07:45,  1.94it/s]"
     ]
    },
    {
     "name": "stdout",
     "output_type": "stream",
     "text": [
      "z = 0.25456184180561636\n",
      "-0.009850051499605161\n",
      "0.3687203430366929\n"
     ]
    },
    {
     "name": "stderr",
     "output_type": "stream",
     "text": [
      " 10%|▉         | 96/1000 [00:49<07:26,  2.02it/s]"
     ]
    },
    {
     "name": "stdout",
     "output_type": "stream",
     "text": [
      "z = 0.2543032687582923\n",
      "-0.009060593672953421\n",
      "0.36455502292744135\n"
     ]
    },
    {
     "name": "stderr",
     "output_type": "stream",
     "text": [
      " 10%|▉         | 97/1000 [00:50<07:13,  2.08it/s]"
     ]
    },
    {
     "name": "stdout",
     "output_type": "stream",
     "text": [
      "z = 0.25391085883886366\n",
      "-0.006116363068055852\n",
      "0.38822830483023707\n"
     ]
    },
    {
     "name": "stderr",
     "output_type": "stream",
     "text": [
      " 10%|▉         | 98/1000 [00:50<07:04,  2.12it/s]"
     ]
    },
    {
     "name": "stdout",
     "output_type": "stream",
     "text": [
      "z = 0.2533377777702527\n",
      "-0.0002856250458742604\n",
      "0.43977955613424746\n"
     ]
    },
    {
     "name": "stderr",
     "output_type": "stream",
     "text": [
      " 10%|▉         | 99/1000 [00:51<07:05,  2.12it/s]"
     ]
    },
    {
     "name": "stdout",
     "output_type": "stream",
     "text": [
      "z = 0.2529516260825308\n",
      "-0.001371288399399373\n",
      "0.4001024176244712\n"
     ]
    },
    {
     "name": "stderr",
     "output_type": "stream",
     "text": [
      " 10%|█         | 100/1000 [00:51<07:23,  2.03it/s]"
     ]
    },
    {
     "name": "stdout",
     "output_type": "stream",
     "text": [
      "z = 0.2525580221418351\n",
      "0.0024124308850269616\n",
      "0.43613671086509664\n"
     ]
    },
    {
     "name": "stderr",
     "output_type": "stream",
     "text": [
      " 10%|█         | 101/1000 [00:52<07:11,  2.08it/s]"
     ]
    },
    {
     "name": "stdout",
     "output_type": "stream",
     "text": [
      "z = 0.2520184486935732\n",
      "0.007816395314363733\n",
      "0.4815919258210316\n"
     ]
    },
    {
     "name": "stderr",
     "output_type": "stream",
     "text": [
      " 10%|█         | 102/1000 [00:52<07:02,  2.13it/s]"
     ]
    },
    {
     "name": "stdout",
     "output_type": "stream",
     "text": [
      "z = 0.2514039256899156\n",
      "0.009574147249635345\n",
      "0.47492109414245914\n"
     ]
    },
    {
     "name": "stderr",
     "output_type": "stream",
     "text": [
      " 10%|█         | 103/1000 [00:53<06:56,  2.15it/s]"
     ]
    },
    {
     "name": "stdout",
     "output_type": "stream",
     "text": [
      "z = 0.25086113591363834\n",
      "0.012234553823939232\n",
      "0.4856887414054756\n"
     ]
    },
    {
     "name": "stderr",
     "output_type": "stream",
     "text": [
      " 10%|█         | 104/1000 [00:53<06:32,  2.28it/s]"
     ]
    },
    {
     "name": "stdout",
     "output_type": "stream",
     "text": [
      "z = 0.2503173211119399\n",
      "0.014246509751476566\n",
      "0.48843049883489187\n"
     ]
    },
    {
     "name": "stderr",
     "output_type": "stream",
     "text": [
      " 10%|█         | 105/1000 [00:53<06:35,  2.26it/s]"
     ]
    },
    {
     "name": "stdout",
     "output_type": "stream",
     "text": [
      "z = 0.2497655919226609\n",
      "0.018633969837801523\n",
      "0.5224964325546937\n"
     ]
    },
    {
     "name": "stderr",
     "output_type": "stream",
     "text": [
      " 11%|█         | 106/1000 [00:54<06:36,  2.26it/s]"
     ]
    },
    {
     "name": "stdout",
     "output_type": "stream",
     "text": [
      "z = 0.24927560698770038\n",
      "0.017012499755207133\n",
      "0.4806537187033738\n"
     ]
    },
    {
     "name": "stderr",
     "output_type": "stream",
     "text": [
      " 11%|█         | 107/1000 [00:54<06:35,  2.26it/s]"
     ]
    },
    {
     "name": "stdout",
     "output_type": "stream",
     "text": [
      "z = 0.24906783696876988\n",
      "0.01785003338969826\n",
      "0.4849087310073219\n"
     ]
    },
    {
     "name": "stderr",
     "output_type": "stream",
     "text": [
      " 11%|█         | 108/1000 [00:55<06:35,  2.25it/s]"
     ]
    },
    {
     "name": "stdout",
     "output_type": "stream",
     "text": [
      "z = 0.24903521266039969\n",
      "0.015379041199052756\n",
      "0.4493977380732813\n"
     ]
    },
    {
     "name": "stderr",
     "output_type": "stream",
     "text": [
      " 11%|█         | 109/1000 [00:55<06:36,  2.25it/s]"
     ]
    },
    {
     "name": "stdout",
     "output_type": "stream",
     "text": [
      "z = 0.24938059759685993\n",
      "0.011549952925767548\n",
      "0.4105346624434582\n"
     ]
    },
    {
     "name": "stderr",
     "output_type": "stream",
     "text": [
      " 11%|█         | 110/1000 [00:56<06:38,  2.23it/s]"
     ]
    },
    {
     "name": "stdout",
     "output_type": "stream",
     "text": [
      "z = 0.2500762666204009\n",
      "0.006306609750747039\n",
      "0.36665198882867756\n"
     ]
    },
    {
     "name": "stderr",
     "output_type": "stream",
     "text": [
      " 11%|█         | 111/1000 [00:56<06:39,  2.22it/s]"
     ]
    },
    {
     "name": "stdout",
     "output_type": "stream",
     "text": [
      "z = 0.25091276876914903\n",
      "0.001192839291906056\n",
      "0.33577817721559505\n"
     ]
    },
    {
     "name": "stderr",
     "output_type": "stream",
     "text": [
      " 11%|█         | 112/1000 [00:57<06:37,  2.23it/s]"
     ]
    },
    {
     "name": "stdout",
     "output_type": "stream",
     "text": [
      "z = 0.2512561866004058\n",
      "0.0017683956760263797\n",
      "0.37656913909692247\n"
     ]
    },
    {
     "name": "stderr",
     "output_type": "stream",
     "text": [
      " 11%|█▏        | 113/1000 [00:57<06:37,  2.23it/s]"
     ]
    },
    {
     "name": "stdout",
     "output_type": "stream",
     "text": [
      "z = 0.25141276345321667\n",
      "0.0032415398647872573\n",
      "0.41043525707925443\n"
     ]
    },
    {
     "name": "stderr",
     "output_type": "stream",
     "text": [
      " 11%|█▏        | 114/1000 [00:58<07:15,  2.03it/s]"
     ]
    },
    {
     "name": "stdout",
     "output_type": "stream",
     "text": [
      "z = 0.2515824509871694\n",
      "0.0016954546422404126\n",
      "0.39782068817159166\n"
     ]
    },
    {
     "name": "stderr",
     "output_type": "stream",
     "text": [
      " 12%|█▏        | 115/1000 [00:58<07:23,  1.99it/s]"
     ]
    },
    {
     "name": "stdout",
     "output_type": "stream",
     "text": [
      "z = 0.2520086492622333\n",
      "-0.0026601729066596524\n",
      "0.35853457398367283\n"
     ]
    },
    {
     "name": "stderr",
     "output_type": "stream",
     "text": [
      " 12%|█▏        | 116/1000 [00:59<07:07,  2.07it/s]"
     ]
    },
    {
     "name": "stdout",
     "output_type": "stream",
     "text": [
      "z = 0.25223091410111886\n",
      "-0.0009323354491703739\n",
      "0.4029355844090949\n"
     ]
    },
    {
     "name": "stderr",
     "output_type": "stream",
     "text": [
      " 12%|█▏        | 117/1000 [00:59<06:57,  2.12it/s]"
     ]
    },
    {
     "name": "stdout",
     "output_type": "stream",
     "text": [
      "z = 0.2524693418777778\n",
      "-0.003228488777469396\n",
      "0.3845226092025859\n"
     ]
    },
    {
     "name": "stderr",
     "output_type": "stream",
     "text": [
      " 12%|█▏        | 118/1000 [00:59<06:52,  2.14it/s]"
     ]
    },
    {
     "name": "stdout",
     "output_type": "stream",
     "text": [
      "z = 0.25273706408805746\n",
      "-0.004579907663464278\n",
      "0.3840159068593005\n"
     ]
    },
    {
     "name": "stderr",
     "output_type": "stream",
     "text": [
      " 12%|█▏        | 119/1000 [01:00<06:45,  2.17it/s]"
     ]
    },
    {
     "name": "stdout",
     "output_type": "stream",
     "text": [
      "z = 0.2529102923506739\n",
      "-0.004373132863549789\n",
      "0.39977973859725796\n"
     ]
    },
    {
     "name": "stderr",
     "output_type": "stream",
     "text": [
      " 12%|█▏        | 120/1000 [01:00<06:40,  2.20it/s]"
     ]
    },
    {
     "name": "stdout",
     "output_type": "stream",
     "text": [
      "z = 0.253206347978052\n",
      "-0.008151251652716018\n",
      "0.3654649915384923\n"
     ]
    },
    {
     "name": "stderr",
     "output_type": "stream",
     "text": [
      " 12%|█▏        | 121/1000 [01:01<06:38,  2.20it/s]"
     ]
    },
    {
     "name": "stdout",
     "output_type": "stream",
     "text": [
      "z = 0.2537106385213512\n",
      "-0.012601932101949154\n",
      "0.33758886358608997\n"
     ]
    },
    {
     "name": "stderr",
     "output_type": "stream",
     "text": [
      " 12%|█▏        | 122/1000 [01:01<06:40,  2.19it/s]"
     ]
    },
    {
     "name": "stdout",
     "output_type": "stream",
     "text": [
      "z = 0.254018036849045\n",
      "-0.012520381573304151\n",
      "0.36932406496953807\n"
     ]
    },
    {
     "name": "stderr",
     "output_type": "stream",
     "text": [
      " 12%|█▏        | 123/1000 [01:02<09:03,  1.61it/s]"
     ]
    },
    {
     "name": "stdout",
     "output_type": "stream",
     "text": [
      "z = 0.254357669000298\n",
      "-0.015728649306489317\n",
      "0.3506696669965288\n"
     ]
    },
    {
     "name": "stderr",
     "output_type": "stream",
     "text": [
      " 12%|█▏        | 124/1000 [01:03<08:28,  1.72it/s]"
     ]
    },
    {
     "name": "stdout",
     "output_type": "stream",
     "text": [
      "z = 0.2546352514889384\n",
      "-0.016529758892046886\n",
      "0.366548154326073\n"
     ]
    },
    {
     "name": "stderr",
     "output_type": "stream",
     "text": [
      " 12%|█▎        | 125/1000 [01:03<07:54,  1.85it/s]"
     ]
    },
    {
     "name": "stdout",
     "output_type": "stream",
     "text": [
      "z = 0.25496635726120354\n",
      "-0.02021590276126095\n",
      "0.34340737071454097\n"
     ]
    },
    {
     "name": "stderr",
     "output_type": "stream",
     "text": [
      " 13%|█▎        | 126/1000 [01:04<07:27,  1.95it/s]"
     ]
    },
    {
     "name": "stdout",
     "output_type": "stream",
     "text": [
      "z = 0.25519534075621547\n",
      "-0.01959731744510884\n",
      "0.37860408300345955\n"
     ]
    },
    {
     "name": "stderr",
     "output_type": "stream",
     "text": [
      " 13%|█▎        | 127/1000 [01:04<07:10,  2.03it/s]"
     ]
    },
    {
     "name": "stdout",
     "output_type": "stream",
     "text": [
      "z = 0.2553250740858435\n",
      "-0.019134634132882855\n",
      "0.3981207608978118\n"
     ]
    },
    {
     "name": "stderr",
     "output_type": "stream",
     "text": [
      " 13%|█▎        | 128/1000 [01:05<06:57,  2.09it/s]"
     ]
    },
    {
     "name": "stdout",
     "output_type": "stream",
     "text": [
      "z = 0.25545550665553624\n",
      "-0.021447425315490598\n",
      "0.38183860468610975\n"
     ]
    },
    {
     "name": "stderr",
     "output_type": "stream",
     "text": [
      " 13%|█▎        | 129/1000 [01:05<06:47,  2.14it/s]"
     ]
    },
    {
     "name": "stdout",
     "output_type": "stream",
     "text": [
      "z = 0.2555895919705981\n",
      "-0.0195143587557971\n",
      "0.42269616678361194\n"
     ]
    },
    {
     "name": "stderr",
     "output_type": "stream",
     "text": [
      " 13%|█▎        | 130/1000 [01:05<06:42,  2.16it/s]"
     ]
    },
    {
     "name": "stdout",
     "output_type": "stream",
     "text": [
      "z = 0.25566680773363626\n",
      "-0.022261856066455588\n",
      "0.3985030470792936\n"
     ]
    },
    {
     "name": "stderr",
     "output_type": "stream",
     "text": [
      " 13%|█▎        | 131/1000 [01:06<06:39,  2.17it/s]"
     ]
    },
    {
     "name": "stdout",
     "output_type": "stream",
     "text": [
      "z = 0.25584655566558434\n",
      "-0.02369071749066154\n",
      "0.4026069934656566\n"
     ]
    },
    {
     "name": "stderr",
     "output_type": "stream",
     "text": [
      " 13%|█▎        | 132/1000 [01:06<06:36,  2.19it/s]"
     ]
    },
    {
     "name": "stdout",
     "output_type": "stream",
     "text": [
      "z = 0.2559802606180479\n",
      "-0.023783252451414993\n",
      "0.4204082042370869\n"
     ]
    },
    {
     "name": "stderr",
     "output_type": "stream",
     "text": [
      " 13%|█▎        | 133/1000 [01:07<06:33,  2.20it/s]"
     ]
    },
    {
     "name": "stdout",
     "output_type": "stream",
     "text": [
      "z = 0.2560587705921764\n",
      "-0.021683928323461332\n",
      "0.4582650042760759\n"
     ]
    },
    {
     "name": "stderr",
     "output_type": "stream",
     "text": [
      " 13%|█▎        | 134/1000 [01:08<08:54,  1.62it/s]"
     ]
    },
    {
     "name": "stdout",
     "output_type": "stream",
     "text": [
      "z = 0.25601418116049507\n",
      "-0.021025771986030062\n",
      "0.46920892167886574\n"
     ]
    },
    {
     "name": "stderr",
     "output_type": "stream",
     "text": [
      " 14%|█▎        | 135/1000 [01:09<09:19,  1.54it/s]"
     ]
    },
    {
     "name": "stdout",
     "output_type": "stream",
     "text": [
      "z = 0.25606718628793346\n",
      "-0.01598098862147168\n",
      "0.5323771252373597\n"
     ]
    },
    {
     "name": "stderr",
     "output_type": "stream",
     "text": [
      " 14%|█▎        | 136/1000 [01:09<08:28,  1.70it/s]"
     ]
    },
    {
     "name": "stdout",
     "output_type": "stream",
     "text": [
      "z = 0.2557765780216799\n",
      "-0.016586315502759685\n",
      "0.5157112320626446\n"
     ]
    },
    {
     "name": "stderr",
     "output_type": "stream",
     "text": [
      " 14%|█▎        | 137/1000 [01:09<07:52,  1.83it/s]"
     ]
    },
    {
     "name": "stdout",
     "output_type": "stream",
     "text": [
      "z = 0.2556996416277909\n",
      "-0.015996699510564927\n",
      "0.526733677633704\n"
     ]
    },
    {
     "name": "stderr",
     "output_type": "stream",
     "text": [
      " 14%|█▍        | 138/1000 [01:10<07:26,  1.93it/s]"
     ]
    },
    {
     "name": "stdout",
     "output_type": "stream",
     "text": [
      "z = 0.2556200593879483\n",
      "-0.018753327513584606\n",
      "0.5006906871671023\n"
     ]
    },
    {
     "name": "stderr",
     "output_type": "stream",
     "text": [
      " 14%|█▍        | 139/1000 [01:10<07:08,  2.01it/s]"
     ]
    },
    {
     "name": "stdout",
     "output_type": "stream",
     "text": [
      "z = 0.2557593745016781\n",
      "-0.0222829420015509\n",
      "0.4811999987100571\n"
     ]
    },
    {
     "name": "stderr",
     "output_type": "stream",
     "text": [
      " 14%|█▍        | 140/1000 [01:11<07:14,  1.98it/s]"
     ]
    },
    {
     "name": "stdout",
     "output_type": "stream",
     "text": [
      "z = 0.25596936774254864\n",
      "-0.02017402503171839\n",
      "0.5351295287877466\n"
     ]
    },
    {
     "name": "stderr",
     "output_type": "stream",
     "text": [
      " 14%|█▍        | 141/1000 [01:11<06:40,  2.14it/s]"
     ]
    },
    {
     "name": "stdout",
     "output_type": "stream",
     "text": [
      "z = 0.2560454851949901\n",
      "-0.01739527302301902\n",
      "0.5788891468851279\n"
     ]
    },
    {
     "name": "stderr",
     "output_type": "stream",
     "text": [
      " 14%|█▍        | 142/1000 [01:12<06:37,  2.16it/s]"
     ]
    },
    {
     "name": "stdout",
     "output_type": "stream",
     "text": [
      "z = 0.2559092560663657\n",
      "-0.016747706445115473\n",
      "0.5876470585275143\n"
     ]
    },
    {
     "name": "stderr",
     "output_type": "stream",
     "text": [
      " 14%|█▍        | 143/1000 [01:12<06:33,  2.18it/s]"
     ]
    },
    {
     "name": "stdout",
     "output_type": "stream",
     "text": [
      "z = 0.2557776804890438\n",
      "-0.016711358464090664\n",
      "0.5918115705282612\n"
     ]
    },
    {
     "name": "stderr",
     "output_type": "stream",
     "text": [
      " 14%|█▍        | 144/1000 [01:13<06:30,  2.19it/s]"
     ]
    },
    {
     "name": "stdout",
     "output_type": "stream",
     "text": [
      "z = 0.25566404108509666\n",
      "-0.0185014417279753\n",
      "0.5786237065746768\n"
     ]
    },
    {
     "name": "stderr",
     "output_type": "stream",
     "text": [
      " 14%|█▍        | 145/1000 [01:13<06:27,  2.21it/s]"
     ]
    },
    {
     "name": "stdout",
     "output_type": "stream",
     "text": [
      "z = 0.25570422321890185\n",
      "-0.017684949636622038\n",
      "0.6037676664644367\n"
     ]
    },
    {
     "name": "stderr",
     "output_type": "stream",
     "text": [
      " 15%|█▍        | 146/1000 [01:13<06:25,  2.21it/s]"
     ]
    },
    {
     "name": "stdout",
     "output_type": "stream",
     "text": [
      "z = 0.25564907416297966\n",
      "-0.016959086779786636\n",
      "0.6208995751835383\n"
     ]
    },
    {
     "name": "stderr",
     "output_type": "stream",
     "text": [
      " 15%|█▍        | 147/1000 [01:14<06:24,  2.22it/s]"
     ]
    },
    {
     "name": "stdout",
     "output_type": "stream",
     "text": [
      "z = 0.25551957317965424\n",
      "-0.018799990391287658\n",
      "0.6072459770087747\n"
     ]
    },
    {
     "name": "stderr",
     "output_type": "stream",
     "text": [
      " 15%|█▍        | 148/1000 [01:14<06:25,  2.21it/s]"
     ]
    },
    {
     "name": "stdout",
     "output_type": "stream",
     "text": [
      "z = 0.25552086913542044\n",
      "-0.020166603101590796\n",
      "0.6079922846603025\n"
     ]
    },
    {
     "name": "stderr",
     "output_type": "stream",
     "text": [
      " 15%|█▍        | 149/1000 [01:15<09:07,  1.56it/s]"
     ]
    },
    {
     "name": "stdout",
     "output_type": "stream",
     "text": [
      "z = 0.25555000119181726\n",
      "-0.019996498167701993\n",
      "0.6273196015381465\n"
     ]
    },
    {
     "name": "stderr",
     "output_type": "stream",
     "text": [
      " 15%|█▌        | 150/1000 [01:16<08:16,  1.71it/s]"
     ]
    },
    {
     "name": "stdout",
     "output_type": "stream",
     "text": [
      "z = 0.25549180047262376\n",
      "-0.022070596853755786\n",
      "0.6165396881956069\n"
     ]
    },
    {
     "name": "stderr",
     "output_type": "stream",
     "text": [
      " 15%|█▌        | 151/1000 [01:16<07:42,  1.84it/s]"
     ]
    },
    {
     "name": "stdout",
     "output_type": "stream",
     "text": [
      "z = 0.2555215298983056\n",
      "-0.024706395161465\n",
      "0.6067109562616286\n"
     ]
    },
    {
     "name": "stderr",
     "output_type": "stream",
     "text": [
      " 15%|█▌        | 152/1000 [01:17<07:15,  1.95it/s]"
     ]
    },
    {
     "name": "stdout",
     "output_type": "stream",
     "text": [
      "z = 0.2556331562160525\n",
      "-0.02346980566017609\n",
      "0.6454838041117433\n"
     ]
    },
    {
     "name": "stderr",
     "output_type": "stream",
     "text": [
      " 15%|█▌        | 153/1000 [01:17<06:58,  2.02it/s]"
     ]
    },
    {
     "name": "stdout",
     "output_type": "stream",
     "text": [
      "z = 0.2556301808775332\n",
      "-0.021584556072462124\n",
      "0.6782160846336663\n"
     ]
    },
    {
     "name": "stderr",
     "output_type": "stream",
     "text": [
      " 15%|█▌        | 154/1000 [01:18<06:45,  2.09it/s]"
     ]
    },
    {
     "name": "stdout",
     "output_type": "stream",
     "text": [
      "z = 0.2554423252060703\n",
      "-0.02215872217948278\n",
      "0.6749022126708312\n"
     ]
    },
    {
     "name": "stderr",
     "output_type": "stream",
     "text": [
      " 16%|█▌        | 155/1000 [01:18<06:36,  2.13it/s]"
     ]
    },
    {
     "name": "stdout",
     "output_type": "stream",
     "text": [
      "z = 0.25531788663715854\n",
      "-0.023151199620754737\n",
      "0.672239079291698\n"
     ]
    },
    {
     "name": "stderr",
     "output_type": "stream",
     "text": [
      " 16%|█▌        | 156/1000 [01:19<06:45,  2.08it/s]"
     ]
    },
    {
     "name": "stdout",
     "output_type": "stream",
     "text": [
      "z = 0.2552549555256388\n",
      "-0.023118189557344793\n",
      "0.684170157902604\n"
     ]
    },
    {
     "name": "stderr",
     "output_type": "stream",
     "text": [
      " 16%|█▌        | 157/1000 [01:19<06:36,  2.13it/s]"
     ]
    },
    {
     "name": "stdout",
     "output_type": "stream",
     "text": [
      "z = 0.2551337689032794\n",
      "-0.024320508161828736\n",
      "0.6795864130295923\n"
     ]
    },
    {
     "name": "stderr",
     "output_type": "stream",
     "text": [
      " 16%|█▌        | 158/1000 [01:20<06:29,  2.16it/s]"
     ]
    },
    {
     "name": "stdout",
     "output_type": "stream",
     "text": [
      "z = 0.2550623036002595\n",
      "-0.025529539030004322\n",
      "0.6788646738453595\n"
     ]
    },
    {
     "name": "stderr",
     "output_type": "stream",
     "text": [
      " 16%|█▌        | 159/1000 [01:20<06:26,  2.18it/s]"
     ]
    },
    {
     "name": "stdout",
     "output_type": "stream",
     "text": [
      "z = 0.25500556994286405\n",
      "-0.026708582243406553\n",
      "0.6796851221261094\n"
     ]
    },
    {
     "name": "stderr",
     "output_type": "stream",
     "text": [
      " 16%|█▌        | 160/1000 [01:20<06:24,  2.18it/s]"
     ]
    },
    {
     "name": "stdout",
     "output_type": "stream",
     "text": [
      "z = 0.25498056358070265\n",
      "-0.02621740736654321\n",
      "0.6995758254842728\n"
     ]
    },
    {
     "name": "stderr",
     "output_type": "stream",
     "text": [
      " 16%|█▌        | 161/1000 [01:21<06:21,  2.20it/s]"
     ]
    },
    {
     "name": "stdout",
     "output_type": "stream",
     "text": [
      "z = 0.25505437222938554\n",
      "-0.021749432810114544\n",
      "0.7588873493982021\n"
     ]
    },
    {
     "name": "stderr",
     "output_type": "stream",
     "text": [
      " 16%|█▌        | 162/1000 [01:21<06:19,  2.21it/s]"
     ]
    },
    {
     "name": "stdout",
     "output_type": "stream",
     "text": [
      "z = 0.25467550351411294\n",
      "-0.022739251127912086\n",
      "0.7395743540645339\n"
     ]
    },
    {
     "name": "stderr",
     "output_type": "stream",
     "text": [
      " 16%|█▋        | 163/1000 [01:22<06:18,  2.21it/s]"
     ]
    },
    {
     "name": "stdout",
     "output_type": "stream",
     "text": [
      "z = 0.2544823759881642\n",
      "-0.024625799362903322\n",
      "0.7232464630099145\n"
     ]
    },
    {
     "name": "stderr",
     "output_type": "stream",
     "text": [
      " 16%|█▋        | 164/1000 [01:22<06:19,  2.20it/s]"
     ]
    },
    {
     "name": "stdout",
     "output_type": "stream",
     "text": [
      "z = 0.25439606778433144\n",
      "-0.027183236646487918\n",
      "0.7068122422487297\n"
     ]
    },
    {
     "name": "stderr",
     "output_type": "stream",
     "text": [
      " 16%|█▋        | 165/1000 [01:23<06:24,  2.17it/s]"
     ]
    },
    {
     "name": "stdout",
     "output_type": "stream",
     "text": [
      "z = 0.25439402872147104\n",
      "-0.029332972455559325\n",
      "0.7009656932803479\n"
     ]
    },
    {
     "name": "stderr",
     "output_type": "stream",
     "text": [
      " 17%|█▋        | 166/1000 [01:23<06:41,  2.08it/s]"
     ]
    },
    {
     "name": "stdout",
     "output_type": "stream",
     "text": [
      "z = 0.2543930861950442\n",
      "-0.03288440276527127\n",
      "0.6807780017189515\n"
     ]
    },
    {
     "name": "stderr",
     "output_type": "stream",
     "text": [
      " 17%|█▋        | 167/1000 [01:24<06:34,  2.11it/s]"
     ]
    },
    {
     "name": "stdout",
     "output_type": "stream",
     "text": [
      "z = 0.25445410708750826\n",
      "-0.03649590363806898\n",
      "0.6666643852001325\n"
     ]
    },
    {
     "name": "stderr",
     "output_type": "stream",
     "text": [
      " 17%|█▋        | 168/1000 [01:24<06:27,  2.15it/s]"
     ]
    },
    {
     "name": "stdout",
     "output_type": "stream",
     "text": [
      "z = 0.25463806175682446\n",
      "-0.034616530790468\n",
      "0.7172386304118888\n"
     ]
    },
    {
     "name": "stderr",
     "output_type": "stream",
     "text": [
      " 17%|█▋        | 169/1000 [01:25<06:22,  2.17it/s]"
     ]
    },
    {
     "name": "stdout",
     "output_type": "stream",
     "text": [
      "z = 0.2548858352460265\n",
      "-0.029598418188478304\n",
      "0.7833412649830711\n"
     ]
    },
    {
     "name": "stderr",
     "output_type": "stream",
     "text": [
      " 17%|█▋        | 170/1000 [01:25<06:19,  2.19it/s]"
     ]
    },
    {
     "name": "stdout",
     "output_type": "stream",
     "text": [
      "z = 0.2545861198488566\n",
      "-0.02916996232326019\n",
      "0.7764621625601744\n"
     ]
    },
    {
     "name": "stderr",
     "output_type": "stream",
     "text": [
      " 17%|█▋        | 171/1000 [01:25<06:17,  2.20it/s]"
     ]
    },
    {
     "name": "stdout",
     "output_type": "stream",
     "text": [
      "z = 0.2547909095401936\n",
      "-0.02350537249575102\n",
      "0.8367637728391202\n"
     ]
    },
    {
     "name": "stderr",
     "output_type": "stream",
     "text": [
      " 17%|█▋        | 172/1000 [01:26<05:58,  2.31it/s]"
     ]
    },
    {
     "name": "stdout",
     "output_type": "stream",
     "text": [
      "z = 0.2544954624916458\n",
      "-0.020166177318452716\n",
      "0.8516165831751747\n"
     ]
    },
    {
     "name": "stderr",
     "output_type": "stream",
     "text": [
      " 17%|█▋        | 173/1000 [01:26<06:23,  2.15it/s]"
     ]
    },
    {
     "name": "stdout",
     "output_type": "stream",
     "text": [
      "z = 0.2541973288484689\n",
      "-0.016508628122971714\n",
      "0.8698585984195428\n"
     ]
    },
    {
     "name": "stderr",
     "output_type": "stream",
     "text": [
      " 17%|█▋        | 174/1000 [01:27<06:37,  2.08it/s]"
     ]
    },
    {
     "name": "stdout",
     "output_type": "stream",
     "text": [
      "z = 0.25365017150745195\n",
      "-0.015030875937895205\n",
      "0.8610131996823357\n"
     ]
    },
    {
     "name": "stderr",
     "output_type": "stream",
     "text": [
      " 18%|█▊        | 175/1000 [01:27<06:30,  2.11it/s]"
     ]
    },
    {
     "name": "stdout",
     "output_type": "stream",
     "text": [
      "z = 0.2533807566683504\n",
      "-0.011923973260743459\n",
      "0.8778006607371613\n"
     ]
    },
    {
     "name": "stderr",
     "output_type": "stream",
     "text": [
      " 18%|█▊        | 176/1000 [01:28<06:23,  2.15it/s]"
     ]
    },
    {
     "name": "stdout",
     "output_type": "stream",
     "text": [
      "z = 0.25294548404198824\n",
      "-0.009878620594487741\n",
      "0.8786761468956252\n"
     ]
    },
    {
     "name": "stderr",
     "output_type": "stream",
     "text": [
      " 18%|█▊        | 177/1000 [01:28<06:17,  2.18it/s]"
     ]
    },
    {
     "name": "stdout",
     "output_type": "stream",
     "text": [
      "z = 0.2525541480242413\n",
      "-0.007922082491433002\n",
      "0.8809490693355797\n"
     ]
    },
    {
     "name": "stderr",
     "output_type": "stream",
     "text": [
      " 18%|█▊        | 178/1000 [01:29<06:15,  2.19it/s]"
     ]
    },
    {
     "name": "stdout",
     "output_type": "stream",
     "text": [
      "z = 0.2522862844026401\n",
      "-0.004699133071576211\n",
      "0.8985099630449804\n"
     ]
    },
    {
     "name": "stderr",
     "output_type": "stream",
     "text": [
      " 18%|█▊        | 179/1000 [01:29<06:15,  2.19it/s]"
     ]
    },
    {
     "name": "stdout",
     "output_type": "stream",
     "text": [
      "z = 0.25182672524147254\n",
      "-0.002663637647735695\n",
      "0.898044674522173\n"
     ]
    },
    {
     "name": "stderr",
     "output_type": "stream",
     "text": [
      " 18%|█▊        | 180/1000 [01:30<06:12,  2.20it/s]"
     ]
    },
    {
     "name": "stdout",
     "output_type": "stream",
     "text": [
      "z = 0.25133769193593325\n",
      "-0.0018362666270317352\n",
      "0.8860501064227446\n"
     ]
    },
    {
     "name": "stderr",
     "output_type": "stream",
     "text": [
      " 18%|█▊        | 181/1000 [01:30<06:11,  2.21it/s]"
     ]
    },
    {
     "name": "stdout",
     "output_type": "stream",
     "text": [
      "z = 0.2512340601616943\n",
      "0.002242773389337316\n",
      "0.9166014563838765\n"
     ]
    },
    {
     "name": "stderr",
     "output_type": "stream",
     "text": [
      " 18%|█▊        | 182/1000 [01:31<06:08,  2.22it/s]"
     ]
    },
    {
     "name": "stdout",
     "output_type": "stream",
     "text": [
      "z = 0.250778962864573\n",
      "0.004671419194397952\n",
      "0.9184354211784358\n"
     ]
    },
    {
     "name": "stderr",
     "output_type": "stream",
     "text": [
      " 18%|█▊        | 183/1000 [01:31<06:07,  2.22it/s]"
     ]
    },
    {
     "name": "stdout",
     "output_type": "stream",
     "text": [
      "z = 0.25056842341848173\n",
      "0.009353339618808687\n",
      "0.9478322027860129\n"
     ]
    },
    {
     "name": "stderr",
     "output_type": "stream",
     "text": [
      " 18%|█▊        | 184/1000 [01:31<06:07,  2.22it/s]"
     ]
    },
    {
     "name": "stdout",
     "output_type": "stream",
     "text": [
      "z = 0.2500556863752935\n",
      "0.01303014383111245\n",
      "0.9576115551157771\n"
     ]
    },
    {
     "name": "stderr",
     "output_type": "stream",
     "text": [
      " 18%|█▊        | 185/1000 [01:32<06:06,  2.22it/s]"
     ]
    },
    {
     "name": "stdout",
     "output_type": "stream",
     "text": [
      "z = 0.24950063399604178\n",
      "0.016533091111082476\n",
      "0.9647714815096987\n"
     ]
    },
    {
     "name": "stderr",
     "output_type": "stream",
     "text": [
      " 19%|█▊        | 186/1000 [01:32<06:05,  2.23it/s]"
     ]
    },
    {
     "name": "stdout",
     "output_type": "stream",
     "text": [
      "z = 0.24918840307340623\n",
      "0.02215367467613316\n",
      "0.9968476675015621\n"
     ]
    },
    {
     "name": "stderr",
     "output_type": "stream",
     "text": [
      " 19%|█▊        | 187/1000 [01:33<06:04,  2.23it/s]"
     ]
    },
    {
     "name": "stdout",
     "output_type": "stream",
     "text": [
      "z = 0.2483780504727233\n",
      "0.02542219627131448\n",
      "0.99432387274596\n"
     ]
    },
    {
     "name": "stderr",
     "output_type": "stream",
     "text": [
      " 19%|█▉        | 188/1000 [01:33<06:03,  2.23it/s]"
     ]
    },
    {
     "name": "stdout",
     "output_type": "stream",
     "text": [
      "z = 0.24753450680384637\n",
      "0.02721266380717946\n",
      "0.9782891632721677\n"
     ]
    },
    {
     "name": "stderr",
     "output_type": "stream",
     "text": [
      " 19%|█▉        | 189/1000 [01:34<06:04,  2.23it/s]"
     ]
    },
    {
     "name": "stdout",
     "output_type": "stream",
     "text": [
      "z = 0.246732553959861\n",
      "0.026614534288187164\n",
      "0.9406693075513315\n"
     ]
    },
    {
     "name": "stderr",
     "output_type": "stream",
     "text": [
      " 19%|█▉        | 190/1000 [01:34<06:03,  2.23it/s]"
     ]
    },
    {
     "name": "stdout",
     "output_type": "stream",
     "text": [
      "z = 0.24638644161930284\n",
      "0.026423363680870393\n",
      "0.9184157113222821\n"
     ]
    },
    {
     "name": "stderr",
     "output_type": "stream",
     "text": [
      " 19%|█▉        | 191/1000 [01:35<06:03,  2.23it/s]"
     ]
    },
    {
     "name": "stdout",
     "output_type": "stream",
     "text": [
      "z = 0.24622780360173685\n",
      "0.026699909422951973\n",
      "0.9047161834769695\n"
     ]
    },
    {
     "name": "stderr",
     "output_type": "stream",
     "text": [
      " 19%|█▉        | 192/1000 [01:35<05:44,  2.34it/s]"
     ]
    },
    {
     "name": "stdout",
     "output_type": "stream",
     "text": [
      "z = 0.24602734853844727\n",
      "0.02549351023544233\n",
      "0.8739845227616534\n"
     ]
    },
    {
     "name": "stderr",
     "output_type": "stream",
     "text": [
      " 19%|█▉        | 193/1000 [01:35<05:50,  2.31it/s]"
     ]
    },
    {
     "name": "stdout",
     "output_type": "stream",
     "text": [
      "z = 0.2459394992576975\n",
      "0.021090593129187596\n",
      "0.8124966612895486\n"
     ]
    },
    {
     "name": "stderr",
     "output_type": "stream",
     "text": [
      " 19%|█▉        | 194/1000 [01:36<06:06,  2.20it/s]"
     ]
    },
    {
     "name": "stdout",
     "output_type": "stream",
     "text": [
      "z = 0.24655434215510486\n",
      "0.022152972142398197\n",
      "0.8290838326765684\n"
     ]
    },
    {
     "name": "stderr",
     "output_type": "stream",
     "text": [
      " 20%|█▉        | 195/1000 [01:36<06:02,  2.22it/s]"
     ]
    },
    {
     "name": "stdout",
     "output_type": "stream",
     "text": [
      "z = 0.2467653561342309\n",
      "0.021636122177401296\n",
      "0.8140587754099698\n"
     ]
    },
    {
     "name": "stderr",
     "output_type": "stream",
     "text": [
      " 20%|█▉        | 196/1000 [01:37<06:00,  2.23it/s]"
     ]
    },
    {
     "name": "stdout",
     "output_type": "stream",
     "text": [
      "z = 0.24720724373835268\n",
      "0.024222486160591084\n",
      "0.8352342327002151\n"
     ]
    },
    {
     "name": "stderr",
     "output_type": "stream",
     "text": [
      " 20%|█▉        | 197/1000 [01:37<06:00,  2.23it/s]"
     ]
    },
    {
     "name": "stdout",
     "output_type": "stream",
     "text": [
      "z = 0.24694708036728816\n",
      "0.02034870126328603\n",
      "0.7711713641913052\n"
     ]
    },
    {
     "name": "stderr",
     "output_type": "stream",
     "text": [
      " 20%|█▉        | 198/1000 [01:38<05:58,  2.24it/s]"
     ]
    },
    {
     "name": "stdout",
     "output_type": "stream",
     "text": [
      "z = 0.24755239670880444\n",
      "0.02142309883071214\n",
      "0.7824931181814031\n"
     ]
    },
    {
     "name": "stderr",
     "output_type": "stream",
     "text": [
      " 20%|█▉        | 199/1000 [01:38<05:58,  2.24it/s]"
     ]
    },
    {
     "name": "stdout",
     "output_type": "stream",
     "text": [
      "z = 0.24787884049758602\n",
      "0.022505135807958654\n",
      "0.782396879820366\n"
     ]
    },
    {
     "name": "stderr",
     "output_type": "stream",
     "text": [
      " 20%|██        | 200/1000 [01:39<05:56,  2.24it/s]"
     ]
    },
    {
     "name": "stdout",
     "output_type": "stream",
     "text": [
      "z = 0.24789691494509514\n",
      "0.021592634129448673\n",
      "0.7538802168129437\n"
     ]
    },
    {
     "name": "stderr",
     "output_type": "stream",
     "text": [
      " 20%|██        | 201/1000 [01:39<05:55,  2.25it/s]"
     ]
    },
    {
     "name": "stdout",
     "output_type": "stream",
     "text": [
      "z = 0.2478998680481848\n",
      "0.018092093061943038\n",
      "0.6998022740958348\n"
     ]
    },
    {
     "name": "stderr",
     "output_type": "stream",
     "text": [
      " 20%|██        | 202/1000 [01:39<05:55,  2.24it/s]"
     ]
    },
    {
     "name": "stdout",
     "output_type": "stream",
     "text": [
      "z = 0.24850728606662803\n",
      "0.01844541612963524\n",
      "0.7020875448987314\n"
     ]
    },
    {
     "name": "stderr",
     "output_type": "stream",
     "text": [
      " 20%|██        | 203/1000 [01:40<05:56,  2.24it/s]"
     ]
    },
    {
     "name": "stdout",
     "output_type": "stream",
     "text": [
      "z = 0.24862206113459193\n",
      "0.014347380709724189\n",
      "0.644706746191478\n"
     ]
    },
    {
     "name": "stderr",
     "output_type": "stream",
     "text": [
      " 20%|██        | 204/1000 [01:40<05:56,  2.23it/s]"
     ]
    },
    {
     "name": "stdout",
     "output_type": "stream",
     "text": [
      "z = 0.24911112346467806\n",
      "0.010169017005864256\n",
      "0.5998681682910304\n"
     ]
    },
    {
     "name": "stderr",
     "output_type": "stream",
     "text": [
      " 20%|██        | 205/1000 [01:41<05:56,  2.23it/s]"
     ]
    },
    {
     "name": "stdout",
     "output_type": "stream",
     "text": [
      "z = 0.24971814112705865\n",
      "0.0056763081363147005\n",
      "0.5569245456320949\n"
     ]
    },
    {
     "name": "stderr",
     "output_type": "stream",
     "text": [
      " 21%|██        | 206/1000 [01:41<05:56,  2.23it/s]"
     ]
    },
    {
     "name": "stdout",
     "output_type": "stream",
     "text": [
      "z = 0.25041342055032856\n",
      "0.00145300452022612\n",
      "0.521704787608868\n"
     ]
    },
    {
     "name": "stderr",
     "output_type": "stream",
     "text": [
      " 21%|██        | 207/1000 [01:42<05:56,  2.23it/s]"
     ]
    },
    {
     "name": "stdout",
     "output_type": "stream",
     "text": [
      "z = 0.2511378513444141\n",
      "-0.0018459909846957334\n",
      "0.49840643478293933\n"
     ]
    },
    {
     "name": "stderr",
     "output_type": "stream",
     "text": [
      " 21%|██        | 208/1000 [01:42<05:55,  2.22it/s]"
     ]
    },
    {
     "name": "stdout",
     "output_type": "stream",
     "text": [
      "z = 0.2520037501762727\n",
      "-0.0015273678121502376\n",
      "0.5145675928449202\n"
     ]
    },
    {
     "name": "stderr",
     "output_type": "stream",
     "text": [
      " 21%|██        | 209/1000 [01:43<05:38,  2.34it/s]"
     ]
    },
    {
     "name": "stdout",
     "output_type": "stream",
     "text": [
      "z = 0.2525110905996106\n",
      "-0.0019575714230074537\n",
      "0.5075031281511738\n"
     ]
    },
    {
     "name": "stderr",
     "output_type": "stream",
     "text": [
      " 21%|██        | 210/1000 [01:43<05:42,  2.30it/s]"
     ]
    },
    {
     "name": "stdout",
     "output_type": "stream",
     "text": [
      "z = 0.25274815576505294\n",
      "-0.004508071088787369\n",
      "0.47261259669536626\n"
     ]
    },
    {
     "name": "stderr",
     "output_type": "stream",
     "text": [
      " 21%|██        | 211/1000 [01:43<05:44,  2.29it/s]"
     ]
    },
    {
     "name": "stdout",
     "output_type": "stream",
     "text": [
      "z = 0.25307992395369805\n",
      "-0.007534741166341785\n",
      "0.4390124466899462\n"
     ]
    },
    {
     "name": "stderr",
     "output_type": "stream",
     "text": [
      " 21%|██        | 212/1000 [01:44<05:45,  2.28it/s]"
     ]
    },
    {
     "name": "stdout",
     "output_type": "stream",
     "text": [
      "z = 0.2539673319903003\n",
      "-0.005133426674765795\n",
      "0.4735574387490368\n"
     ]
    },
    {
     "name": "stderr",
     "output_type": "stream",
     "text": [
      " 21%|██▏       | 213/1000 [01:44<05:45,  2.28it/s]"
     ]
    },
    {
     "name": "stdout",
     "output_type": "stream",
     "text": [
      "z = 0.25477158071602124\n",
      "-0.0007535358132977343\n",
      "0.513933754208741\n"
     ]
    },
    {
     "name": "stderr",
     "output_type": "stream",
     "text": [
      " 21%|██▏       | 214/1000 [01:45<05:59,  2.19it/s]"
     ]
    },
    {
     "name": "stdout",
     "output_type": "stream",
     "text": [
      "z = 0.25440675913521515\n",
      "-0.003136357462131256\n",
      "0.4622590483718728\n"
     ]
    },
    {
     "name": "stderr",
     "output_type": "stream",
     "text": [
      " 22%|██▏       | 215/1000 [01:45<05:57,  2.20it/s]"
     ]
    },
    {
     "name": "stdout",
     "output_type": "stream",
     "text": [
      "z = 0.25440009645153605\n",
      "-0.0072039087931984325\n",
      "0.41175451397668483\n"
     ]
    },
    {
     "name": "stderr",
     "output_type": "stream",
     "text": [
      " 22%|██▏       | 216/1000 [01:46<05:53,  2.22it/s]"
     ]
    },
    {
     "name": "stdout",
     "output_type": "stream",
     "text": [
      "z = 0.25471542449944884\n",
      "-0.011336318297863524\n",
      "0.37480272190369723\n"
     ]
    },
    {
     "name": "stderr",
     "output_type": "stream",
     "text": [
      " 22%|██▏       | 217/1000 [01:46<05:53,  2.22it/s]"
     ]
    },
    {
     "name": "stdout",
     "output_type": "stream",
     "text": [
      "z = 0.2551993167797251\n",
      "-0.0147618209045427\n",
      "0.3529132300622658\n"
     ]
    },
    {
     "name": "stderr",
     "output_type": "stream",
     "text": [
      " 22%|██▏       | 218/1000 [01:47<06:13,  2.10it/s]"
     ]
    },
    {
     "name": "stdout",
     "output_type": "stream",
     "text": [
      "z = 0.2559808651397294\n",
      "-0.01473262986612478\n",
      "0.37127725430743636\n"
     ]
    },
    {
     "name": "stderr",
     "output_type": "stream",
     "text": [
      " 22%|██▏       | 219/1000 [01:47<06:06,  2.13it/s]"
     ]
    },
    {
     "name": "stdout",
     "output_type": "stream",
     "text": [
      "z = 0.25672878667340704\n",
      "-0.012787155181677057\n",
      "0.39902478113975565\n"
     ]
    },
    {
     "name": "stderr",
     "output_type": "stream",
     "text": [
      " 22%|██▏       | 220/1000 [01:48<06:02,  2.15it/s]"
     ]
    },
    {
     "name": "stdout",
     "output_type": "stream",
     "text": [
      "z = 0.25711427363362727\n",
      "-0.011288347419688871\n",
      "0.4087530246434309\n"
     ]
    },
    {
     "name": "stderr",
     "output_type": "stream",
     "text": [
      " 22%|██▏       | 221/1000 [01:48<05:56,  2.19it/s]"
     ]
    },
    {
     "name": "stdout",
     "output_type": "stream",
     "text": [
      "z = 0.2576858273320125\n",
      "-0.007622716902662252\n",
      "0.4396685073601797\n"
     ]
    },
    {
     "name": "stderr",
     "output_type": "stream",
     "text": [
      " 22%|██▏       | 222/1000 [01:48<05:52,  2.20it/s]"
     ]
    },
    {
     "name": "stdout",
     "output_type": "stream",
     "text": [
      "z = 0.2579276101475554\n",
      "-0.004139166385448312\n",
      "0.4579997859044612\n"
     ]
    },
    {
     "name": "stderr",
     "output_type": "stream",
     "text": [
      " 22%|██▏       | 223/1000 [01:49<05:53,  2.20it/s]"
     ]
    },
    {
     "name": "stdout",
     "output_type": "stream",
     "text": [
      "z = 0.25797752006985336\n",
      "-0.0007957189236971196\n",
      "0.4708881923435595\n"
     ]
    },
    {
     "name": "stderr",
     "output_type": "stream",
     "text": [
      " 22%|██▏       | 224/1000 [01:49<05:50,  2.21it/s]"
     ]
    },
    {
     "name": "stdout",
     "output_type": "stream",
     "text": [
      "z = 0.25740649327563747\n",
      "-0.0008974169341889882\n",
      "0.4433459904942328\n"
     ]
    },
    {
     "name": "stderr",
     "output_type": "stream",
     "text": [
      " 22%|██▎       | 225/1000 [01:50<05:48,  2.23it/s]"
     ]
    },
    {
     "name": "stdout",
     "output_type": "stream",
     "text": [
      "z = 0.2571189732702522\n",
      "-0.001744154865484071\n",
      "0.4218104074696757\n"
     ]
    },
    {
     "name": "stderr",
     "output_type": "stream",
     "text": [
      " 23%|██▎       | 226/1000 [01:50<05:45,  2.24it/s]"
     ]
    },
    {
     "name": "stdout",
     "output_type": "stream",
     "text": [
      "z = 0.25779265293529563\n",
      "0.0022491392319146097\n",
      "0.4665374500055906\n"
     ]
    },
    {
     "name": "stderr",
     "output_type": "stream",
     "text": [
      " 23%|██▎       | 227/1000 [01:51<05:45,  2.24it/s]"
     ]
    },
    {
     "name": "stdout",
     "output_type": "stream",
     "text": [
      "z = 0.2580639306130137\n",
      "0.006185215413408662\n",
      "0.49681159188417484\n"
     ]
    },
    {
     "name": "stderr",
     "output_type": "stream",
     "text": [
      " 23%|██▎       | 228/1000 [01:51<05:45,  2.24it/s]"
     ]
    },
    {
     "name": "stdout",
     "output_type": "stream",
     "text": [
      "z = 0.25754202470681303\n",
      "0.006807215876240891\n",
      "0.48276314138174076\n"
     ]
    },
    {
     "name": "stderr",
     "output_type": "stream",
     "text": [
      " 23%|██▎       | 229/1000 [01:52<06:33,  1.96it/s]"
     ]
    },
    {
     "name": "stdout",
     "output_type": "stream",
     "text": [
      "z = 0.25797954927568806\n",
      "0.011351565169610889\n",
      "0.5260195488508529\n"
     ]
    },
    {
     "name": "stderr",
     "output_type": "stream",
     "text": [
      " 23%|██▎       | 230/1000 [01:52<07:06,  1.80it/s]"
     ]
    },
    {
     "name": "stdout",
     "output_type": "stream",
     "text": [
      "z = 0.2571020654959935\n",
      "0.010092146406748825\n",
      "0.4917395206449374\n"
     ]
    },
    {
     "name": "stderr",
     "output_type": "stream",
     "text": [
      " 23%|██▎       | 231/1000 [01:53<06:42,  1.91it/s]"
     ]
    },
    {
     "name": "stdout",
     "output_type": "stream",
     "text": [
      "z = 0.25666170927886367\n",
      "0.007494084034090132\n",
      "0.461983371101591\n"
     ]
    },
    {
     "name": "stderr",
     "output_type": "stream",
     "text": [
      " 23%|██▎       | 232/1000 [01:53<06:24,  2.00it/s]"
     ]
    },
    {
     "name": "stdout",
     "output_type": "stream",
     "text": [
      "z = 0.25661301668093933\n",
      "0.004933714282249535\n",
      "0.44557867390685846\n"
     ]
    },
    {
     "name": "stderr",
     "output_type": "stream",
     "text": [
      " 23%|██▎       | 233/1000 [01:54<06:12,  2.06it/s]"
     ]
    },
    {
     "name": "stdout",
     "output_type": "stream",
     "text": [
      "z = 0.25673767546771165\n",
      "0.0025197562224495984\n",
      "0.43728009512485133\n"
     ]
    },
    {
     "name": "stderr",
     "output_type": "stream",
     "text": [
      " 23%|██▎       | 234/1000 [01:54<06:03,  2.11it/s]"
     ]
    },
    {
     "name": "stdout",
     "output_type": "stream",
     "text": [
      "z = 0.25738466690177925\n",
      "0.003587842680615516\n",
      "0.4727589038224036\n"
     ]
    },
    {
     "name": "stderr",
     "output_type": "stream",
     "text": [
      " 24%|██▎       | 235/1000 [01:55<05:57,  2.14it/s]"
     ]
    },
    {
     "name": "stdout",
     "output_type": "stream",
     "text": [
      "z = 0.25752058646150583\n",
      "0.0035377192451774286\n",
      "0.48343698016979153\n"
     ]
    },
    {
     "name": "stderr",
     "output_type": "stream",
     "text": [
      " 24%|██▎       | 236/1000 [01:55<05:52,  2.17it/s]"
     ]
    },
    {
     "name": "stdout",
     "output_type": "stream",
     "text": [
      "z = 0.2574765838063719\n",
      "0.0026818670591470806\n",
      "0.48429121060813407\n"
     ]
    },
    {
     "name": "stderr",
     "output_type": "stream",
     "text": [
      " 24%|██▎       | 237/1000 [01:56<05:48,  2.19it/s]"
     ]
    },
    {
     "name": "stdout",
     "output_type": "stream",
     "text": [
      "z = 0.2575038249522378\n",
      "0.0020202400134794463\n",
      "0.49021022649039425\n"
     ]
    },
    {
     "name": "stderr",
     "output_type": "stream",
     "text": [
      " 24%|██▍       | 238/1000 [01:56<05:44,  2.21it/s]"
     ]
    },
    {
     "name": "stdout",
     "output_type": "stream",
     "text": [
      "z = 0.2572695589794277\n",
      "-0.0005915390105160068\n",
      "0.47501203140015996\n"
     ]
    },
    {
     "name": "stderr",
     "output_type": "stream",
     "text": [
      " 24%|██▍       | 239/1000 [01:57<05:43,  2.22it/s]"
     ]
    },
    {
     "name": "stdout",
     "output_type": "stream",
     "text": [
      "z = 0.2574393141104586\n",
      "-0.0018269239023445127\n",
      "0.48481125484435084\n"
     ]
    },
    {
     "name": "stderr",
     "output_type": "stream",
     "text": [
      " 24%|██▍       | 240/1000 [01:57<05:42,  2.22it/s]"
     ]
    },
    {
     "name": "stdout",
     "output_type": "stream",
     "text": [
      "z = 0.25727262125376615\n",
      "-0.0052293577804802815\n",
      "0.4687390836919007\n"
     ]
    },
    {
     "name": "stderr",
     "output_type": "stream",
     "text": [
      " 24%|██▍       | 241/1000 [01:57<05:41,  2.22it/s]"
     ]
    },
    {
     "name": "stdout",
     "output_type": "stream",
     "text": [
      "z = 0.25719369258412617\n",
      "-0.009936691145618237\n",
      "0.4482264441279392\n"
     ]
    },
    {
     "name": "stderr",
     "output_type": "stream",
     "text": [
      " 24%|██▍       | 242/1000 [01:58<05:24,  2.33it/s]"
     ]
    },
    {
     "name": "stdout",
     "output_type": "stream",
     "text": [
      "z = 0.2576106067875612\n",
      "-0.0120310051918735\n",
      "0.46708453640812064\n"
     ]
    },
    {
     "name": "stderr",
     "output_type": "stream",
     "text": [
      " 24%|██▍       | 243/1000 [01:58<05:28,  2.30it/s]"
     ]
    },
    {
     "name": "stdout",
     "output_type": "stream",
     "text": [
      "z = 0.2585964807763331\n",
      "-0.009136093068431661\n",
      "0.5382285912380874\n"
     ]
    },
    {
     "name": "stderr",
     "output_type": "stream",
     "text": [
      " 24%|██▍       | 244/1000 [01:59<05:31,  2.28it/s]"
     ]
    },
    {
     "name": "stdout",
     "output_type": "stream",
     "text": [
      "z = 0.25871191055250653\n",
      "-0.008330316288231665\n",
      "0.5633403247248006\n"
     ]
    },
    {
     "name": "stderr",
     "output_type": "stream",
     "text": [
      " 24%|██▍       | 245/1000 [01:59<05:33,  2.27it/s]"
     ]
    },
    {
     "name": "stdout",
     "output_type": "stream",
     "text": [
      "z = 0.2592188754276949\n",
      "-0.004791383975093044\n",
      "0.6185968576467524\n"
     ]
    },
    {
     "name": "stderr",
     "output_type": "stream",
     "text": [
      " 25%|██▍       | 246/1000 [02:00<05:34,  2.25it/s]"
     ]
    },
    {
     "name": "stdout",
     "output_type": "stream",
     "text": [
      "z = 0.2595445755692298\n",
      "-0.00028453453356902525\n",
      "0.6728338653278294\n"
     ]
    },
    {
     "name": "stderr",
     "output_type": "stream",
     "text": [
      " 25%|██▍       | 247/1000 [02:00<05:35,  2.25it/s]"
     ]
    },
    {
     "name": "stdout",
     "output_type": "stream",
     "text": [
      "z = 0.25912318294769543\n",
      "0.002292199107303272\n",
      "0.6947560547123697\n"
     ]
    },
    {
     "name": "stderr",
     "output_type": "stream",
     "text": [
      " 25%|██▍       | 248/1000 [02:01<05:49,  2.15it/s]"
     ]
    },
    {
     "name": "stdout",
     "output_type": "stream",
     "text": [
      "z = 0.2588160745488566\n",
      "0.0052562773238388205\n",
      "0.7241263901823903\n"
     ]
    },
    {
     "name": "stderr",
     "output_type": "stream",
     "text": [
      " 25%|██▍       | 249/1000 [02:01<05:45,  2.17it/s]"
     ]
    },
    {
     "name": "stdout",
     "output_type": "stream",
     "text": [
      "z = 0.2585639367686608\n",
      "0.008807896418695504\n",
      "0.7598180468751933\n"
     ]
    },
    {
     "name": "stderr",
     "output_type": "stream",
     "text": [
      " 25%|██▌       | 250/1000 [02:01<05:42,  2.19it/s]"
     ]
    },
    {
     "name": "stdout",
     "output_type": "stream",
     "text": [
      "z = 0.25725598513898884\n",
      "0.007048917297852841\n",
      "0.7329053575662168\n"
     ]
    },
    {
     "name": "stderr",
     "output_type": "stream",
     "text": [
      " 25%|██▌       | 251/1000 [02:02<05:40,  2.20it/s]"
     ]
    },
    {
     "name": "stdout",
     "output_type": "stream",
     "text": [
      "z = 0.25695520102928554\n",
      "0.0068205178133309285\n",
      "0.7451405056346405\n"
     ]
    },
    {
     "name": "stderr",
     "output_type": "stream",
     "text": [
      " 25%|██▌       | 252/1000 [02:02<05:38,  2.21it/s]"
     ]
    },
    {
     "name": "stdout",
     "output_type": "stream",
     "text": [
      "z = 0.25633168142219864\n",
      "0.004143608240598229\n",
      "0.7308522851837579\n"
     ]
    },
    {
     "name": "stderr",
     "output_type": "stream",
     "text": [
      " 25%|██▌       | 253/1000 [02:03<05:37,  2.21it/s]"
     ]
    },
    {
     "name": "stdout",
     "output_type": "stream",
     "text": [
      "z = 0.25584398715409773\n",
      "-0.0006211512576201894\n",
      "0.7057833337715783\n"
     ]
    },
    {
     "name": "stderr",
     "output_type": "stream",
     "text": [
      " 25%|██▌       | 254/1000 [02:03<05:36,  2.22it/s]"
     ]
    },
    {
     "name": "stdout",
     "output_type": "stream",
     "text": [
      "z = 0.25603273009394667\n",
      "-0.0033160134906364824\n",
      "0.7180175857347983\n"
     ]
    },
    {
     "name": "stderr",
     "output_type": "stream",
     "text": [
      " 26%|██▌       | 255/1000 [02:04<05:34,  2.23it/s]"
     ]
    },
    {
     "name": "stdout",
     "output_type": "stream",
     "text": [
      "z = 0.25698313400443\n",
      "-0.0007601729120879641\n",
      "0.7891852532338595\n"
     ]
    },
    {
     "name": "stderr",
     "output_type": "stream",
     "text": [
      " 26%|██▌       | 256/1000 [02:04<05:34,  2.23it/s]"
     ]
    },
    {
     "name": "stdout",
     "output_type": "stream",
     "text": [
      "z = 0.2570999338354032\n",
      "0.00033819907892995715\n",
      "0.822246857414989\n"
     ]
    },
    {
     "name": "stderr",
     "output_type": "stream",
     "text": [
      " 26%|██▌       | 257/1000 [02:05<05:32,  2.23it/s]"
     ]
    },
    {
     "name": "stdout",
     "output_type": "stream",
     "text": [
      "z = 0.25677907820889134\n",
      "3.549722834561564e-07\n",
      "0.8338239597325983\n"
     ]
    },
    {
     "name": "stderr",
     "output_type": "stream",
     "text": [
      " 26%|██▌       | 258/1000 [02:05<05:32,  2.23it/s]"
     ]
    },
    {
     "name": "stdout",
     "output_type": "stream",
     "text": [
      "z = 0.2567162957924304\n",
      "0.0007251979265685549\n",
      "0.8600809146237379\n"
     ]
    },
    {
     "name": "stderr",
     "output_type": "stream",
     "text": [
      " 26%|██▌       | 259/1000 [02:05<05:30,  2.24it/s]"
     ]
    },
    {
     "name": "stdout",
     "output_type": "stream",
     "text": [
      "z = 0.2564180817716088\n",
      "0.000811478109770225\n",
      "0.8752555269583305\n"
     ]
    },
    {
     "name": "stderr",
     "output_type": "stream",
     "text": [
      " 26%|██▌       | 260/1000 [02:06<05:30,  2.24it/s]"
     ]
    },
    {
     "name": "stdout",
     "output_type": "stream",
     "text": [
      "z = 0.25559220725260823\n",
      "-0.0028111720624884873\n",
      "0.8505870627174379\n"
     ]
    },
    {
     "name": "stderr",
     "output_type": "stream",
     "text": [
      " 26%|██▌       | 261/1000 [02:06<05:31,  2.23it/s]"
     ]
    },
    {
     "name": "stdout",
     "output_type": "stream",
     "text": [
      "z = 0.25557114150980376\n",
      "-0.004616538148122018\n",
      "0.8626366134212596\n"
     ]
    },
    {
     "name": "stderr",
     "output_type": "stream",
     "text": [
      " 26%|██▌       | 262/1000 [02:07<05:30,  2.23it/s]"
     ]
    },
    {
     "name": "stdout",
     "output_type": "stream",
     "text": [
      "z = 0.25518464636260385\n",
      "-0.008657462351998713\n",
      "0.847913165629308\n"
     ]
    },
    {
     "name": "stderr",
     "output_type": "stream",
     "text": [
      " 26%|██▋       | 263/1000 [02:07<05:28,  2.24it/s]"
     ]
    },
    {
     "name": "stdout",
     "output_type": "stream",
     "text": [
      "z = 0.25549431310316756\n",
      "-0.0098177223343765\n",
      "0.8752548991256441\n"
     ]
    },
    {
     "name": "stderr",
     "output_type": "stream",
     "text": [
      " 26%|██▋       | 264/1000 [02:08<05:28,  2.24it/s]"
     ]
    },
    {
     "name": "stdout",
     "output_type": "stream",
     "text": [
      "z = 0.2551181990886029\n",
      "-0.014076480579908623\n",
      "0.8594981730939167\n"
     ]
    },
    {
     "name": "stderr",
     "output_type": "stream",
     "text": [
      " 26%|██▋       | 265/1000 [02:08<05:27,  2.24it/s]"
     ]
    },
    {
     "name": "stdout",
     "output_type": "stream",
     "text": [
      "z = 0.25505214172822965\n",
      "-0.018061741543766052\n",
      "0.8569816314568675\n"
     ]
    },
    {
     "name": "stderr",
     "output_type": "stream",
     "text": [
      " 27%|██▋       | 266/1000 [02:09<05:43,  2.14it/s]"
     ]
    },
    {
     "name": "stdout",
     "output_type": "stream",
     "text": [
      "z = 0.2549439543024314\n",
      "-0.022650730438140143\n",
      "0.849670748419106\n"
     ]
    },
    {
     "name": "stderr",
     "output_type": "stream",
     "text": [
      " 27%|██▋       | 267/1000 [02:09<05:37,  2.17it/s]"
     ]
    },
    {
     "name": "stdout",
     "output_type": "stream",
     "text": [
      "z = 0.2550205622575004\n",
      "-0.026425087762984023\n",
      "0.8551270572042569\n"
     ]
    },
    {
     "name": "stderr",
     "output_type": "stream",
     "text": [
      " 27%|██▋       | 268/1000 [02:10<05:32,  2.20it/s]"
     ]
    },
    {
     "name": "stdout",
     "output_type": "stream",
     "text": [
      "z = 0.2556271982448701\n",
      "-0.02640591266550607\n",
      "0.9010342853360325\n"
     ]
    },
    {
     "name": "stderr",
     "output_type": "stream",
     "text": [
      " 27%|██▋       | 269/1000 [02:10<05:30,  2.21it/s]"
     ]
    },
    {
     "name": "stdout",
     "output_type": "stream",
     "text": [
      "z = 0.2554314045092135\n",
      "-0.028813160911791535\n",
      "0.9029111138715271\n"
     ]
    },
    {
     "name": "stderr",
     "output_type": "stream",
     "text": [
      " 27%|██▋       | 270/1000 [02:11<05:44,  2.12it/s]"
     ]
    },
    {
     "name": "stdout",
     "output_type": "stream",
     "text": [
      "z = 0.25514738134210707\n",
      "-0.0322226440444362\n",
      "0.8969123322213411\n"
     ]
    },
    {
     "name": "stderr",
     "output_type": "stream",
     "text": [
      " 27%|██▋       | 271/1000 [02:11<05:23,  2.25it/s]"
     ]
    },
    {
     "name": "stdout",
     "output_type": "stream",
     "text": [
      "z = 0.2548956935326644\n",
      "-0.036185095537571654\n",
      "0.8895250652535667\n"
     ]
    },
    {
     "name": "stderr",
     "output_type": "stream",
     "text": [
      " 27%|██▋       | 272/1000 [02:11<05:23,  2.25it/s]"
     ]
    },
    {
     "name": "stdout",
     "output_type": "stream",
     "text": [
      "z = 0.25574860200794514\n",
      "-0.03442849958872973\n",
      "0.9510098787569407\n"
     ]
    },
    {
     "name": "stderr",
     "output_type": "stream",
     "text": [
      " 27%|██▋       | 273/1000 [02:12<05:24,  2.24it/s]"
     ]
    },
    {
     "name": "stdout",
     "output_type": "stream",
     "text": [
      "z = 0.25582695655182813\n",
      "-0.03400392392925122\n",
      "0.9741791218661471\n"
     ]
    },
    {
     "name": "stderr",
     "output_type": "stream",
     "text": [
      " 27%|██▋       | 274/1000 [02:12<05:24,  2.24it/s]"
     ]
    },
    {
     "name": "stdout",
     "output_type": "stream",
     "text": [
      "z = 0.25668042971946214\n",
      "-0.029489459038660626\n",
      "1.0396749444375755\n"
     ]
    },
    {
     "name": "stderr",
     "output_type": "stream",
     "text": [
      " 28%|██▊       | 275/1000 [02:13<05:23,  2.24it/s]"
     ]
    },
    {
     "name": "stdout",
     "output_type": "stream",
     "text": [
      "z = 0.2573927209373603\n",
      "-0.02342352845632123\n",
      "1.1029079138943565\n"
     ]
    },
    {
     "name": "stderr",
     "output_type": "stream",
     "text": [
      " 28%|██▊       | 276/1000 [02:13<05:23,  2.24it/s]"
     ]
    },
    {
     "name": "stdout",
     "output_type": "stream",
     "text": [
      "z = 0.2562628732890314\n",
      "-0.023031017641264362\n",
      "1.0876422494342162\n"
     ]
    },
    {
     "name": "stderr",
     "output_type": "stream",
     "text": [
      " 28%|██▊       | 277/1000 [02:14<05:23,  2.23it/s]"
     ]
    },
    {
     "name": "stdout",
     "output_type": "stream",
     "text": [
      "z = 0.25559978604874134\n",
      "-0.023170406406932686\n",
      "1.083252347195579\n"
     ]
    },
    {
     "name": "stderr",
     "output_type": "stream",
     "text": [
      " 28%|██▊       | 278/1000 [02:14<05:22,  2.24it/s]"
     ]
    },
    {
     "name": "stdout",
     "output_type": "stream",
     "text": [
      "z = 0.25635271535795295\n",
      "-0.018232701941653273\n",
      "1.1430376038540004\n"
     ]
    },
    {
     "name": "stderr",
     "output_type": "stream",
     "text": [
      " 28%|██▊       | 279/1000 [02:15<05:49,  2.06it/s]"
     ]
    },
    {
     "name": "stdout",
     "output_type": "stream",
     "text": [
      "z = 0.2562018969574331\n",
      "-0.014649819142935061\n",
      "1.1689360583169783\n"
     ]
    },
    {
     "name": "stderr",
     "output_type": "stream",
     "text": [
      " 28%|██▊       | 280/1000 [02:15<05:40,  2.12it/s]"
     ]
    },
    {
     "name": "stdout",
     "output_type": "stream",
     "text": [
      "z = 0.2566371569704222\n",
      "-0.008426182774162294\n",
      "1.2224182715017378\n"
     ]
    },
    {
     "name": "stderr",
     "output_type": "stream",
     "text": [
      " 28%|██▊       | 281/1000 [02:15<05:36,  2.14it/s]"
     ]
    },
    {
     "name": "stdout",
     "output_type": "stream",
     "text": [
      "z = 0.25535059687622275\n",
      "-0.007202873216988426\n",
      "1.2075395948573577\n"
     ]
    },
    {
     "name": "stderr",
     "output_type": "stream",
     "text": [
      " 28%|██▊       | 282/1000 [02:16<05:52,  2.04it/s]"
     ]
    },
    {
     "name": "stdout",
     "output_type": "stream",
     "text": [
      "z = 0.2541337903903562\n",
      "-0.008564494833437797\n",
      "1.1799878206547123\n"
     ]
    },
    {
     "name": "stderr",
     "output_type": "stream",
     "text": [
      " 28%|██▊       | 283/1000 [02:17<05:47,  2.07it/s]"
     ]
    },
    {
     "name": "stdout",
     "output_type": "stream",
     "text": [
      "z = 0.25366082012363217\n",
      "-0.009362373576008887\n",
      "1.1736756634392642\n"
     ]
    },
    {
     "name": "stderr",
     "output_type": "stream",
     "text": [
      " 28%|██▊       | 284/1000 [02:17<06:58,  1.71it/s]"
     ]
    },
    {
     "name": "stdout",
     "output_type": "stream",
     "text": [
      "z = 0.2543781754914345\n",
      "-0.005573334101414029\n",
      "1.2219762672435839\n"
     ]
    },
    {
     "name": "stderr",
     "output_type": "stream",
     "text": [
      " 28%|██▊       | 285/1000 [02:18<07:06,  1.68it/s]"
     ]
    },
    {
     "name": "stdout",
     "output_type": "stream",
     "text": [
      "z = 0.25482637511129336\n",
      "-0.0007435968660489678\n",
      "1.2650388066850522\n"
     ]
    },
    {
     "name": "stderr",
     "output_type": "stream",
     "text": [
      " 29%|██▊       | 286/1000 [02:18<06:56,  1.72it/s]"
     ]
    },
    {
     "name": "stdout",
     "output_type": "stream",
     "text": [
      "z = 0.25379825810681544\n",
      "-0.00010984553921244977\n",
      "1.2494830896523133\n"
     ]
    },
    {
     "name": "stderr",
     "output_type": "stream",
     "text": [
      " 29%|██▊       | 287/1000 [02:20<09:49,  1.21it/s]"
     ]
    },
    {
     "name": "stdout",
     "output_type": "stream",
     "text": [
      "z = 0.25261597379983\n",
      "-0.0025316202447176472\n",
      "1.2120329980288322\n"
     ]
    },
    {
     "name": "stderr",
     "output_type": "stream",
     "text": [
      " 29%|██▉       | 288/1000 [02:21<11:08,  1.07it/s]"
     ]
    },
    {
     "name": "stdout",
     "output_type": "stream",
     "text": [
      "z = 0.2522331660438721\n",
      "-0.004402069595226488\n",
      "1.196425094421544\n"
     ]
    },
    {
     "name": "stderr",
     "output_type": "stream",
     "text": [
      " 29%|██▉       | 289/1000 [02:22<09:28,  1.25it/s]"
     ]
    },
    {
     "name": "stdout",
     "output_type": "stream",
     "text": [
      "z = 0.252035172659434\n",
      "-0.00614572635562971\n",
      "1.1849537420023055\n"
     ]
    },
    {
     "name": "stderr",
     "output_type": "stream",
     "text": [
      " 29%|██▉       | 290/1000 [02:22<09:40,  1.22it/s]"
     ]
    },
    {
     "name": "stdout",
     "output_type": "stream",
     "text": [
      "z = 0.25216875103091874\n",
      "-0.006575805979037841\n",
      "1.1885286968064386\n"
     ]
    },
    {
     "name": "stderr",
     "output_type": "stream",
     "text": [
      " 29%|██▉       | 291/1000 [02:23<08:45,  1.35it/s]"
     ]
    },
    {
     "name": "stdout",
     "output_type": "stream",
     "text": [
      "z = 0.25170663261332965\n",
      "-0.009275998832703358\n",
      "1.161887682449016\n"
     ]
    },
    {
     "name": "stderr",
     "output_type": "stream",
     "text": [
      " 29%|██▉       | 292/1000 [02:23<07:48,  1.51it/s]"
     ]
    },
    {
     "name": "stdout",
     "output_type": "stream",
     "text": [
      "z = 0.2522183966515367\n",
      "-0.008617947358139033\n",
      "1.1795530411571726\n"
     ]
    },
    {
     "name": "stderr",
     "output_type": "stream",
     "text": [
      " 29%|██▉       | 293/1000 [02:24<07:21,  1.60it/s]"
     ]
    },
    {
     "name": "stdout",
     "output_type": "stream",
     "text": [
      "z = 0.2524216505931379\n",
      "-0.007670345251220456\n",
      "1.187796600192262\n"
     ]
    },
    {
     "name": "stderr",
     "output_type": "stream",
     "text": [
      " 29%|██▉       | 294/1000 [02:24<06:47,  1.73it/s]"
     ]
    },
    {
     "name": "stdout",
     "output_type": "stream",
     "text": [
      "z = 0.2533228476817821\n",
      "-0.00316297111614694\n",
      "1.2302525492763108\n"
     ]
    },
    {
     "name": "stderr",
     "output_type": "stream",
     "text": [
      " 30%|██▉       | 295/1000 [02:25<06:22,  1.84it/s]"
     ]
    },
    {
     "name": "stdout",
     "output_type": "stream",
     "text": [
      "z = 0.25236850080396583\n",
      "-0.003808325257981804\n",
      "1.1979700934619324\n"
     ]
    },
    {
     "name": "stderr",
     "output_type": "stream",
     "text": [
      " 30%|██▉       | 296/1000 [02:25<06:22,  1.84it/s]"
     ]
    },
    {
     "name": "stdout",
     "output_type": "stream",
     "text": [
      "z = 0.2525017425460921\n",
      "-0.002099656455650911\n",
      "1.2048202050269838\n"
     ]
    },
    {
     "name": "stderr",
     "output_type": "stream",
     "text": [
      " 30%|██▉       | 297/1000 [02:26<06:05,  1.92it/s]"
     ]
    },
    {
     "name": "stdout",
     "output_type": "stream",
     "text": [
      "z = 0.25285696961751614\n",
      "0.0013564432390151815\n",
      "1.2242107657159118\n"
     ]
    },
    {
     "name": "stderr",
     "output_type": "stream",
     "text": [
      " 30%|██▉       | 298/1000 [02:26<05:53,  1.99it/s]"
     ]
    },
    {
     "name": "stdout",
     "output_type": "stream",
     "text": [
      "z = 0.2530739516997308\n",
      "0.005615167555199085\n",
      "1.2429557255070516\n"
     ]
    },
    {
     "name": "stderr",
     "output_type": "stream",
     "text": [
      " 30%|██▉       | 299/1000 [02:27<06:00,  1.95it/s]"
     ]
    },
    {
     "name": "stdout",
     "output_type": "stream",
     "text": [
      "z = 0.2517680548218269\n",
      "0.0050121146144357365\n",
      "1.1999071226641165\n"
     ]
    },
    {
     "name": "stderr",
     "output_type": "stream",
     "text": [
      " 30%|███       | 300/1000 [02:27<05:47,  2.01it/s]"
     ]
    },
    {
     "name": "stdout",
     "output_type": "stream",
     "text": [
      "z = 0.2507242445022928\n",
      "0.002011452633822519\n",
      "1.147718384025679\n"
     ]
    },
    {
     "name": "stderr",
     "output_type": "stream",
     "text": [
      " 30%|███       | 301/1000 [02:28<05:41,  2.05it/s]"
     ]
    },
    {
     "name": "stdout",
     "output_type": "stream",
     "text": [
      "z = 0.2502556872422048\n",
      "-0.0016374757292629827\n",
      "1.104054294911589\n"
     ]
    },
    {
     "name": "stderr",
     "output_type": "stream",
     "text": [
      " 30%|███       | 302/1000 [02:28<05:55,  1.96it/s]"
     ]
    },
    {
     "name": "stdout",
     "output_type": "stream",
     "text": [
      "z = 0.24998949749915045\n",
      "-0.006234264004364221\n",
      "1.0589181904990022\n"
     ]
    },
    {
     "name": "stderr",
     "output_type": "stream",
     "text": [
      " 30%|███       | 303/1000 [02:29<05:44,  2.02it/s]"
     ]
    },
    {
     "name": "stdout",
     "output_type": "stream",
     "text": [
      "z = 0.24982085086534017\n",
      "-0.012052475408275143\n",
      "1.008802687407231\n"
     ]
    },
    {
     "name": "stderr",
     "output_type": "stream",
     "text": [
      " 30%|███       | 304/1000 [02:29<05:37,  2.06it/s]"
     ]
    },
    {
     "name": "stdout",
     "output_type": "stream",
     "text": [
      "z = 0.24998170486491555\n",
      "-0.017644082674986517\n",
      "0.9700070727925991\n"
     ]
    },
    {
     "name": "stderr",
     "output_type": "stream",
     "text": [
      " 30%|███       | 305/1000 [02:30<06:15,  1.85it/s]"
     ]
    },
    {
     "name": "stdout",
     "output_type": "stream",
     "text": [
      "z = 0.2511247545849483\n",
      "-0.018613612502198285\n",
      "0.9854650414498669\n"
     ]
    },
    {
     "name": "stderr",
     "output_type": "stream",
     "text": [
      " 31%|███       | 306/1000 [02:31<07:05,  1.63it/s]"
     ]
    },
    {
     "name": "stdout",
     "output_type": "stream",
     "text": [
      "z = 0.2523200379936201\n",
      "-0.01709802348988676\n",
      "1.010366923557496\n"
     ]
    },
    {
     "name": "stderr",
     "output_type": "stream",
     "text": [
      " 31%|███       | 307/1000 [02:32<08:01,  1.44it/s]"
     ]
    },
    {
     "name": "stdout",
     "output_type": "stream",
     "text": [
      "z = 0.2528052878370328\n",
      "-0.016013753010247878\n",
      "1.011239726091099\n"
     ]
    },
    {
     "name": "stderr",
     "output_type": "stream",
     "text": [
      " 31%|███       | 308/1000 [02:33<09:54,  1.16it/s]"
     ]
    },
    {
     "name": "stdout",
     "output_type": "stream",
     "text": [
      "z = 0.25269187847304814\n",
      "-0.01622761873478684\n",
      "0.9897891262701877\n"
     ]
    },
    {
     "name": "stderr",
     "output_type": "stream",
     "text": [
      " 31%|███       | 309/1000 [02:34<11:21,  1.01it/s]"
     ]
    },
    {
     "name": "stdout",
     "output_type": "stream",
     "text": [
      "z = 0.2534514952240371\n",
      "-0.01341713237527875\n",
      "1.0051117827420153\n"
     ]
    },
    {
     "name": "stderr",
     "output_type": "stream",
     "text": [
      " 31%|███       | 310/1000 [02:35<11:04,  1.04it/s]"
     ]
    },
    {
     "name": "stdout",
     "output_type": "stream",
     "text": [
      "z = 0.2531895713543072\n",
      "-0.012659131527434364\n",
      "0.9836620166803606\n"
     ]
    },
    {
     "name": "stderr",
     "output_type": "stream",
     "text": [
      " 31%|███       | 311/1000 [02:37<12:32,  1.09s/it]"
     ]
    },
    {
     "name": "stdout",
     "output_type": "stream",
     "text": [
      "z = 0.25429602019378517\n",
      "-0.007654728473681316\n",
      "1.0163375693241128\n"
     ]
    },
    {
     "name": "stderr",
     "output_type": "stream",
     "text": [
      " 31%|███       | 312/1000 [02:37<11:38,  1.02s/it]"
     ]
    },
    {
     "name": "stdout",
     "output_type": "stream",
     "text": [
      "z = 0.2552574732444486\n",
      "-0.001085013174957683\n",
      "1.0503552685581714\n"
     ]
    },
    {
     "name": "stderr",
     "output_type": "stream",
     "text": [
      " 31%|███▏      | 313/1000 [02:38<11:00,  1.04it/s]"
     ]
    },
    {
     "name": "stdout",
     "output_type": "stream",
     "text": [
      "z = 0.25520654037797963\n",
      "0.004340413107033814\n",
      "1.0564222224281203\n"
     ]
    },
    {
     "name": "stderr",
     "output_type": "stream",
     "text": [
      " 31%|███▏      | 314/1000 [02:39<10:03,  1.14it/s]"
     ]
    },
    {
     "name": "stdout",
     "output_type": "stream",
     "text": [
      "z = 0.2552123798087653\n",
      "0.010421538831026589\n",
      "1.068190368983345\n"
     ]
    },
    {
     "name": "stderr",
     "output_type": "stream",
     "text": [
      " 32%|███▏      | 315/1000 [02:39<08:38,  1.32it/s]"
     ]
    },
    {
     "name": "stdout",
     "output_type": "stream",
     "text": [
      "z = 0.25337813318222424\n",
      "0.011135309470827526\n",
      "1.0140252050144918\n"
     ]
    },
    {
     "name": "stderr",
     "output_type": "stream",
     "text": [
      " 32%|███▏      | 316/1000 [02:40<07:56,  1.44it/s]"
     ]
    },
    {
     "name": "stdout",
     "output_type": "stream",
     "text": [
      "z = 0.2526935920133945\n",
      "0.012132486028942235\n",
      "0.9861760171749473\n"
     ]
    },
    {
     "name": "stderr",
     "output_type": "stream",
     "text": [
      " 32%|███▏      | 317/1000 [02:40<07:11,  1.58it/s]"
     ]
    },
    {
     "name": "stdout",
     "output_type": "stream",
     "text": [
      "z = 0.2518578433649472\n",
      "0.011485519607560613\n",
      "0.9451925726567574\n"
     ]
    },
    {
     "name": "stderr",
     "output_type": "stream",
     "text": [
      " 32%|███▏      | 318/1000 [02:41<07:19,  1.55it/s]"
     ]
    },
    {
     "name": "stdout",
     "output_type": "stream",
     "text": [
      "z = 0.25136566311643554\n",
      "0.010250761083605231\n",
      "0.9083930258190469\n"
     ]
    },
    {
     "name": "stderr",
     "output_type": "stream",
     "text": [
      " 32%|███▏      | 319/1000 [02:42<07:27,  1.52it/s]"
     ]
    },
    {
     "name": "stdout",
     "output_type": "stream",
     "text": [
      "z = 0.25243825990227325\n",
      "0.013526886793123527\n",
      "0.9325602911172993\n"
     ]
    },
    {
     "name": "stderr",
     "output_type": "stream",
     "text": [
      " 32%|███▏      | 320/1000 [02:43<07:59,  1.42it/s]"
     ]
    },
    {
     "name": "stdout",
     "output_type": "stream",
     "text": [
      "z = 0.2513976199745706\n",
      "0.011267938833681157\n",
      "0.8769307346449013\n"
     ]
    },
    {
     "name": "stderr",
     "output_type": "stream",
     "text": [
      " 32%|███▏      | 321/1000 [02:43<07:30,  1.51it/s]"
     ]
    },
    {
     "name": "stdout",
     "output_type": "stream",
     "text": [
      "z = 0.2524854920906294\n",
      "0.013863949658337482\n",
      "0.8977770347301104\n"
     ]
    },
    {
     "name": "stderr",
     "output_type": "stream",
     "text": [
      " 32%|███▏      | 322/1000 [02:44<07:47,  1.45it/s]"
     ]
    },
    {
     "name": "stdout",
     "output_type": "stream",
     "text": [
      "z = 0.2523556313671495\n",
      "0.014505816456625964\n",
      "0.8792566996292509\n"
     ]
    },
    {
     "name": "stderr",
     "output_type": "stream",
     "text": [
      " 32%|███▏      | 323/1000 [02:44<07:23,  1.53it/s]"
     ]
    },
    {
     "name": "stdout",
     "output_type": "stream",
     "text": [
      "z = 0.2531264053672147\n",
      "0.01787824652509773\n",
      "0.8962399050812608\n"
     ]
    },
    {
     "name": "stderr",
     "output_type": "stream",
     "text": [
      " 32%|███▏      | 324/1000 [02:45<07:11,  1.57it/s]"
     ]
    },
    {
     "name": "stdout",
     "output_type": "stream",
     "text": [
      "z = 0.25240510700504293\n",
      "0.017985728298297254\n",
      "0.8627730535187073\n"
     ]
    },
    {
     "name": "stderr",
     "output_type": "stream",
     "text": [
      " 32%|███▎      | 325/1000 [02:46<07:33,  1.49it/s]"
     ]
    },
    {
     "name": "stdout",
     "output_type": "stream",
     "text": [
      "z = 0.2512248712276881\n",
      "0.014545469884443607\n",
      "0.7991805732269404\n"
     ]
    },
    {
     "name": "stderr",
     "output_type": "stream",
     "text": [
      " 33%|███▎      | 326/1000 [02:46<06:53,  1.63it/s]"
     ]
    },
    {
     "name": "stdout",
     "output_type": "stream",
     "text": [
      "z = 0.2514653349525968\n",
      "0.013126283189159316\n",
      "0.7795452108345505\n"
     ]
    },
    {
     "name": "stderr",
     "output_type": "stream",
     "text": [
      " 33%|███▎      | 327/1000 [02:47<06:44,  1.66it/s]"
     ]
    },
    {
     "name": "stdout",
     "output_type": "stream",
     "text": [
      "z = 0.2513628592193978\n",
      "0.01069788763027324\n",
      "0.7462477419563897\n"
     ]
    },
    {
     "name": "stderr",
     "output_type": "stream",
     "text": [
      " 33%|███▎      | 328/1000 [02:47<06:45,  1.66it/s]"
     ]
    },
    {
     "name": "stdout",
     "output_type": "stream",
     "text": [
      "z = 0.25229382188361693\n",
      "0.01135527098643141\n",
      "0.7550382188684265\n"
     ]
    },
    {
     "name": "stderr",
     "output_type": "stream",
     "text": [
      " 33%|███▎      | 329/1000 [02:48<06:36,  1.69it/s]"
     ]
    },
    {
     "name": "stdout",
     "output_type": "stream",
     "text": [
      "z = 0.25182839438821836\n",
      "0.008606967061572601\n",
      "0.7125742388917021\n"
     ]
    },
    {
     "name": "stderr",
     "output_type": "stream",
     "text": [
      " 33%|███▎      | 330/1000 [02:49<06:30,  1.72it/s]"
     ]
    },
    {
     "name": "stdout",
     "output_type": "stream",
     "text": [
      "z = 0.2512098378990172\n",
      "0.0031958658597469602\n",
      "0.6525211989491689\n"
     ]
    },
    {
     "name": "stderr",
     "output_type": "stream",
     "text": [
      " 33%|███▎      | 331/1000 [02:49<06:05,  1.83it/s]"
     ]
    },
    {
     "name": "stdout",
     "output_type": "stream",
     "text": [
      "z = 0.25216133740984364\n",
      "0.001456295954804454\n",
      "0.652491904721378\n"
     ]
    },
    {
     "name": "stderr",
     "output_type": "stream",
     "text": [
      " 33%|███▎      | 332/1000 [02:50<06:06,  1.82it/s]"
     ]
    },
    {
     "name": "stdout",
     "output_type": "stream",
     "text": [
      "z = 0.25275953359100845\n",
      "2.3142409886434123e-05\n",
      "0.6452001093627296\n"
     ]
    },
    {
     "name": "stderr",
     "output_type": "stream",
     "text": [
      " 33%|███▎      | 333/1000 [02:50<06:10,  1.80it/s]"
     ]
    },
    {
     "name": "stdout",
     "output_type": "stream",
     "text": [
      "z = 0.2527587513077855\n",
      "-0.002812609669238686\n",
      "0.6171836270018993\n"
     ]
    },
    {
     "name": "stderr",
     "output_type": "stream",
     "text": [
      " 33%|███▎      | 334/1000 [02:51<05:55,  1.87it/s]"
     ]
    },
    {
     "name": "stdout",
     "output_type": "stream",
     "text": [
      "z = 0.25239249813293985\n",
      "-0.0077897042711086995\n",
      "0.5706175184302779\n"
     ]
    },
    {
     "name": "stderr",
     "output_type": "stream",
     "text": [
      " 34%|███▎      | 335/1000 [02:51<06:45,  1.64it/s]"
     ]
    },
    {
     "name": "stdout",
     "output_type": "stream",
     "text": [
      "z = 0.2522111588352409\n",
      "-0.01395363816855777\n",
      "0.5247078410270264\n"
     ]
    },
    {
     "name": "stderr",
     "output_type": "stream",
     "text": [
      " 34%|███▎      | 336/1000 [02:52<06:15,  1.77it/s]"
     ]
    },
    {
     "name": "stdout",
     "output_type": "stream",
     "text": [
      "z = 0.25261036766879896\n",
      "-0.019110993033703005\n",
      "0.5018189871320899\n"
     ]
    },
    {
     "name": "stderr",
     "output_type": "stream",
     "text": [
      " 34%|███▎      | 337/1000 [02:52<06:14,  1.77it/s]"
     ]
    },
    {
     "name": "stdout",
     "output_type": "stream",
     "text": [
      "z = 0.2539126392861319\n",
      "-0.02060029758904036\n",
      "0.5214408834532169\n"
     ]
    },
    {
     "name": "stderr",
     "output_type": "stream",
     "text": [
      " 34%|███▍      | 338/1000 [02:53<06:08,  1.80it/s]"
     ]
    },
    {
     "name": "stdout",
     "output_type": "stream",
     "text": [
      "z = 0.2555754121036983\n",
      "-0.018988426735191744\n",
      "0.5615551798131695\n"
     ]
    },
    {
     "name": "stderr",
     "output_type": "stream",
     "text": [
      " 34%|███▍      | 339/1000 [02:53<05:46,  1.91it/s]"
     ]
    },
    {
     "name": "stdout",
     "output_type": "stream",
     "text": [
      "z = 0.2560701096496669\n",
      "-0.01855105754780395\n",
      "0.5666014627003598\n"
     ]
    },
    {
     "name": "stderr",
     "output_type": "stream",
     "text": [
      " 34%|███▍      | 340/1000 [02:54<05:35,  1.97it/s]"
     ]
    },
    {
     "name": "stdout",
     "output_type": "stream",
     "text": [
      "z = 0.2566928874402308\n",
      "-0.0170906192175575\n",
      "0.580393226249722\n"
     ]
    },
    {
     "name": "stderr",
     "output_type": "stream",
     "text": [
      " 34%|███▍      | 341/1000 [02:54<05:26,  2.02it/s]"
     ]
    },
    {
     "name": "stdout",
     "output_type": "stream",
     "text": [
      "z = 0.25712481309759927\n",
      "-0.015217355282521883\n",
      "0.5922001071566388\n"
     ]
    },
    {
     "name": "stderr",
     "output_type": "stream",
     "text": [
      " 34%|███▍      | 342/1000 [02:55<05:34,  1.97it/s]"
     ]
    },
    {
     "name": "stdout",
     "output_type": "stream",
     "text": [
      "z = 0.25800965083545324\n",
      "-0.011393460543966172\n",
      "0.6235934105390454\n"
     ]
    },
    {
     "name": "stderr",
     "output_type": "stream",
     "text": [
      " 34%|███▍      | 343/1000 [02:55<05:24,  2.02it/s]"
     ]
    },
    {
     "name": "stdout",
     "output_type": "stream",
     "text": [
      "z = 0.25805211124251887\n",
      "-0.008470429859515294\n",
      "0.6331305447165069\n"
     ]
    },
    {
     "name": "stderr",
     "output_type": "stream",
     "text": [
      " 34%|███▍      | 344/1000 [02:56<05:43,  1.91it/s]"
     ]
    },
    {
     "name": "stdout",
     "output_type": "stream",
     "text": [
      "z = 0.25913200059970676\n",
      "-0.002634015215283503\n",
      "0.679670865132661\n"
     ]
    },
    {
     "name": "stderr",
     "output_type": "stream",
     "text": [
      " 34%|███▍      | 345/1000 [02:56<05:30,  1.98it/s]"
     ]
    },
    {
     "name": "stdout",
     "output_type": "stream",
     "text": [
      "z = 0.25892866441834106\n",
      "0.0016438371405431695\n",
      "0.6930328875005244\n"
     ]
    },
    {
     "name": "stderr",
     "output_type": "stream",
     "text": [
      " 35%|███▍      | 346/1000 [02:57<05:37,  1.94it/s]"
     ]
    },
    {
     "name": "stdout",
     "output_type": "stream",
     "text": [
      "z = 0.25815756184504024\n",
      "0.00432443188412468\n",
      "0.6899022580475362\n"
     ]
    },
    {
     "name": "stderr",
     "output_type": "stream",
     "text": [
      " 35%|███▍      | 347/1000 [02:58<05:48,  1.88it/s]"
     ]
    },
    {
     "name": "stdout",
     "output_type": "stream",
     "text": [
      "z = 0.25666333739388103\n",
      "0.0036465029436595353\n",
      "0.6573162612617205\n"
     ]
    },
    {
     "name": "stderr",
     "output_type": "stream",
     "text": [
      " 35%|███▍      | 348/1000 [02:58<05:35,  1.94it/s]"
     ]
    },
    {
     "name": "stdout",
     "output_type": "stream",
     "text": [
      "z = 0.2574156322479341\n",
      "0.006820520642509598\n",
      "0.6934626958503538\n"
     ]
    },
    {
     "name": "stderr",
     "output_type": "stream",
     "text": [
      " 35%|███▍      | 349/1000 [02:59<05:37,  1.93it/s]"
     ]
    },
    {
     "name": "stdout",
     "output_type": "stream",
     "text": [
      "z = 0.2577446413697902\n",
      "0.01031793398284786\n",
      "0.7221434949674039\n"
     ]
    },
    {
     "name": "stderr",
     "output_type": "stream",
     "text": [
      " 35%|███▌      | 350/1000 [02:59<05:28,  1.98it/s]"
     ]
    },
    {
     "name": "stdout",
     "output_type": "stream",
     "text": [
      "z = 0.2575303422121181\n",
      "0.013161706179357635\n",
      "0.7379373167431507\n"
     ]
    },
    {
     "name": "stderr",
     "output_type": "stream",
     "text": [
      " 35%|███▌      | 351/1000 [03:00<06:29,  1.67it/s]"
     ]
    },
    {
     "name": "stdout",
     "output_type": "stream",
     "text": [
      "z = 0.25671887030808666\n",
      "0.01432442203826001\n",
      "0.7347433301581962\n"
     ]
    },
    {
     "name": "stderr",
     "output_type": "stream",
     "text": [
      " 35%|███▌      | 352/1000 [03:01<06:44,  1.60it/s]"
     ]
    },
    {
     "name": "stdout",
     "output_type": "stream",
     "text": [
      "z = 0.25575422649284607\n",
      "0.013813190412458543\n",
      "0.721169987135443\n"
     ]
    },
    {
     "name": "stderr",
     "output_type": "stream",
     "text": [
      " 35%|███▌      | 353/1000 [03:01<06:38,  1.62it/s]"
     ]
    },
    {
     "name": "stdout",
     "output_type": "stream",
     "text": [
      "z = 0.25585571952413977\n",
      "0.01494196999869657\n",
      "0.7397015093751192\n"
     ]
    },
    {
     "name": "stderr",
     "output_type": "stream",
     "text": [
      " 35%|███▌      | 354/1000 [03:02<06:12,  1.74it/s]"
     ]
    },
    {
     "name": "stdout",
     "output_type": "stream",
     "text": [
      "z = 0.25616446998338893\n",
      "0.01717437463776783\n",
      "0.7687974413115037\n"
     ]
    },
    {
     "name": "stderr",
     "output_type": "stream",
     "text": [
      " 36%|███▌      | 355/1000 [03:02<06:40,  1.61it/s]"
     ]
    },
    {
     "name": "stdout",
     "output_type": "stream",
     "text": [
      "z = 0.25500465488610136\n",
      "0.015705259613885025\n",
      "0.7489150707360734\n"
     ]
    },
    {
     "name": "stderr",
     "output_type": "stream",
     "text": [
      " 36%|███▌      | 356/1000 [03:03<07:17,  1.47it/s]"
     ]
    },
    {
     "name": "stdout",
     "output_type": "stream",
     "text": [
      "z = 0.25533230845802035\n",
      "0.01658897862555553\n",
      "0.7740271691141787\n"
     ]
    },
    {
     "name": "stderr",
     "output_type": "stream",
     "text": [
      " 36%|███▌      | 357/1000 [03:04<06:37,  1.62it/s]"
     ]
    },
    {
     "name": "stdout",
     "output_type": "stream",
     "text": [
      "z = 0.25517756530837843\n",
      "0.016895654030089968\n",
      "0.7862271361826006\n"
     ]
    },
    {
     "name": "stderr",
     "output_type": "stream",
     "text": [
      " 36%|███▌      | 358/1000 [03:04<06:04,  1.76it/s]"
     ]
    },
    {
     "name": "stdout",
     "output_type": "stream",
     "text": [
      "z = 0.2542098223402838\n",
      "0.014380117052304575\n",
      "0.7672289791588718\n"
     ]
    },
    {
     "name": "stderr",
     "output_type": "stream",
     "text": [
      " 36%|███▌      | 359/1000 [03:05<05:42,  1.87it/s]"
     ]
    },
    {
     "name": "stdout",
     "output_type": "stream",
     "text": [
      "z = 0.25427376734007057\n",
      "0.013128498707097203\n",
      "0.7780224951970685\n"
     ]
    },
    {
     "name": "stderr",
     "output_type": "stream",
     "text": [
      " 36%|███▌      | 360/1000 [03:05<05:44,  1.86it/s]"
     ]
    },
    {
     "name": "stdout",
     "output_type": "stream",
     "text": [
      "z = 0.2553433296391727\n",
      "0.015109237914310958\n",
      "0.8273627489938657\n"
     ]
    },
    {
     "name": "stderr",
     "output_type": "stream",
     "text": [
      " 36%|███▌      | 361/1000 [03:06<05:28,  1.95it/s]"
     ]
    },
    {
     "name": "stdout",
     "output_type": "stream",
     "text": [
      "z = 0.254919430658483\n",
      "0.014586597809516544\n",
      "0.8322854232659229\n"
     ]
    },
    {
     "name": "stderr",
     "output_type": "stream",
     "text": [
      " 36%|███▌      | 362/1000 [03:06<05:36,  1.90it/s]"
     ]
    },
    {
     "name": "stdout",
     "output_type": "stream",
     "text": [
      "z = 0.25422449103768374\n",
      "0.012374794458803628\n",
      "0.8236872894057357\n"
     ]
    },
    {
     "name": "stderr",
     "output_type": "stream",
     "text": [
      " 36%|███▋      | 363/1000 [03:07<05:41,  1.87it/s]"
     ]
    },
    {
     "name": "stdout",
     "output_type": "stream",
     "text": [
      "z = 0.2535949871433112\n",
      "0.008784789856234987\n",
      "0.8096097989780542\n"
     ]
    },
    {
     "name": "stderr",
     "output_type": "stream",
     "text": [
      " 36%|███▋      | 364/1000 [03:07<05:52,  1.80it/s]"
     ]
    },
    {
     "name": "stdout",
     "output_type": "stream",
     "text": [
      "z = 0.2532148402586932\n",
      "0.004331011176682775\n",
      "0.7970412743139985\n"
     ]
    },
    {
     "name": "stderr",
     "output_type": "stream",
     "text": [
      " 36%|███▋      | 365/1000 [03:08<05:38,  1.88it/s]"
     ]
    },
    {
     "name": "stdout",
     "output_type": "stream",
     "text": [
      "z = 0.2541793502241953\n",
      "0.0032521341941172954\n",
      "0.8331234993659294\n"
     ]
    },
    {
     "name": "stderr",
     "output_type": "stream",
     "text": [
      " 37%|███▋      | 366/1000 [03:08<05:23,  1.96it/s]"
     ]
    },
    {
     "name": "stdout",
     "output_type": "stream",
     "text": [
      "z = 0.2539265735387712\n",
      "-0.0001182190985760112\n",
      "0.8301471065933124\n"
     ]
    },
    {
     "name": "stderr",
     "output_type": "stream",
     "text": [
      " 37%|███▋      | 367/1000 [03:09<05:16,  2.00it/s]"
     ]
    },
    {
     "name": "stdout",
     "output_type": "stream",
     "text": [
      "z = 0.2542518048298084\n",
      "-0.0023831704415038235\n",
      "0.8470266806480068\n"
     ]
    },
    {
     "name": "stderr",
     "output_type": "stream",
     "text": [
      " 37%|███▋      | 368/1000 [03:09<05:23,  1.95it/s]"
     ]
    },
    {
     "name": "stdout",
     "output_type": "stream",
     "text": [
      "z = 0.25382822881645173\n",
      "-0.006686284020156585\n",
      "0.8372673883147904\n"
     ]
    },
    {
     "name": "stderr",
     "output_type": "stream",
     "text": [
      " 37%|███▋      | 369/1000 [03:10<05:12,  2.02it/s]"
     ]
    },
    {
     "name": "stdout",
     "output_type": "stream",
     "text": [
      "z = 0.2534595621152044\n",
      "-0.012198810841145713\n",
      "0.8240905497670068\n"
     ]
    },
    {
     "name": "stderr",
     "output_type": "stream",
     "text": [
      " 37%|███▋      | 370/1000 [03:10<05:03,  2.07it/s]"
     ]
    },
    {
     "name": "stdout",
     "output_type": "stream",
     "text": [
      "z = 0.25411599169044635\n",
      "-0.01530638436492282\n",
      "0.8479523942691434\n"
     ]
    },
    {
     "name": "stderr",
     "output_type": "stream",
     "text": [
      " 37%|███▋      | 371/1000 [03:11<05:29,  1.91it/s]"
     ]
    },
    {
     "name": "stdout",
     "output_type": "stream",
     "text": [
      "z = 0.2555472774794393\n",
      "-0.014909894370693455\n",
      "0.9048444370577854\n"
     ]
    },
    {
     "name": "stderr",
     "output_type": "stream",
     "text": [
      " 37%|███▋      | 372/1000 [03:11<05:41,  1.84it/s]"
     ]
    },
    {
     "name": "stdout",
     "output_type": "stream",
     "text": [
      "z = 0.25624689487988994\n",
      "-0.014336554056359252\n",
      "0.9441735782749596\n"
     ]
    },
    {
     "name": "stderr",
     "output_type": "stream",
     "text": [
      " 37%|███▋      | 373/1000 [03:12<06:15,  1.67it/s]"
     ]
    },
    {
     "name": "stdout",
     "output_type": "stream",
     "text": [
      "z = 0.25627391910639896\n",
      "-0.01448522539872632\n",
      "0.9657669641972229\n"
     ]
    },
    {
     "name": "stderr",
     "output_type": "stream",
     "text": [
      " 37%|███▋      | 374/1000 [03:13<06:34,  1.59it/s]"
     ]
    },
    {
     "name": "stdout",
     "output_type": "stream",
     "text": [
      "z = 0.25631006771394177\n",
      "-0.014436290365648752\n",
      "0.988908494541232\n"
     ]
    },
    {
     "name": "stderr",
     "output_type": "stream",
     "text": [
      " 38%|███▊      | 375/1000 [03:14<07:28,  1.39it/s]"
     ]
    },
    {
     "name": "stdout",
     "output_type": "stream",
     "text": [
      "z = 0.2557348543319529\n",
      "-0.016009488802493976\n",
      "0.9919783628190018\n"
     ]
    },
    {
     "name": "stderr",
     "output_type": "stream",
     "text": [
      " 38%|███▊      | 376/1000 [03:14<07:04,  1.47it/s]"
     ]
    },
    {
     "name": "stdout",
     "output_type": "stream",
     "text": [
      "z = 0.2568432989115017\n",
      "-0.013733642491238984\n",
      "1.048438621487762\n"
     ]
    },
    {
     "name": "stderr",
     "output_type": "stream",
     "text": [
      " 38%|███▊      | 377/1000 [03:15<07:28,  1.39it/s]"
     ]
    },
    {
     "name": "stdout",
     "output_type": "stream",
     "text": [
      "z = 0.25630727303664536\n",
      "-0.014097262873094318\n",
      "1.0575693878331505\n"
     ]
    },
    {
     "name": "stderr",
     "output_type": "stream",
     "text": [
      " 38%|███▊      | 378/1000 [03:16<06:38,  1.56it/s]"
     ]
    },
    {
     "name": "stdout",
     "output_type": "stream",
     "text": [
      "z = 0.2553456106972477\n",
      "-0.01677856640308728\n",
      "1.0481625594016362\n"
     ]
    },
    {
     "name": "stderr",
     "output_type": "stream",
     "text": [
      " 38%|███▊      | 379/1000 [03:16<06:03,  1.71it/s]"
     ]
    },
    {
     "name": "stdout",
     "output_type": "stream",
     "text": [
      "z = 0.25689580404392043\n",
      "-0.014070237797801033\n",
      "1.1157363313724635\n"
     ]
    },
    {
     "name": "stderr",
     "output_type": "stream",
     "text": [
      " 38%|███▊      | 380/1000 [03:16<05:36,  1.84it/s]"
     ]
    },
    {
     "name": "stdout",
     "output_type": "stream",
     "text": [
      "z = 0.2578872160613547\n",
      "-0.010369974648518854\n",
      "1.1727480067377813\n"
     ]
    },
    {
     "name": "stderr",
     "output_type": "stream",
     "text": [
      " 38%|███▊      | 381/1000 [03:17<05:19,  1.94it/s]"
     ]
    },
    {
     "name": "stdout",
     "output_type": "stream",
     "text": [
      "z = 0.25740925136045933\n",
      "-0.008771236929640436\n",
      "1.1914846070687004\n"
     ]
    },
    {
     "name": "stderr",
     "output_type": "stream",
     "text": [
      " 38%|███▊      | 382/1000 [03:17<05:09,  1.99it/s]"
     ]
    },
    {
     "name": "stdout",
     "output_type": "stream",
     "text": [
      "z = 0.2563737970773722\n",
      "-0.009289476932064056\n",
      "1.1903742488301066\n"
     ]
    },
    {
     "name": "stderr",
     "output_type": "stream",
     "text": [
      " 38%|███▊      | 383/1000 [03:18<05:02,  2.04it/s]"
     ]
    },
    {
     "name": "stdout",
     "output_type": "stream",
     "text": [
      "z = 0.25747243253833774\n",
      "-0.0056421995203065345\n",
      "1.2493698747806619\n"
     ]
    },
    {
     "name": "stderr",
     "output_type": "stream",
     "text": [
      " 38%|███▊      | 384/1000 [03:18<04:54,  2.09it/s]"
     ]
    },
    {
     "name": "stdout",
     "output_type": "stream",
     "text": [
      "z = 0.25803308438341116\n",
      "-0.0013504871259556461\n",
      "1.2987829396962658\n"
     ]
    },
    {
     "name": "stderr",
     "output_type": "stream",
     "text": [
      " 38%|███▊      | 385/1000 [03:19<05:03,  2.03it/s]"
     ]
    },
    {
     "name": "stdout",
     "output_type": "stream",
     "text": [
      "z = 0.2569973643329663\n",
      "0.00011013507566548508\n",
      "1.3060177999722056\n"
     ]
    },
    {
     "name": "stderr",
     "output_type": "stream",
     "text": [
      " 39%|███▊      | 386/1000 [03:19<04:55,  2.08it/s]"
     ]
    },
    {
     "name": "stdout",
     "output_type": "stream",
     "text": [
      "z = 0.25545628786017904\n",
      "-0.0013963446330444995\n",
      "1.2900702536809296\n"
     ]
    },
    {
     "name": "stderr",
     "output_type": "stream",
     "text": [
      " 39%|███▊      | 387/1000 [03:20<04:49,  2.12it/s]"
     ]
    },
    {
     "name": "stdout",
     "output_type": "stream",
     "text": [
      "z = 0.25557749858725354\n",
      "-0.0007954839705948125\n",
      "1.3148512961611982\n"
     ]
    },
    {
     "name": "stderr",
     "output_type": "stream",
     "text": [
      " 39%|███▉      | 388/1000 [03:20<04:46,  2.14it/s]"
     ]
    },
    {
     "name": "stdout",
     "output_type": "stream",
     "text": [
      "z = 0.25468045576096\n",
      "-0.002524032472715043\n",
      "1.3081703417219313\n"
     ]
    },
    {
     "name": "stderr",
     "output_type": "stream",
     "text": [
      " 39%|███▉      | 389/1000 [03:21<04:51,  2.09it/s]"
     ]
    },
    {
     "name": "stdout",
     "output_type": "stream",
     "text": [
      "z = 0.2559157624870099\n",
      "0.0001082033853402331\n",
      "1.3615111201803916\n"
     ]
    },
    {
     "name": "stderr",
     "output_type": "stream",
     "text": [
      " 39%|███▉      | 390/1000 [03:21<05:27,  1.86it/s]"
     ]
    },
    {
     "name": "stdout",
     "output_type": "stream",
     "text": [
      "z = 0.25468390851017114\n",
      "-0.0018807556249424984\n",
      "1.3454875451636648\n"
     ]
    },
    {
     "name": "stderr",
     "output_type": "stream",
     "text": [
      " 39%|███▉      | 391/1000 [03:22<05:15,  1.93it/s]"
     ]
    },
    {
     "name": "stdout",
     "output_type": "stream",
     "text": [
      "z = 0.25448494619201517\n",
      "-0.003236489527090214\n",
      "1.3518295155103393\n"
     ]
    },
    {
     "name": "stderr",
     "output_type": "stream",
     "text": [
      " 39%|███▉      | 392/1000 [03:22<05:27,  1.85it/s]"
     ]
    },
    {
     "name": "stdout",
     "output_type": "stream",
     "text": [
      "z = 0.2534611150633692\n",
      "-0.0073237808958291906\n",
      "1.3284432302623215\n"
     ]
    },
    {
     "name": "stderr",
     "output_type": "stream",
     "text": [
      " 39%|███▉      | 393/1000 [03:23<05:15,  1.93it/s]"
     ]
    },
    {
     "name": "stdout",
     "output_type": "stream",
     "text": [
      "z = 0.25499622820945017\n",
      "-0.0062242282522775305\n",
      "1.377592660958789\n"
     ]
    },
    {
     "name": "stderr",
     "output_type": "stream",
     "text": [
      " 39%|███▉      | 394/1000 [03:23<05:03,  2.00it/s]"
     ]
    },
    {
     "name": "stdout",
     "output_type": "stream",
     "text": [
      "z = 0.2553141643587872\n",
      "-0.005794481991876044\n",
      "1.397284623139305\n"
     ]
    },
    {
     "name": "stderr",
     "output_type": "stream",
     "text": [
      " 40%|███▉      | 395/1000 [03:24<05:13,  1.93it/s]"
     ]
    },
    {
     "name": "stdout",
     "output_type": "stream",
     "text": [
      "z = 0.254186972938737\n",
      "-0.008883738057952395\n",
      "1.373767986021781\n"
     ]
    },
    {
     "name": "stderr",
     "output_type": "stream",
     "text": [
      " 40%|███▉      | 396/1000 [03:24<05:01,  2.00it/s]"
     ]
    },
    {
     "name": "stdout",
     "output_type": "stream",
     "text": [
      "z = 0.25360093328549294\n",
      "-0.012703560673681391\n",
      "1.356902230893628\n"
     ]
    },
    {
     "name": "stderr",
     "output_type": "stream",
     "text": [
      " 40%|███▉      | 397/1000 [03:25<04:54,  2.05it/s]"
     ]
    },
    {
     "name": "stdout",
     "output_type": "stream",
     "text": [
      "z = 0.25520761813315096\n",
      "-0.01154270636918786\n",
      "1.40263546398389\n"
     ]
    },
    {
     "name": "stderr",
     "output_type": "stream",
     "text": [
      " 40%|███▉      | 398/1000 [03:25<04:49,  2.08it/s]"
     ]
    },
    {
     "name": "stdout",
     "output_type": "stream",
     "text": [
      "z = 0.25531124667882377\n",
      "-0.011718434704446667\n",
      "1.4111168734079453\n"
     ]
    },
    {
     "name": "stderr",
     "output_type": "stream",
     "text": [
      " 40%|███▉      | 399/1000 [03:26<04:43,  2.12it/s]"
     ]
    },
    {
     "name": "stdout",
     "output_type": "stream",
     "text": [
      "z = 0.2560673601247665\n",
      "-0.009954128518282812\n",
      "1.4387864858821282\n"
     ]
    },
    {
     "name": "stderr",
     "output_type": "stream",
     "text": [
      " 40%|████      | 400/1000 [03:26<04:44,  2.11it/s]"
     ]
    },
    {
     "name": "stdout",
     "output_type": "stream",
     "text": [
      "z = 0.2551827276753534\n",
      "-0.011050906575954533\n",
      "1.4230436651768548\n"
     ]
    },
    {
     "name": "stderr",
     "output_type": "stream",
     "text": [
      " 40%|████      | 401/1000 [03:27<04:59,  2.00it/s]"
     ]
    },
    {
     "name": "stdout",
     "output_type": "stream",
     "text": [
      "z = 0.2543857740203912\n",
      "-0.013467331925873016\n",
      "1.4029460552315642\n"
     ]
    },
    {
     "name": "stderr",
     "output_type": "stream",
     "text": [
      " 40%|████      | 402/1000 [03:27<05:03,  1.97it/s]"
     ]
    },
    {
     "name": "stdout",
     "output_type": "stream",
     "text": [
      "z = 0.2559351937376527\n",
      "-0.011080228286472482\n",
      "1.445129140882544\n"
     ]
    },
    {
     "name": "stderr",
     "output_type": "stream",
     "text": [
      " 40%|████      | 403/1000 [03:28<04:53,  2.03it/s]"
     ]
    },
    {
     "name": "stdout",
     "output_type": "stream",
     "text": [
      "z = 0.25652832138518866\n",
      "-0.008562803844142985\n",
      "1.4670664690310777\n"
     ]
    },
    {
     "name": "stderr",
     "output_type": "stream",
     "text": [
      " 40%|████      | 404/1000 [03:28<04:48,  2.07it/s]"
     ]
    },
    {
     "name": "stdout",
     "output_type": "stream",
     "text": [
      "z = 0.25695908127035316\n",
      "-0.005304381199313535\n",
      "1.4879401696628691\n"
     ]
    },
    {
     "name": "stderr",
     "output_type": "stream",
     "text": [
      " 40%|████      | 405/1000 [03:29<04:42,  2.11it/s]"
     ]
    },
    {
     "name": "stdout",
     "output_type": "stream",
     "text": [
      "z = 0.25647422759839\n",
      "-0.0031793429941140428\n",
      "1.4873352682763228\n"
     ]
    },
    {
     "name": "stderr",
     "output_type": "stream",
     "text": [
      " 41%|████      | 406/1000 [03:29<04:38,  2.13it/s]"
     ]
    },
    {
     "name": "stdout",
     "output_type": "stream",
     "text": [
      "z = 0.2551389060777188\n",
      "-0.003655166983703273\n",
      "1.460465779526015\n"
     ]
    },
    {
     "name": "stderr",
     "output_type": "stream",
     "text": [
      " 41%|████      | 407/1000 [03:30<04:35,  2.15it/s]"
     ]
    },
    {
     "name": "stdout",
     "output_type": "stream",
     "text": [
      "z = 0.25539693523815565\n",
      "-0.0020516054562181862\n",
      "1.4695847321065694\n"
     ]
    },
    {
     "name": "stderr",
     "output_type": "stream",
     "text": [
      " 41%|████      | 408/1000 [03:30<04:32,  2.17it/s]"
     ]
    },
    {
     "name": "stdout",
     "output_type": "stream",
     "text": [
      "z = 0.25433790723661653\n",
      "-0.003046637393108842\n",
      "1.4428552387286921\n"
     ]
    },
    {
     "name": "stderr",
     "output_type": "stream",
     "text": [
      " 41%|████      | 409/1000 [03:30<04:31,  2.17it/s]"
     ]
    },
    {
     "name": "stdout",
     "output_type": "stream",
     "text": [
      "z = 0.25388511193574004\n",
      "-0.004129393102903278\n",
      "1.4259291613080551\n"
     ]
    },
    {
     "name": "stderr",
     "output_type": "stream",
     "text": [
      " 41%|████      | 410/1000 [03:31<05:04,  1.94it/s]"
     ]
    },
    {
     "name": "stdout",
     "output_type": "stream",
     "text": [
      "z = 0.25336338816072174\n",
      "-0.005931200137352266\n",
      "1.4034217033297987\n"
     ]
    },
    {
     "name": "stderr",
     "output_type": "stream",
     "text": [
      " 41%|████      | 411/1000 [03:32<05:17,  1.86it/s]"
     ]
    },
    {
     "name": "stdout",
     "output_type": "stream",
     "text": [
      "z = 0.2542764373093809\n",
      "-0.004732532653221266\n",
      "1.4188623710706483\n"
     ]
    },
    {
     "name": "stderr",
     "output_type": "stream",
     "text": [
      " 41%|████      | 412/1000 [03:32<05:25,  1.81it/s]"
     ]
    },
    {
     "name": "stdout",
     "output_type": "stream",
     "text": [
      "z = 0.2549873558563577\n",
      "-0.002382021092962816\n",
      "1.4330958703858143\n"
     ]
    },
    {
     "name": "stderr",
     "output_type": "stream",
     "text": [
      " 41%|████▏     | 413/1000 [03:33<05:28,  1.79it/s]"
     ]
    },
    {
     "name": "stdout",
     "output_type": "stream",
     "text": [
      "z = 0.2538975413460581\n",
      "-0.0032532419441251292\n",
      "1.400694374027386\n"
     ]
    },
    {
     "name": "stderr",
     "output_type": "stream",
     "text": [
      " 41%|████▏     | 414/1000 [03:33<05:10,  1.89it/s]"
     ]
    },
    {
     "name": "stdout",
     "output_type": "stream",
     "text": [
      "z = 0.25347028521893766\n",
      "-0.004141138489181406\n",
      "1.3796398803097043\n"
     ]
    },
    {
     "name": "stderr",
     "output_type": "stream",
     "text": [
      " 42%|████▏     | 415/1000 [03:34<04:56,  1.97it/s]"
     ]
    },
    {
     "name": "stdout",
     "output_type": "stream",
     "text": [
      "z = 0.254912237789601\n",
      "-0.000892960407353538\n",
      "1.4083283407409994\n"
     ]
    },
    {
     "name": "stderr",
     "output_type": "stream",
     "text": [
      " 42%|████▏     | 416/1000 [03:34<04:45,  2.04it/s]"
     ]
    },
    {
     "name": "stdout",
     "output_type": "stream",
     "text": [
      "z = 0.2535395644970766\n",
      "-0.0023754691820605522\n",
      "1.3650466642239574\n"
     ]
    },
    {
     "name": "stderr",
     "output_type": "stream",
     "text": [
      " 42%|████▏     | 417/1000 [03:35<04:41,  2.07it/s]"
     ]
    },
    {
     "name": "stdout",
     "output_type": "stream",
     "text": [
      "z = 0.25470028445879705\n",
      "2.3532077915833227e-05\n",
      "1.3834137746932262\n"
     ]
    },
    {
     "name": "stderr",
     "output_type": "stream",
     "text": [
      " 42%|████▏     | 418/1000 [03:36<06:09,  1.57it/s]"
     ]
    },
    {
     "name": "stdout",
     "output_type": "stream",
     "text": [
      "z = 0.25466475795022436\n",
      "0.001627137690541014\n",
      "1.3752046772459563\n"
     ]
    },
    {
     "name": "stderr",
     "output_type": "stream",
     "text": [
      " 42%|████▏     | 419/1000 [03:36<05:56,  1.63it/s]"
     ]
    },
    {
     "name": "stdout",
     "output_type": "stream",
     "text": [
      "z = 0.25361798828049503\n",
      "0.0008835693725274263\n",
      "1.3388015321369195\n"
     ]
    },
    {
     "name": "stderr",
     "output_type": "stream",
     "text": [
      " 42%|████▏     | 420/1000 [03:37<05:27,  1.77it/s]"
     ]
    },
    {
     "name": "stdout",
     "output_type": "stream",
     "text": [
      "z = 0.2540332439986144\n",
      "0.002240230595823345\n",
      "1.3369568808569547\n"
     ]
    },
    {
     "name": "stderr",
     "output_type": "stream",
     "text": [
      " 42%|████▏     | 421/1000 [03:37<05:08,  1.88it/s]"
     ]
    },
    {
     "name": "stdout",
     "output_type": "stream",
     "text": [
      "z = 0.254121080316615\n",
      "0.0038242565587180977\n",
      "1.3290422111062117\n"
     ]
    },
    {
     "name": "stderr",
     "output_type": "stream",
     "text": [
      " 42%|████▏     | 422/1000 [03:38<04:53,  1.97it/s]"
     ]
    },
    {
     "name": "stdout",
     "output_type": "stream",
     "text": [
      "z = 0.25264336033108087\n",
      "0.001741646570142974\n",
      "1.2766427143142223\n"
     ]
    },
    {
     "name": "stderr",
     "output_type": "stream",
     "text": [
      " 42%|████▏     | 423/1000 [03:38<04:45,  2.02it/s]"
     ]
    },
    {
     "name": "stdout",
     "output_type": "stream",
     "text": [
      "z = 0.25320035348381725\n",
      "0.0022610696967791943\n",
      "1.2721601598330357\n"
     ]
    },
    {
     "name": "stderr",
     "output_type": "stream",
     "text": [
      " 42%|████▏     | 424/1000 [03:39<04:39,  2.06it/s]"
     ]
    },
    {
     "name": "stdout",
     "output_type": "stream",
     "text": [
      "z = 0.25232872623919944\n",
      "0.00023696648465998393\n",
      "1.2292738668513903\n"
     ]
    },
    {
     "name": "stderr",
     "output_type": "stream",
     "text": [
      " 42%|████▎     | 425/1000 [03:39<04:33,  2.11it/s]"
     ]
    },
    {
     "name": "stdout",
     "output_type": "stream",
     "text": [
      "z = 0.2526589269824189\n",
      "-0.0002263134654446608\n",
      "1.2153950010462053\n"
     ]
    },
    {
     "name": "stderr",
     "output_type": "stream",
     "text": [
      " 43%|████▎     | 426/1000 [03:40<04:36,  2.07it/s]"
     ]
    },
    {
     "name": "stdout",
     "output_type": "stream",
     "text": [
      "z = 0.25196480963501133\n",
      "-0.0026716720279229556\n",
      "1.1730108343307815\n"
     ]
    },
    {
     "name": "stderr",
     "output_type": "stream",
     "text": [
      " 43%|████▎     | 427/1000 [03:40<04:53,  1.96it/s]"
     ]
    },
    {
     "name": "stdout",
     "output_type": "stream",
     "text": [
      "z = 0.2518490491553102\n",
      "-0.0048820162114118215\n",
      "1.1426707343269653\n"
     ]
    },
    {
     "name": "stderr",
     "output_type": "stream",
     "text": [
      " 43%|████▎     | 428/1000 [03:41<04:43,  2.02it/s]"
     ]
    },
    {
     "name": "stdout",
     "output_type": "stream",
     "text": [
      "z = 0.2529830065450686\n",
      "-0.004116790908711088\n",
      "1.1482913188810184\n"
     ]
    },
    {
     "name": "stderr",
     "output_type": "stream",
     "text": [
      " 43%|████▎     | 429/1000 [03:41<04:37,  2.06it/s]"
     ]
    },
    {
     "name": "stdout",
     "output_type": "stream",
     "text": [
      "z = 0.2519719889065618\n",
      "-0.007043432575574271\n",
      "1.0968735156502254\n"
     ]
    },
    {
     "name": "stderr",
     "output_type": "stream",
     "text": [
      " 43%|████▎     | 430/1000 [03:42<05:26,  1.75it/s]"
     ]
    },
    {
     "name": "stdout",
     "output_type": "stream",
     "text": [
      "z = 0.2512872869673789\n",
      "-0.011258859366532925\n",
      "1.0467289241784634\n"
     ]
    },
    {
     "name": "stderr",
     "output_type": "stream",
     "text": [
      " 43%|████▎     | 431/1000 [03:43<07:04,  1.34it/s]"
     ]
    },
    {
     "name": "stdout",
     "output_type": "stream",
     "text": [
      "z = 0.2521716798527599\n",
      "-0.012713598053819997\n",
      "1.0392384892936706\n"
     ]
    },
    {
     "name": "stderr",
     "output_type": "stream",
     "text": [
      " 43%|████▎     | 432/1000 [03:44<06:52,  1.38it/s]"
     ]
    },
    {
     "name": "stdout",
     "output_type": "stream",
     "text": [
      "z = 0.2541921926763284\n",
      "-0.010262372871118197\n",
      "1.0679495075439243\n"
     ]
    },
    {
     "name": "stderr",
     "output_type": "stream",
     "text": [
      " 43%|████▎     | 433/1000 [03:44<06:25,  1.47it/s]"
     ]
    },
    {
     "name": "stdout",
     "output_type": "stream",
     "text": [
      "z = 0.254015572588812\n",
      "-0.010085837024779498\n",
      "1.044961998594383\n"
     ]
    },
    {
     "name": "stderr",
     "output_type": "stream",
     "text": [
      " 43%|████▎     | 434/1000 [03:45<06:17,  1.50it/s]"
     ]
    },
    {
     "name": "stdout",
     "output_type": "stream",
     "text": [
      "z = 0.25291832574810147\n",
      "-0.012587535518703508\n",
      "0.9947336246003309\n"
     ]
    },
    {
     "name": "stderr",
     "output_type": "stream",
     "text": [
      " 44%|████▎     | 435/1000 [03:46<07:57,  1.18it/s]"
     ]
    },
    {
     "name": "stdout",
     "output_type": "stream",
     "text": [
      "z = 0.2524584277720443\n",
      "-0.015510911933337423\n",
      "0.9557302157160614\n"
     ]
    },
    {
     "name": "stderr",
     "output_type": "stream",
     "text": [
      " 44%|████▎     | 436/1000 [03:47<08:15,  1.14it/s]"
     ]
    },
    {
     "name": "stdout",
     "output_type": "stream",
     "text": [
      "z = 0.25202865688657955\n",
      "-0.019233125218090397\n",
      "0.914692319329609\n"
     ]
    },
    {
     "name": "stderr",
     "output_type": "stream",
     "text": [
      " 44%|████▎     | 437/1000 [03:49<10:50,  1.16s/it]"
     ]
    },
    {
     "name": "stdout",
     "output_type": "stream",
     "text": [
      "z = 0.2517918116694494\n",
      "-0.023369493209561165\n",
      "0.876929751514957\n"
     ]
    },
    {
     "name": "stderr",
     "output_type": "stream",
     "text": [
      " 44%|████▍     | 438/1000 [03:50<09:58,  1.06s/it]"
     ]
    },
    {
     "name": "stdout",
     "output_type": "stream",
     "text": [
      "z = 0.25154138873939313\n",
      "-0.02812646732446744\n",
      "0.8376869064417083\n"
     ]
    },
    {
     "name": "stderr",
     "output_type": "stream",
     "text": [
      " 44%|████▍     | 439/1000 [03:50<08:18,  1.13it/s]"
     ]
    },
    {
     "name": "stdout",
     "output_type": "stream",
     "text": [
      "z = 0.2521680563979453\n",
      "-0.031217464484128765\n",
      "0.824044091130163\n"
     ]
    },
    {
     "name": "stderr",
     "output_type": "stream",
     "text": [
      " 44%|████▍     | 440/1000 [03:51<07:23,  1.26it/s]"
     ]
    },
    {
     "name": "stdout",
     "output_type": "stream",
     "text": [
      "z = 0.25344286264470645\n",
      "-0.03184950308096324\n",
      "0.8323390562187085\n"
     ]
    },
    {
     "name": "stderr",
     "output_type": "stream",
     "text": [
      " 44%|████▍     | 441/1000 [03:51<06:43,  1.38it/s]"
     ]
    },
    {
     "name": "stdout",
     "output_type": "stream",
     "text": [
      "z = 0.2554095681551364\n",
      "-0.029326646015535585\n",
      "0.8639482089133911\n"
     ]
    },
    {
     "name": "stderr",
     "output_type": "stream",
     "text": [
      " 44%|████▍     | 442/1000 [03:52<06:48,  1.37it/s]"
     ]
    },
    {
     "name": "stdout",
     "output_type": "stream",
     "text": [
      "z = 0.255001545422805\n",
      "-0.029467147720180886\n",
      "0.8399051817846463\n"
     ]
    },
    {
     "name": "stderr",
     "output_type": "stream",
     "text": [
      " 44%|████▍     | 443/1000 [03:53<06:19,  1.47it/s]"
     ]
    },
    {
     "name": "stdout",
     "output_type": "stream",
     "text": [
      "z = 0.2567027278422044\n",
      "-0.02589054917994127\n",
      "0.8706608679194461\n"
     ]
    },
    {
     "name": "stderr",
     "output_type": "stream",
     "text": [
      " 44%|████▍     | 444/1000 [03:53<06:10,  1.50it/s]"
     ]
    },
    {
     "name": "stdout",
     "output_type": "stream",
     "text": [
      "z = 0.257941445347228\n",
      "-0.021041859694991283\n",
      "0.8960488259543087\n"
     ]
    },
    {
     "name": "stderr",
     "output_type": "stream",
     "text": [
      " 44%|████▍     | 445/1000 [03:54<05:57,  1.55it/s]"
     ]
    },
    {
     "name": "stdout",
     "output_type": "stream",
     "text": [
      "z = 0.25718685337848846\n",
      "-0.018598618244219045\n",
      "0.877781533353234\n"
     ]
    },
    {
     "name": "stderr",
     "output_type": "stream",
     "text": [
      " 45%|████▍     | 446/1000 [03:54<05:41,  1.62it/s]"
     ]
    },
    {
     "name": "stdout",
     "output_type": "stream",
     "text": [
      "z = 0.25632690509908196\n",
      "-0.017428515898091246\n",
      "0.8551220149814308\n"
     ]
    },
    {
     "name": "stderr",
     "output_type": "stream",
     "text": [
      " 45%|████▍     | 447/1000 [03:55<06:02,  1.53it/s]"
     ]
    },
    {
     "name": "stdout",
     "output_type": "stream",
     "text": [
      "z = 0.2570015616088173\n",
      "-0.01409632780657366\n",
      "0.8701630393718542\n"
     ]
    },
    {
     "name": "stderr",
     "output_type": "stream",
     "text": [
      " 45%|████▍     | 448/1000 [03:56<06:15,  1.47it/s]"
     ]
    },
    {
     "name": "stdout",
     "output_type": "stream",
     "text": [
      "z = 0.25677802917560205\n",
      "-0.011451382802739385\n",
      "0.8669295482777599\n"
     ]
    },
    {
     "name": "stderr",
     "output_type": "stream",
     "text": [
      " 45%|████▍     | 449/1000 [03:56<05:54,  1.55it/s]"
     ]
    },
    {
     "name": "stdout",
     "output_type": "stream",
     "text": [
      "z = 0.2577040926033364\n",
      "-0.006585197058862069\n",
      "0.8944532483123251\n"
     ]
    },
    {
     "name": "stderr",
     "output_type": "stream",
     "text": [
      " 45%|████▌     | 450/1000 [03:57<06:08,  1.49it/s]"
     ]
    },
    {
     "name": "stdout",
     "output_type": "stream",
     "text": [
      "z = 0.258467446254817\n",
      "-0.0005553078012356938\n",
      "0.9241271447909353\n"
     ]
    },
    {
     "name": "stderr",
     "output_type": "stream",
     "text": [
      " 45%|████▌     | 451/1000 [03:58<06:11,  1.48it/s]"
     ]
    },
    {
     "name": "stdout",
     "output_type": "stream",
     "text": [
      "z = 0.25642854402004944\n",
      "0.0009228141350098307\n",
      "0.8883673616500537\n"
     ]
    },
    {
     "name": "stderr",
     "output_type": "stream",
     "text": [
      " 45%|████▌     | 452/1000 [03:59<06:52,  1.33it/s]"
     ]
    },
    {
     "name": "stdout",
     "output_type": "stream",
     "text": [
      "z = 0.25538142361151006\n",
      "0.001522790857400258\n",
      "0.8685706813101064\n"
     ]
    },
    {
     "name": "stderr",
     "output_type": "stream",
     "text": [
      " 45%|████▌     | 453/1000 [03:59<06:43,  1.36it/s]"
     ]
    },
    {
     "name": "stdout",
     "output_type": "stream",
     "text": [
      "z = 0.254913301732718\n",
      "0.0021448582142640227\n",
      "0.8602954255272457\n"
     ]
    },
    {
     "name": "stderr",
     "output_type": "stream",
     "text": [
      " 45%|████▌     | 454/1000 [04:00<06:27,  1.41it/s]"
     ]
    },
    {
     "name": "stdout",
     "output_type": "stream",
     "text": [
      "z = 0.2538857451733645\n",
      "0.0009607870862030632\n",
      "0.8353541187005096\n"
     ]
    },
    {
     "name": "stderr",
     "output_type": "stream",
     "text": [
      " 46%|████▌     | 455/1000 [04:01<06:00,  1.51it/s]"
     ]
    },
    {
     "name": "stdout",
     "output_type": "stream",
     "text": [
      "z = 0.2539413551804793\n",
      "0.0007086081080753814\n",
      "0.8355968030621719\n"
     ]
    },
    {
     "name": "stderr",
     "output_type": "stream",
     "text": [
      " 46%|████▌     | 456/1000 [04:01<06:03,  1.50it/s]"
     ]
    },
    {
     "name": "stdout",
     "output_type": "stream",
     "text": [
      "z = 0.25547350010081094\n",
      "0.0038191997319780846\n",
      "0.8770651994445817\n"
     ]
    },
    {
     "name": "stderr",
     "output_type": "stream",
     "text": [
      " 46%|████▌     | 457/1000 [04:02<06:43,  1.35it/s]"
     ]
    },
    {
     "name": "stdout",
     "output_type": "stream",
     "text": [
      "z = 0.2550512807224542\n",
      "0.005022211081496808\n",
      "0.8756584862543346\n"
     ]
    },
    {
     "name": "stderr",
     "output_type": "stream",
     "text": [
      " 46%|████▌     | 458/1000 [04:03<06:14,  1.45it/s]"
     ]
    },
    {
     "name": "stdout",
     "output_type": "stream",
     "text": [
      "z = 0.25523468651255465\n",
      "0.007089193177537312\n",
      "0.8903626288098387\n"
     ]
    },
    {
     "name": "stderr",
     "output_type": "stream",
     "text": [
      " 46%|████▌     | 459/1000 [04:03<05:53,  1.53it/s]"
     ]
    },
    {
     "name": "stdout",
     "output_type": "stream",
     "text": [
      "z = 0.25527870465996927\n",
      "0.009472353137789491\n",
      "0.9047510507649321\n"
     ]
    },
    {
     "name": "stderr",
     "output_type": "stream",
     "text": [
      " 46%|████▌     | 460/1000 [04:04<05:23,  1.67it/s]"
     ]
    },
    {
     "name": "stdout",
     "output_type": "stream",
     "text": [
      "z = 0.2550124224622711\n",
      "0.011621558185039071\n",
      "0.9138639124357002\n"
     ]
    },
    {
     "name": "stderr",
     "output_type": "stream",
     "text": [
      " 46%|████▌     | 461/1000 [04:04<05:14,  1.72it/s]"
     ]
    },
    {
     "name": "stdout",
     "output_type": "stream",
     "text": [
      "z = 0.2543189777972874\n",
      "0.012842011081614979\n",
      "0.9126913370989793\n"
     ]
    },
    {
     "name": "stderr",
     "output_type": "stream",
     "text": [
      " 46%|████▌     | 462/1000 [04:05<05:10,  1.73it/s]"
     ]
    },
    {
     "name": "stdout",
     "output_type": "stream",
     "text": [
      "z = 0.2536688329308751\n",
      "0.013459975870651175\n",
      "0.9107772090148792\n"
     ]
    },
    {
     "name": "stderr",
     "output_type": "stream",
     "text": [
      " 46%|████▋     | 463/1000 [04:05<04:51,  1.84it/s]"
     ]
    },
    {
     "name": "stdout",
     "output_type": "stream",
     "text": [
      "z = 0.2545106704343394\n",
      "0.016602248050059276\n",
      "0.9470382820953379\n"
     ]
    },
    {
     "name": "stderr",
     "output_type": "stream",
     "text": [
      " 46%|████▋     | 464/1000 [04:06<04:38,  1.92it/s]"
     ]
    },
    {
     "name": "stdout",
     "output_type": "stream",
     "text": [
      "z = 0.25506299017063194\n",
      "0.020635341822122344\n",
      "0.9824356377292511\n"
     ]
    },
    {
     "name": "stderr",
     "output_type": "stream",
     "text": [
      " 46%|████▋     | 465/1000 [04:06<04:45,  1.88it/s]"
     ]
    },
    {
     "name": "stdout",
     "output_type": "stream",
     "text": [
      "z = 0.2547450452168978\n",
      "0.02408968204255635\n",
      "1.0016186030347178\n"
     ]
    },
    {
     "name": "stderr",
     "output_type": "stream",
     "text": [
      " 47%|████▋     | 466/1000 [04:07<04:30,  1.97it/s]"
     ]
    },
    {
     "name": "stdout",
     "output_type": "stream",
     "text": [
      "z = 0.25308427123190014\n",
      "0.024675252113721124\n",
      "0.9861796845724302\n"
     ]
    },
    {
     "name": "stderr",
     "output_type": "stream",
     "text": [
      " 47%|████▋     | 467/1000 [04:08<04:50,  1.83it/s]"
     ]
    },
    {
     "name": "stdout",
     "output_type": "stream",
     "text": [
      "z = 0.2512002626468813\n",
      "0.022167424139143632\n",
      "0.9525931885866081\n"
     ]
    },
    {
     "name": "stderr",
     "output_type": "stream",
     "text": [
      " 47%|████▋     | 468/1000 [04:08<04:42,  1.88it/s]"
     ]
    },
    {
     "name": "stdout",
     "output_type": "stream",
     "text": [
      "z = 0.2503166387052639\n",
      "0.018660154558132414\n",
      "0.9317143231827988\n"
     ]
    },
    {
     "name": "stderr",
     "output_type": "stream",
     "text": [
      " 47%|████▋     | 469/1000 [04:09<04:29,  1.97it/s]"
     ]
    },
    {
     "name": "stdout",
     "output_type": "stream",
     "text": [
      "z = 0.24955420979669646\n",
      "0.013547943116739014\n",
      "0.9056176802600205\n"
     ]
    },
    {
     "name": "stderr",
     "output_type": "stream",
     "text": [
      " 47%|████▋     | 470/1000 [04:09<04:32,  1.94it/s]"
     ]
    },
    {
     "name": "stdout",
     "output_type": "stream",
     "text": [
      "z = 0.25076801012941674\n",
      "0.011441176517711593\n",
      "0.930602566625038\n"
     ]
    },
    {
     "name": "stderr",
     "output_type": "stream",
     "text": [
      " 47%|████▋     | 471/1000 [04:10<04:23,  2.01it/s]"
     ]
    },
    {
     "name": "stdout",
     "output_type": "stream",
     "text": [
      "z = 0.25091475733756313\n",
      "0.008431944344626574\n",
      "0.9320653126946796\n"
     ]
    },
    {
     "name": "stderr",
     "output_type": "stream",
     "text": [
      " 47%|████▋     | 472/1000 [04:10<04:32,  1.94it/s]"
     ]
    },
    {
     "name": "stdout",
     "output_type": "stream",
     "text": [
      "z = 0.25074905525366\n",
      "0.004495129263461073\n",
      "0.9248531852391111\n"
     ]
    },
    {
     "name": "stderr",
     "output_type": "stream",
     "text": [
      " 47%|████▋     | 473/1000 [04:11<04:25,  1.98it/s]"
     ]
    },
    {
     "name": "stdout",
     "output_type": "stream",
     "text": [
      "z = 0.2516075245038384\n",
      "0.0023632687567637367\n",
      "0.9453325641588448\n"
     ]
    },
    {
     "name": "stderr",
     "output_type": "stream",
     "text": [
      " 47%|████▋     | 474/1000 [04:11<04:54,  1.78it/s]"
     ]
    },
    {
     "name": "stdout",
     "output_type": "stream",
     "text": [
      "z = 0.25283906293856834\n",
      "0.0021474222189532544\n",
      "0.9807229368584296\n"
     ]
    },
    {
     "name": "stderr",
     "output_type": "stream",
     "text": [
      " 48%|████▊     | 475/1000 [04:12<04:54,  1.78it/s]"
     ]
    },
    {
     "name": "stdout",
     "output_type": "stream",
     "text": [
      "z = 0.2519481225070336\n",
      "-0.0013888572179343583\n",
      "0.9640484022219563\n"
     ]
    },
    {
     "name": "stderr",
     "output_type": "stream",
     "text": [
      " 48%|████▊     | 476/1000 [04:12<04:37,  1.89it/s]"
     ]
    },
    {
     "name": "stdout",
     "output_type": "stream",
     "text": [
      "z = 0.25134963298779117\n",
      "-0.006302503226004896\n",
      "0.9481578911082618\n"
     ]
    },
    {
     "name": "stderr",
     "output_type": "stream",
     "text": [
      " 48%|████▊     | 477/1000 [04:13<04:42,  1.85it/s]"
     ]
    },
    {
     "name": "stdout",
     "output_type": "stream",
     "text": [
      "z = 0.25136791709292683\n",
      "-0.011172897505324242\n",
      "0.9449603716808594\n"
     ]
    },
    {
     "name": "stderr",
     "output_type": "stream",
     "text": [
      " 48%|████▊     | 478/1000 [04:13<04:40,  1.86it/s]"
     ]
    },
    {
     "name": "stdout",
     "output_type": "stream",
     "text": [
      "z = 0.25289708455413484\n",
      "-0.01290699846263077\n",
      "0.9832797677369206\n"
     ]
    },
    {
     "name": "stderr",
     "output_type": "stream",
     "text": [
      " 48%|████▊     | 479/1000 [04:14<04:26,  1.95it/s]"
     ]
    },
    {
     "name": "stdout",
     "output_type": "stream",
     "text": [
      "z = 0.25298051194676946\n",
      "-0.015891827993028462\n",
      "0.9897107819020153\n"
     ]
    },
    {
     "name": "stderr",
     "output_type": "stream",
     "text": [
      " 48%|████▊     | 480/1000 [04:14<04:16,  2.03it/s]"
     ]
    },
    {
     "name": "stdout",
     "output_type": "stream",
     "text": [
      "z = 0.2532249175728889\n",
      "-0.018711379092939295\n",
      "1.0009642869858948\n"
     ]
    },
    {
     "name": "stderr",
     "output_type": "stream",
     "text": [
      " 48%|████▊     | 481/1000 [04:15<04:45,  1.82it/s]"
     ]
    },
    {
     "name": "stdout",
     "output_type": "stream",
     "text": [
      "z = 0.2555788324240392\n",
      "-0.017031295955009407\n",
      "1.0673290105978053\n"
     ]
    },
    {
     "name": "stderr",
     "output_type": "stream",
     "text": [
      " 48%|████▊     | 482/1000 [04:15<04:29,  1.92it/s]"
     ]
    },
    {
     "name": "stdout",
     "output_type": "stream",
     "text": [
      "z = 0.25757683276974613\n",
      "-0.013316557095600645\n",
      "1.1325044513535767\n"
     ]
    },
    {
     "name": "stderr",
     "output_type": "stream",
     "text": [
      " 48%|████▊     | 483/1000 [04:16<04:17,  2.01it/s]"
     ]
    },
    {
     "name": "stdout",
     "output_type": "stream",
     "text": [
      "z = 0.25811909595915816\n",
      "-0.009932601519141881\n",
      "1.1715586734710142\n"
     ]
    },
    {
     "name": "stderr",
     "output_type": "stream",
     "text": [
      " 48%|████▊     | 484/1000 [04:16<04:11,  2.05it/s]"
     ]
    },
    {
     "name": "stdout",
     "output_type": "stream",
     "text": [
      "z = 0.2565843971176401\n",
      "-0.010050221754933197\n",
      "1.1635504329226265\n"
     ]
    },
    {
     "name": "stderr",
     "output_type": "stream",
     "text": [
      " 48%|████▊     | 485/1000 [04:17<04:06,  2.09it/s]"
     ]
    },
    {
     "name": "stdout",
     "output_type": "stream",
     "text": [
      "z = 0.2554149315648766\n",
      "-0.012008589163917227\n",
      "1.1552374372556438\n"
     ]
    },
    {
     "name": "stderr",
     "output_type": "stream",
     "text": [
      " 49%|████▊     | 486/1000 [04:17<04:02,  2.12it/s]"
     ]
    },
    {
     "name": "stdout",
     "output_type": "stream",
     "text": [
      "z = 0.25693558418283213\n",
      "-0.010314952331346494\n",
      "1.2069651395774894\n"
     ]
    },
    {
     "name": "stderr",
     "output_type": "stream",
     "text": [
      " 49%|████▊     | 487/1000 [04:18<03:58,  2.15it/s]"
     ]
    },
    {
     "name": "stdout",
     "output_type": "stream",
     "text": [
      "z = 0.2575382062942619\n",
      "-0.00833747320190259\n",
      "1.2432978410730913\n"
     ]
    },
    {
     "name": "stderr",
     "output_type": "stream",
     "text": [
      " 49%|████▉     | 488/1000 [04:18<04:18,  1.98it/s]"
     ]
    },
    {
     "name": "stdout",
     "output_type": "stream",
     "text": [
      "z = 0.2568860708253439\n",
      "-0.008014776446445993\n",
      "1.2530359718028905\n"
     ]
    },
    {
     "name": "stderr",
     "output_type": "stream",
     "text": [
      " 49%|████▉     | 489/1000 [04:19<04:28,  1.90it/s]"
     ]
    },
    {
     "name": "stdout",
     "output_type": "stream",
     "text": [
      "z = 0.25688913049939177\n",
      "-0.007243346736133027\n",
      "1.2757565246812992\n"
     ]
    },
    {
     "name": "stderr",
     "output_type": "stream",
     "text": [
      " 49%|████▉     | 490/1000 [04:19<04:17,  1.98it/s]"
     ]
    },
    {
     "name": "stdout",
     "output_type": "stream",
     "text": [
      "z = 0.25601286741981005\n",
      "-0.00817625429386526\n",
      "1.2772582419407474\n"
     ]
    },
    {
     "name": "stderr",
     "output_type": "stream",
     "text": [
      " 49%|████▉     | 491/1000 [04:21<06:57,  1.22it/s]"
     ]
    },
    {
     "name": "stdout",
     "output_type": "stream",
     "text": [
      "z = 0.2549599226282607\n",
      "-0.010971058034384806\n",
      "1.2686314587403338\n"
     ]
    },
    {
     "name": "stderr",
     "output_type": "stream",
     "text": [
      " 49%|████▉     | 492/1000 [04:22<07:56,  1.07it/s]"
     ]
    },
    {
     "name": "stdout",
     "output_type": "stream",
     "text": [
      "z = 0.25580558887436955\n",
      "-0.011459699367243226\n",
      "1.300791869875818\n"
     ]
    },
    {
     "name": "stderr",
     "output_type": "stream",
     "text": [
      " 49%|████▉     | 493/1000 [04:23<08:05,  1.04it/s]"
     ]
    },
    {
     "name": "stdout",
     "output_type": "stream",
     "text": [
      "z = 0.25595364337601156\n",
      "-0.012099544031407894\n",
      "1.3198825296040808\n"
     ]
    },
    {
     "name": "stderr",
     "output_type": "stream",
     "text": [
      " 49%|████▉     | 494/1000 [04:24<07:08,  1.18it/s]"
     ]
    },
    {
     "name": "stdout",
     "output_type": "stream",
     "text": [
      "z = 0.25679560224051384\n",
      "-0.011112525465438505\n",
      "1.3563642218816816\n"
     ]
    },
    {
     "name": "stderr",
     "output_type": "stream",
     "text": [
      " 50%|████▉     | 495/1000 [04:25<08:23,  1.00it/s]"
     ]
    },
    {
     "name": "stdout",
     "output_type": "stream",
     "text": [
      "z = 0.2568027190845247\n",
      "-0.010482094963927713\n",
      "1.3772500959206453\n"
     ]
    },
    {
     "name": "stderr",
     "output_type": "stream",
     "text": [
      " 50%|████▉     | 496/1000 [04:26<07:21,  1.14it/s]"
     ]
    },
    {
     "name": "stdout",
     "output_type": "stream",
     "text": [
      "z = 0.25670104479586925\n",
      "-0.009915432595378748\n",
      "1.39604275584777\n"
     ]
    },
    {
     "name": "stderr",
     "output_type": "stream",
     "text": [
      " 50%|████▉     | 497/1000 [04:26<07:01,  1.19it/s]"
     ]
    },
    {
     "name": "stdout",
     "output_type": "stream",
     "text": [
      "z = 0.25582807961483806\n",
      "-0.010940077845805862\n",
      "1.396052623777594\n"
     ]
    },
    {
     "name": "stderr",
     "output_type": "stream",
     "text": [
      " 50%|████▉     | 498/1000 [04:27<06:00,  1.39it/s]"
     ]
    },
    {
     "name": "stdout",
     "output_type": "stream",
     "text": [
      "z = 0.25486098484541453\n",
      "-0.01351881480584094\n",
      "1.3883159836599546\n"
     ]
    },
    {
     "name": "stderr",
     "output_type": "stream",
     "text": [
      " 50%|████▉     | 499/1000 [04:27<05:17,  1.58it/s]"
     ]
    },
    {
     "name": "stdout",
     "output_type": "stream",
     "text": [
      "z = 0.2565076445412803\n",
      "-0.012242101695299601\n",
      "1.4370404827154581\n"
     ]
    },
    {
     "name": "stderr",
     "output_type": "stream",
     "text": [
      " 50%|█████     | 500/1000 [04:28<04:51,  1.72it/s]"
     ]
    },
    {
     "name": "stdout",
     "output_type": "stream",
     "text": [
      "z = 0.2561163671480166\n",
      "-0.012694562525375264\n",
      "1.4449771995392218\n"
     ]
    },
    {
     "name": "stderr",
     "output_type": "stream",
     "text": [
      " 50%|█████     | 501/1000 [04:28<04:43,  1.76it/s]"
     ]
    },
    {
     "name": "stdout",
     "output_type": "stream",
     "text": [
      "z = 0.25555557657227135\n",
      "-0.014073671066368476\n",
      "1.4467591200641574\n"
     ]
    },
    {
     "name": "stderr",
     "output_type": "stream",
     "text": [
      " 50%|█████     | 502/1000 [04:29<04:25,  1.88it/s]"
     ]
    },
    {
     "name": "stdout",
     "output_type": "stream",
     "text": [
      "z = 0.2566122948623909\n",
      "-0.012899176454262973\n",
      "1.4830378293045987\n"
     ]
    },
    {
     "name": "stderr",
     "output_type": "stream",
     "text": [
      " 50%|█████     | 503/1000 [04:29<04:22,  1.90it/s]"
     ]
    },
    {
     "name": "stdout",
     "output_type": "stream",
     "text": [
      "z = 0.25777488278788196\n",
      "-0.00992639575413734\n",
      "1.5257259204213351\n"
     ]
    },
    {
     "name": "stderr",
     "output_type": "stream",
     "text": [
      " 50%|█████     | 504/1000 [04:30<04:45,  1.74it/s]"
     ]
    },
    {
     "name": "stdout",
     "output_type": "stream",
     "text": [
      "z = 0.25698310380593037\n",
      "-0.008960563555027612\n",
      "1.5302557789540479\n"
     ]
    },
    {
     "name": "stderr",
     "output_type": "stream",
     "text": [
      " 50%|█████     | 505/1000 [04:30<04:24,  1.87it/s]"
     ]
    },
    {
     "name": "stdout",
     "output_type": "stream",
     "text": [
      "z = 0.2568705549975667\n",
      "-0.007558493899779251\n",
      "1.5465431448259315\n"
     ]
    },
    {
     "name": "stderr",
     "output_type": "stream",
     "text": [
      " 51%|█████     | 506/1000 [04:31<04:09,  1.98it/s]"
     ]
    },
    {
     "name": "stdout",
     "output_type": "stream",
     "text": [
      "z = 0.25774051751332194\n",
      "-0.004073663203501332\n",
      "1.5842958095663011\n"
     ]
    },
    {
     "name": "stderr",
     "output_type": "stream",
     "text": [
      " 51%|█████     | 507/1000 [04:31<03:59,  2.06it/s]"
     ]
    },
    {
     "name": "stdout",
     "output_type": "stream",
     "text": [
      "z = 0.25845705604385383\n",
      "0.0006408582195445156\n",
      "1.6230078894289912\n"
     ]
    },
    {
     "name": "stderr",
     "output_type": "stream",
     "text": [
      " 51%|█████     | 508/1000 [04:32<03:53,  2.11it/s]"
     ]
    },
    {
     "name": "stdout",
     "output_type": "stream",
     "text": [
      "z = 0.2564825666013609\n",
      "0.0014744000842563665\n",
      "1.6071552765558472\n"
     ]
    },
    {
     "name": "stderr",
     "output_type": "stream",
     "text": [
      " 51%|█████     | 509/1000 [04:32<03:50,  2.13it/s]"
     ]
    },
    {
     "name": "stdout",
     "output_type": "stream",
     "text": [
      "z = 0.25675576517287335\n",
      "0.004022553999237566\n",
      "1.6303342969258776\n"
     ]
    },
    {
     "name": "stderr",
     "output_type": "stream",
     "text": [
      " 51%|█████     | 510/1000 [04:33<03:59,  2.05it/s]"
     ]
    },
    {
     "name": "stdout",
     "output_type": "stream",
     "text": [
      "z = 0.2551415807637262\n",
      "0.0036214812109048866\n",
      "1.612933106974221\n"
     ]
    },
    {
     "name": "stderr",
     "output_type": "stream",
     "text": [
      " 51%|█████     | 511/1000 [04:33<04:28,  1.82it/s]"
     ]
    },
    {
     "name": "stdout",
     "output_type": "stream",
     "text": [
      "z = 0.25433554573836026\n",
      "0.0025429358024967597\n",
      "1.6039908116218577\n"
     ]
    },
    {
     "name": "stderr",
     "output_type": "stream",
     "text": [
      " 51%|█████     | 512/1000 [04:34<04:14,  1.91it/s]"
     ]
    },
    {
     "name": "stdout",
     "output_type": "stream",
     "text": [
      "z = 0.25304469011527503\n",
      "-0.0007012776643274821\n",
      "1.5777370596973253\n"
     ]
    },
    {
     "name": "stderr",
     "output_type": "stream",
     "text": [
      " 51%|█████▏    | 513/1000 [04:34<04:05,  1.99it/s]"
     ]
    },
    {
     "name": "stdout",
     "output_type": "stream",
     "text": [
      "z = 0.2530042082669305\n",
      "-0.0033765283886623143\n",
      "1.5718973962451241\n"
     ]
    },
    {
     "name": "stderr",
     "output_type": "stream",
     "text": [
      " 51%|█████▏    | 514/1000 [04:35<03:55,  2.06it/s]"
     ]
    },
    {
     "name": "stdout",
     "output_type": "stream",
     "text": [
      "z = 0.2535163513972755\n",
      "-0.004854506942457815\n",
      "1.577810964463589\n"
     ]
    },
    {
     "name": "stderr",
     "output_type": "stream",
     "text": [
      " 52%|█████▏    | 515/1000 [04:35<03:47,  2.13it/s]"
     ]
    },
    {
     "name": "stdout",
     "output_type": "stream",
     "text": [
      "z = 0.2543198332316732\n",
      "-0.004915387912517\n",
      "1.5920436882883648\n"
     ]
    },
    {
     "name": "stderr",
     "output_type": "stream",
     "text": [
      " 52%|█████▏    | 516/1000 [04:36<04:10,  1.93it/s]"
     ]
    },
    {
     "name": "stdout",
     "output_type": "stream",
     "text": [
      "z = 0.254901150289493\n",
      "-0.004141124291708431\n",
      "1.6044643138859724\n"
     ]
    },
    {
     "name": "stderr",
     "output_type": "stream",
     "text": [
      " 52%|█████▏    | 517/1000 [04:36<03:59,  2.02it/s]"
     ]
    },
    {
     "name": "stdout",
     "output_type": "stream",
     "text": [
      "z = 0.25512000845305594\n",
      "-0.0030384524674038627\n",
      "1.611413537202591\n"
     ]
    },
    {
     "name": "stderr",
     "output_type": "stream",
     "text": [
      " 52%|█████▏    | 518/1000 [04:37<03:51,  2.08it/s]"
     ]
    },
    {
     "name": "stdout",
     "output_type": "stream",
     "text": [
      "z = 0.2548089549122901\n",
      "-0.002373733602146877\n",
      "1.607787491482516\n"
     ]
    },
    {
     "name": "stderr",
     "output_type": "stream",
     "text": [
      " 52%|█████▏    | 519/1000 [04:37<03:54,  2.05it/s]"
     ]
    },
    {
     "name": "stdout",
     "output_type": "stream",
     "text": [
      "z = 0.25498091605535\n",
      "-0.0008911916092586569\n",
      "1.6134201016677525\n"
     ]
    },
    {
     "name": "stderr",
     "output_type": "stream",
     "text": [
      " 52%|█████▏    | 520/1000 [04:38<03:50,  2.08it/s]"
     ]
    },
    {
     "name": "stdout",
     "output_type": "stream",
     "text": [
      "z = 0.25443625743489856\n",
      "-0.00019501542312794218\n",
      "1.6042792822233594\n"
     ]
    },
    {
     "name": "stderr",
     "output_type": "stream",
     "text": [
      " 52%|█████▏    | 521/1000 [04:38<03:45,  2.12it/s]"
     ]
    },
    {
     "name": "stdout",
     "output_type": "stream",
     "text": [
      "z = 0.2533093288765135\n",
      "-0.001240985927542071\n",
      "1.5788518205447373\n"
     ]
    },
    {
     "name": "stderr",
     "output_type": "stream",
     "text": [
      " 52%|█████▏    | 522/1000 [04:38<03:40,  2.17it/s]"
     ]
    },
    {
     "name": "stdout",
     "output_type": "stream",
     "text": [
      "z = 0.25413753746105816\n",
      "0.00011496795128129733\n",
      "1.5909390698237504\n"
     ]
    },
    {
     "name": "stderr",
     "output_type": "stream",
     "text": [
      " 52%|█████▏    | 523/1000 [04:39<03:26,  2.31it/s]"
     ]
    },
    {
     "name": "stdout",
     "output_type": "stream",
     "text": [
      "z = 0.2538228188907391\n",
      "0.0007159006523591582\n",
      "1.5814015288743075\n"
     ]
    },
    {
     "name": "stderr",
     "output_type": "stream",
     "text": [
      " 52%|█████▏    | 524/1000 [04:39<03:26,  2.30it/s]"
     ]
    },
    {
     "name": "stdout",
     "output_type": "stream",
     "text": [
      "z = 0.25386092162570717\n",
      "0.0018259438844978604\n",
      "1.5783285791033475\n"
     ]
    },
    {
     "name": "stderr",
     "output_type": "stream",
     "text": [
      " 52%|█████▎    | 525/1000 [04:40<03:45,  2.11it/s]"
     ]
    },
    {
     "name": "stdout",
     "output_type": "stream",
     "text": [
      "z = 0.2530453058410629\n",
      "0.001618776454489601\n",
      "1.5562781009840654\n"
     ]
    },
    {
     "name": "stderr",
     "output_type": "stream",
     "text": [
      " 53%|█████▎    | 526/1000 [04:41<04:25,  1.79it/s]"
     ]
    },
    {
     "name": "stdout",
     "output_type": "stream",
     "text": [
      "z = 0.2540798430719293\n",
      "0.0040406319987627\n",
      "1.5712310951046433\n"
     ]
    },
    {
     "name": "stderr",
     "output_type": "stream",
     "text": [
      " 53%|█████▎    | 527/1000 [04:41<04:28,  1.76it/s]"
     ]
    },
    {
     "name": "stdout",
     "output_type": "stream",
     "text": [
      "z = 0.2549812331274302\n",
      "0.007915884713101784\n",
      "1.5880558151785373\n"
     ]
    },
    {
     "name": "stderr",
     "output_type": "stream",
     "text": [
      " 53%|█████▎    | 528/1000 [04:42<04:10,  1.89it/s]"
     ]
    },
    {
     "name": "stdout",
     "output_type": "stream",
     "text": [
      "z = 0.2535173506200261\n",
      "0.008818693186964044\n",
      "1.5579243518936496\n"
     ]
    },
    {
     "name": "stderr",
     "output_type": "stream",
     "text": [
      " 53%|█████▎    | 529/1000 [04:42<03:56,  1.99it/s]"
     ]
    },
    {
     "name": "stdout",
     "output_type": "stream",
     "text": [
      "z = 0.2519990359238984\n",
      "0.0075486386947767325\n",
      "1.5174335579719829\n"
     ]
    },
    {
     "name": "stderr",
     "output_type": "stream",
     "text": [
      " 53%|█████▎    | 530/1000 [04:42<03:37,  2.16it/s]"
     ]
    },
    {
     "name": "stdout",
     "output_type": "stream",
     "text": [
      "z = 0.2520845947921346\n",
      "0.007412043755514852\n",
      "1.5045543182166368\n"
     ]
    },
    {
     "name": "stderr",
     "output_type": "stream",
     "text": [
      " 53%|█████▎    | 531/1000 [04:43<03:33,  2.20it/s]"
     ]
    },
    {
     "name": "stdout",
     "output_type": "stream",
     "text": [
      "z = 0.25235690090407253\n",
      "0.008051517083759618\n",
      "1.4963866366243228\n"
     ]
    },
    {
     "name": "stderr",
     "output_type": "stream",
     "text": [
      " 53%|█████▎    | 532/1000 [04:43<03:30,  2.23it/s]"
     ]
    },
    {
     "name": "stdout",
     "output_type": "stream",
     "text": [
      "z = 0.25168110401164784\n",
      "0.007381751371451473\n",
      "1.4677059926156089\n"
     ]
    },
    {
     "name": "stderr",
     "output_type": "stream",
     "text": [
      " 53%|█████▎    | 533/1000 [04:44<03:18,  2.35it/s]"
     ]
    },
    {
     "name": "stdout",
     "output_type": "stream",
     "text": [
      "z = 0.25141701494427576\n",
      "0.006666968799085127\n",
      "1.4445235455467844\n"
     ]
    },
    {
     "name": "stderr",
     "output_type": "stream",
     "text": [
      " 53%|█████▎    | 534/1000 [04:44<03:42,  2.10it/s]"
     ]
    },
    {
     "name": "stdout",
     "output_type": "stream",
     "text": [
      "z = 0.25264592389423346\n",
      "0.008631708807756877\n",
      "1.4541387893525204\n"
     ]
    },
    {
     "name": "stderr",
     "output_type": "stream",
     "text": [
      " 54%|█████▎    | 535/1000 [04:45<03:36,  2.14it/s]"
     ]
    },
    {
     "name": "stdout",
     "output_type": "stream",
     "text": [
      "z = 0.2526602452487554\n",
      "0.010176773132611006\n",
      "1.4424787544727105\n"
     ]
    },
    {
     "name": "stderr",
     "output_type": "stream",
     "text": [
      " 54%|█████▎    | 536/1000 [04:45<03:22,  2.29it/s]"
     ]
    },
    {
     "name": "stdout",
     "output_type": "stream",
     "text": [
      "z = 0.2534676159734013\n",
      "0.013467506120434125\n",
      "1.449547625443244\n"
     ]
    },
    {
     "name": "stderr",
     "output_type": "stream",
     "text": [
      " 54%|█████▎    | 537/1000 [04:46<03:22,  2.29it/s]"
     ]
    },
    {
     "name": "stdout",
     "output_type": "stream",
     "text": [
      "z = 0.2531519308788705\n",
      "0.01616587860237162\n",
      "1.4368364565297846\n"
     ]
    },
    {
     "name": "stderr",
     "output_type": "stream",
     "text": [
      " 54%|█████▍    | 538/1000 [04:46<03:22,  2.28it/s]"
     ]
    },
    {
     "name": "stdout",
     "output_type": "stream",
     "text": [
      "z = 0.25144201489819007\n",
      "0.015985004502111932\n",
      "1.3909437289638702\n"
     ]
    },
    {
     "name": "stderr",
     "output_type": "stream",
     "text": [
      " 54%|█████▍    | 539/1000 [04:46<03:21,  2.29it/s]"
     ]
    },
    {
     "name": "stdout",
     "output_type": "stream",
     "text": [
      "z = 0.2507645243352016\n",
      "0.015437382284832268\n",
      "1.3585769389358098\n"
     ]
    },
    {
     "name": "stderr",
     "output_type": "stream",
     "text": [
      " 54%|█████▍    | 540/1000 [04:47<03:22,  2.28it/s]"
     ]
    },
    {
     "name": "stdout",
     "output_type": "stream",
     "text": [
      "z = 0.2507223203164214\n",
      "0.015392579316239718\n",
      "1.3374510289272141\n"
     ]
    },
    {
     "name": "stderr",
     "output_type": "stream",
     "text": [
      " 54%|█████▍    | 541/1000 [04:47<03:11,  2.39it/s]"
     ]
    },
    {
     "name": "stdout",
     "output_type": "stream",
     "text": [
      "z = 0.24920875738155168\n",
      "0.012126504132915383\n",
      "1.2788066209014461\n"
     ]
    },
    {
     "name": "stderr",
     "output_type": "stream",
     "text": [
      " 54%|█████▍    | 542/1000 [04:48<03:14,  2.36it/s]"
     ]
    },
    {
     "name": "stdout",
     "output_type": "stream",
     "text": [
      "z = 0.24814147012640275\n",
      "0.006735775126857413\n",
      "1.2175838003799937\n"
     ]
    },
    {
     "name": "stderr",
     "output_type": "stream",
     "text": [
      " 54%|█████▍    | 543/1000 [04:48<03:15,  2.34it/s]"
     ]
    },
    {
     "name": "stdout",
     "output_type": "stream",
     "text": [
      "z = 0.2483433760198605\n",
      "0.0018146324565229133\n",
      "1.1793024411980828\n"
     ]
    },
    {
     "name": "stderr",
     "output_type": "stream",
     "text": [
      " 54%|█████▍    | 544/1000 [04:48<03:07,  2.44it/s]"
     ]
    },
    {
     "name": "stdout",
     "output_type": "stream",
     "text": [
      "z = 0.25067622316059524\n",
      "0.0010650500434236099\n",
      "1.1934196813519948\n"
     ]
    },
    {
     "name": "stderr",
     "output_type": "stream",
     "text": [
      " 55%|█████▍    | 545/1000 [04:49<03:10,  2.39it/s]"
     ]
    },
    {
     "name": "stdout",
     "output_type": "stream",
     "text": [
      "z = 0.25241269894434093\n",
      "0.001925102839777204\n",
      "1.2026035780788935\n"
     ]
    },
    {
     "name": "stderr",
     "output_type": "stream",
     "text": [
      " 55%|█████▍    | 546/1000 [04:49<03:13,  2.35it/s]"
     ]
    },
    {
     "name": "stdout",
     "output_type": "stream",
     "text": [
      "z = 0.2519073601898988\n",
      "0.0005813476482939839\n",
      "1.1670844351941376\n"
     ]
    },
    {
     "name": "stderr",
     "output_type": "stream",
     "text": [
      " 55%|█████▍    | 547/1000 [04:50<03:04,  2.45it/s]"
     ]
    },
    {
     "name": "stdout",
     "output_type": "stream",
     "text": [
      "z = 0.25093809883288065\n",
      "-0.0028436801132530887\n",
      "1.1164879637579186\n"
     ]
    },
    {
     "name": "stderr",
     "output_type": "stream",
     "text": [
      " 55%|█████▍    | 548/1000 [04:50<03:09,  2.38it/s]"
     ]
    },
    {
     "name": "stdout",
     "output_type": "stream",
     "text": [
      "z = 0.25131964698128084\n",
      "-0.005358925371423351\n",
      "1.0924118319172609\n"
     ]
    },
    {
     "name": "stderr",
     "output_type": "stream",
     "text": [
      " 55%|█████▍    | 549/1000 [04:51<03:11,  2.36it/s]"
     ]
    },
    {
     "name": "stdout",
     "output_type": "stream",
     "text": [
      "z = 0.25246008668122005\n",
      "-0.00603315967444118\n",
      "1.0881452842417922\n"
     ]
    },
    {
     "name": "stderr",
     "output_type": "stream",
     "text": [
      " 55%|█████▌    | 550/1000 [04:51<03:25,  2.19it/s]"
     ]
    },
    {
     "name": "stdout",
     "output_type": "stream",
     "text": [
      "z = 0.25170119155795695\n",
      "-0.009114555081223719\n",
      "1.0435569864193397\n"
     ]
    },
    {
     "name": "stderr",
     "output_type": "stream",
     "text": [
      " 55%|█████▌    | 551/1000 [04:52<03:22,  2.22it/s]"
     ]
    },
    {
     "name": "stdout",
     "output_type": "stream",
     "text": [
      "z = 0.2533706607107793\n",
      "-0.009100560582363415\n",
      "1.0521947811228136\n"
     ]
    },
    {
     "name": "stderr",
     "output_type": "stream",
     "text": [
      " 55%|█████▌    | 552/1000 [04:52<03:21,  2.22it/s]"
     ]
    },
    {
     "name": "stdout",
     "output_type": "stream",
     "text": [
      "z = 0.25316282806216317\n",
      "-0.010511785114080574\n",
      "1.024205844274538\n"
     ]
    },
    {
     "name": "stderr",
     "output_type": "stream",
     "text": [
      " 55%|█████▌    | 553/1000 [04:52<03:21,  2.21it/s]"
     ]
    },
    {
     "name": "stdout",
     "output_type": "stream",
     "text": [
      "z = 0.25368967685221133\n",
      "-0.011086442621468406\n",
      "1.0128825245011355\n"
     ]
    },
    {
     "name": "stderr",
     "output_type": "stream",
     "text": [
      " 55%|█████▌    | 554/1000 [04:53<03:21,  2.21it/s]"
     ]
    },
    {
     "name": "stdout",
     "output_type": "stream",
     "text": [
      "z = 0.25294739540142286\n",
      "-0.013518400113690765\n",
      "0.9743824668150953\n"
     ]
    },
    {
     "name": "stderr",
     "output_type": "stream",
     "text": [
      " 56%|█████▌    | 555/1000 [04:53<03:19,  2.23it/s]"
     ]
    },
    {
     "name": "stdout",
     "output_type": "stream",
     "text": [
      "z = 0.2527733011064229\n",
      "-0.016279928445818825\n",
      "0.9458175774661253\n"
     ]
    },
    {
     "name": "stderr",
     "output_type": "stream",
     "text": [
      " 56%|█████▌    | 556/1000 [04:54<03:46,  1.96it/s]"
     ]
    },
    {
     "name": "stdout",
     "output_type": "stream",
     "text": [
      "z = 0.2551529364756213\n",
      "-0.014912407489285795\n",
      "0.9754192880809638\n"
     ]
    },
    {
     "name": "stderr",
     "output_type": "stream",
     "text": [
      " 56%|█████▌    | 557/1000 [04:55<04:04,  1.81it/s]"
     ]
    },
    {
     "name": "stdout",
     "output_type": "stream",
     "text": [
      "z = 0.2570770335043362\n",
      "-0.01161339266661976\n",
      "1.0029334887848378\n"
     ]
    },
    {
     "name": "stderr",
     "output_type": "stream",
     "text": [
      " 56%|█████▌    | 558/1000 [04:55<03:50,  1.92it/s]"
     ]
    },
    {
     "name": "stdout",
     "output_type": "stream",
     "text": [
      "z = 0.25607351864683026\n",
      "-0.011167722704371275\n",
      "0.9739421972334716\n"
     ]
    },
    {
     "name": "stderr",
     "output_type": "stream",
     "text": [
      " 56%|█████▌    | 559/1000 [04:56<03:40,  2.00it/s]"
     ]
    },
    {
     "name": "stdout",
     "output_type": "stream",
     "text": [
      "z = 0.25567958688881476\n",
      "-0.01121506399168326\n",
      "0.9552408067866589\n"
     ]
    },
    {
     "name": "stderr",
     "output_type": "stream",
     "text": [
      " 56%|█████▌    | 560/1000 [04:56<03:31,  2.08it/s]"
     ]
    },
    {
     "name": "stdout",
     "output_type": "stream",
     "text": [
      "z = 0.257118831365615\n",
      "-0.00860098729156833\n",
      "0.9768289671810462\n"
     ]
    },
    {
     "name": "stderr",
     "output_type": "stream",
     "text": [
      " 56%|█████▌    | 561/1000 [04:56<03:26,  2.12it/s]"
     ]
    },
    {
     "name": "stdout",
     "output_type": "stream",
     "text": [
      "z = 0.256452386293899\n",
      "-0.007769435166801952\n",
      "0.9586103856003633\n"
     ]
    },
    {
     "name": "stderr",
     "output_type": "stream",
     "text": [
      " 56%|█████▌    | 562/1000 [04:57<03:24,  2.14it/s]"
     ]
    },
    {
     "name": "stdout",
     "output_type": "stream",
     "text": [
      "z = 0.2576977596124558\n",
      "-0.004625236757554441\n",
      "0.9813666527979064\n"
     ]
    },
    {
     "name": "stderr",
     "output_type": "stream",
     "text": [
      " 56%|█████▋    | 563/1000 [04:57<03:37,  2.01it/s]"
     ]
    },
    {
     "name": "stdout",
     "output_type": "stream",
     "text": [
      "z = 0.2575015146767347\n",
      "-0.00216217991980705\n",
      "0.9792214912355961\n"
     ]
    },
    {
     "name": "stderr",
     "output_type": "stream",
     "text": [
      " 56%|█████▋    | 564/1000 [04:58<03:31,  2.07it/s]"
     ]
    },
    {
     "name": "stdout",
     "output_type": "stream",
     "text": [
      "z = 0.2569303953971658\n",
      "-0.0004728935245988941\n",
      "0.9701696813068934\n"
     ]
    },
    {
     "name": "stderr",
     "output_type": "stream",
     "text": [
      " 56%|█████▋    | 565/1000 [04:59<03:50,  1.89it/s]"
     ]
    },
    {
     "name": "stdout",
     "output_type": "stream",
     "text": [
      "z = 0.255632998548165\n",
      "-0.0007925910192323471\n",
      "0.9435475246362335\n"
     ]
    },
    {
     "name": "stderr",
     "output_type": "stream",
     "text": [
      " 57%|█████▋    | 566/1000 [04:59<04:24,  1.64it/s]"
     ]
    },
    {
     "name": "stdout",
     "output_type": "stream",
     "text": [
      "z = 0.25571442654211535\n",
      "-0.00044201853997360985\n",
      "0.943378886543148\n"
     ]
    },
    {
     "name": "stderr",
     "output_type": "stream",
     "text": [
      " 57%|█████▋    | 567/1000 [05:00<04:30,  1.60it/s]"
     ]
    },
    {
     "name": "stdout",
     "output_type": "stream",
     "text": [
      "z = 0.2546264527716272\n",
      "-0.002112902316011689\n",
      "0.9176503321805223\n"
     ]
    },
    {
     "name": "stderr",
     "output_type": "stream",
     "text": [
      " 57%|█████▋    | 568/1000 [05:01<04:13,  1.70it/s]"
     ]
    },
    {
     "name": "stdout",
     "output_type": "stream",
     "text": [
      "z = 0.25492450950331147\n",
      "-0.0029374809548031733\n",
      "0.9195777815924379\n"
     ]
    },
    {
     "name": "stderr",
     "output_type": "stream",
     "text": [
      " 57%|█████▋    | 569/1000 [05:01<04:39,  1.54it/s]"
     ]
    },
    {
     "name": "stdout",
     "output_type": "stream",
     "text": [
      "z = 0.2541735806148821\n",
      "-0.005357114753394732\n",
      "0.8993267988154818\n"
     ]
    },
    {
     "name": "stderr",
     "output_type": "stream",
     "text": [
      " 57%|█████▋    | 570/1000 [05:02<04:31,  1.58it/s]"
     ]
    },
    {
     "name": "stdout",
     "output_type": "stream",
     "text": [
      "z = 0.25372709845550334\n",
      "-0.008569180084911254\n",
      "0.883089573306598\n"
     ]
    },
    {
     "name": "stderr",
     "output_type": "stream",
     "text": [
      " 57%|█████▋    | 571/1000 [05:03<04:26,  1.61it/s]"
     ]
    },
    {
     "name": "stdout",
     "output_type": "stream",
     "text": [
      "z = 0.2535187220559332\n",
      "-0.012196985091248225\n",
      "0.8709464895890768\n"
     ]
    },
    {
     "name": "stderr",
     "output_type": "stream",
     "text": [
      " 57%|█████▋    | 572/1000 [05:03<04:19,  1.65it/s]"
     ]
    },
    {
     "name": "stdout",
     "output_type": "stream",
     "text": [
      "z = 0.2528688986931074\n",
      "-0.01733504771046701\n",
      "0.8477018077560323\n"
     ]
    },
    {
     "name": "stderr",
     "output_type": "stream",
     "text": [
      " 57%|█████▋    | 573/1000 [05:04<04:13,  1.68it/s]"
     ]
    },
    {
     "name": "stdout",
     "output_type": "stream",
     "text": [
      "z = 0.25247251846796914\n",
      "-0.023431946533748027\n",
      "0.8277393351116156\n"
     ]
    },
    {
     "name": "stderr",
     "output_type": "stream",
     "text": [
      " 57%|█████▋    | 574/1000 [05:04<03:54,  1.82it/s]"
     ]
    },
    {
     "name": "stdout",
     "output_type": "stream",
     "text": [
      "z = 0.2525970695888869\n",
      "-0.029483446944612135\n",
      "0.8192599980673549\n"
     ]
    },
    {
     "name": "stderr",
     "output_type": "stream",
     "text": [
      " 57%|█████▊    | 575/1000 [05:05<04:00,  1.77it/s]"
     ]
    },
    {
     "name": "stdout",
     "output_type": "stream",
     "text": [
      "z = 0.253711824241665\n",
      "-0.03374093132864486\n",
      "0.835573309256457\n"
     ]
    },
    {
     "name": "stderr",
     "output_type": "stream",
     "text": [
      " 58%|█████▊    | 576/1000 [05:05<03:56,  1.79it/s]"
     ]
    },
    {
     "name": "stdout",
     "output_type": "stream",
     "text": [
      "z = 0.25508526830439227\n",
      "-0.03619167633766707\n",
      "0.8625383309198746\n"
     ]
    },
    {
     "name": "stderr",
     "output_type": "stream",
     "text": [
      " 58%|█████▊    | 577/1000 [05:06<04:02,  1.75it/s]"
     ]
    },
    {
     "name": "stdout",
     "output_type": "stream",
     "text": [
      "z = 0.2566049472872358\n",
      "-0.0367655580203079\n",
      "0.8979499761140664\n"
     ]
    },
    {
     "name": "stderr",
     "output_type": "stream",
     "text": [
      " 58%|█████▊    | 578/1000 [05:07<04:37,  1.52it/s]"
     ]
    },
    {
     "name": "stdout",
     "output_type": "stream",
     "text": [
      "z = 0.258364971189328\n",
      "-0.03517163201251505\n",
      "0.9438718754324091\n"
     ]
    },
    {
     "name": "stderr",
     "output_type": "stream",
     "text": [
      " 58%|█████▊    | 579/1000 [05:07<04:10,  1.68it/s]"
     ]
    },
    {
     "name": "stdout",
     "output_type": "stream",
     "text": [
      "z = 0.2585959075547093\n",
      "-0.033939027713701164\n",
      "0.9642530690844826\n"
     ]
    },
    {
     "name": "stderr",
     "output_type": "stream",
     "text": [
      " 58%|█████▊    | 580/1000 [05:08<03:50,  1.82it/s]"
     ]
    },
    {
     "name": "stdout",
     "output_type": "stream",
     "text": [
      "z = 0.25999757997984196\n",
      "-0.030565460552983925\n",
      "1.0115315789571104\n"
     ]
    },
    {
     "name": "stderr",
     "output_type": "stream",
     "text": [
      " 58%|█████▊    | 581/1000 [05:08<03:36,  1.93it/s]"
     ]
    },
    {
     "name": "stdout",
     "output_type": "stream",
     "text": [
      "z = 0.2594576662827242\n",
      "-0.028477823065441665\n",
      "1.0246946610722074\n"
     ]
    },
    {
     "name": "stderr",
     "output_type": "stream",
     "text": [
      " 58%|█████▊    | 582/1000 [05:08<03:27,  2.02it/s]"
     ]
    },
    {
     "name": "stdout",
     "output_type": "stream",
     "text": [
      "z = 0.2590950312933321\n",
      "-0.02674699862397356\n",
      "1.0416743473425896\n"
     ]
    },
    {
     "name": "stderr",
     "output_type": "stream",
     "text": [
      " 58%|█████▊    | 583/1000 [05:09<03:21,  2.07it/s]"
     ]
    },
    {
     "name": "stdout",
     "output_type": "stream",
     "text": [
      "z = 0.25923302920568814\n",
      "-0.02443343752361793\n",
      "1.0698391159342138\n"
     ]
    },
    {
     "name": "stderr",
     "output_type": "stream",
     "text": [
      " 58%|█████▊    | 584/1000 [05:09<03:17,  2.10it/s]"
     ]
    },
    {
     "name": "stdout",
     "output_type": "stream",
     "text": [
      "z = 0.25897836291627957\n",
      "-0.022319927102178228\n",
      "1.0923478883479258\n"
     ]
    },
    {
     "name": "stderr",
     "output_type": "stream",
     "text": [
      " 58%|█████▊    | 585/1000 [05:10<03:12,  2.15it/s]"
     ]
    },
    {
     "name": "stdout",
     "output_type": "stream",
     "text": [
      "z = 0.259832025039973\n",
      "-0.018486454207185976\n",
      "1.1391379875480894\n"
     ]
    },
    {
     "name": "stderr",
     "output_type": "stream",
     "text": [
      " 59%|█████▊    | 586/1000 [05:10<03:10,  2.17it/s]"
     ]
    },
    {
     "name": "stdout",
     "output_type": "stream",
     "text": [
      "z = 0.2595447980710637\n",
      "-0.015049548913140587\n",
      "1.1677408327197742\n"
     ]
    },
    {
     "name": "stderr",
     "output_type": "stream",
     "text": [
      " 59%|█████▊    | 587/1000 [05:11<02:59,  2.30it/s]"
     ]
    },
    {
     "name": "stdout",
     "output_type": "stream",
     "text": [
      "z = 0.25907065859682227\n",
      "-0.011910113136011091\n",
      "1.1939464652061784\n"
     ]
    },
    {
     "name": "stderr",
     "output_type": "stream",
     "text": [
      " 59%|█████▉    | 588/1000 [05:11<02:59,  2.30it/s]"
     ]
    },
    {
     "name": "stdout",
     "output_type": "stream",
     "text": [
      "z = 0.2582685191785239\n",
      "-0.009484752240914829\n",
      "1.213748139332568\n"
     ]
    },
    {
     "name": "stderr",
     "output_type": "stream",
     "text": [
      " 59%|█████▉    | 589/1000 [05:12<02:59,  2.29it/s]"
     ]
    },
    {
     "name": "stdout",
     "output_type": "stream",
     "text": [
      "z = 0.25751623926676415\n",
      "-0.007605384824258987\n",
      "1.2333366842123095\n"
     ]
    },
    {
     "name": "stderr",
     "output_type": "stream",
     "text": [
      " 59%|█████▉    | 590/1000 [05:12<03:06,  2.20it/s]"
     ]
    },
    {
     "name": "stdout",
     "output_type": "stream",
     "text": [
      "z = 0.25781886636954016\n",
      "-0.004483307144894644\n",
      "1.2741599761179696\n"
     ]
    },
    {
     "name": "stderr",
     "output_type": "stream",
     "text": [
      " 59%|█████▉    | 591/1000 [05:12<03:05,  2.21it/s]"
     ]
    },
    {
     "name": "stdout",
     "output_type": "stream",
     "text": [
      "z = 0.2569358092552996\n",
      "-0.0024497575362154578\n",
      "1.2935226144919438\n"
     ]
    },
    {
     "name": "stderr",
     "output_type": "stream",
     "text": [
      " 59%|█████▉    | 592/1000 [05:13<02:54,  2.33it/s]"
     ]
    },
    {
     "name": "stdout",
     "output_type": "stream",
     "text": [
      "z = 0.25746749570160143\n",
      "0.0012324557500867916\n",
      "1.3408955816218149\n"
     ]
    },
    {
     "name": "stderr",
     "output_type": "stream",
     "text": [
      " 59%|█████▉    | 593/1000 [05:13<02:55,  2.32it/s]"
     ]
    },
    {
     "name": "stdout",
     "output_type": "stream",
     "text": [
      "z = 0.25573263032981786\n",
      "0.0021914411188170835\n",
      "1.3444617049962817\n"
     ]
    },
    {
     "name": "stderr",
     "output_type": "stream",
     "text": [
      " 59%|█████▉    | 594/1000 [05:14<02:55,  2.31it/s]"
     ]
    },
    {
     "name": "stdout",
     "output_type": "stream",
     "text": [
      "z = 0.25422463297499764\n",
      "0.001258062841301144\n",
      "1.3443847924985532\n"
     ]
    },
    {
     "name": "stderr",
     "output_type": "stream",
     "text": [
      " 60%|█████▉    | 595/1000 [05:14<02:56,  2.30it/s]"
     ]
    },
    {
     "name": "stdout",
     "output_type": "stream",
     "text": [
      "z = 0.2546176051331393\n",
      "0.0018871282063250838\n",
      "1.378561111576523\n"
     ]
    },
    {
     "name": "stderr",
     "output_type": "stream",
     "text": [
      " 60%|█████▉    | 596/1000 [05:15<02:47,  2.41it/s]"
     ]
    },
    {
     "name": "stdout",
     "output_type": "stream",
     "text": [
      "z = 0.2531648571397712\n",
      "-7.088063468574379e-05\n",
      "1.3746679382232185\n"
     ]
    },
    {
     "name": "stderr",
     "output_type": "stream",
     "text": [
      " 60%|█████▉    | 597/1000 [05:15<02:50,  2.36it/s]"
     ]
    },
    {
     "name": "stdout",
     "output_type": "stream",
     "text": [
      "z = 0.25264032340965514\n",
      "-0.0024842166600977933\n",
      "1.3829813955560257\n"
     ]
    },
    {
     "name": "stderr",
     "output_type": "stream",
     "text": [
      " 60%|█████▉    | 598/1000 [05:15<02:52,  2.34it/s]"
     ]
    },
    {
     "name": "stdout",
     "output_type": "stream",
     "text": [
      "z = 0.2522184044057173\n",
      "-0.005352128578788751\n",
      "1.3907040987851071\n"
     ]
    },
    {
     "name": "stderr",
     "output_type": "stream",
     "text": [
      " 60%|█████▉    | 599/1000 [05:16<02:52,  2.32it/s]"
     ]
    },
    {
     "name": "stdout",
     "output_type": "stream",
     "text": [
      "z = 0.2515393751919066\n",
      "-0.009384226097406079\n",
      "1.3899207618204081\n"
     ]
    },
    {
     "name": "stderr",
     "output_type": "stream",
     "text": [
      " 60%|██████    | 600/1000 [05:16<02:45,  2.42it/s]"
     ]
    },
    {
     "name": "stdout",
     "output_type": "stream",
     "text": [
      "z = 0.2516733188687763\n",
      "-0.012973074808326324\n",
      "1.4031350000492482\n"
     ]
    },
    {
     "name": "stderr",
     "output_type": "stream",
     "text": [
      " 60%|██████    | 601/1000 [05:17<02:47,  2.38it/s]"
     ]
    },
    {
     "name": "stdout",
     "output_type": "stream",
     "text": [
      "z = 0.25346670388071246\n",
      "-0.013420679447774586\n",
      "1.4521796652299226\n"
     ]
    },
    {
     "name": "stderr",
     "output_type": "stream",
     "text": [
      " 60%|██████    | 602/1000 [05:17<02:49,  2.35it/s]"
     ]
    },
    {
     "name": "stdout",
     "output_type": "stream",
     "text": [
      "z = 0.2555352659964723\n",
      "-0.011136403861197408\n",
      "1.5130434816183462\n"
     ]
    },
    {
     "name": "stderr",
     "output_type": "stream",
     "text": [
      " 60%|██████    | 603/1000 [05:17<02:42,  2.45it/s]"
     ]
    },
    {
     "name": "stdout",
     "output_type": "stream",
     "text": [
      "z = 0.25670041655929837\n",
      "-0.007649541204207355\n",
      "1.5638570678926857\n"
     ]
    },
    {
     "name": "stderr",
     "output_type": "stream",
     "text": [
      " 60%|██████    | 604/1000 [05:18<02:52,  2.29it/s]"
     ]
    },
    {
     "name": "stdout",
     "output_type": "stream",
     "text": [
      "z = 0.25517106585665517\n",
      "-0.006987368804305505\n",
      "1.5664142258695932\n"
     ]
    },
    {
     "name": "stderr",
     "output_type": "stream",
     "text": [
      " 60%|██████    | 605/1000 [05:18<02:53,  2.27it/s]"
     ]
    },
    {
     "name": "stdout",
     "output_type": "stream",
     "text": [
      "z = 0.25438173743496995\n",
      "-0.007070324744223644\n",
      "1.5764698205923322\n"
     ]
    },
    {
     "name": "stderr",
     "output_type": "stream",
     "text": [
      " 61%|██████    | 606/1000 [05:19<02:53,  2.28it/s]"
     ]
    },
    {
     "name": "stdout",
     "output_type": "stream",
     "text": [
      "z = 0.2554296360209027\n",
      "-0.004807917671622031\n",
      "1.6197979218860352\n"
     ]
    },
    {
     "name": "stderr",
     "output_type": "stream",
     "text": [
      " 61%|██████    | 607/1000 [05:19<03:09,  2.08it/s]"
     ]
    },
    {
     "name": "stdout",
     "output_type": "stream",
     "text": [
      "z = 0.25517147166090726\n",
      "-0.002960923792578063\n",
      "1.6424044141506071\n"
     ]
    },
    {
     "name": "stderr",
     "output_type": "stream",
     "text": [
      " 61%|██████    | 608/1000 [05:20<02:56,  2.22it/s]"
     ]
    },
    {
     "name": "stdout",
     "output_type": "stream",
     "text": [
      "z = 0.2554332982242243\n",
      "-0.00021515116752868213\n",
      "1.67485263593289\n"
     ]
    },
    {
     "name": "stderr",
     "output_type": "stream",
     "text": [
      " 61%|██████    | 609/1000 [05:20<02:54,  2.24it/s]"
     ]
    },
    {
     "name": "stdout",
     "output_type": "stream",
     "text": [
      "z = 0.2555577326671466\n",
      "0.0031787797056892497\n",
      "1.7068572026583286\n"
     ]
    },
    {
     "name": "stderr",
     "output_type": "stream",
     "text": [
      " 61%|██████    | 610/1000 [05:21<02:53,  2.25it/s]"
     ]
    },
    {
     "name": "stdout",
     "output_type": "stream",
     "text": [
      "z = 0.25618499050169125\n",
      "0.008085430724354858\n",
      "1.7502396151945927\n"
     ]
    },
    {
     "name": "stderr",
     "output_type": "stream",
     "text": [
      " 61%|██████    | 611/1000 [05:21<02:52,  2.26it/s]"
     ]
    },
    {
     "name": "stdout",
     "output_type": "stream",
     "text": [
      "z = 0.2547379919668162\n",
      "0.011028886648394298\n",
      "1.7584966641018287\n"
     ]
    },
    {
     "name": "stderr",
     "output_type": "stream",
     "text": [
      " 61%|██████    | 612/1000 [05:21<02:43,  2.38it/s]"
     ]
    },
    {
     "name": "stdout",
     "output_type": "stream",
     "text": [
      "z = 0.25504890776023736\n",
      "0.015479526137171407\n",
      "1.79459778071244\n"
     ]
    },
    {
     "name": "stderr",
     "output_type": "stream",
     "text": [
      " 61%|██████▏   | 613/1000 [05:22<02:44,  2.35it/s]"
     ]
    },
    {
     "name": "stdout",
     "output_type": "stream",
     "text": [
      "z = 0.2538304057258088\n",
      "0.018583122341959246\n",
      "1.8047775239158041\n"
     ]
    },
    {
     "name": "stderr",
     "output_type": "stream",
     "text": [
      " 61%|██████▏   | 614/1000 [05:22<02:47,  2.31it/s]"
     ]
    },
    {
     "name": "stdout",
     "output_type": "stream",
     "text": [
      "z = 0.2527544446799562\n",
      "0.02091525755198964\n",
      "1.8128894325213234\n"
     ]
    },
    {
     "name": "stderr",
     "output_type": "stream",
     "text": [
      " 62%|██████▏   | 615/1000 [05:23<02:49,  2.27it/s]"
     ]
    },
    {
     "name": "stdout",
     "output_type": "stream",
     "text": [
      "z = 0.2514907516855682\n",
      "0.022062944262330242\n",
      "1.8124982435086876\n"
     ]
    },
    {
     "name": "stderr",
     "output_type": "stream",
     "text": [
      " 62%|██████▏   | 616/1000 [05:23<02:50,  2.26it/s]"
     ]
    },
    {
     "name": "stdout",
     "output_type": "stream",
     "text": [
      "z = 0.2503905170463418\n",
      "0.022148771483938567\n",
      "1.8083769663301332\n"
     ]
    },
    {
     "name": "stderr",
     "output_type": "stream",
     "text": [
      " 62%|██████▏   | 617/1000 [05:24<02:48,  2.27it/s]"
     ]
    },
    {
     "name": "stdout",
     "output_type": "stream",
     "text": [
      "z = 0.24919213296443155\n",
      "0.02068513014341966\n",
      "1.794963503934519\n"
     ]
    },
    {
     "name": "stderr",
     "output_type": "stream",
     "text": [
      " 62%|██████▏   | 618/1000 [05:24<02:40,  2.37it/s]"
     ]
    },
    {
     "name": "stdout",
     "output_type": "stream",
     "text": [
      "z = 0.24940641295876242\n",
      "0.02013014257577206\n",
      "1.8018491398988252\n"
     ]
    },
    {
     "name": "stderr",
     "output_type": "stream",
     "text": [
      " 62%|██████▏   | 619/1000 [05:25<02:49,  2.25it/s]"
     ]
    },
    {
     "name": "stdout",
     "output_type": "stream",
     "text": [
      "z = 0.24949498159750938\n",
      "0.01981917733044336\n",
      "1.8061493326272005\n"
     ]
    },
    {
     "name": "stderr",
     "output_type": "stream",
     "text": [
      " 62%|██████▏   | 620/1000 [05:25<02:48,  2.25it/s]"
     ]
    },
    {
     "name": "stdout",
     "output_type": "stream",
     "text": [
      "z = 0.24996508408032198\n",
      "0.020427571133336375\n",
      "1.8173713907252944\n"
     ]
    },
    {
     "name": "stderr",
     "output_type": "stream",
     "text": [
      " 62%|██████▏   | 621/1000 [05:25<02:48,  2.25it/s]"
     ]
    },
    {
     "name": "stdout",
     "output_type": "stream",
     "text": [
      "z = 0.24843662707325498\n",
      "0.017962058947335935\n",
      "1.7886648878400737\n"
     ]
    },
    {
     "name": "stderr",
     "output_type": "stream",
     "text": [
      " 62%|██████▏   | 622/1000 [05:26<02:47,  2.25it/s]"
     ]
    },
    {
     "name": "stdout",
     "output_type": "stream",
     "text": [
      "z = 0.24812139481046214\n",
      "0.015063354742164248\n",
      "1.772674056245286\n"
     ]
    },
    {
     "name": "stderr",
     "output_type": "stream",
     "text": [
      " 62%|██████▏   | 623/1000 [05:26<02:38,  2.37it/s]"
     ]
    },
    {
     "name": "stdout",
     "output_type": "stream",
     "text": [
      "z = 0.24876385914165328\n",
      "0.013293643591878457\n",
      "1.7720668871524827\n"
     ]
    },
    {
     "name": "stderr",
     "output_type": "stream",
     "text": [
      " 62%|██████▏   | 624/1000 [05:27<02:56,  2.13it/s]"
     ]
    },
    {
     "name": "stdout",
     "output_type": "stream",
     "text": [
      "z = 0.24832923627528425\n",
      "0.0101800621921736\n",
      "1.7501937352109191\n"
     ]
    },
    {
     "name": "stderr",
     "output_type": "stream",
     "text": [
      " 62%|██████▎   | 625/1000 [05:28<03:12,  1.94it/s]"
     ]
    },
    {
     "name": "stdout",
     "output_type": "stream",
     "text": [
      "z = 0.24849188798593203\n",
      "0.007110280815972869\n",
      "1.735344852185512\n"
     ]
    },
    {
     "name": "stderr",
     "output_type": "stream",
     "text": [
      " 63%|██████▎   | 626/1000 [05:28<03:25,  1.82it/s]"
     ]
    },
    {
     "name": "stdout",
     "output_type": "stream",
     "text": [
      "z = 0.24865268931399673\n",
      "0.003938305341127157\n",
      "1.7186535156653813\n"
     ]
    },
    {
     "name": "stderr",
     "output_type": "stream",
     "text": [
      " 63%|██████▎   | 627/1000 [05:29<03:31,  1.76it/s]"
     ]
    },
    {
     "name": "stdout",
     "output_type": "stream",
     "text": [
      "z = 0.24892504749399832\n",
      "0.0008209677126442827\n",
      "1.7024842178163486\n"
     ]
    },
    {
     "name": "stderr",
     "output_type": "stream",
     "text": [
      " 63%|██████▎   | 628/1000 [05:29<03:16,  1.89it/s]"
     ]
    },
    {
     "name": "stdout",
     "output_type": "stream",
     "text": [
      "z = 0.25020030769029666\n",
      "-0.0004488864019779326\n",
      "1.7056031159421488\n"
     ]
    },
    {
     "name": "stderr",
     "output_type": "stream",
     "text": [
      " 63%|██████▎   | 629/1000 [05:30<02:58,  2.08it/s]"
     ]
    },
    {
     "name": "stdout",
     "output_type": "stream",
     "text": [
      "z = 0.2494010215223718\n",
      "-0.004125202044058751\n",
      "1.6698249327998638\n"
     ]
    },
    {
     "name": "stderr",
     "output_type": "stream",
     "text": [
      " 63%|██████▎   | 630/1000 [05:30<02:53,  2.13it/s]"
     ]
    },
    {
     "name": "stdout",
     "output_type": "stream",
     "text": [
      "z = 0.25100205117455054\n",
      "-0.005283941133064074\n",
      "1.6757003164348423\n"
     ]
    },
    {
     "name": "stderr",
     "output_type": "stream",
     "text": [
      " 63%|██████▎   | 631/1000 [05:30<02:49,  2.17it/s]"
     ]
    },
    {
     "name": "stdout",
     "output_type": "stream",
     "text": [
      "z = 0.2514471535552764\n",
      "-0.006482241227907304\n",
      "1.6635995445154634\n"
     ]
    },
    {
     "name": "stderr",
     "output_type": "stream",
     "text": [
      " 63%|██████▎   | 632/1000 [05:31<02:39,  2.30it/s]"
     ]
    },
    {
     "name": "stdout",
     "output_type": "stream",
     "text": [
      "z = 0.2506239045674645\n",
      "-0.009771799028450379\n",
      "1.6256711784813422\n"
     ]
    },
    {
     "name": "stderr",
     "output_type": "stream",
     "text": [
      " 63%|██████▎   | 633/1000 [05:31<02:46,  2.20it/s]"
     ]
    },
    {
     "name": "stdout",
     "output_type": "stream",
     "text": [
      "z = 0.25163842134289505\n",
      "-0.011476159321553547\n",
      "1.6184593816611272\n"
     ]
    },
    {
     "name": "stderr",
     "output_type": "stream",
     "text": [
      " 63%|██████▎   | 634/1000 [05:32<02:47,  2.18it/s]"
     ]
    },
    {
     "name": "stdout",
     "output_type": "stream",
     "text": [
      "z = 0.2532586889137022\n",
      "-0.011001887114838849\n",
      "1.6257451781197316\n"
     ]
    },
    {
     "name": "stderr",
     "output_type": "stream",
     "text": [
      " 64%|██████▎   | 635/1000 [05:32<02:53,  2.10it/s]"
     ]
    },
    {
     "name": "stdout",
     "output_type": "stream",
     "text": [
      "z = 0.2525571651649425\n",
      "-0.012618872221891175\n",
      "1.5923530694886026\n"
     ]
    },
    {
     "name": "stderr",
     "output_type": "stream",
     "text": [
      " 64%|██████▎   | 636/1000 [05:33<03:01,  2.00it/s]"
     ]
    },
    {
     "name": "stdout",
     "output_type": "stream",
     "text": [
      "z = 0.25355134910147603\n",
      "-0.012719511543150985\n",
      "1.5876966323481319\n"
     ]
    },
    {
     "name": "stderr",
     "output_type": "stream",
     "text": [
      " 64%|██████▎   | 637/1000 [05:33<02:59,  2.02it/s]"
     ]
    },
    {
     "name": "stdout",
     "output_type": "stream",
     "text": [
      "z = 0.2548972651969553\n",
      "-0.011007263938807799\n",
      "1.5928986160750753\n"
     ]
    },
    {
     "name": "stderr",
     "output_type": "stream",
     "text": [
      " 64%|██████▍   | 638/1000 [05:34<04:11,  1.44it/s]"
     ]
    },
    {
     "name": "stdout",
     "output_type": "stream",
     "text": [
      "z = 0.25475265198108266\n",
      "-0.010026071876328979\n",
      "1.5742012436654589\n"
     ]
    },
    {
     "name": "stderr",
     "output_type": "stream",
     "text": [
      " 64%|██████▍   | 639/1000 [05:36<05:45,  1.04it/s]"
     ]
    },
    {
     "name": "stdout",
     "output_type": "stream",
     "text": [
      "z = 0.2550596057770089\n",
      "-0.008537833984301635\n",
      "1.5633724028473925\n"
     ]
    },
    {
     "name": "stderr",
     "output_type": "stream",
     "text": [
      " 64%|██████▍   | 640/1000 [05:38<07:47,  1.30s/it]"
     ]
    },
    {
     "name": "stdout",
     "output_type": "stream",
     "text": [
      "z = 0.25385431602759123\n",
      "-0.009248250598771879\n",
      "1.5231008019446253\n"
     ]
    },
    {
     "name": "stderr",
     "output_type": "stream",
     "text": [
      " 64%|██████▍   | 641/1000 [05:39<06:37,  1.11s/it]"
     ]
    },
    {
     "name": "stdout",
     "output_type": "stream",
     "text": [
      "z = 0.25369463652369517\n",
      "-0.010143353332611849\n",
      "1.4967646179219765\n"
     ]
    },
    {
     "name": "stderr",
     "output_type": "stream",
     "text": [
      " 64%|██████▍   | 642/1000 [05:39<05:39,  1.05it/s]"
     ]
    },
    {
     "name": "stdout",
     "output_type": "stream",
     "text": [
      "z = 0.2547911697309732\n",
      "-0.00922126682632407\n",
      "1.4941468462736593\n"
     ]
    },
    {
     "name": "stderr",
     "output_type": "stream",
     "text": [
      " 64%|██████▍   | 643/1000 [05:40<05:22,  1.11it/s]"
     ]
    },
    {
     "name": "stdout",
     "output_type": "stream",
     "text": [
      "z = 0.254055511265904\n",
      "-0.009993205532509153\n",
      "1.4589006771008055\n"
     ]
    },
    {
     "name": "stderr",
     "output_type": "stream",
     "text": [
      " 64%|██████▍   | 644/1000 [05:42<06:21,  1.07s/it]"
     ]
    },
    {
     "name": "stdout",
     "output_type": "stream",
     "text": [
      "z = 0.25449983593532965\n",
      "-0.010019303654518974\n",
      "1.4434250805158038\n"
     ]
    },
    {
     "name": "stderr",
     "output_type": "stream",
     "text": [
      " 64%|██████▍   | 645/1000 [05:43<06:59,  1.18s/it]"
     ]
    },
    {
     "name": "stdout",
     "output_type": "stream",
     "text": [
      "z = 0.255584336491267\n",
      "-0.008395734363639051\n",
      "1.4424873266246105\n"
     ]
    },
    {
     "name": "stderr",
     "output_type": "stream",
     "text": [
      " 65%|██████▍   | 646/1000 [05:45<07:58,  1.35s/it]"
     ]
    },
    {
     "name": "stdout",
     "output_type": "stream",
     "text": [
      "z = 0.25654354624681813\n",
      "-0.005529600271502622\n",
      "1.44383980879884\n"
     ]
    },
    {
     "name": "stderr",
     "output_type": "stream",
     "text": [
      " 65%|██████▍   | 647/1000 [05:46<07:29,  1.27s/it]"
     ]
    },
    {
     "name": "stdout",
     "output_type": "stream",
     "text": [
      "z = 0.25775496727150016\n",
      "-0.0009532538066567842\n",
      "1.4548278389766713\n"
     ]
    },
    {
     "name": "stderr",
     "output_type": "stream",
     "text": [
      " 65%|██████▍   | 648/1000 [05:47<06:32,  1.12s/it]"
     ]
    },
    {
     "name": "stdout",
     "output_type": "stream",
     "text": [
      "z = 0.25759274974805635\n",
      "0.0033282244893398927\n",
      "1.4458393205064606\n"
     ]
    },
    {
     "name": "stderr",
     "output_type": "stream",
     "text": [
      " 65%|██████▍   | 649/1000 [05:47<05:30,  1.06it/s]"
     ]
    },
    {
     "name": "stdout",
     "output_type": "stream",
     "text": [
      "z = 0.2565945576781814\n",
      "0.0064410952771155605\n",
      "1.4216001326143475\n"
     ]
    },
    {
     "name": "stderr",
     "output_type": "stream",
     "text": [
      " 65%|██████▌   | 650/1000 [05:48<04:48,  1.21it/s]"
     ]
    },
    {
     "name": "stdout",
     "output_type": "stream",
     "text": [
      "z = 0.2557001156793919\n",
      "0.008744833699837695\n",
      "1.3961913791882243\n"
     ]
    },
    {
     "name": "stderr",
     "output_type": "stream",
     "text": [
      " 65%|██████▌   | 651/1000 [05:48<04:22,  1.33it/s]"
     ]
    },
    {
     "name": "stdout",
     "output_type": "stream",
     "text": [
      "z = 0.25602456404554497\n",
      "0.012183673173566723\n",
      "1.3926426234182523\n"
     ]
    },
    {
     "name": "stderr",
     "output_type": "stream",
     "text": [
      " 65%|██████▌   | 652/1000 [05:49<04:24,  1.32it/s]"
     ]
    },
    {
     "name": "stdout",
     "output_type": "stream",
     "text": [
      "z = 0.2558140929047985\n",
      "0.01565786267974978\n",
      "1.3819150001797307\n"
     ]
    },
    {
     "name": "stderr",
     "output_type": "stream",
     "text": [
      " 65%|██████▌   | 653/1000 [05:50<04:22,  1.32it/s]"
     ]
    },
    {
     "name": "stdout",
     "output_type": "stream",
     "text": [
      "z = 0.2544844208375697\n",
      "0.017410973259132323\n",
      "1.3490911459650838\n"
     ]
    },
    {
     "name": "stderr",
     "output_type": "stream",
     "text": [
      " 65%|██████▌   | 654/1000 [05:50<04:05,  1.41it/s]"
     ]
    },
    {
     "name": "stdout",
     "output_type": "stream",
     "text": [
      "z = 0.2540723286203404\n",
      "0.019172038408812764\n",
      "1.3297743182076283\n"
     ]
    },
    {
     "name": "stderr",
     "output_type": "stream",
     "text": [
      " 66%|██████▌   | 655/1000 [05:52<04:43,  1.22it/s]"
     ]
    },
    {
     "name": "stdout",
     "output_type": "stream",
     "text": [
      "z = 0.2528687608090594\n",
      "0.019322748077987617\n",
      "1.2926091613518418\n"
     ]
    },
    {
     "name": "stderr",
     "output_type": "stream",
     "text": [
      " 66%|██████▌   | 656/1000 [05:52<04:30,  1.27it/s]"
     ]
    },
    {
     "name": "stdout",
     "output_type": "stream",
     "text": [
      "z = 0.25290082842792355\n",
      "0.020003914946067347\n",
      "1.2758829418937085\n"
     ]
    },
    {
     "name": "stderr",
     "output_type": "stream",
     "text": [
      " 66%|██████▌   | 657/1000 [05:53<04:07,  1.39it/s]"
     ]
    },
    {
     "name": "stdout",
     "output_type": "stream",
     "text": [
      "z = 0.25282703959225133\n",
      "0.020776378050902156\n",
      "1.258130167214377\n"
     ]
    },
    {
     "name": "stderr",
     "output_type": "stream",
     "text": [
      " 66%|██████▌   | 658/1000 [05:53<03:49,  1.49it/s]"
     ]
    },
    {
     "name": "stdout",
     "output_type": "stream",
     "text": [
      "z = 0.2534779527240705\n",
      "0.022816366041770064\n",
      "1.2565966834362094\n"
     ]
    },
    {
     "name": "stderr",
     "output_type": "stream",
     "text": [
      " 66%|██████▌   | 659/1000 [05:54<03:37,  1.57it/s]"
     ]
    },
    {
     "name": "stdout",
     "output_type": "stream",
     "text": [
      "z = 0.25401677061415756\n",
      "0.025789252020740006\n",
      "1.2576374495238283\n"
     ]
    },
    {
     "name": "stderr",
     "output_type": "stream",
     "text": [
      " 66%|██████▌   | 660/1000 [05:55<03:43,  1.52it/s]"
     ]
    },
    {
     "name": "stdout",
     "output_type": "stream",
     "text": [
      "z = 0.2531699851159134\n",
      "0.02753915258891937\n",
      "1.234311478599075\n"
     ]
    },
    {
     "name": "stderr",
     "output_type": "stream",
     "text": [
      " 66%|██████▌   | 661/1000 [05:55<03:25,  1.65it/s]"
     ]
    },
    {
     "name": "stdout",
     "output_type": "stream",
     "text": [
      "z = 0.2534000756173769\n",
      "0.03024015725769269\n",
      "1.2314161848113838\n"
     ]
    },
    {
     "name": "stderr",
     "output_type": "stream",
     "text": [
      " 66%|██████▌   | 662/1000 [05:56<03:21,  1.68it/s]"
     ]
    },
    {
     "name": "stdout",
     "output_type": "stream",
     "text": [
      "z = 0.25398359707856144\n",
      "0.034235004753979004\n",
      "1.2396020978362032\n"
     ]
    },
    {
     "name": "stderr",
     "output_type": "stream",
     "text": [
      " 66%|██████▋   | 663/1000 [05:56<03:08,  1.78it/s]"
     ]
    },
    {
     "name": "stdout",
     "output_type": "stream",
     "text": [
      "z = 0.2518585019182507\n",
      "0.034791478677309806\n",
      "1.1947895189027014\n"
     ]
    },
    {
     "name": "stderr",
     "output_type": "stream",
     "text": [
      " 66%|██████▋   | 664/1000 [05:57<02:59,  1.87it/s]"
     ]
    },
    {
     "name": "stdout",
     "output_type": "stream",
     "text": [
      "z = 0.2498954684248419\n",
      "0.032251548299545685\n",
      "1.1389916777167062\n"
     ]
    },
    {
     "name": "stderr",
     "output_type": "stream",
     "text": [
      " 66%|██████▋   | 665/1000 [05:57<03:17,  1.70it/s]"
     ]
    },
    {
     "name": "stdout",
     "output_type": "stream",
     "text": [
      "z = 0.25025638931069855\n",
      "0.03059802275237966\n",
      "1.1217348506898843\n"
     ]
    },
    {
     "name": "stderr",
     "output_type": "stream",
     "text": [
      " 67%|██████▋   | 666/1000 [05:58<03:22,  1.65it/s]"
     ]
    },
    {
     "name": "stdout",
     "output_type": "stream",
     "text": [
      "z = 0.25110397017114416\n",
      "0.030122389316276976\n",
      "1.117147204076504\n"
     ]
    },
    {
     "name": "stderr",
     "output_type": "stream",
     "text": [
      " 67%|██████▋   | 667/1000 [05:59<03:40,  1.51it/s]"
     ]
    },
    {
     "name": "stdout",
     "output_type": "stream",
     "text": [
      "z = 0.252053104521058\n",
      "0.03078924347810208\n",
      "1.1195948768007287\n"
     ]
    },
    {
     "name": "stderr",
     "output_type": "stream",
     "text": [
      " 67%|██████▋   | 668/1000 [05:59<03:28,  1.59it/s]"
     ]
    },
    {
     "name": "stdout",
     "output_type": "stream",
     "text": [
      "z = 0.2511297430468651\n",
      "0.029386586029247708\n",
      "1.0862154089993126\n"
     ]
    },
    {
     "name": "stderr",
     "output_type": "stream",
     "text": [
      " 67%|██████▋   | 669/1000 [06:00<03:34,  1.55it/s]"
     ]
    },
    {
     "name": "stdout",
     "output_type": "stream",
     "text": [
      "z = 0.25006037798567393\n",
      "0.02588035056397453\n",
      "1.0427006624871669\n"
     ]
    },
    {
     "name": "stderr",
     "output_type": "stream",
     "text": [
      " 67%|██████▋   | 670/1000 [06:01<03:37,  1.52it/s]"
     ]
    },
    {
     "name": "stdout",
     "output_type": "stream",
     "text": [
      "z = 0.2508633617498309\n",
      "0.023578987608198654\n",
      "1.0337433880191123\n"
     ]
    },
    {
     "name": "stderr",
     "output_type": "stream",
     "text": [
      " 67%|██████▋   | 671/1000 [06:01<03:18,  1.65it/s]"
     ]
    },
    {
     "name": "stdout",
     "output_type": "stream",
     "text": [
      "z = 0.25050062905779347\n",
      "0.01987344201131158\n",
      "1.0019450452356282\n"
     ]
    },
    {
     "name": "stderr",
     "output_type": "stream",
     "text": [
      " 67%|██████▋   | 672/1000 [06:02<03:03,  1.79it/s]"
     ]
    },
    {
     "name": "stdout",
     "output_type": "stream",
     "text": [
      "z = 0.2512401208534472\n",
      "0.016935540169785934\n",
      "0.9918623293006598\n"
     ]
    },
    {
     "name": "stderr",
     "output_type": "stream",
     "text": [
      " 67%|██████▋   | 673/1000 [06:02<03:01,  1.80it/s]"
     ]
    },
    {
     "name": "stdout",
     "output_type": "stream",
     "text": [
      "z = 0.2517356771385826\n",
      "0.014153021352398487\n",
      "0.9796918804271961\n"
     ]
    },
    {
     "name": "stderr",
     "output_type": "stream",
     "text": [
      " 67%|██████▋   | 674/1000 [06:03<03:18,  1.64it/s]"
     ]
    },
    {
     "name": "stdout",
     "output_type": "stream",
     "text": [
      "z = 0.2527885843830232\n",
      "0.01254311062135638\n",
      "0.9820623240858908\n"
     ]
    },
    {
     "name": "stderr",
     "output_type": "stream",
     "text": [
      " 68%|██████▊   | 675/1000 [06:04<03:12,  1.69it/s]"
     ]
    },
    {
     "name": "stdout",
     "output_type": "stream",
     "text": [
      "z = 0.2542186207147319\n",
      "0.01262150218380953\n",
      "0.9975664192229512\n"
     ]
    },
    {
     "name": "stderr",
     "output_type": "stream",
     "text": [
      " 68%|██████▊   | 676/1000 [06:04<02:59,  1.81it/s]"
     ]
    },
    {
     "name": "stdout",
     "output_type": "stream",
     "text": [
      "z = 0.254699757667948\n",
      "0.012839294551992286\n",
      "1.0000417562014319\n"
     ]
    },
    {
     "name": "stderr",
     "output_type": "stream",
     "text": [
      " 68%|██████▊   | 677/1000 [06:04<02:48,  1.92it/s]"
     ]
    },
    {
     "name": "stdout",
     "output_type": "stream",
     "text": [
      "z = 0.255839956012167\n",
      "0.014606437250629822\n",
      "1.0197288166855736\n"
     ]
    },
    {
     "name": "stderr",
     "output_type": "stream",
     "text": [
      " 68%|██████▊   | 678/1000 [06:05<02:41,  2.00it/s]"
     ]
    },
    {
     "name": "stdout",
     "output_type": "stream",
     "text": [
      "z = 0.25640663543034153\n",
      "0.016995682409491897\n",
      "1.0341198101270206\n"
     ]
    },
    {
     "name": "stderr",
     "output_type": "stream",
     "text": [
      " 68%|██████▊   | 679/1000 [06:05<02:37,  2.04it/s]"
     ]
    },
    {
     "name": "stdout",
     "output_type": "stream",
     "text": [
      "z = 0.2568855697127996\n",
      "0.020133065888905288\n",
      "1.0515211714882708\n"
     ]
    },
    {
     "name": "stderr",
     "output_type": "stream",
     "text": [
      " 68%|██████▊   | 680/1000 [06:06<02:53,  1.84it/s]"
     ]
    },
    {
     "name": "stdout",
     "output_type": "stream",
     "text": [
      "z = 0.2563355784907272\n",
      "0.022576546085936844\n",
      "1.0524679252193447\n"
     ]
    },
    {
     "name": "stderr",
     "output_type": "stream",
     "text": [
      " 68%|██████▊   | 681/1000 [06:07<03:03,  1.73it/s]"
     ]
    },
    {
     "name": "stdout",
     "output_type": "stream",
     "text": [
      "z = 0.2568108424801708\n",
      "0.026179928864728197\n",
      "1.0748120629086104\n"
     ]
    },
    {
     "name": "stderr",
     "output_type": "stream",
     "text": [
      " 68%|██████▊   | 682/1000 [06:07<03:22,  1.57it/s]"
     ]
    },
    {
     "name": "stdout",
     "output_type": "stream",
     "text": [
      "z = 0.2566464355576933\n",
      "0.029853816271362188\n",
      "1.0893406326595985\n"
     ]
    },
    {
     "name": "stderr",
     "output_type": "stream",
     "text": [
      " 68%|██████▊   | 683/1000 [06:08<03:17,  1.61it/s]"
     ]
    },
    {
     "name": "stdout",
     "output_type": "stream",
     "text": [
      "z = 0.2556550793807071\n",
      "0.03248610080359304\n",
      "1.0892246582368472\n"
     ]
    },
    {
     "name": "stderr",
     "output_type": "stream",
     "text": [
      " 68%|██████▊   | 684/1000 [06:09<03:34,  1.47it/s]"
     ]
    },
    {
     "name": "stdout",
     "output_type": "stream",
     "text": [
      "z = 0.25368667335621625\n",
      "0.03238208511030882\n",
      "1.0646861569011201\n"
     ]
    },
    {
     "name": "stderr",
     "output_type": "stream",
     "text": [
      " 68%|██████▊   | 685/1000 [06:10<03:35,  1.46it/s]"
     ]
    },
    {
     "name": "stdout",
     "output_type": "stream",
     "text": [
      "z = 0.2525760337616911\n",
      "0.03078401971842082\n",
      "1.0474802700615897\n"
     ]
    },
    {
     "name": "stderr",
     "output_type": "stream",
     "text": [
      " 69%|██████▊   | 686/1000 [06:10<03:22,  1.55it/s]"
     ]
    },
    {
     "name": "stdout",
     "output_type": "stream",
     "text": [
      "z = 0.25171817290345305\n",
      "0.02772378521188723\n",
      "1.0286700586107251\n"
     ]
    },
    {
     "name": "stderr",
     "output_type": "stream",
     "text": [
      " 69%|██████▊   | 687/1000 [06:11<03:14,  1.61it/s]"
     ]
    },
    {
     "name": "stdout",
     "output_type": "stream",
     "text": [
      "z = 0.25179239139929593\n",
      "0.02455821152676685\n",
      "1.024656780941069\n"
     ]
    },
    {
     "name": "stderr",
     "output_type": "stream",
     "text": [
      " 69%|██████▉   | 688/1000 [06:12<04:07,  1.26it/s]"
     ]
    },
    {
     "name": "stdout",
     "output_type": "stream",
     "text": [
      "z = 0.25346596282740225\n",
      "0.02372986369331631\n",
      "1.055456956314987\n"
     ]
    },
    {
     "name": "stderr",
     "output_type": "stream",
     "text": [
      " 69%|██████▉   | 689/1000 [06:12<03:39,  1.42it/s]"
     ]
    },
    {
     "name": "stdout",
     "output_type": "stream",
     "text": [
      "z = 0.25458169271846154\n",
      "0.02390209442653879\n",
      "1.0824434679139747\n"
     ]
    },
    {
     "name": "stderr",
     "output_type": "stream",
     "text": [
      " 69%|██████▉   | 689/1000 [06:13<02:48,  1.85it/s]\n"
     ]
    },
    {
     "ename": "KeyboardInterrupt",
     "evalue": "",
     "output_type": "error",
     "traceback": [
      "\u001b[0;31m---------------------------------------------------------------------------\u001b[0m",
      "\u001b[0;31mKeyboardInterrupt\u001b[0m                         Traceback (most recent call last)",
      "Cell \u001b[0;32mIn[18], line 2\u001b[0m\n\u001b[1;32m      1\u001b[0m env \u001b[38;5;241m=\u001b[39m EnvRealistic(sleep\u001b[38;5;241m=\u001b[39m\u001b[38;5;241m0.0001\u001b[39m)\n\u001b[0;32m----> 2\u001b[0m samples \u001b[38;5;241m=\u001b[39m \u001b[43mgenerate_sample_of_system_dynamics_realistic\u001b[49m\u001b[43m(\u001b[49m\u001b[43menv\u001b[49m\u001b[43m,\u001b[49m\u001b[43m \u001b[49m\u001b[38;5;241;43m1000\u001b[39;49m\u001b[43m)\u001b[49m\n",
      "Cell \u001b[0;32mIn[16], line 79\u001b[0m, in \u001b[0;36mgenerate_sample_of_system_dynamics_realistic\u001b[0;34m(env, nb_samples)\u001b[0m\n\u001b[1;32m     77\u001b[0m \u001b[38;5;28;01mfor\u001b[39;00m _ \u001b[38;5;129;01min\u001b[39;00m tqdm(\u001b[38;5;28mrange\u001b[39m(nb_samples)):\n\u001b[1;32m     78\u001b[0m   a \u001b[38;5;241m=\u001b[39m env\u001b[38;5;241m.\u001b[39mrand_action()\n\u001b[0;32m---> 79\u001b[0m   next_s, dead, trunc \u001b[38;5;241m=\u001b[39m \u001b[43menv\u001b[49m\u001b[38;5;241;43m.\u001b[39;49m\u001b[43mstep\u001b[49m\u001b[43m(\u001b[49m\u001b[43ma\u001b[49m\u001b[43m)\u001b[49m\n\u001b[1;32m     80\u001b[0m   samples\u001b[38;5;241m.\u001b[39mappend({\n\u001b[1;32m     81\u001b[0m     \u001b[38;5;124m'\u001b[39m\u001b[38;5;124mx\u001b[39m\u001b[38;5;124m'\u001b[39m: s[\u001b[38;5;241m0\u001b[39m], \n\u001b[1;32m     82\u001b[0m     \u001b[38;5;124m'\u001b[39m\u001b[38;5;124mx_dot\u001b[39m\u001b[38;5;124m'\u001b[39m: s[\u001b[38;5;241m1\u001b[39m], \n\u001b[0;32m   (...)\u001b[0m\n\u001b[1;32m     88\u001b[0m     \u001b[38;5;124m'\u001b[39m\u001b[38;5;124mevolution_theta\u001b[39m\u001b[38;5;124m'\u001b[39m: next_s[\u001b[38;5;241m2\u001b[39m],\n\u001b[1;32m     89\u001b[0m     \u001b[38;5;124m'\u001b[39m\u001b[38;5;124mevolution_theta_dot\u001b[39m\u001b[38;5;124m'\u001b[39m: next_s[\u001b[38;5;241m3\u001b[39m]})\n\u001b[1;32m     90\u001b[0m   \u001b[38;5;28;01mif\u001b[39;00m dead \u001b[38;5;129;01mor\u001b[39;00m trunc:\n",
      "Cell \u001b[0;32mIn[16], line 56\u001b[0m, in \u001b[0;36mEnvRealistic.step\u001b[0;34m(self, action)\u001b[0m\n\u001b[1;32m     52\u001b[0m target \u001b[38;5;241m=\u001b[39m \u001b[38;5;28mself\u001b[39m\u001b[38;5;241m.\u001b[39mstart_point \u001b[38;5;241m-\u001b[39m action \u001b[38;5;241m*\u001b[39m EnvRealistic\u001b[38;5;241m.\u001b[39maxis_vector\n\u001b[1;32m     55\u001b[0m joint_angles \u001b[38;5;241m=\u001b[39m p\u001b[38;5;241m.\u001b[39mcalculateInverseKinematics(robot_id,eff_idx,target)\n\u001b[0;32m---> 56\u001b[0m \u001b[43mcontrol_to_desired_configuration\u001b[49m\u001b[43m(\u001b[49m\u001b[43mrobot_id\u001b[49m\u001b[43m,\u001b[49m\u001b[43m \u001b[49m\u001b[43mjoint_angles\u001b[49m\u001b[43m,\u001b[49m\u001b[43m \u001b[49m\u001b[43mmax_steps\u001b[49m\u001b[38;5;241;43m=\u001b[39;49m\u001b[38;5;241;43m100\u001b[39;49m\u001b[43m,\u001b[49m\u001b[43m \u001b[49m\u001b[43msleep\u001b[49m\u001b[38;5;241;43m=\u001b[39;49m\u001b[38;5;28;43mself\u001b[39;49m\u001b[38;5;241;43m.\u001b[39;49m\u001b[43msleep\u001b[49m\u001b[43m)\u001b[49m\n\u001b[1;32m     57\u001b[0m (x, x_dot, theta, theta_dot) \u001b[38;5;241m=\u001b[39m \u001b[38;5;28mself\u001b[39m\u001b[38;5;241m.\u001b[39mget_state()\n\u001b[1;32m     58\u001b[0m \u001b[38;5;28mself\u001b[39m\u001b[38;5;241m.\u001b[39mtimestep \u001b[38;5;241m+\u001b[39m\u001b[38;5;241m=\u001b[39m \u001b[38;5;241m1\u001b[39m\n",
      "Cell \u001b[0;32mIn[7], line 32\u001b[0m, in \u001b[0;36mcontrol_to_desired_configuration\u001b[0;34m(robot_id, q_desired, v_desired, max_steps, sleep)\u001b[0m\n\u001b[1;32m     30\u001b[0m p\u001b[38;5;241m.\u001b[39mstepSimulation()\n\u001b[1;32m     31\u001b[0m \u001b[38;5;28;01mif\u001b[39;00m sleep \u001b[38;5;129;01mis\u001b[39;00m \u001b[38;5;129;01mnot\u001b[39;00m \u001b[38;5;28;01mNone\u001b[39;00m:\n\u001b[0;32m---> 32\u001b[0m   \u001b[43mtime\u001b[49m\u001b[38;5;241;43m.\u001b[39;49m\u001b[43msleep\u001b[49m\u001b[43m(\u001b[49m\u001b[43msleep\u001b[49m\u001b[43m)\u001b[49m\n",
      "\u001b[0;31mKeyboardInterrupt\u001b[0m: "
     ]
    }
   ],
   "source": [
    "env = EnvRealistic(sleep=0.0001)\n",
    "samples = generate_sample_of_system_dynamics_realistic(env, 1000)"
   ]
  },
  {
   "cell_type": "code",
   "execution_count": null,
   "metadata": {},
   "outputs": [
    {
     "name": "stdout",
     "output_type": "stream",
     "text": [
      "                 x        x_dot        theta    theta_dot            u  \\\n",
      "count  1000.000000  1000.000000  1000.000000  1000.000000  1000.000000   \n",
      "mean     -0.001909     0.000060    -0.017187    -0.154552     0.026201   \n",
      "std       0.015746     0.034831     0.089092     0.717232     0.578289   \n",
      "min      -0.059651    -0.082887    -0.247988    -2.919447    -0.998930   \n",
      "25%      -0.012710    -0.025985    -0.051297    -0.602443    -0.466904   \n",
      "50%      -0.000651    -0.000757    -0.005119    -0.143623     0.037517   \n",
      "75%       0.008667     0.027061     0.010750     0.286480     0.552838   \n",
      "max       0.037072     0.109760     0.247682     2.248499     0.999485   \n",
      "\n",
      "       evolution_x  evolution_x_dot  evolution_theta  evolution_theta_dot  \n",
      "count  1000.000000      1000.000000      1000.000000          1000.000000  \n",
      "mean     -0.001904        -0.000065        -0.018788            -0.166567  \n",
      "std       0.015908         0.035122         0.094630             0.755290  \n",
      "min      -0.059651        -0.082887        -0.267358            -2.919447  \n",
      "25%      -0.012898        -0.026696        -0.057835            -0.632548  \n",
      "50%      -0.000862        -0.002312        -0.005803            -0.158208  \n",
      "75%       0.008987         0.027578         0.011327             0.291470  \n",
      "max       0.037072         0.109760         0.261409             2.330861  \n"
     ]
    }
   ],
   "source": [
    "print(samples.describe())"
   ]
  },
  {
   "cell_type": "markdown",
   "metadata": {},
   "source": [
    "## Fit a Linear regression on the data"
   ]
  },
  {
   "cell_type": "code",
   "execution_count": null,
   "metadata": {},
   "outputs": [
    {
     "name": "stdout",
     "output_type": "stream",
     "text": [
      "evolution_x_dot linear model:\n",
      "x           -0.738924\n",
      "x_dot        0.646575\n",
      "theta        0.152292\n",
      "theta_dot   -0.024031\n",
      "u           -0.054746\n",
      "dtype: float64\n",
      "Mean squared error of evolution_x_dot fit 5.9855275370732344e-06\n",
      "evolution_theta_dot linear model:\n",
      "x           -14.668467\n",
      "x_dot        -5.007803\n",
      "theta         5.523742\n",
      "theta_dot     0.185968\n",
      "u            -0.709063\n",
      "dtype: float64\n",
      "Mean squared error of evolution_theta_dot fit 0.007843903487250408\n",
      "evolution_x linear model:\n",
      "x            0.936163\n",
      "x_dot        0.073373\n",
      "theta        0.015479\n",
      "theta_dot   -0.002444\n",
      "u           -0.004445\n",
      "dtype: float64\n",
      "Mean squared error of evolution_x fit 6.091323919145669e-08\n",
      "evolution_theta linear model:\n",
      "x           -0.136654\n",
      "x_dot       -0.045864\n",
      "theta        1.046681\n",
      "theta_dot    0.002926\n",
      "u           -0.007453\n",
      "dtype: float64\n",
      "Mean squared error of evolution_theta fit 5.362855924368433e-07\n"
     ]
    }
   ],
   "source": [
    "from statsmodels.api import OLS\n",
    "\n",
    "small_angle_samples = samples[np.abs(samples[\"theta\"]) < 0.2]\n",
    "predictors = small_angle_samples[['x', 'x_dot', 'theta', 'theta_dot', 'u']]\n",
    "outcomes = ['evolution_x_dot', 'evolution_theta_dot', 'evolution_x', 'evolution_theta']\n",
    "params = {}\n",
    "for o in outcomes:\n",
    "  model = OLS(small_angle_samples[o], predictors)\n",
    "  fit = model.fit()\n",
    "  print(f\"{o} linear model:\")\n",
    "  print(fit.params)\n",
    "  print(f\"Mean squared error of {o} fit\", fit.mse_resid)\n",
    "  params[o] = fit.params.to_numpy()"
   ]
  },
  {
   "cell_type": "markdown",
   "metadata": {},
   "source": [
    "## Computing a state-feedback controller according to a discrete-time linear quadratic regulator design"
   ]
  },
  {
   "cell_type": "code",
   "execution_count": null,
   "metadata": {},
   "outputs": [
    {
     "name": "stdout",
     "output_type": "stream",
     "text": [
      "[[-18.13404124 -13.39970578  27.17428003   0.52563169]]\n"
     ]
    }
   ],
   "source": [
    "from control import dlqr\n",
    "\n",
    "dT = 0.0001\n",
    "A = np.array([\n",
    "  params['evolution_x'][:4], #x\n",
    "  params['evolution_x_dot'][:4], #x_dot\n",
    "  params['evolution_theta'][:4], #theta\n",
    "  params['evolution_theta_dot'][:4] #theta_dot\n",
    "])\n",
    "B = np.array([\n",
    "  [params['evolution_x'][4]], #x\n",
    "  [params['evolution_x_dot'][4]], #x_dot\n",
    "  [params['evolution_theta'][4]], #theta\n",
    "  [params['evolution_theta_dot'][4]] #theta_dot\n",
    "])\n",
    "Q = np.diag([125, 50, 1200, 25])\n",
    "R = np.diag([1.5])\n",
    "\n",
    "K, S, E = dlqr(A, B, Q, R)\n",
    "print(K)"
   ]
  },
  {
   "cell_type": "markdown",
   "metadata": {},
   "source": [
    "# Trying out the learned policy"
   ]
  },
  {
   "cell_type": "code",
   "execution_count": 23,
   "metadata": {},
   "outputs": [],
   "source": [
    "K = [[-18.13404124 ,-13.39970578 , 27.17428003  , 0.52563169]]"
   ]
  },
  {
   "cell_type": "code",
   "execution_count": null,
   "metadata": {},
   "outputs": [
    {
     "name": "stdout",
     "output_type": "stream",
     "text": [
      "[0.]\n",
      "[0.00610004]\n",
      "[0.01309409]\n",
      "[0.02074829]\n",
      "[0.02900563]\n",
      "[0.03775396]\n",
      "[0.04690327]\n",
      "[0.05638269]\n",
      "[0.06612874]\n",
      "[0.07607949]\n",
      "[0.08617133]\n",
      "[0.09633754]\n",
      "[0.10650818]\n",
      "[0.11661085]\n",
      "[0.1265718]\n",
      "[0.13631735]\n",
      "[0.14577523]\n",
      "[0.15487584]\n",
      "[0.16355335]\n",
      "[0.17174658]\n",
      "[0.17939966]\n",
      "[0.18646254]\n",
      "[0.19289136]\n",
      "[0.19864858]\n",
      "[0.2037032]\n",
      "[0.20803075]\n",
      "[0.21161331]\n",
      "[0.21443951]\n",
      "[0.21650448]\n",
      "[0.21780982]\n",
      "[0.21836354]\n",
      "[0.21818004]\n",
      "[0.21727999]\n",
      "[0.21576628]\n",
      "[0.2136378]\n",
      "[0.21057332]\n",
      "[0.2071383]\n",
      "[0.20318606]\n",
      "[0.19876382]\n",
      "[0.19393746]\n",
      "[0.18877241]\n",
      "[0.18333876]\n",
      "[0.17771067]\n",
      "[0.17196587]\n",
      "[0.16618497]\n",
      "[0.16045082]\n",
      "[0.15484773]\n",
      "[0.14946061]\n",
      "[0.14437411]\n",
      "[0.1396716]\n",
      "[0.13543409]\n",
      "[0.13173916]\n",
      "[0.12865973]\n",
      "[0.12626288]\n",
      "[0.1246086]\n",
      "[0.12374861]\n",
      "[0.12372517]\n",
      "[0.12456999]\n",
      "[0.1263033]\n",
      "[0.12893308]\n",
      "[0.13231932]\n",
      "[0.13690622]\n",
      "[0.1421344]\n",
      "[0.14815361]\n",
      "[0.15492077]\n",
      "[0.16236204]\n",
      "[0.17039886]\n",
      "[0.1789435]\n",
      "[0.1879007]\n",
      "[0.1971695]\n",
      "[0.20664509]\n",
      "[0.2162206]\n",
      "[0.22578884]\n",
      "[0.23524396]\n",
      "[0.24448285]\n",
      "[0.25340634]\n",
      "[0.26192027]\n",
      "[0.26993619]\n",
      "[0.277372]\n",
      "[0.2841523]\n",
      "[0.29020862]\n",
      "[0.29547958]\n",
      "[0.29991088]\n",
      "[0.3034553]\n",
      "[0.30607266]\n",
      "[0.30772973]\n",
      "[0.30840028]\n",
      "[0.30806495]\n",
      "[0.30671133]\n",
      "[0.30436366]\n",
      "[0.30115295]\n",
      "[0.29654777]\n",
      "[0.29113212]\n",
      "[0.28474252]\n",
      "[0.27740604]\n",
      "[0.26916389]\n",
      "[0.26005984]\n",
      "[0.25014506]\n",
      "[0.23947803]\n",
      "[0.22812445]\n",
      "[0.21615715]\n",
      "[0.20365589]\n",
      "[0.19070716]\n",
      "[0.17740391]\n",
      "[0.1638452]\n",
      "[0.15013582]\n",
      "[0.1363858]\n",
      "[0.12270981]\n",
      "[0.10922651]\n",
      "[0.09605772]\n",
      "[0.08332748]\n",
      "[0.07116096]\n",
      "[0.05968315]\n",
      "[0.04901748]\n",
      "[0.03928412]\n",
      "[0.03059819]\n",
      "[0.02306777]\n",
      "[0.01679173]\n",
      "[0.0118575]\n",
      "[0.00833873]\n",
      "[0.00629302]\n",
      "[0.00575967]\n",
      "[0.00675773]\n",
      "[0.00928434]\n",
      "[0.0133135]\n",
      "[0.01863436]\n",
      "[0.02556075]\n",
      "[0.0337329]\n",
      "[0.04305896]\n",
      "[0.05340947]\n",
      "[0.06463119]\n",
      "[0.07655943]\n",
      "[0.08902085]\n",
      "[0.10183749]\n",
      "[0.11483077]\n",
      "[0.12782526]\n",
      "[0.14065187]\n",
      "[0.15315062]\n",
      "[0.16517263]\n",
      "[0.17658153]\n",
      "[0.18725415]\n",
      "[0.1970807]\n",
      "[0.20596459]\n",
      "[0.21382184]\n",
      "[0.22058039]\n",
      "[0.22617938]\n",
      "[0.23056837]\n",
      "[0.2337068]\n",
      "[0.23556345]\n",
      "[0.23611614]\n",
      "[0.2353516]\n",
      "[0.23326538]\n",
      "[0.22986194]\n",
      "[0.22527675]\n",
      "[0.21909623]\n",
      "[0.21188628]\n",
      "[0.20345627]\n",
      "[0.19386641]\n",
      "[0.18318334]\n",
      "[0.17147908]\n",
      "[0.15883649]\n",
      "[0.14534903]\n",
      "[0.13112067]\n",
      "[0.11626587]\n",
      "[0.10090943]\n",
      "[0.08518626]\n",
      "[0.06924112]\n",
      "[0.05322819]\n",
      "[0.03731057]\n",
      "[0.02165955]\n",
      "[0.00645374]\n",
      "[-0.00812212]\n",
      "[-0.0218786]\n",
      "[-0.03462338]\n",
      "[-0.04616352]\n",
      "[-0.05630805]\n",
      "[-0.0648712]\n",
      "[-0.07167605]\n",
      "[-0.07655867]\n",
      "[-0.07937276]\n",
      "[-0.07999456]\n",
      "[-0.07832798]\n",
      "[-0.07430966]\n",
      "[-0.06791367]\n",
      "[-0.0592229]\n",
      "[-0.04814165]\n",
      "[-0.03487005]\n",
      "[-0.01955723]\n",
      "[-0.0023939]\n",
      "[0.01638905]\n",
      "[0.03652983]\n",
      "[0.05774372]\n",
      "[0.07973238]\n",
      "[0.10219362]\n",
      "[0.12483091]\n",
      "[0.14736173]\n",
      "[0.16952424]\n",
      "[0.19108198]\n",
      "[0.21182634]\n",
      "[0.23157711]\n",
      "[0.25018127]\n",
      "[0.26751062]\n",
      "[0.28345865]\n",
      "[0.29793721]\n",
      "[0.31087326]\n",
      "[0.32220608]\n",
      "[0.33188509]\n",
      "[0.3398683]\n",
      "[0.34612135]\n",
      "[0.3506172]\n",
      "[0.35333614]\n",
      "[0.35426623]\n",
      "[0.35340385]\n",
      "[0.35075441]\n",
      "[0.346333]\n",
      "[0.34016682]\n",
      "[0.33229311]\n",
      "[0.322754]\n",
      "[0.31161157]\n",
      "[0.2989372]\n",
      "[0.28481439]\n",
      "[0.26933876]\n",
      "[0.25261808]\n",
      "[0.23477226]\n",
      "[0.21593317]\n",
      "[0.19624459]\n",
      "[0.1758621]\n",
      "[0.15495282]\n",
      "[0.13369521]\n",
      "[0.11227868]\n",
      "[0.09090317]\n",
      "[0.0697785]\n",
      "[0.04912359]\n",
      "[0.02916531]\n",
      "[0.01013704]\n",
      "[-0.00772319]\n",
      "[-0.02417514]\n",
      "[-0.03897931]\n",
      "[-0.05190064]\n",
      "[-0.06271293]\n",
      "[-0.07120397]\n",
      "[-0.07718144]\n",
      "[-0.08047943]\n",
      "[-0.08096539]\n",
      "[-0.07854718]\n",
      "[-0.07317992]\n",
      "[-0.0648719]\n",
      "[-0.05374885]\n",
      "[-0.03979064]\n",
      "[-0.023289]\n",
      "[-0.00447331]\n",
      "[0.01636303]\n",
      "[0.03888431]\n",
      "[0.06272564]\n",
      "[0.08750629]\n",
      "[0.11284376]\n",
      "[0.1383669]\n",
      "[0.16372737]\n",
      "[0.18860823]\n",
      "[0.21272934]\n",
      "[0.23584946]\n",
      "[0.25776534]\n",
      "[0.27830863]\n",
      "[0.29734127]\n",
      "[0.31475021]\n",
      "[0.33044224]\n",
      "[0.34433931]\n",
      "[0.35637483]\n",
      "[0.36649099]\n",
      "[0.37463707]\n",
      "[0.38076873]\n",
      "[0.38484799]\n",
      "[0.38684371]\n",
      "[0.38673248]\n",
      "[0.38449957]\n",
      "[0.38014]\n",
      "[0.37374339]\n",
      "[0.36499197]\n",
      "[0.35439719]\n",
      "[0.3417083]\n",
      "[0.32704673]\n",
      "[0.31047632]\n",
      "[0.29207923]\n",
      "[0.2719509]\n",
      "[0.25020031]\n",
      "[0.22695001]\n",
      "[0.20233609]\n",
      "[0.17650813]\n",
      "[0.14962927]\n",
      "[0.12187621]\n",
      "[0.09343932]\n",
      "[0.0645227]\n",
      "[0.03534433]\n",
      "[0.00613605]\n",
      "[-0.02285646]\n",
      "[-0.05137394]\n",
      "[-0.07914398]\n",
      "[-0.10588186]\n",
      "[-0.13129185]\n",
      "[-0.15506908]\n",
      "[-0.17690227]\n",
      "[-0.19647733]\n",
      "[-0.21348218]\n",
      "[-0.22761276]\n",
      "[-0.23858059]\n",
      "[-0.24612168]\n",
      "[-0.2500068]\n",
      "[-0.25005294]\n",
      "[-0.24613525]\n",
      "[-0.23819882]\n",
      "[-0.22626928]\n",
      "[-0.21063121]\n",
      "[-0.19102547]\n",
      "[-0.16816897]\n",
      "[-0.14231576]\n",
      "[-0.11393723]\n",
      "[-0.08353913]\n",
      "[-0.05165931]\n",
      "[-0.01883995]\n",
      "[0.01439637]\n",
      "[0.04756748]\n",
      "[0.08024702]\n",
      "[0.11207317]\n",
      "[0.14275049]\n",
      "[0.17204604]\n",
      "[0.19978119]\n",
      "[0.22582118]\n",
      "[0.2500641]\n",
      "[0.27243078]\n",
      "[0.2928565]\n",
      "[0.31128489]\n",
      "[0.32766407]\n",
      "[0.34194484]\n",
      "[0.35408035]\n",
      "[0.36402696]\n",
      "[0.37174571]\n",
      "[0.37720419]\n",
      "[0.38037839]\n",
      "[0.3812544]\n",
      "[0.37982991]\n",
      "[0.37611527]\n",
      "[0.37013435]\n",
      "[0.36156487]\n",
      "[0.35152166]\n",
      "[0.3389646]\n",
      "[0.3244854]\n",
      "[0.30803081]\n",
      "[0.28975297]\n",
      "[0.26976027]\n",
      "[0.24819064]\n",
      "[0.22518887]\n",
      "[0.20091299]\n",
      "[0.17553181]\n",
      "[0.14922523]\n",
      "[0.12218365]\n",
      "[0.09460766]\n",
      "[0.06670757]\n",
      "[0.03870287]\n",
      "[0.01082158]\n",
      "[-0.01670059]\n",
      "[-0.04362131]\n",
      "[-0.06969299]\n",
      "[-0.09466443]\n",
      "[-0.11828298]\n",
      "[-0.14029712]\n",
      "[-0.16045951]\n",
      "[-0.17853073]\n",
      "[-0.19428343]\n",
      "[-0.20750715]\n",
      "[-0.21801357]\n",
      "[-0.22564203]\n",
      "[-0.23026522]\n",
      "[-0.23179468]\n",
      "[-0.23018576]\n",
      "[-0.22544164]\n",
      "[-0.21761596]\n",
      "[-0.2068137]\n",
      "[-0.19311553]\n",
      "[-0.17696695]\n",
      "[-0.15830333]\n",
      "[-0.13760614]\n",
      "[-0.11506739]\n",
      "[-0.09105507]\n",
      "[-0.06585442]\n",
      "[-0.03979081]\n",
      "[-0.01315043]\n",
      "[0.01378631]\n",
      "[0.04077076]\n",
      "[0.06757515]\n",
      "[0.09403096]\n",
      "[0.12399327]\n",
      "[0.15188867]\n",
      "[0.18008652]\n",
      "[0.20686717]\n",
      "[0.23302681]\n",
      "[0.25785191]\n",
      "[0.28156887]\n",
      "[0.30384722]\n",
      "[0.32470992]\n",
      "[0.34397784]\n",
      "[0.3616074]\n",
      "[0.37748539]\n",
      "[0.39155388]\n",
      "[0.40373507]\n",
      "[0.41397733]\n",
      "[0.42222805]\n",
      "[0.42845054]\n",
      "[0.43261434]\n",
      "[0.43470139]\n",
      "[0.43470262]\n",
      "[0.43262014]\n",
      "[0.42846598]\n",
      "[0.42272569]\n",
      "[0.41377601]\n",
      "[0.40405619]\n",
      "[0.39164516]\n",
      "[0.37784156]\n",
      "[0.36198293]\n",
      "[0.34458727]\n",
      "[0.32548716]\n",
      "[0.30493771]\n",
      "[0.28295801]\n",
      "[0.25972234]\n",
      "[0.23532733]\n",
      "[0.20993035]\n",
      "[0.18366694]\n",
      "[0.15669987]\n",
      "[0.12918965]\n",
      "[0.10131191]\n",
      "[0.07324671]\n",
      "[0.04518449]\n",
      "[0.01732194]\n",
      "[-0.01013635]\n",
      "[-0.03697989]\n",
      "[-0.06299249]\n",
      "[-0.08795399]\n",
      "[-0.11164146]\n",
      "[-0.13383135]\n",
      "[-0.15430175]\n",
      "[-0.17283524]\n",
      "[-0.18922219]\n",
      "[-0.20326455]\n",
      "[-0.21478008]\n",
      "[-0.22360694]\n",
      "[-0.22960853]\n",
      "[-0.2326783]\n",
      "[-0.23274441]\n",
      "[-0.22977373]\n",
      "[-0.22377512]\n",
      "[-0.21480133]\n",
      "[-0.20311868]\n",
      "[-0.18829374]\n",
      "[-0.17127527]\n",
      "[-0.15170407]\n",
      "[-0.13016786]\n",
      "[-0.10672817]\n",
      "[-0.08178894]\n",
      "[-0.0555641]\n",
      "[-0.02838497]\n",
      "[-0.00050523]\n",
      "[0.02778988]\n",
      "[0.05625559]\n",
      "[0.08464793]\n",
      "[0.11274951]\n",
      "[0.14035397]\n",
      "[0.16727443]\n",
      "[0.19333643]\n",
      "[0.21838018]\n",
      "[0.24225711]\n",
      "[0.26483012]\n",
      "[0.28597199]\n",
      "[0.30556538]\n",
      "[0.32350226]\n",
      "[0.33968404]\n",
      "[0.35402155]\n",
      "[0.36643533]\n",
      "[0.37685585]\n",
      "[0.38522381]\n",
      "[0.39149037]\n",
      "[0.39561741]\n",
      "[0.39757768]\n",
      "[0.3973549]\n",
      "[0.39494388]\n",
      "[0.39035045]\n",
      "[0.38394419]\n",
      "[0.37436715]\n",
      "[0.3639023]\n",
      "[0.35053533]\n",
      "[0.33568998]\n",
      "[0.31862143]\n",
      "[0.29989723]\n",
      "[0.27931748]\n",
      "[0.25715742]\n",
      "[0.23342453]\n",
      "[0.20830273]\n",
      "[0.18188654]\n",
      "[0.1543403]\n",
      "[0.12580278]\n",
      "[0.09644448]\n",
      "[0.06643334]\n",
      "[0.03595541]\n",
      "[0.0052025]\n",
      "[-0.02562044]\n",
      "[-0.0562999]\n",
      "[-0.08661136]\n",
      "[-0.11632136]\n",
      "[-0.14518718]\n",
      "[-0.17295843]\n",
      "[-0.199378]\n",
      "[-0.22418419]\n",
      "[-0.24711291]\n",
      "[-0.2679009]\n",
      "[-0.28628942]\n",
      "[-0.3020289]\n",
      "[-0.31488431]\n",
      "[-0.32464136]\n",
      "[-0.33111321]\n",
      "[-0.33414764]\n",
      "[-0.33363427]\n",
      "[-0.32951124]\n",
      "[-0.321771]\n",
      "[-0.31046436]\n",
      "[-0.29604975]\n",
      "[-0.27751926]\n",
      "[-0.25667659]\n",
      "[-0.23261778]\n",
      "[-0.20635769]\n",
      "[-0.17782091]\n",
      "[-0.14761636]\n",
      "[-0.1159581]\n",
      "[-0.08329311]\n",
      "[-0.04990945]\n",
      "[-0.01616024]\n",
      "[0.01767902]\n",
      "[0.05132764]\n",
      "[0.08455018]\n",
      "[0.11712327]\n",
      "[0.14885184]\n",
      "[0.17955445]\n",
      "[0.20906755]\n",
      "[0.23723872]\n",
      "[0.26392753]\n",
      "[0.28900264]\n",
      "[0.31234215]\n",
      "[0.33383275]\n",
      "[0.35337019]\n",
      "[0.37085942]\n",
      "[0.38621515]\n",
      "[0.39936232]\n",
      "[0.41023659]\n",
      "[0.41878482]\n",
      "[0.42496537]\n",
      "[0.42874839]\n",
      "[0.430116]\n",
      "[0.4290623]\n",
      "[0.42559343]\n",
      "[0.41972743]\n",
      "[0.41130231]\n",
      "[0.40101483]\n",
      "[0.38803809]\n",
      "[0.37309629]\n",
      "[0.35587251]\n",
      "[0.33668816]\n",
      "[0.3155012]\n",
      "[0.2925034]\n",
      "[0.26776395]\n",
      "[0.24144206]\n",
      "[0.21365997]\n",
      "[0.18457895]\n",
      "[0.15435399]\n",
      "[0.12316114]\n",
      "[0.09118136]\n",
      "[0.05861041]\n",
      "[0.02565317]\n",
      "[-0.00747277]\n",
      "[-0.04053918]\n",
      "[-0.07330603]\n",
      "[-0.10552247]\n",
      "[-0.1369269]\n",
      "[-0.16724799]\n",
      "[-0.19620576]\n",
      "[-0.22351338]\n",
      "[-0.24887945]\n",
      "[-0.27201113]\n",
      "[-0.2926181]\n",
      "[-0.3104175]\n",
      "[-0.32513992]\n",
      "[-0.33653633]\n",
      "[-0.34438602]\n",
      "[-0.34850514]\n",
      "[-0.34875552]\n",
      "[-0.34505324]\n",
      "[-0.3373762]\n",
      "[-0.32576994]\n",
      "[-0.31035074]\n",
      "[-0.2913055]\n",
      "[-0.26888849]\n",
      "[-0.2434135]\n",
      "[-0.21524069]\n",
      "[-0.18476438]\n",
      "[-0.1523972]\n",
      "[-0.11855507]\n",
      "[-0.08364359]\n",
      "[-0.0480474]\n",
      "[-0.01212247]\n",
      "[0.02380771]\n",
      "[0.05945318]\n",
      "[0.09455569]\n",
      "[0.12888555]\n",
      "[0.16223728]\n",
      "[0.19442558]\n",
      "[0.22528131]\n",
      "[0.25464843]\n",
      "[0.2823817]\n",
      "[0.30834522]\n",
      "[0.33241172]\n",
      "[0.35446238]\n",
      "[0.37438707]\n",
      "[0.39208491]\n",
      "[0.40746487]\n",
      "[0.42044646]\n",
      "[0.43096037]\n",
      "[0.43894897]\n",
      "[0.44436679]\n",
      "[0.44718075]\n",
      "[0.44737037]\n",
      "[0.44492784]\n",
      "[0.43985792]\n",
      "[0.43227278]\n",
      "[0.42177831]\n",
      "[0.40919138]\n",
      "[0.39378285]\n",
      "[0.37615459]\n",
      "[0.35606381]\n",
      "[0.33378914]\n",
      "[0.30931638]\n",
      "[0.28282371]\n",
      "[0.25439212]\n",
      "[0.22417826]\n",
      "[0.19231127]\n",
      "[0.15895475]\n",
      "[0.12426997]\n",
      "[0.08843841]\n",
      "[0.05164876]\n",
      "[0.01410545]\n",
      "[-0.02397575]\n",
      "[-0.06236429]\n",
      "[-0.10081603]\n",
      "[-0.13907177]\n",
      "[-0.17685742]\n",
      "[-0.21388343]\n",
      "[-0.249845]\n",
      "[-0.28442234]\n",
      "[-0.31728166]\n",
      "[-0.34807672]\n",
      "[-0.3764514]\n",
      "[-0.40204339]\n",
      "[-0.42448932]\n",
      "[-0.44343158]\n",
      "[-0.45852693]\n",
      "[-0.46945714]\n",
      "[-0.47594139]\n",
      "[-0.4777502]\n",
      "[-0.47472012]\n",
      "[-0.4667682]\n",
      "[-0.45390466]\n",
      "[-0.43624228]\n",
      "[-0.41400031]\n",
      "[-0.38750294]\n",
      "[-0.35716978]\n",
      "[-0.32349582]\n",
      "[-0.2870299]\n",
      "[-0.24834706]\n",
      "[-0.2080218]\n",
      "[-0.16660222]\n",
      "[-0.12459279]\n",
      "[-0.08244088]\n",
      "[-0.0405335]\n",
      "[0.00080195]\n",
      "[0.04129014]\n",
      "[0.08069957]\n",
      "[0.11883186]\n",
      "[0.15551303]\n",
      "[0.19058556]\n",
      "[0.22390301]\n",
      "[0.25532626]\n",
      "[0.28472177]\n",
      "[0.31196108]\n",
      "[0.33692125]\n",
      "[0.35948599]\n",
      "[0.37954695]\n",
      "[0.39700524]\n",
      "[0.41177265]\n",
      "[0.42377291]\n",
      "[0.43294254]\n",
      "[0.43923151]\n",
      "[0.44260373]\n",
      "[0.44303721]\n",
      "[0.4405241]\n",
      "[0.43507061]\n",
      "[0.42669672]\n",
      "[0.41533215]\n",
      "[0.40137357]\n",
      "[0.38441452]\n",
      "[0.36487647]\n",
      "[0.34263538]\n",
      "[0.31791266]\n",
      "[0.29074209]\n",
      "[0.2612885]\n",
      "[0.22965688]\n",
      "[0.19600675]\n",
      "[0.16048376]\n",
      "[0.12326129]\n",
      "[0.08451602]\n",
      "[0.04444343]\n",
      "[0.00324948]\n",
      "[-0.03884321]\n",
      "[-0.08159771]\n",
      "[-0.12475977]\n",
      "[-0.16805795]\n",
      "[-0.21120169]\n",
      "[-0.25388062]\n",
      "[-0.29576314]\n",
      "[-0.33649564]\n",
      "[-0.37570184]\n",
      "[-0.41298271]\n",
      "[-0.44791719]\n",
      "[-0.48006418]\n",
      "[-0.50896597]\n",
      "[-0.53415399]\n",
      "[-0.5551571]\n",
      "[-0.57151316]\n",
      "[-0.58278422]\n",
      "[-0.58857549]\n",
      "[-0.58855783]\n",
      "[-0.58249273]\n",
      "[-0.57025808]\n",
      "[-0.551872]\n",
      "[-0.52751064]\n",
      "[-0.49751674]\n",
      "[-0.46239704]\n",
      "[-0.42280323]\n",
      "[-0.37949273]\n",
      "[-0.33328797]\n",
      "[-0.28501703]\n",
      "[-0.23547422]\n",
      "[-0.18537008]\n",
      "[-0.13531567]\n",
      "[-0.08580558]\n",
      "[-0.03722791]\n",
      "[0.01012315]\n",
      "[0.05602455]\n",
      "[0.10030265]\n",
      "[0.14281405]\n",
      "[0.18342999]\n",
      "[0.22202638]\n",
      "[0.25847798]\n",
      "[0.29265616]\n",
      "[0.3244294]\n",
      "[0.35366524]\n",
      "[0.38023316]\n",
      "[0.40400762]\n",
      "[0.42487097]\n",
      "[0.44271604]\n",
      "[0.45744819]\n",
      "[0.46898688]\n",
      "[0.47726675]\n",
      "[0.48223827]\n",
      "[0.483868]\n",
      "[0.48213858]\n",
      "[0.47704847]\n",
      "[0.46861149]\n",
      "[0.45639052]\n",
      "[0.44199922]\n",
      "[0.4234047]\n",
      "[0.40223843]\n",
      "[0.3776541]\n",
      "[0.35030226]\n",
      "[0.31995928]\n",
      "[0.28694164]\n",
      "[0.25126108]\n",
      "[0.21312952]\n",
      "[0.1726569]\n",
      "[0.13003282]\n",
      "[0.08541807]\n",
      "[0.03901087]\n",
      "[-0.00899191]\n",
      "[-0.05836979]\n",
      "[-0.10889191]\n",
      "[-0.16030678]\n",
      "[-0.21234583]\n",
      "[-0.2647181]\n",
      "[-0.31710985]\n",
      "[-0.36918065]\n",
      "[-0.42056112]\n",
      "[-0.47084919]\n",
      "[-0.51960701]\n",
      "[-0.56635745]\n",
      "[-0.61058124]\n",
      "[-0.65171491]\n",
      "[-0.68915042]\n",
      "[-0.72223742]\n",
      "[-0.75028948]\n",
      "[-0.77259585]\n",
      "[-0.78844073]\n",
      "[-0.79713168]\n",
      "[-0.79803869]\n",
      "[-0.79064406]\n",
      "[-0.7746015]\n",
      "[-0.7497997]\n",
      "[-0.71640918]\n",
      "[-0.67504704]\n",
      "[-0.6282876]\n",
      "[-0.57526312]\n",
      "[-0.51850775]\n",
      "[-0.44630959]\n",
      "[-0.38377079]\n",
      "[-0.32167096]\n",
      "[-0.25807287]\n",
      "[-0.19730854]\n",
      "[-0.13787029]\n",
      "[-0.08124843]\n",
      "[-0.02683411]\n",
      "[0.02492707]\n",
      "[0.07432874]\n",
      "[0.12122533]\n",
      "[0.1657097]\n",
      "[0.20766718]\n",
      "[0.24705002]\n",
      "[0.28371236]\n",
      "[0.3175281]\n",
      "[0.34833248]\n",
      "[0.37597416]\n",
      "[0.40029583]\n",
      "[0.42115707]\n",
      "[0.43842819]\n",
      "[0.45199972]\n",
      "[0.46178016]\n",
      "[0.46769932]\n",
      "[0.46970687]\n",
      "[0.46777291]\n",
      "[0.46188657]\n",
      "[0.45205534]\n",
      "[0.43782606]\n",
      "[0.42085159]\n",
      "[0.3990362]\n",
      "[0.37406325]\n",
      "[0.34504758]\n",
      "[0.31266355]\n",
      "[0.27666678]\n",
      "[0.23738128]\n",
      "[0.19480463]\n",
      "[0.14914584]\n",
      "[0.10050064]\n",
      "[0.04904774]\n",
      "[-0.00506989]\n",
      "[-0.06167244]\n",
      "[-0.12058671]\n",
      "[-0.18161849]\n",
      "[-0.24456801]\n",
      "[-0.30921856]\n",
      "[-0.37534094]\n",
      "[-0.44268748]\n",
      "[-0.51099155]\n",
      "[-0.57996238]\n",
      "[-0.64928123]\n",
      "[-0.71859471]\n",
      "[-0.78750724]\n",
      "[-0.85557088]\n",
      "[-0.92227288]\n",
      "[-0.98702003]\n",
      "[-1.]\n",
      "[-1.]\n",
      "[-1.]\n",
      "[-1.]\n",
      "[-1.]\n",
      "[-1.]\n",
      "[-1.]\n",
      "[-1.]\n",
      "[-1.]\n",
      "[-1.]\n",
      "[-1.]\n",
      "[-1.]\n",
      "[-1.]\n",
      "[-1.]\n",
      "[-1.]\n",
      "[-0.94196166]\n",
      "[-0.74879781]\n",
      "[-0.6454594]\n",
      "[-0.51115073]\n",
      "[-0.4088]\n",
      "[-0.30794556]\n",
      "[-0.22631786]\n",
      "[-0.15564756]\n",
      "[-0.08664007]\n",
      "[-0.02821214]\n",
      "[0.02762719]\n",
      "[0.07814374]\n",
      "[0.12656518]\n",
      "[0.17172518]\n",
      "[0.21472597]\n",
      "[0.25483254]\n",
      "[0.29224039]\n",
      "[0.32640205]\n",
      "[0.35718417]\n",
      "[0.38417948]\n",
      "[0.40718362]\n",
      "[0.42591288]\n",
      "[0.44019466]\n",
      "[0.44985185]\n",
      "[0.45477497]\n",
      "[0.45487395]\n",
      "[0.45010298]\n",
      "[0.44043921]\n",
      "[0.42614645]\n",
      "[0.40638188]\n",
      "[0.38235298]\n",
      "[0.35324321]\n",
      "[0.31965462]\n",
      "[0.2813463]\n",
      "[0.23859959]\n",
      "[0.19138877]\n",
      "[0.13987994]\n",
      "[0.08412472]\n",
      "[0.02424317]\n",
      "[-0.0396911]\n",
      "[-0.10758426]\n",
      "[-0.17936759]\n",
      "[-0.25497499]\n",
      "[-0.33436377]\n",
      "[-0.4175108]\n",
      "[-0.50442674]\n",
      "[-0.59516305]\n",
      "[-0.68982889]\n",
      "[-0.78860957]\n",
      "[-0.89179486]\n",
      "[-0.99981668]\n",
      "[-1.]\n",
      "[-1.]\n",
      "[-1.]\n",
      "[-1.]\n",
      "[-1.]\n",
      "[-1.]\n",
      "[-1.]\n",
      "[-1.]\n",
      "[-1.]\n",
      "[-1.]\n",
      "[-1.]\n",
      "[-1.]\n",
      "[-1.]\n",
      "[-1.]\n",
      "[-1.]\n",
      "[-1.]\n",
      "[-1.]\n",
      "[-1.]\n",
      "[-1.]\n",
      "[-1.]\n",
      "[-1.]\n",
      "[-1.]\n",
      "[-1.]\n",
      "[-1.]\n",
      "[-1.]\n",
      "[-1.]\n",
      "[-1.]\n",
      "[-1.]\n",
      "[-1.]\n",
      "[-1.]\n",
      "[-1.]\n",
      "[-1.]\n",
      "[-1.]\n",
      "[-1.]\n",
      "[-0.74969411]\n",
      "[-0.56359099]\n",
      "[-0.39847836]\n",
      "[-0.26734833]\n",
      "[-0.15931702]\n",
      "[-0.07668197]\n",
      "[-0.01281628]\n",
      "[0.03522306]\n",
      "[0.08913223]\n",
      "[0.12949094]\n",
      "[0.17130101]\n",
      "[0.20656249]\n",
      "[0.2412989]\n",
      "[0.27166978]\n",
      "[0.29990619]\n",
      "[0.32403259]\n",
      "[0.34473177]\n",
      "[0.36094794]\n",
      "[0.37279259]\n",
      "[0.37969867]\n",
      "[0.38161699]\n",
      "[0.37825814]\n",
      "[0.36956869]\n",
      "[0.35542464]\n",
      "[0.33581331]\n",
      "[0.31070964]\n",
      "[0.2801436]\n",
      "[0.24414759]\n",
      "[0.20277618]\n",
      "Successfull balancing for 1000 timesteps\n"
     ]
    }
   ],
   "source": [
    "s = env.reset()\n",
    "time.sleep(2)\n",
    "while True:\n",
    "  a = np.clip(np.dot(-K, s), -1, 1)\n",
    "  print(a)\n",
    "  s, dead, trunc = env.step(a)\n",
    "  if dead or trunc:\n",
    "    print(f\"Successfull balancing for {env.timestep} timesteps\")\n",
    "    break"
   ]
  },
  {
   "cell_type": "code",
   "execution_count": null,
   "metadata": {},
   "outputs": [
    {
     "name": "stdout",
     "output_type": "stream",
     "text": [
      "-0.25580320227736486  theta DEAD\n",
      "-0.2661211785738211  theta DEAD\n",
      "-0.29191854627585556  theta DEAD\n",
      "-0.30440954843008905  theta DEAD\n",
      "-0.3326146564827406  theta DEAD\n",
      "-0.34752111185843226  theta DEAD\n",
      "-0.37844157424657476  theta DEAD\n",
      "-0.3960256866380738  theta DEAD\n",
      "-0.4300049070387417  theta DEAD\n",
      "-0.4505476315086425  theta DEAD\n",
      "-0.48796712553877564  theta DEAD\n",
      "-0.5117660049801298  theta DEAD\n",
      "-0.5530469157413873  theta DEAD\n",
      "-0.5804123742911749  theta DEAD\n",
      "-0.6260155777668044  theta DEAD\n",
      "-0.6572651840070152  theta DEAD\n",
      "-0.707689137322506  theta DEAD\n",
      "-0.7431392785559949  theta DEAD\n",
      "-0.798914482463887  theta DEAD\n",
      "-0.8388688494176666  theta DEAD\n",
      "-0.900547518411468  theta DEAD\n",
      "-0.9452818154318323  theta DEAD\n",
      "-1.0134211606797696  theta DEAD\n",
      "-1.063163569777481  theta DEAD\n",
      "-1.1383011394627078  theta DEAD\n",
      "-1.1932083377149367  theta DEAD\n",
      "-1.2758282958886622  theta DEAD\n",
      "-1.3359573530214575  theta DEAD\n",
      "-1.4264475424260001  theta DEAD\n",
      "-1.4917249664135892  theta DEAD\n",
      "-1.5903260685764402  theta DEAD\n",
      "-1.6605168224829865  theta DEAD\n",
      "-1.7672666370840546  theta DEAD\n",
      "-1.8419482162044942  theta DEAD\n",
      "-1.9566256379912406  theta DEAD\n",
      "-2.0351748912805463  theta DEAD\n",
      "-2.1572494251838203  theta DEAD\n",
      "-2.2388513781156365  theta DEAD\n",
      "-2.367445476422391  theta DEAD\n",
      "-2.451131578095779  theta DEAD\n",
      "-2.58500541365857  theta DEAD\n",
      "-2.6697211921477852  theta DEAD\n",
      "-2.807292103803045  theta DEAD\n",
      "-2.891981905513815  theta DEAD\n",
      "-3.031390349726697  theta DEAD\n",
      "-3.1150756796754  theta DEAD\n",
      "-3.254301512186182  theta DEAD\n",
      "-3.2899456409544388  theta DEAD\n",
      "-3.289945640009727  theta DEAD\n",
      "-3.224669347152235  theta DEAD\n",
      "-3.2157228821999984  theta DEAD\n",
      "-3.151286808458704  theta DEAD\n",
      "-3.070800620877797  theta DEAD\n",
      "-2.982523531373572  theta DEAD\n",
      "-2.8897279816013843  theta DEAD\n",
      "-2.795224491031973  theta DEAD\n",
      "-2.7013230245394753  theta DEAD\n",
      "-2.6098599433181566  theta DEAD\n",
      "-2.5222300721655704  theta DEAD\n",
      "-2.4394245097039113  theta DEAD\n",
      "-2.3620755851250608  theta DEAD\n",
      "-2.2905095762101966  theta DEAD\n",
      "-2.224805475638299  theta DEAD\n",
      "-2.1648559202346687  theta DEAD\n",
      "-2.1104255173859507  theta DEAD\n",
      "-2.0612023745345573  theta DEAD\n",
      "-2.016840143409953  theta DEAD\n",
      "-1.9769896340485817  theta DEAD\n",
      "-1.941320510128819  theta DEAD\n",
      "-1.909550508629637  theta DEAD\n",
      "-1.8813935313091874  theta DEAD\n",
      "-1.9043675323791311  theta DEAD\n",
      "-1.95003968455516  theta DEAD\n",
      "-2.0103400742231456  theta DEAD\n",
      "-2.081174862653914  theta DEAD\n",
      "-2.15881468374768  theta DEAD\n",
      "-2.2399531421570233  theta DEAD\n",
      "-2.3217679135659464  theta DEAD\n",
      "-2.4019762416999826  theta DEAD\n",
      "-2.478843593586086  theta DEAD\n",
      "-2.5511404903353223  theta DEAD\n",
      "-2.618065042182557  theta DEAD\n",
      "-2.679154803264026  theta DEAD\n",
      "-2.7342061739146417  theta DEAD\n",
      "-2.7832103151644048  theta DEAD\n",
      "-2.826306742921649  theta DEAD\n",
      "-2.863751349356138  theta DEAD\n",
      "-2.8958941852173283  theta DEAD\n",
      "-2.9231627554059805  theta DEAD\n",
      "-2.9460477601324473  theta DEAD\n",
      "-2.965089503205976  theta DEAD\n",
      "-2.980864252734371  theta DEAD\n",
      "-2.9939703568311606  theta DEAD\n",
      "-3.0050144033221646  theta DEAD\n",
      "-3.0145976447657277  theta DEAD\n",
      "-3.023303116724913  theta DEAD\n",
      "-3.0316839365841752  theta DEAD\n",
      "-3.0402531231899714  theta DEAD\n",
      "-3.0494751490092757  theta DEAD\n",
      "-3.0597593263450285  theta DEAD\n",
      "-3.071455039647343  theta DEAD\n",
      "-3.0848487678442464  theta DEAD\n",
      "-3.100162792638207  theta DEAD\n",
      "-3.1175554577013815  theta DEAD\n",
      "-3.137122825297459  theta DEAD\n",
      "-3.1589015664958153  theta DEAD\n",
      "-3.1828815649608333  theta DEAD\n",
      "-3.2089756667167575  theta DEAD\n",
      "-3.237079797694507  theta DEAD\n",
      "-3.2670392185774353  theta DEAD\n",
      "-3.289945783472531  theta DEAD\n",
      "-3.226448526009255  theta DEAD\n",
      "-3.143303493970189  theta DEAD\n",
      "-3.049940484443281  theta DEAD\n",
      "-2.9512463549811074  theta DEAD\n",
      "-2.85147026899304  theta DEAD\n",
      "-2.754158271595609  theta DEAD\n",
      "-2.6621820756072654  theta DEAD\n",
      "-2.5777768317173124  theta DEAD\n",
      "-2.502571322414893  theta DEAD\n",
      "-2.437614602748486  theta DEAD\n",
      "-2.3834133370126813  theta DEAD\n",
      "-2.339991352326314  theta DEAD\n",
      "-2.306973230189547  theta DEAD\n",
      "-2.2836841541107433  theta DEAD\n",
      "-2.2692530892966167  theta DEAD\n",
      "-2.262706630943683  theta DEAD\n",
      "-2.2630449666323975  theta DEAD\n",
      "-2.2692967532535167  theta DEAD\n",
      "-2.2805541538124365  theta DEAD\n",
      "-2.2959918447476055  theta DEAD\n",
      "-2.3148746686823922  theta DEAD\n",
      "-2.3365579283145013  theta DEAD\n",
      "-2.360483332498814  theta DEAD\n",
      "-2.3861726611694176  theta DEAD\n",
      "-2.41322041320003  theta DEAD\n",
      "-2.4412861586365273  theta DEAD\n",
      "-2.4700869728161066  theta DEAD\n",
      "-2.4993901407079266  theta DEAD\n",
      "-2.529006226511569  theta DEAD\n",
      "-2.5587889375638455  theta DEAD\n",
      "-2.588605793466608  theta DEAD\n",
      "-2.618362996940856  theta DEAD\n",
      "-2.6479843211899543  theta DEAD\n",
      "-2.6774086098150796  theta DEAD\n",
      "-2.7065861628689363  theta DEAD\n",
      "-2.735475205481863  theta DEAD\n",
      "-2.7640388669846847  theta DEAD\n",
      "-2.792242646056844  theta DEAD\n",
      "-2.8200523380454823  theta DEAD\n",
      "-2.84743239590879  theta DEAD\n",
      "-2.9494945879339274  theta DEAD\n",
      "-3.0837045032682595  theta DEAD\n",
      "-3.2353943829277143  theta DEAD\n",
      "-3.2899456405905174  theta DEAD\n",
      "-3.2896052366256563  theta DEAD\n",
      "-3.2875694892802474  theta DEAD\n",
      "-3.2803479207028494  theta DEAD\n",
      "-3.2658232931930153  theta DEAD\n",
      "-3.2427795897735208  theta DEAD\n",
      "-3.210677339962549  theta DEAD\n",
      "-3.169474004724752  theta DEAD\n",
      "-3.1194933710732324  theta DEAD\n",
      "-3.061330832372819  theta DEAD\n",
      "-2.995782705888517  theta DEAD\n",
      "-2.923790536733225  theta DEAD\n",
      "-2.8463979918828852  theta DEAD\n",
      "-2.7646960916767163  theta DEAD\n",
      "-2.679803907588705  theta DEAD\n",
      "-2.5928246273362157  theta DEAD\n",
      "-2.5048172026883075  theta DEAD\n",
      "-2.4167711581566684  theta DEAD\n",
      "-2.3295862543227304  theta DEAD\n",
      "-2.2440575333747854  theta DEAD\n",
      "-2.160865915286506  theta DEAD\n",
      "-2.080574201739658  theta DEAD\n",
      "-2.0036281411844077  theta DEAD\n",
      "-1.9303619072474434  theta DEAD\n",
      "-1.8610071279052707  theta DEAD\n",
      "-1.7957044858360196  theta DEAD\n",
      "-1.7345168870291148  theta DEAD\n",
      "-1.6774432575229734  theta DEAD\n",
      "-1.6244321587207504  theta DEAD\n",
      "-1.5753945845824329  theta DEAD\n",
      "-1.5302154922820548  theta DEAD\n",
      "-1.4887718992540653  theta DEAD\n",
      "-1.4509077967083903  theta DEAD\n",
      "-1.416493174808767  theta DEAD\n",
      "-1.3853920369621595  theta DEAD\n",
      "-1.3574767687136347  theta DEAD\n",
      "-1.3326306269323234  theta DEAD\n",
      "-1.310749219119939  theta DEAD\n",
      "-1.291741381406243  theta DEAD\n",
      "-1.2755294362820169  theta DEAD\n",
      "-1.2620489844753213  theta DEAD\n",
      "-1.251248358326222  theta DEAD\n",
      "-1.2430878394807237  theta DEAD\n",
      "-1.2375387169421166  theta DEAD\n",
      "-1.234582247561383  theta DEAD\n",
      "-1.2342085843210149  theta DEAD\n",
      "-1.2364157065847023  theta DEAD\n",
      "-1.241208364210761  theta DEAD\n",
      "-1.2485970415284853  theta DEAD\n",
      "-1.258596947620497  theta DEAD\n",
      "-1.2712226116720635  theta DEAD\n",
      "-1.2865062216769378  theta DEAD\n",
      "-1.3044700357686518  theta DEAD\n",
      "-1.3251298250011572  theta DEAD\n",
      "-1.3485159413975976  theta DEAD\n",
      "-1.3746546552016023  theta DEAD\n",
      "-1.4035709737553703  theta DEAD\n",
      "-1.4352885821227184  theta DEAD\n",
      "-1.4698292170686345  theta DEAD\n",
      "-1.5072120450005824  theta DEAD\n",
      "-1.5474530237261948  theta DEAD\n",
      "-1.5905642377797435  theta DEAD\n",
      "-1.6365531977017  theta DEAD\n",
      "-1.6854220948852547  theta DEAD\n",
      "-1.73716700534681  theta DEAD\n",
      "-1.7917770381016722  theta DEAD\n",
      "-1.849233426815767  theta DEAD\n"
     ]
    }
   ],
   "source": [
    "actions = [-1, 1] * 50 + [-1] * 20 + [1] * 40 + [-1] * 40 + [1] * 70\n",
    "env.reset()\n",
    "time.sleep(2)\n",
    "for a in actions:\n",
    "  env.step(a)\n",
    "  time.sleep(0.00001)"
   ]
  },
  {
   "cell_type": "markdown",
   "metadata": {},
   "source": [
    "# Swing-up"
   ]
  },
  {
   "cell_type": "code",
   "execution_count": 17,
   "metadata": {},
   "outputs": [
    {
     "name": "stderr",
     "output_type": "stream",
     "text": [
      "This process is not trusted! Input event monitoring will not be possible until it is added to accessibility clients.\n"
     ]
    },
    {
     "name": "stdout",
     "output_type": "stream",
     "text": [
      "z = 0.13552177647662966\n",
      "0.0021718742379104317\n",
      "0.018811991969061914\n",
      "Cursor X: 1060, Action: -0.4722222222222223\n",
      "z = 0.13660366390438541\n",
      "0.005299651608342448\n",
      "0.04372489796678858\n",
      "Cursor X: 1060, Action: -0.4722222222222223\n",
      "z = 0.13783578302933416\n",
      "0.008179423404219621\n",
      "0.0646746376937557\n",
      "Cursor X: 930, Action: -0.29166666666666674\n",
      "z = 0.13858693838539224\n",
      "0.00926174922136569\n",
      "0.06963240321939601\n",
      "Cursor X: 641, Action: 0.10972222222222228\n",
      "z = 0.1388997112411642\n",
      "0.00954259000400648\n",
      "0.06928811767647547\n",
      "Cursor X: 653, Action: 0.09305555555555556\n",
      "z = 0.13886652735061505\n",
      "0.009222750766185284\n",
      "0.06515476623143623\n",
      "Cursor X: 653, Action: 0.09305555555555556\n",
      "z = 0.13855790085371653\n",
      "0.008427799218408971\n",
      "0.05806687007942335\n",
      "Cursor X: 653, Action: 0.09305555555555556\n",
      "z = 0.13804049085171893\n",
      "0.007275696862787284\n",
      "0.04882982597559371\n",
      "Cursor X: 653, Action: 0.09305555555555556\n",
      "z = 0.13741705251533975\n",
      "0.006031845116215462\n",
      "0.039543739254058075\n",
      "Cursor X: 679, Action: 0.056944444444444464\n",
      "z = 0.1380813209859206\n",
      "0.009670627703422974\n",
      "0.0729073046722295\n",
      "Cursor X: 1439, Action: -0.9986111111111111\n",
      "z = 0.139992342632924\n",
      "0.01537620198048495\n",
      "0.11935847921118325\n",
      "Cursor X: 1439, Action: -0.9986111111111111\n",
      "z = 0.14285747229135004\n",
      "0.022341776235263344\n",
      "0.17261670354631287\n",
      "Cursor X: 1439, Action: -0.9986111111111111\n",
      "z = 0.1464337631718264\n",
      "0.030083730973898604\n",
      "0.22958318825115054\n",
      "Cursor X: 1439, Action: -0.9986111111111111\n",
      "z = 0.15048476582222461\n",
      "0.03818204389291213\n",
      "0.2876212252689947\n",
      "Cursor X: 1439, Action: -0.9986111111111111\n",
      "z = 0.15478425716114375\n",
      "0.04628724581401855\n",
      "0.34458159580694137\n",
      "Cursor X: 1439, Action: -0.9986111111111111\n",
      "z = 0.15912192355436372\n",
      "0.05412188451403788\n",
      "0.39877989297530236\n",
      "Cursor X: 1439, Action: -0.9986111111111111\n",
      "z = 0.16330987045206102\n",
      "0.06147891347716328\n",
      "0.4489618693294535\n",
      "Cursor X: 1439, Action: -0.9986111111111111\n",
      "z = 0.167188571330775\n",
      "0.06821694721605254\n",
      "0.4942596511146604\n",
      "Cursor X: 1439, Action: -0.9986111111111111\n",
      "z = 0.1706311972311683\n",
      "0.0742527991584041\n",
      "0.5341420459218265\n",
      "Cursor X: 1439, Action: -0.9986111111111111\n",
      "z = 0.17354566444440356\n",
      "0.07955209008933062\n",
      "0.5683615900493786\n",
      "Cursor X: 1439, Action: -0.9986111111111111\n",
      "z = 0.17587419008626973\n",
      "0.08411893288995942\n",
      "0.5969006881868566\n",
      "Cursor X: 1439, Action: -0.9986111111111111\n",
      "z = 0.17759057927458138\n",
      "0.08798571127296861\n",
      "0.6199191837979177\n",
      "Cursor X: 1439, Action: -0.9986111111111111\n",
      "z = 0.17869579590410803\n",
      "0.0912037905422578\n",
      "0.6377056334466702\n",
      "Cursor X: 1439, Action: -0.9986111111111111\n",
      "z = 0.17921253408082946\n",
      "0.09383570000692154\n",
      "0.6506341995522291\n",
      "Cursor X: 1439, Action: -0.9986111111111111\n",
      "z = 0.17917950453290007\n",
      "0.0959490056329555\n",
      "0.659128421453993\n",
      "Cursor X: 1439, Action: -0.9986111111111111\n",
      "z = 0.17864602161083615\n",
      "0.09761182669833157\n",
      "0.6636323305740142\n",
      "Cursor X: 1439, Action: -0.9986111111111111\n",
      "z = 0.17766728493386763\n",
      "0.09888978060336673\n",
      "0.6645886348759529\n",
      "Cursor X: 1439, Action: -0.9986111111111111\n",
      "z = 0.17630055496448624\n",
      "0.09984406613587449\n",
      "0.6624232116277176\n",
      "Cursor X: 1439, Action: -0.9986111111111111\n",
      "z = 0.17460277440824856\n",
      "0.10053108130541988\n",
      "0.6575408104170464\n",
      "Cursor X: 1439, Action: -0.9986111111111111\n",
      "z = 0.17262677844196356\n",
      "0.10099950426351689\n",
      "0.6502974549707097\n",
      "Cursor X: 1439, Action: -0.9986111111111111\n",
      "z = 0.1704221463480222\n",
      "0.10129330170928741\n",
      "0.6410259112997743\n",
      "Cursor X: 1439, Action: -0.9986111111111111\n",
      "z = 0.16803356105954215\n",
      "0.10145038393982952\n",
      "0.6300203223587073\n",
      "Cursor X: 1439, Action: -0.9986111111111111\n",
      "z = 0.16550061065818208\n",
      "0.10150309554259096\n",
      "0.6175391650797288\n",
      "Cursor X: 1439, Action: -0.9986111111111111\n",
      "z = 0.16285788336597623\n",
      "0.10147867738398231\n",
      "0.6038078422546285\n",
      "Cursor X: 1439, Action: -0.9986111111111111\n",
      "z = 0.16013524218032524\n",
      "0.10139973463981022\n",
      "0.5890214812987975\n",
      "Cursor X: 1439, Action: -0.9986111111111111\n",
      "z = 0.15735822405708186\n",
      "0.1012847218431897\n",
      "0.5733480703323268\n",
      "Cursor X: 1439, Action: -0.9986111111111111\n",
      "z = 0.1545485017411315\n",
      "0.10114842566482385\n",
      "0.5569317086612902\n",
      "Cursor X: 1439, Action: -0.9986111111111111\n",
      "z = 0.15172436478388834\n",
      "0.10100243291003153\n",
      "0.5398958215803211\n",
      "Cursor X: 1439, Action: -0.9986111111111111\n",
      "z = 0.14890119054712678\n",
      "0.10085557528298084\n",
      "0.5223462383911919\n",
      "Cursor X: 1439, Action: -0.9986111111111111\n",
      "z = 0.14609188676346585\n",
      "0.10071434522051381\n",
      "0.5043740682225462\n",
      "Cursor X: 1439, Action: -0.9986111111111111\n",
      "z = 0.14330729505918258\n",
      "0.10058327906971187\n",
      "0.4860583339467066\n",
      "Cursor X: 1439, Action: -0.9986111111111111\n",
      "z = 0.14055655035065928\n",
      "0.10046530538439102\n",
      "0.4674683428999331\n",
      "Cursor X: 1439, Action: -0.9986111111111111\n",
      "z = 0.13784739475891816\n",
      "0.10036205731277259\n",
      "0.44866578624236775\n",
      "Cursor X: 1439, Action: -0.9986111111111111\n",
      "z = 0.13518644711606503\n",
      "0.1002741490269794\n",
      "0.42970656812309516\n",
      "Cursor X: 1439, Action: -0.9986111111111111\n",
      "z = 0.13257943063536234\n",
      "0.100201416947174\n",
      "0.41064237240698187\n",
      "Cursor X: 1439, Action: -0.9986111111111111\n",
      "z = 0.1300315957789352\n",
      "0.10014349597062155\n",
      "0.3915253002195467\n",
      "Cursor X: 1439, Action: -0.9986111111111111\n",
      "z = 0.1275472908727333\n",
      "0.10009904197057062\n",
      "0.37240005105506313\n",
      "Cursor X: 1439, Action: -0.9986111111111111\n",
      "z = 0.12513050970398637\n",
      "0.10006662615207484\n",
      "0.3533122188549047\n",
      "Cursor X: 1439, Action: -0.9986111111111111\n",
      "z = 0.12169031511300236\n",
      "0.09825636902767454\n",
      "0.31803571587905255\n",
      "Cursor X: 1158, Action: -0.6083333333333334\n",
      "z = 0.11394856412116225\n",
      "0.08875698010525379\n",
      "0.214799642871927\n",
      "Cursor X: 0, Action: 1.0\n",
      "z = 0.10436777581467296\n",
      "0.0750277685432511\n",
      "0.08240151072770141\n",
      "Cursor X: 0, Action: 1.0\n",
      "z = 0.09438474370933864\n",
      "0.058576128558185725\n",
      "-0.06513552697134184\n",
      "Cursor X: 0, Action: 1.0\n",
      "z = 0.08482708636217526\n",
      "0.040442348134316575\n",
      "-0.21857932359939092\n",
      "Cursor X: 0, Action: 1.0\n",
      "z = 0.07616136691887504\n",
      "0.021510550549954655\n",
      "-0.3704573586922524\n",
      "Cursor X: 0, Action: 1.0\n",
      "z = 0.06859649815405773\n",
      "0.002495694725103026\n",
      "-0.5153358563344934\n",
      "Cursor X: 0, Action: 1.0\n",
      "z = 0.06218052562329554\n",
      "-0.01604944010851639\n",
      "-0.6496588823778486\n",
      "Cursor X: 0, Action: 1.0\n",
      "z = 0.056872565587479454\n",
      "-0.03371453683616199\n",
      "-0.7713407511595545\n",
      "Cursor X: 0, Action: 1.0\n",
      "z = 0.05258988929531212\n",
      "-0.05020692038755814\n",
      "-0.8793152258407018\n",
      "Cursor X: 0, Action: 1.0\n",
      "z = 0.04923599091999824\n",
      "-0.0653275080024579\n",
      "-0.9731692986356726\n",
      "Cursor X: 0, Action: 1.0\n",
      "z = 0.04671595348021267\n",
      "-0.07895036571869996\n",
      "-1.052893398366923\n",
      "Cursor X: 0, Action: 1.0\n",
      "z = 0.04494400504384229\n",
      "-0.09100654624770876\n",
      "-1.1187270991914882\n",
      "Cursor X: 0, Action: 1.0\n",
      "z = 0.04384653339304424\n",
      "-0.10147180046054127\n",
      "-1.1710676501220054\n",
      "Cursor X: 0, Action: 1.0\n",
      "z = 0.043362565773976354\n",
      "-0.11035737996564299\n",
      "-1.2104155433565933\n",
      "Cursor X: 0, Action: 1.0\n",
      "z = 0.043442880588719465\n",
      "-0.11770312831732943\n",
      "-1.2373413853943283\n",
      "Cursor X: 0, Action: 1.0\n",
      "z = 0.044048406590982705\n",
      "-0.12357217791731379\n",
      "-1.2524656432100243\n",
      "Cursor X: 0, Action: 1.0\n",
      "z = 0.04514827449279828\n",
      "-0.12804672235582015\n",
      "-1.25644683669274\n",
      "Cursor X: 0, Action: 1.0\n",
      "z = 0.04671773132354362\n",
      "-0.13122447621883904\n",
      "-1.2499756362961851\n",
      "Cursor X: 0, Action: 1.0\n",
      "z = 0.04873605285674727\n",
      "-0.13321555159190623\n",
      "-1.2337727951617317\n",
      "Cursor X: 0, Action: 1.0\n",
      "z = 0.05118455381646402\n",
      "-0.13413957458270165\n",
      "-1.2085889059793984\n",
      "Cursor X: 0, Action: 1.0\n",
      "z = 0.054044778040785085\n",
      "-0.13412291963398892\n",
      "-1.1752043929636078\n",
      "Cursor X: 0, Action: 1.0\n",
      "z = 0.05729697500016022\n",
      "-0.13329598131382625\n",
      "-1.1344283156400823\n",
      "Cursor X: 0, Action: 1.0\n",
      "z = 0.060918917808843356\n",
      "-0.13179047150997814\n",
      "-1.0870949373060594\n",
      "Cursor X: 0, Action: 1.0\n",
      "z = 0.06488509502033635\n",
      "-0.12973677579604148\n",
      "-1.034057467985051\n",
      "Cursor X: 0, Action: 1.0\n",
      "z = 0.06916629452081298\n",
      "-0.12726142067935753\n",
      "-0.9761787874179917\n",
      "Cursor X: 0, Action: 1.0\n",
      "z = 0.07372957416564185\n",
      "-0.12448471707262754\n",
      "-0.9143193935092997\n",
      "Cursor X: 0, Action: 1.0\n",
      "z = 0.07853858803499604\n",
      "-0.12151865258115124\n",
      "-0.8493232502871932\n",
      "Cursor X: 0, Action: 1.0\n",
      "z = 0.08355421278147694\n",
      "-0.11846510500431962\n",
      "-0.7820025589996868\n",
      "Cursor X: 0, Action: 1.0\n",
      "z = 0.0887353989277134\n",
      "-0.11541444071766416\n",
      "-0.7131226847412364\n",
      "Cursor X: 0, Action: 1.0\n",
      "z = 0.09404015985106189\n",
      "-0.11244454443543794\n",
      "-0.643388500534309\n",
      "Cursor X: 0, Action: 1.0\n",
      "z = 0.09942660814455251\n",
      "-0.10962030295823422\n",
      "-0.5734332576457173\n",
      "Cursor X: 0, Action: 1.0\n",
      "z = 0.1048539551891831\n",
      "-0.10699353802916522\n",
      "-0.5038107890431025\n",
      "Cursor X: 0, Action: 1.0\n",
      "z = 0.11028340372480808\n",
      "-0.1046033562709151\n",
      "-0.4349914643659667\n",
      "Cursor X: 0, Action: 1.0\n",
      "z = 0.11566361300728505\n",
      "-0.10221598574130997\n",
      "-0.3652657802562249\n",
      "Cursor X: 49, Action: 0.9319444444444445\n",
      "z = 0.12085005735694114\n",
      "-0.09558645773131791\n",
      "-0.2604407927457224\n",
      "Cursor X: 815, Action: -0.13194444444444442\n",
      "z = 0.12702079165728636\n",
      "-0.0831076474452358\n",
      "-0.11163374572143558\n",
      "Cursor X: 1439, Action: -0.9986111111111111\n",
      "z = 0.13516022241791176\n",
      "-0.06784898560591002\n",
      "0.05187907559973226\n",
      "Cursor X: 1439, Action: -0.9986111111111111\n",
      "z = 0.14505971376931046\n",
      "-0.05097856635330067\n",
      "0.22156220187871334\n",
      "Cursor X: 1439, Action: -0.9986111111111111\n",
      "z = 0.15639347158163075\n",
      "-0.03337013665119104\n",
      "0.3920202974204168\n",
      "Cursor X: 1439, Action: -0.9986111111111111\n",
      "z = 0.1687730753154174\n",
      "-0.01579303527007292\n",
      "0.559058882337879\n",
      "Cursor X: 1439, Action: -0.9986111111111111\n",
      "z = 0.18176644694271446\n",
      "0.0011093838103856113\n",
      "0.7196955810761678\n",
      "Cursor X: 1439, Action: -0.9986111111111111\n",
      "z = 0.1949214371393684\n",
      "0.016833154592093003\n",
      "0.871989458437421\n",
      "Cursor X: 1439, Action: -0.9986111111111111\n",
      "z = 0.20779263011389082\n",
      "0.031020866416738735\n",
      "1.0148345393189144\n",
      "Cursor X: 1439, Action: -0.9986111111111111\n",
      "z = 0.21996971532184545\n",
      "0.04346095404250161\n",
      "1.147781973188509\n",
      "Cursor X: 1439, Action: -0.9986111111111111\n",
      "z = 0.23110426439735376\n",
      "0.054077302959593565\n",
      "1.2708964847260567\n",
      "Cursor X: 1439, Action: -0.9986111111111111\n",
      "z = 0.24093065962831675\n",
      "0.06290886307737065\n",
      "1.3846282560036818\n",
      "Cursor X: 1439, Action: -0.9986111111111111\n",
      "z = 0.24927734801734044\n",
      "0.07008154537672784\n",
      "1.489687420315543\n",
      "Cursor X: 1439, Action: -0.9986111111111111\n",
      "z = 0.25606666784713067\n",
      "0.07577691300421008\n",
      "1.5869235407760718\n",
      "Cursor X: 1439, Action: -0.9986111111111111\n",
      "z = 0.2613043183683243\n",
      "0.08020282280140378\n",
      "1.6772211939251116\n",
      "Cursor X: 1439, Action: -0.9986111111111111\n",
      "z = 0.2650618212536007\n",
      "0.08356997613816741\n",
      "1.7614216671601086\n",
      "Cursor X: 1439, Action: -0.9986111111111111\n",
      "z = 0.2674561949738395\n",
      "0.08607609572567698\n",
      "1.840274162584187\n",
      "Cursor X: 1439, Action: -0.9986111111111111\n",
      "z = 0.26863052551693745\n",
      "0.0878973097527842\n",
      "1.9144132909034512\n",
      "Cursor X: 1439, Action: -0.9986111111111111\n",
      "z = 0.2687377889668468\n",
      "0.0891850479196552\n",
      "1.9843559948559861\n",
      "Cursor X: 1439, Action: -0.9986111111111111\n",
      "z = 0.2679288780623968\n",
      "0.09006643553923022\n",
      "2.0505105191604462\n",
      "Cursor X: 1439, Action: -0.9986111111111111\n",
      "z = 0.26634473333137726\n",
      "0.09064648613338455\n",
      "2.113191417100175\n",
      "Cursor X: 1439, Action: -0.9986111111111111\n",
      "z = 0.2641118872984223\n",
      "0.09101092853779713\n",
      "2.1726364128069577\n",
      "Cursor X: 1439, Action: -0.9986111111111111\n",
      "z = 0.26134056432569924\n",
      "0.09122902277818568\n",
      "2.2290227629159753\n",
      "Cursor X: 1439, Action: -0.9986111111111111\n",
      "z = 0.25812453584847583\n",
      "0.09135608187932365\n",
      "2.28248189312426\n",
      "Cursor X: 1439, Action: -0.9986111111111111\n",
      "z = 0.2545420813933427\n",
      "0.09143563066885974\n",
      "2.3331117886725727\n",
      "Cursor X: 1439, Action: -0.9986111111111111\n",
      "z = 0.2506578713005219\n",
      "0.09150156221305639\n",
      "2.380988142631777\n",
      "Cursor X: 1439, Action: -0.9986111111111111\n",
      "z = 0.24652175196785672\n",
      "0.09157633759611505\n",
      "2.426161639527722\n",
      "Cursor X: 1439, Action: -0.9986111111111111\n",
      "z = 0.24217883132713852\n",
      "0.09168153478532415\n",
      "2.4686952591541567\n",
      "Cursor X: 1439, Action: -0.9986111111111111\n",
      "z = 0.23766225640992986\n",
      "0.09182841230147987\n",
      "2.508628417501577\n",
      "Cursor X: 1439, Action: -0.9986111111111111\n",
      "z = 0.232998730329962\n",
      "0.09202397971789211\n",
      "2.546002795998742\n",
      "Cursor X: 1439, Action: -0.9986111111111111\n",
      "z = 0.22820970250656436\n",
      "0.09227133667405119\n",
      "2.580860584532242\n",
      "Cursor X: 1439, Action: -0.9986111111111111\n",
      "z = 0.22331249372135686\n",
      "0.09257035146534509\n",
      "2.613244842349564\n",
      "Cursor X: 1439, Action: -0.9986111111111111\n",
      "z = 0.2183213279457328\n",
      "0.0929183638369454\n",
      "2.643199960156343\n",
      "Cursor X: 1439, Action: -0.9986111111111111\n",
      "z = 0.21324818388679073\n",
      "0.09331079962863209\n",
      "2.6707716608765515\n",
      "Cursor X: 1439, Action: -0.9986111111111111\n",
      "z = 0.20810348661244488\n",
      "0.09374170425796824\n",
      "2.696006689885925\n",
      "Cursor X: 1439, Action: -0.9986111111111111\n",
      "z = 0.2028966592506396\n",
      "0.0942042004114978\n",
      "2.7189523026182196\n",
      "Cursor X: 1439, Action: -0.9986111111111111\n",
      "z = 0.19763655413697268\n",
      "0.09469087545782517\n",
      "2.739655629620378\n",
      "Cursor X: 1439, Action: -0.9986111111111111\n",
      "z = 0.19233178139236343\n",
      "0.09519410432900821\n",
      "2.75816297556631\n",
      "Cursor X: 1439, Action: -0.9986111111111111\n",
      "z = 0.18699095119494055\n",
      "0.09570631380659333\n",
      "2.7745190895931864\n",
      "Cursor X: 1439, Action: -0.9986111111111111\n",
      "z = 0.18162284421574065\n",
      "0.09622019422594275\n",
      "2.7887664292481626\n",
      "Cursor X: 1439, Action: -0.9986111111111111\n",
      "z = 0.1762365229487792\n",
      "0.09672886455687113\n",
      "2.800944428770349\n",
      "Cursor X: 1439, Action: -0.9986111111111111\n",
      "z = 0.1708413950449963\n",
      "0.09722599663692666\n",
      "2.811088773730134\n",
      "Cursor X: 1439, Action: -0.9986111111111111\n",
      "z = 0.16544723827930594\n",
      "0.09770590404672364\n",
      "2.819230677539109\n",
      "Cursor X: 1439, Action: -0.9986111111111111\n",
      "z = 0.16006419544217462\n",
      "0.09816360075025876\n",
      "2.825396150400836\n",
      "Cursor X: 1439, Action: -0.9986111111111111\n",
      "z = 0.1547027462439339\n",
      "0.09859483420318349\n",
      "2.8296052473342606\n",
      "Cursor X: 1439, Action: -0.9986111111111111\n",
      "z = 0.14937366224026924\n",
      "0.098996097181977\n",
      "2.831871278483101\n",
      "Cursor X: 1439, Action: -0.9986111111111111\n",
      "z = 0.144087949819858\n",
      "0.09936462212675734\n",
      "2.8321999616166793\n",
      "Cursor X: 1439, Action: -0.9986111111111111\n",
      "z = 0.13885678543002072\n",
      "0.09969836133582632\n",
      "2.8305884931896013\n",
      "Cursor X: 1439, Action: -0.9986111111111111\n",
      "z = 0.1320511616027642\n",
      "0.09737123726927044\n",
      "2.826307341040057\n",
      "Cursor X: 1027, Action: -0.42638888888888893\n",
      "z = 0.12368644788923353\n",
      "0.09231832643546434\n",
      "2.820781889806074\n",
      "Cursor X: 795, Action: -0.10416666666666674\n",
      "z = 0.11445153450618452\n",
      "0.08532901289096961\n",
      "2.8153875472927314\n",
      "Cursor X: 730, Action: -0.01388888888888884\n",
      "z = 0.10480700621012129\n",
      "0.07675648063601703\n",
      "2.810718760895516\n",
      "Cursor X: 667, Action: 0.07361111111111107\n",
      "z = 0.09525164695372976\n",
      "0.06725630964319407\n",
      "2.807082409529012\n",
      "Cursor X: 662, Action: 0.0805555555555556\n",
      "z = 0.08611093847933333\n",
      "0.05731037420921048\n",
      "2.8045384336179042\n",
      "Cursor X: 662, Action: 0.0805555555555556\n",
      "z = 0.07757811886405348\n",
      "0.047290874285551454\n",
      "2.802983608909533\n",
      "Cursor X: 662, Action: 0.0805555555555556\n",
      "z = 0.06975793020119102\n",
      "0.03749366547156996\n",
      "2.802244461441825\n",
      "Cursor X: 662, Action: 0.0805555555555556\n",
      "z = 0.06271169816741452\n",
      "0.02823311742040524\n",
      "2.802021157451326\n",
      "Cursor X: 675, Action: 0.0625\n",
      "z = 0.056442651366471135\n",
      "0.019638770211424905\n",
      "2.802080667303815\n",
      "Cursor X: 676, Action: 0.061111111111111116\n",
      "Loop stopped by mouse click.\n"
     ]
    }
   ],
   "source": [
    "import pyautogui\n",
    "from pynput.mouse import Listener\n",
    "\n",
    "# Function to map cursor x position to action\n",
    "def cursor_to_action(x, screen_width, action_min=-1, action_max=1):\n",
    "    return-(( x / screen_width) * (action_max - action_min) + action_min)\n",
    "\n",
    "# Initialize environment\n",
    "env = EnvRealistic(TIME_HORIZON=1000,swing = True)\n",
    "\n",
    "# Main loop to continuously track the cursor position and control the robot\n",
    "screen_width, screen_height = pyautogui.size()  # Get screen dimensions\n",
    "\n",
    "# Global flag to stop the loop when mouse is clicked\n",
    "stop_loop = False\n",
    "\n",
    "xpos_hist = []\n",
    "theta_hist = []\n",
    "action_hist = []\n",
    "\n",
    "# Listener function to detect mouse click\n",
    "def on_click(x, y, button, pressed):\n",
    "    global stop_loop\n",
    "    if pressed:  # If the mouse button is pressed\n",
    "        stop_loop = True  # Set the flag to True\n",
    "# Start the mouse listener in the background\n",
    "listener = Listener(on_click=on_click)\n",
    "listener.start()\n",
    "\n",
    "while not stop_loop :\n",
    "    # Get the current cursor position\n",
    "    cursor_x, cursor_y = pyautogui.position()\n",
    "    \n",
    "    # Map the cursor's x position to robot action\n",
    "    action = cursor_to_action(cursor_x, screen_width)\n",
    "    \n",
    "    # Step the environment with the new action\n",
    "    state, dead, truncated = env.step(action)\n",
    "    xpos_hist.append(state[0])\n",
    "    theta_hist.append(state[2])\n",
    "    action_hist.append(action)\n",
    "    # Optionally, print or log the state or action if needed\n",
    "    print(f\"Cursor X: {cursor_x}, Action: {action}\")\n",
    "    \n",
    "    # Add a sleep interval to control the loop speed if needed\n",
    "    time.sleep(0.05)  # Adjust for responsiveness (lower values = faster control)\n",
    "# Stop the listener once the loop is stopped\n",
    "listener.stop()\n",
    "\n",
    "print(\"Loop stopped by mouse click.\")"
   ]
  },
  {
   "cell_type": "code",
   "execution_count": 18,
   "metadata": {},
   "outputs": [
    {
     "name": "stdout",
     "output_type": "stream",
     "text": [
      "[0.0021718742379104317, 0.005299651608342448, 0.008179423404219621, 0.00926174922136569, 0.00954259000400648, 0.009222750766185284, 0.008427799218408971, 0.007275696862787284, 0.006031845116215462, 0.009670627703422974, 0.01537620198048495, 0.022341776235263344, 0.030083730973898604, 0.03818204389291213, 0.04628724581401855, 0.05412188451403788, 0.06147891347716328, 0.06821694721605254, 0.0742527991584041, 0.07955209008933062, 0.08411893288995942, 0.08798571127296861, 0.0912037905422578, 0.09383570000692154, 0.0959490056329555, 0.09761182669833157, 0.09888978060336673, 0.09984406613587449, 0.10053108130541988, 0.10099950426351689, 0.10129330170928741, 0.10145038393982952, 0.10150309554259096, 0.10147867738398231, 0.10139973463981022, 0.1012847218431897, 0.10114842566482385, 0.10100243291003153, 0.10085557528298084, 0.10071434522051381, 0.10058327906971187, 0.10046530538439102, 0.10036205731277259, 0.1002741490269794, 0.100201416947174, 0.10014349597062155, 0.10009904197057062, 0.10006662615207484, 0.09825636902767454, 0.08875698010525379, 0.0750277685432511, 0.058576128558185725, 0.040442348134316575, 0.021510550549954655, 0.002495694725103026, -0.01604944010851639, -0.03371453683616199, -0.05020692038755814, -0.0653275080024579, -0.07895036571869996, -0.09100654624770876, -0.10147180046054127, -0.11035737996564299, -0.11770312831732943, -0.12357217791731379, -0.12804672235582015, -0.13122447621883904, -0.13321555159190623, -0.13413957458270165, -0.13412291963398892, -0.13329598131382625, -0.13179047150997814, -0.12973677579604148, -0.12726142067935753, -0.12448471707262754, -0.12151865258115124, -0.11846510500431962, -0.11541444071766416, -0.11244454443543794, -0.10962030295823422, -0.10699353802916522, -0.1046033562709151, -0.10221598574130997, -0.09558645773131791, -0.0831076474452358, -0.06784898560591002, -0.05097856635330067, -0.03337013665119104, -0.01579303527007292, 0.0011093838103856113, 0.016833154592093003, 0.031020866416738735, 0.04346095404250161, 0.054077302959593565, 0.06290886307737065, 0.07008154537672784, 0.07577691300421008, 0.08020282280140378, 0.08356997613816741, 0.08607609572567698, 0.0878973097527842, 0.0891850479196552, 0.09006643553923022, 0.09064648613338455, 0.09101092853779713, 0.09122902277818568, 0.09135608187932365, 0.09143563066885974, 0.09150156221305639, 0.09157633759611505, 0.09168153478532415, 0.09182841230147987, 0.09202397971789211, 0.09227133667405119, 0.09257035146534509, 0.0929183638369454, 0.09331079962863209, 0.09374170425796824, 0.0942042004114978, 0.09469087545782517, 0.09519410432900821, 0.09570631380659333, 0.09622019422594275, 0.09672886455687113, 0.09722599663692666, 0.09770590404672364, 0.09816360075025876, 0.09859483420318349, 0.098996097181977, 0.09936462212675734, 0.09969836133582632, 0.09737123726927044, 0.09231832643546434, 0.08532901289096961, 0.07675648063601703, 0.06725630964319407, 0.05731037420921048, 0.047290874285551454, 0.03749366547156996, 0.02823311742040524, 0.019638770211424905]\n",
      "[0.018811991969061914, 0.04372489796678858, 0.0646746376937557, 0.06963240321939601, 0.06928811767647547, 0.06515476623143623, 0.05806687007942335, 0.04882982597559371, 0.039543739254058075, 0.0729073046722295, 0.11935847921118325, 0.17261670354631287, 0.22958318825115054, 0.2876212252689947, 0.34458159580694137, 0.39877989297530236, 0.4489618693294535, 0.4942596511146604, 0.5341420459218265, 0.5683615900493786, 0.5969006881868566, 0.6199191837979177, 0.6377056334466702, 0.6506341995522291, 0.659128421453993, 0.6636323305740142, 0.6645886348759529, 0.6624232116277176, 0.6575408104170464, 0.6502974549707097, 0.6410259112997743, 0.6300203223587073, 0.6175391650797288, 0.6038078422546285, 0.5890214812987975, 0.5733480703323268, 0.5569317086612902, 0.5398958215803211, 0.5223462383911919, 0.5043740682225462, 0.4860583339467066, 0.4674683428999331, 0.44866578624236775, 0.42970656812309516, 0.41064237240698187, 0.3915253002195467, 0.37240005105506313, 0.3533122188549047, 0.31803571587905255, 0.214799642871927, 0.08240151072770141, -0.06513552697134184, -0.21857932359939092, -0.3704573586922524, -0.5153358563344934, -0.6496588823778486, -0.7713407511595545, -0.8793152258407018, -0.9731692986356726, -1.052893398366923, -1.1187270991914882, -1.1710676501220054, -1.2104155433565933, -1.2373413853943283, -1.2524656432100243, -1.25644683669274, -1.2499756362961851, -1.2337727951617317, -1.2085889059793984, -1.1752043929636078, -1.1344283156400823, -1.0870949373060594, -1.034057467985051, -0.9761787874179917, -0.9143193935092997, -0.8493232502871932, -0.7820025589996868, -0.7131226847412364, -0.643388500534309, -0.5734332576457173, -0.5038107890431025, -0.4349914643659667, -0.3652657802562249, -0.2604407927457224, -0.11163374572143558, 0.05187907559973226, 0.22156220187871334, 0.3920202974204168, 0.559058882337879, 0.7196955810761678, 0.871989458437421, 1.0148345393189144, 1.147781973188509, 1.2708964847260567, 1.3846282560036818, 1.489687420315543, 1.5869235407760718, 1.6772211939251116, 1.7614216671601086, 1.840274162584187, 1.9144132909034512, 1.9843559948559861, 2.0505105191604462, 2.113191417100175, 2.1726364128069577, 2.2290227629159753, 2.28248189312426, 2.3331117886725727, 2.380988142631777, 2.426161639527722, 2.4686952591541567, 2.508628417501577, 2.546002795998742, 2.580860584532242, 2.613244842349564, 2.643199960156343, 2.6707716608765515, 2.696006689885925, 2.7189523026182196, 2.739655629620378, 2.75816297556631, 2.7745190895931864, 2.7887664292481626, 2.800944428770349, 2.811088773730134, 2.819230677539109, 2.825396150400836, 2.8296052473342606, 2.831871278483101, 2.8321999616166793, 2.8305884931896013, 2.826307341040057, 2.820781889806074, 2.8153875472927314, 2.810718760895516, 2.807082409529012, 2.8045384336179042, 2.802983608909533, 2.802244461441825, 2.802021157451326, 2.802080667303815]\n",
      "[-0.4722222222222223, -0.4722222222222223, -0.29166666666666674, 0.10972222222222228, 0.09305555555555556, 0.09305555555555556, 0.09305555555555556, 0.09305555555555556, 0.056944444444444464, -0.9986111111111111, -0.9986111111111111, -0.9986111111111111, -0.9986111111111111, -0.9986111111111111, -0.9986111111111111, -0.9986111111111111, -0.9986111111111111, -0.9986111111111111, -0.9986111111111111, -0.9986111111111111, -0.9986111111111111, -0.9986111111111111, -0.9986111111111111, -0.9986111111111111, -0.9986111111111111, -0.9986111111111111, -0.9986111111111111, -0.9986111111111111, -0.9986111111111111, -0.9986111111111111, -0.9986111111111111, -0.9986111111111111, -0.9986111111111111, -0.9986111111111111, -0.9986111111111111, -0.9986111111111111, -0.9986111111111111, -0.9986111111111111, -0.9986111111111111, -0.9986111111111111, -0.9986111111111111, -0.9986111111111111, -0.9986111111111111, -0.9986111111111111, -0.9986111111111111, -0.9986111111111111, -0.9986111111111111, -0.9986111111111111, -0.6083333333333334, 1.0, 1.0, 1.0, 1.0, 1.0, 1.0, 1.0, 1.0, 1.0, 1.0, 1.0, 1.0, 1.0, 1.0, 1.0, 1.0, 1.0, 1.0, 1.0, 1.0, 1.0, 1.0, 1.0, 1.0, 1.0, 1.0, 1.0, 1.0, 1.0, 1.0, 1.0, 1.0, 1.0, 0.9319444444444445, -0.13194444444444442, -0.9986111111111111, -0.9986111111111111, -0.9986111111111111, -0.9986111111111111, -0.9986111111111111, -0.9986111111111111, -0.9986111111111111, -0.9986111111111111, -0.9986111111111111, -0.9986111111111111, -0.9986111111111111, -0.9986111111111111, -0.9986111111111111, -0.9986111111111111, -0.9986111111111111, -0.9986111111111111, -0.9986111111111111, -0.9986111111111111, -0.9986111111111111, -0.9986111111111111, -0.9986111111111111, -0.9986111111111111, -0.9986111111111111, -0.9986111111111111, -0.9986111111111111, -0.9986111111111111, -0.9986111111111111, -0.9986111111111111, -0.9986111111111111, -0.9986111111111111, -0.9986111111111111, -0.9986111111111111, -0.9986111111111111, -0.9986111111111111, -0.9986111111111111, -0.9986111111111111, -0.9986111111111111, -0.9986111111111111, -0.9986111111111111, -0.9986111111111111, -0.9986111111111111, -0.9986111111111111, -0.9986111111111111, -0.9986111111111111, -0.9986111111111111, -0.9986111111111111, -0.9986111111111111, -0.42638888888888893, -0.10416666666666674, -0.01388888888888884, 0.07361111111111107, 0.0805555555555556, 0.0805555555555556, 0.0805555555555556, 0.0805555555555556, 0.0625, 0.061111111111111116]\n"
     ]
    }
   ],
   "source": [
    "#if successful you can get history of xposition,theta and actions\n",
    "print(xpos_hist)\n",
    "print(theta_hist)\n",
    "print(action_hist)"
   ]
  },
  {
   "cell_type": "code",
   "execution_count": 10,
   "metadata": {},
   "outputs": [
    {
     "ename": "NameError",
     "evalue": "name 'xpos_hist' is not defined",
     "output_type": "error",
     "traceback": [
      "\u001b[0;31m---------------------------------------------------------------------------\u001b[0m",
      "\u001b[0;31mNameError\u001b[0m                                 Traceback (most recent call last)",
      "Cell \u001b[0;32mIn[10], line 2\u001b[0m\n\u001b[1;32m      1\u001b[0m \u001b[38;5;28;01mwith\u001b[39;00m \u001b[38;5;28mopen\u001b[39m(\u001b[38;5;124m'\u001b[39m\u001b[38;5;124mxpos_hist.txt\u001b[39m\u001b[38;5;124m'\u001b[39m, \u001b[38;5;124m'\u001b[39m\u001b[38;5;124mw\u001b[39m\u001b[38;5;124m'\u001b[39m) \u001b[38;5;28;01mas\u001b[39;00m file:\n\u001b[0;32m----> 2\u001b[0m     \u001b[38;5;28;01mfor\u001b[39;00m item \u001b[38;5;129;01min\u001b[39;00m \u001b[43mxpos_hist\u001b[49m:\n\u001b[1;32m      3\u001b[0m         file\u001b[38;5;241m.\u001b[39mwrite(\u001b[38;5;124mf\u001b[39m\u001b[38;5;124m\"\u001b[39m\u001b[38;5;132;01m{\u001b[39;00mitem\u001b[38;5;132;01m}\u001b[39;00m\u001b[38;5;130;01m\\n\u001b[39;00m\u001b[38;5;124m\"\u001b[39m)  \u001b[38;5;66;03m# Write each item on a new line\u001b[39;00m\n",
      "\u001b[0;31mNameError\u001b[0m: name 'xpos_hist' is not defined"
     ]
    }
   ],
   "source": [
    "with open('xpos_hist.txt', 'w') as file:\n",
    "    for item in xpos_hist:\n",
    "        file.write(f\"{item}\\n\")  # Write each item on a new line"
   ]
  },
  {
   "cell_type": "code",
   "execution_count": 27,
   "metadata": {},
   "outputs": [],
   "source": [
    "with open('theta_hist.txt', 'w') as file:\n",
    "    for item in theta_hist:\n",
    "        file.write(f\"{item}\\n\")  # Write each item on a new line"
   ]
  },
  {
   "cell_type": "code",
   "execution_count": 28,
   "metadata": {},
   "outputs": [],
   "source": [
    "with open('action_hist.txt', 'w') as file:\n",
    "    for item in action_hist:\n",
    "        file.write(f\"{item}\\n\")  # Write each item on a new line"
   ]
  },
  {
   "cell_type": "code",
   "execution_count": 11,
   "metadata": {},
   "outputs": [],
   "source": [
    "with open('xpos_hist.txt', 'r') as file:\n",
    "    xpos_list = [float(line.strip()) for line in file]\n",
    "\n",
    "with open('theta_hist.txt', 'r') as file:\n",
    "    theta_list = [float(line.strip()) for line in file]\n",
    "\n",
    "with open('action_hist.txt', 'r') as file:\n",
    "    action_list = [float(line.strip()) for line in file]"
   ]
  },
  {
   "cell_type": "code",
   "execution_count": 13,
   "metadata": {},
   "outputs": [],
   "source": [
    "xdot_list =[]\n",
    "thetadot_list = []\n",
    "xlistbis = []\n",
    "thetalistbis=[]\n",
    "env = EnvRealistic(TIME_HORIZON=1000,swing = True)\n",
    "time.sleep(2)\n",
    "for t in range(131):\n",
    "    state, dead, truncated = env.step(action_list[t])\n",
    "    xdot_list.append(state[1])\n",
    "    thetadot_list.append(state[3])\n",
    "   \n",
    "    xlistbis.append(state[0])\n",
    "    thetalistbis.append(state[2])\n",
    "    \n",
    "    time.sleep(0.05)\n",
    "\n",
    "\n"
   ]
  },
  {
   "cell_type": "code",
   "execution_count": 34,
   "metadata": {},
   "outputs": [
    {
     "data": {
      "image/png": "[encoded data removed]",
      "text/plain": [
       "<Figure size 800x600 with 1 Axes>"
      ]
     },
     "metadata": {},
     "output_type": "display_data"
    }
   ],
   "source": [
    "import matplotlib.pyplot as plt\n",
    "\n",
    "plt.figure(figsize=(8,6))\n",
    "plt.plot(np.arange(len(xlistbis)),xlistbis)\n",
    "plt.xlabel('action number')\n",
    "plt.ylabel('x value')\n",
    "plt.title('evolution of x along actions')\n",
    "plt.show()"
   ]
  },
  {
   "cell_type": "code",
   "execution_count": 44,
   "metadata": {},
   "outputs": [
    {
     "data": {
      "image/png": "[encoded data removed]",
      "text/plain": [
       "<Figure size 800x600 with 1 Axes>"
      ]
     },
     "metadata": {},
     "output_type": "display_data"
    }
   ],
   "source": [
    "plt.figure(figsize=(8,6))\n",
    "plt.plot(np.arange(len(thetalistbis)),thetalistbis)\n",
    "plt.xlabel('action number')\n",
    "plt.ylabel('theta value')\n",
    "plt.title('evolution of theta along actions')\n",
    "plt.show()"
   ]
  },
  {
   "cell_type": "code",
   "execution_count": 17,
   "metadata": {},
   "outputs": [],
   "source": [
    "xlistbis = np.array(xlistbis)\n",
    "thetalistbis= np.array(thetalistbis)\n",
    "xdot_list = np.array(xdot_list)\n",
    "thetadot_list = np.array(thetadot_list)"
   ]
  },
  {
   "cell_type": "code",
   "execution_count": 18,
   "metadata": {},
   "outputs": [],
   "source": [
    "state_D = np.vstack((xlistbis,xdot_list,thetalistbis,thetadot_list)).T"
   ]
  },
  {
   "cell_type": "code",
   "execution_count": 49,
   "metadata": {},
   "outputs": [
    {
     "ename": "KeyboardInterrupt",
     "evalue": "",
     "output_type": "error",
     "traceback": [
      "\u001b[0;31m---------------------------------------------------------------------------\u001b[0m",
      "\u001b[0;31mKeyboardInterrupt\u001b[0m                         Traceback (most recent call last)",
      "Cell \u001b[0;32mIn[49], line 31\u001b[0m\n\u001b[1;32m     28\u001b[0m U_init \u001b[38;5;241m=\u001b[39m np\u001b[38;5;241m.\u001b[39mzeros(T)  \u001b[38;5;66;03m# Initial guess for control\u001b[39;00m\n\u001b[1;32m     30\u001b[0m \u001b[38;5;66;03m# Solve the optimization problem\u001b[39;00m\n\u001b[0;32m---> 31\u001b[0m result \u001b[38;5;241m=\u001b[39m \u001b[43mminimize\u001b[49m\u001b[43m(\u001b[49m\n\u001b[1;32m     32\u001b[0m \u001b[43m    \u001b[49m\u001b[43mfun\u001b[49m\u001b[38;5;241;43m=\u001b[39;49m\u001b[43mcost_function\u001b[49m\u001b[43m,\u001b[49m\u001b[43m \u001b[49m\n\u001b[1;32m     33\u001b[0m \u001b[43m    \u001b[49m\u001b[43mx0\u001b[49m\u001b[38;5;241;43m=\u001b[39;49m\u001b[43mU_init\u001b[49m\u001b[43m,\u001b[49m\u001b[43m \u001b[49m\n\u001b[1;32m     34\u001b[0m \u001b[43m    \u001b[49m\u001b[43margs\u001b[49m\u001b[38;5;241;43m=\u001b[39;49m\u001b[43m(\u001b[49m\u001b[43mX_d\u001b[49m\u001b[43m,\u001b[49m\u001b[43m  \u001b[49m\u001b[43mT\u001b[49m\u001b[43m)\u001b[49m\u001b[43m,\u001b[49m\u001b[43m \u001b[49m\n\u001b[1;32m     35\u001b[0m \u001b[43m    \u001b[49m\u001b[43mmethod\u001b[49m\u001b[38;5;241;43m=\u001b[39;49m\u001b[38;5;124;43m'\u001b[39;49m\u001b[38;5;124;43mL-BFGS-B\u001b[39;49m\u001b[38;5;124;43m'\u001b[39;49m\n\u001b[1;32m     36\u001b[0m \u001b[43m)\u001b[49m\n\u001b[1;32m     38\u001b[0m \u001b[38;5;66;03m# Optimal controls\u001b[39;00m\n\u001b[1;32m     39\u001b[0m U_optimal \u001b[38;5;241m=\u001b[39m result\u001b[38;5;241m.\u001b[39mx\n",
      "File \u001b[0;32m/opt/anaconda3/envs/robotics_course/lib/python3.10/site-packages/scipy/optimize/_minimize.py:731\u001b[0m, in \u001b[0;36mminimize\u001b[0;34m(fun, x0, args, method, jac, hess, hessp, bounds, constraints, tol, callback, options)\u001b[0m\n\u001b[1;32m    728\u001b[0m     res \u001b[38;5;241m=\u001b[39m _minimize_newtoncg(fun, x0, args, jac, hess, hessp, callback,\n\u001b[1;32m    729\u001b[0m                              \u001b[38;5;241m*\u001b[39m\u001b[38;5;241m*\u001b[39moptions)\n\u001b[1;32m    730\u001b[0m \u001b[38;5;28;01melif\u001b[39;00m meth \u001b[38;5;241m==\u001b[39m \u001b[38;5;124m'\u001b[39m\u001b[38;5;124ml-bfgs-b\u001b[39m\u001b[38;5;124m'\u001b[39m:\n\u001b[0;32m--> 731\u001b[0m     res \u001b[38;5;241m=\u001b[39m \u001b[43m_minimize_lbfgsb\u001b[49m\u001b[43m(\u001b[49m\u001b[43mfun\u001b[49m\u001b[43m,\u001b[49m\u001b[43m \u001b[49m\u001b[43mx0\u001b[49m\u001b[43m,\u001b[49m\u001b[43m \u001b[49m\u001b[43margs\u001b[49m\u001b[43m,\u001b[49m\u001b[43m \u001b[49m\u001b[43mjac\u001b[49m\u001b[43m,\u001b[49m\u001b[43m \u001b[49m\u001b[43mbounds\u001b[49m\u001b[43m,\u001b[49m\n\u001b[1;32m    732\u001b[0m \u001b[43m                           \u001b[49m\u001b[43mcallback\u001b[49m\u001b[38;5;241;43m=\u001b[39;49m\u001b[43mcallback\u001b[49m\u001b[43m,\u001b[49m\u001b[43m \u001b[49m\u001b[38;5;241;43m*\u001b[39;49m\u001b[38;5;241;43m*\u001b[39;49m\u001b[43moptions\u001b[49m\u001b[43m)\u001b[49m\n\u001b[1;32m    733\u001b[0m \u001b[38;5;28;01melif\u001b[39;00m meth \u001b[38;5;241m==\u001b[39m \u001b[38;5;124m'\u001b[39m\u001b[38;5;124mtnc\u001b[39m\u001b[38;5;124m'\u001b[39m:\n\u001b[1;32m    734\u001b[0m     res \u001b[38;5;241m=\u001b[39m _minimize_tnc(fun, x0, args, jac, bounds, callback\u001b[38;5;241m=\u001b[39mcallback,\n\u001b[1;32m    735\u001b[0m                         \u001b[38;5;241m*\u001b[39m\u001b[38;5;241m*\u001b[39moptions)\n",
      "File \u001b[0;32m/opt/anaconda3/envs/robotics_course/lib/python3.10/site-packages/scipy/optimize/_lbfgsb_py.py:407\u001b[0m, in \u001b[0;36m_minimize_lbfgsb\u001b[0;34m(fun, x0, args, jac, bounds, disp, maxcor, ftol, gtol, eps, maxfun, maxiter, iprint, callback, maxls, finite_diff_rel_step, **unknown_options)\u001b[0m\n\u001b[1;32m    401\u001b[0m task_str \u001b[38;5;241m=\u001b[39m task\u001b[38;5;241m.\u001b[39mtobytes()\n\u001b[1;32m    402\u001b[0m \u001b[38;5;28;01mif\u001b[39;00m task_str\u001b[38;5;241m.\u001b[39mstartswith(\u001b[38;5;124mb\u001b[39m\u001b[38;5;124m'\u001b[39m\u001b[38;5;124mFG\u001b[39m\u001b[38;5;124m'\u001b[39m):\n\u001b[1;32m    403\u001b[0m     \u001b[38;5;66;03m# The minimization routine wants f and g at the current x.\u001b[39;00m\n\u001b[1;32m    404\u001b[0m     \u001b[38;5;66;03m# Note that interruptions due to maxfun are postponed\u001b[39;00m\n\u001b[1;32m    405\u001b[0m     \u001b[38;5;66;03m# until the completion of the current minimization iteration.\u001b[39;00m\n\u001b[1;32m    406\u001b[0m     \u001b[38;5;66;03m# Overwrite f and g:\u001b[39;00m\n\u001b[0;32m--> 407\u001b[0m     f, g \u001b[38;5;241m=\u001b[39m \u001b[43mfunc_and_grad\u001b[49m\u001b[43m(\u001b[49m\u001b[43mx\u001b[49m\u001b[43m)\u001b[49m\n\u001b[1;32m    408\u001b[0m \u001b[38;5;28;01melif\u001b[39;00m task_str\u001b[38;5;241m.\u001b[39mstartswith(\u001b[38;5;124mb\u001b[39m\u001b[38;5;124m'\u001b[39m\u001b[38;5;124mNEW_X\u001b[39m\u001b[38;5;124m'\u001b[39m):\n\u001b[1;32m    409\u001b[0m     \u001b[38;5;66;03m# new iteration\u001b[39;00m\n\u001b[1;32m    410\u001b[0m     n_iterations \u001b[38;5;241m+\u001b[39m\u001b[38;5;241m=\u001b[39m \u001b[38;5;241m1\u001b[39m\n",
      "File \u001b[0;32m/opt/anaconda3/envs/robotics_course/lib/python3.10/site-packages/scipy/optimize/_differentiable_functions.py:344\u001b[0m, in \u001b[0;36mScalarFunction.fun_and_grad\u001b[0;34m(self, x)\u001b[0m\n\u001b[1;32m    342\u001b[0m     \u001b[38;5;28mself\u001b[39m\u001b[38;5;241m.\u001b[39m_update_x(x)\n\u001b[1;32m    343\u001b[0m \u001b[38;5;28mself\u001b[39m\u001b[38;5;241m.\u001b[39m_update_fun()\n\u001b[0;32m--> 344\u001b[0m \u001b[38;5;28;43mself\u001b[39;49m\u001b[38;5;241;43m.\u001b[39;49m\u001b[43m_update_grad\u001b[49m\u001b[43m(\u001b[49m\u001b[43m)\u001b[49m\n\u001b[1;32m    345\u001b[0m \u001b[38;5;28;01mreturn\u001b[39;00m \u001b[38;5;28mself\u001b[39m\u001b[38;5;241m.\u001b[39mf, \u001b[38;5;28mself\u001b[39m\u001b[38;5;241m.\u001b[39mg\n",
      "File \u001b[0;32m/opt/anaconda3/envs/robotics_course/lib/python3.10/site-packages/scipy/optimize/_differentiable_functions.py:306\u001b[0m, in \u001b[0;36mScalarFunction._update_grad\u001b[0;34m(self)\u001b[0m\n\u001b[1;32m    304\u001b[0m \u001b[38;5;28;01mif\u001b[39;00m \u001b[38;5;28mself\u001b[39m\u001b[38;5;241m.\u001b[39m_orig_grad \u001b[38;5;129;01min\u001b[39;00m FD_METHODS:\n\u001b[1;32m    305\u001b[0m     \u001b[38;5;28mself\u001b[39m\u001b[38;5;241m.\u001b[39m_update_fun()\n\u001b[0;32m--> 306\u001b[0m \u001b[38;5;28mself\u001b[39m\u001b[38;5;241m.\u001b[39mg \u001b[38;5;241m=\u001b[39m \u001b[38;5;28;43mself\u001b[39;49m\u001b[38;5;241;43m.\u001b[39;49m\u001b[43m_wrapped_grad\u001b[49m\u001b[43m(\u001b[49m\u001b[38;5;28;43mself\u001b[39;49m\u001b[38;5;241;43m.\u001b[39;49m\u001b[43mx\u001b[49m\u001b[43m,\u001b[49m\u001b[43m \u001b[49m\u001b[43mf0\u001b[49m\u001b[38;5;241;43m=\u001b[39;49m\u001b[38;5;28;43mself\u001b[39;49m\u001b[38;5;241;43m.\u001b[39;49m\u001b[43mf\u001b[49m\u001b[43m)\u001b[49m\n\u001b[1;32m    307\u001b[0m \u001b[38;5;28mself\u001b[39m\u001b[38;5;241m.\u001b[39mg_updated \u001b[38;5;241m=\u001b[39m \u001b[38;5;28;01mTrue\u001b[39;00m\n",
      "File \u001b[0;32m/opt/anaconda3/envs/robotics_course/lib/python3.10/site-packages/scipy/optimize/_differentiable_functions.py:47\u001b[0m, in \u001b[0;36m_wrapper_grad.<locals>.wrapped1\u001b[0;34m(x, f0)\u001b[0m\n\u001b[1;32m     45\u001b[0m \u001b[38;5;28;01mdef\u001b[39;00m \u001b[38;5;21mwrapped1\u001b[39m(x, f0\u001b[38;5;241m=\u001b[39m\u001b[38;5;28;01mNone\u001b[39;00m):\n\u001b[1;32m     46\u001b[0m     ncalls[\u001b[38;5;241m0\u001b[39m] \u001b[38;5;241m+\u001b[39m\u001b[38;5;241m=\u001b[39m \u001b[38;5;241m1\u001b[39m\n\u001b[0;32m---> 47\u001b[0m     \u001b[38;5;28;01mreturn\u001b[39;00m \u001b[43mapprox_derivative\u001b[49m\u001b[43m(\u001b[49m\n\u001b[1;32m     48\u001b[0m \u001b[43m        \u001b[49m\u001b[43mfun\u001b[49m\u001b[43m,\u001b[49m\u001b[43m \u001b[49m\u001b[43mx\u001b[49m\u001b[43m,\u001b[49m\u001b[43m \u001b[49m\u001b[43mf0\u001b[49m\u001b[38;5;241;43m=\u001b[39;49m\u001b[43mf0\u001b[49m\u001b[43m,\u001b[49m\u001b[43m \u001b[49m\u001b[38;5;241;43m*\u001b[39;49m\u001b[38;5;241;43m*\u001b[39;49m\u001b[43mfinite_diff_options\u001b[49m\n\u001b[1;32m     49\u001b[0m \u001b[43m    \u001b[49m\u001b[43m)\u001b[49m\n",
      "File \u001b[0;32m/opt/anaconda3/envs/robotics_course/lib/python3.10/site-packages/scipy/optimize/_numdiff.py:519\u001b[0m, in \u001b[0;36mapprox_derivative\u001b[0;34m(fun, x0, method, rel_step, abs_step, f0, bounds, sparsity, as_linear_operator, args, kwargs)\u001b[0m\n\u001b[1;32m    516\u001b[0m     use_one_sided \u001b[38;5;241m=\u001b[39m \u001b[38;5;28;01mFalse\u001b[39;00m\n\u001b[1;32m    518\u001b[0m \u001b[38;5;28;01mif\u001b[39;00m sparsity \u001b[38;5;129;01mis\u001b[39;00m \u001b[38;5;28;01mNone\u001b[39;00m:\n\u001b[0;32m--> 519\u001b[0m     \u001b[38;5;28;01mreturn\u001b[39;00m \u001b[43m_dense_difference\u001b[49m\u001b[43m(\u001b[49m\u001b[43mfun_wrapped\u001b[49m\u001b[43m,\u001b[49m\u001b[43m \u001b[49m\u001b[43mx0\u001b[49m\u001b[43m,\u001b[49m\u001b[43m \u001b[49m\u001b[43mf0\u001b[49m\u001b[43m,\u001b[49m\u001b[43m \u001b[49m\u001b[43mh\u001b[49m\u001b[43m,\u001b[49m\n\u001b[1;32m    520\u001b[0m \u001b[43m                             \u001b[49m\u001b[43muse_one_sided\u001b[49m\u001b[43m,\u001b[49m\u001b[43m \u001b[49m\u001b[43mmethod\u001b[49m\u001b[43m)\u001b[49m\n\u001b[1;32m    521\u001b[0m \u001b[38;5;28;01melse\u001b[39;00m:\n\u001b[1;32m    522\u001b[0m     \u001b[38;5;28;01mif\u001b[39;00m \u001b[38;5;129;01mnot\u001b[39;00m issparse(sparsity) \u001b[38;5;129;01mand\u001b[39;00m \u001b[38;5;28mlen\u001b[39m(sparsity) \u001b[38;5;241m==\u001b[39m \u001b[38;5;241m2\u001b[39m:\n",
      "File \u001b[0;32m/opt/anaconda3/envs/robotics_course/lib/python3.10/site-packages/scipy/optimize/_numdiff.py:592\u001b[0m, in \u001b[0;36m_dense_difference\u001b[0;34m(fun, x0, f0, h, use_one_sided, method)\u001b[0m\n\u001b[1;32m    590\u001b[0m     x1[i] \u001b[38;5;241m+\u001b[39m\u001b[38;5;241m=\u001b[39m h[i]\n\u001b[1;32m    591\u001b[0m     dx \u001b[38;5;241m=\u001b[39m x1[i] \u001b[38;5;241m-\u001b[39m x0[i]  \u001b[38;5;66;03m# Recompute dx as exactly representable number.\u001b[39;00m\n\u001b[0;32m--> 592\u001b[0m     df \u001b[38;5;241m=\u001b[39m \u001b[43mfun\u001b[49m\u001b[43m(\u001b[49m\u001b[43mx1\u001b[49m\u001b[43m)\u001b[49m \u001b[38;5;241m-\u001b[39m f0\n\u001b[1;32m    593\u001b[0m \u001b[38;5;28;01melif\u001b[39;00m method \u001b[38;5;241m==\u001b[39m \u001b[38;5;124m'\u001b[39m\u001b[38;5;124m3-point\u001b[39m\u001b[38;5;124m'\u001b[39m \u001b[38;5;129;01mand\u001b[39;00m use_one_sided[i]:\n\u001b[1;32m    594\u001b[0m     x1[i] \u001b[38;5;241m+\u001b[39m\u001b[38;5;241m=\u001b[39m h[i]\n",
      "File \u001b[0;32m/opt/anaconda3/envs/robotics_course/lib/python3.10/site-packages/scipy/optimize/_numdiff.py:470\u001b[0m, in \u001b[0;36mapprox_derivative.<locals>.fun_wrapped\u001b[0;34m(x)\u001b[0m\n\u001b[1;32m    467\u001b[0m \u001b[38;5;28;01mif\u001b[39;00m xp\u001b[38;5;241m.\u001b[39misdtype(x\u001b[38;5;241m.\u001b[39mdtype, \u001b[38;5;124m\"\u001b[39m\u001b[38;5;124mreal floating\u001b[39m\u001b[38;5;124m\"\u001b[39m):\n\u001b[1;32m    468\u001b[0m     x \u001b[38;5;241m=\u001b[39m xp\u001b[38;5;241m.\u001b[39mastype(x, x0\u001b[38;5;241m.\u001b[39mdtype)\n\u001b[0;32m--> 470\u001b[0m f \u001b[38;5;241m=\u001b[39m np\u001b[38;5;241m.\u001b[39matleast_1d(\u001b[43mfun\u001b[49m\u001b[43m(\u001b[49m\u001b[43mx\u001b[49m\u001b[43m,\u001b[49m\u001b[43m \u001b[49m\u001b[38;5;241;43m*\u001b[39;49m\u001b[43margs\u001b[49m\u001b[43m,\u001b[49m\u001b[43m \u001b[49m\u001b[38;5;241;43m*\u001b[39;49m\u001b[38;5;241;43m*\u001b[39;49m\u001b[43mkwargs\u001b[49m\u001b[43m)\u001b[49m)\n\u001b[1;32m    471\u001b[0m \u001b[38;5;28;01mif\u001b[39;00m f\u001b[38;5;241m.\u001b[39mndim \u001b[38;5;241m>\u001b[39m \u001b[38;5;241m1\u001b[39m:\n\u001b[1;32m    472\u001b[0m     \u001b[38;5;28;01mraise\u001b[39;00m \u001b[38;5;167;01mRuntimeError\u001b[39;00m(\u001b[38;5;124m\"\u001b[39m\u001b[38;5;124m`fun` return value has \u001b[39m\u001b[38;5;124m\"\u001b[39m\n\u001b[1;32m    473\u001b[0m                        \u001b[38;5;124m\"\u001b[39m\u001b[38;5;124mmore than 1 dimension.\u001b[39m\u001b[38;5;124m\"\u001b[39m)\n",
      "File \u001b[0;32m/opt/anaconda3/envs/robotics_course/lib/python3.10/site-packages/scipy/optimize/_differentiable_functions.py:20\u001b[0m, in \u001b[0;36m_wrapper_fun.<locals>.wrapped\u001b[0;34m(x)\u001b[0m\n\u001b[1;32m     16\u001b[0m ncalls[\u001b[38;5;241m0\u001b[39m] \u001b[38;5;241m+\u001b[39m\u001b[38;5;241m=\u001b[39m \u001b[38;5;241m1\u001b[39m\n\u001b[1;32m     17\u001b[0m \u001b[38;5;66;03m# Send a copy because the user may overwrite it.\u001b[39;00m\n\u001b[1;32m     18\u001b[0m \u001b[38;5;66;03m# Overwriting results in undefined behaviour because\u001b[39;00m\n\u001b[1;32m     19\u001b[0m \u001b[38;5;66;03m# fun(self.x) will change self.x, with the two no longer linked.\u001b[39;00m\n\u001b[0;32m---> 20\u001b[0m fx \u001b[38;5;241m=\u001b[39m \u001b[43mfun\u001b[49m\u001b[43m(\u001b[49m\u001b[43mnp\u001b[49m\u001b[38;5;241;43m.\u001b[39;49m\u001b[43mcopy\u001b[49m\u001b[43m(\u001b[49m\u001b[43mx\u001b[49m\u001b[43m)\u001b[49m\u001b[43m,\u001b[49m\u001b[43m \u001b[49m\u001b[38;5;241;43m*\u001b[39;49m\u001b[43margs\u001b[49m\u001b[43m)\u001b[49m\n\u001b[1;32m     21\u001b[0m \u001b[38;5;66;03m# Make sure the function returns a true scalar\u001b[39;00m\n\u001b[1;32m     22\u001b[0m \u001b[38;5;28;01mif\u001b[39;00m \u001b[38;5;129;01mnot\u001b[39;00m np\u001b[38;5;241m.\u001b[39misscalar(fx):\n",
      "Cell \u001b[0;32mIn[49], line 18\u001b[0m, in \u001b[0;36mcost_function\u001b[0;34m(U, X_d, T)\u001b[0m\n\u001b[1;32m     16\u001b[0m \u001b[38;5;28;01mfor\u001b[39;00m k \u001b[38;5;129;01min\u001b[39;00m \u001b[38;5;28mrange\u001b[39m(T):\n\u001b[1;32m     17\u001b[0m     u \u001b[38;5;241m=\u001b[39m U[k]\n\u001b[0;32m---> 18\u001b[0m     x \u001b[38;5;241m=\u001b[39m \u001b[43mdynamics\u001b[49m\u001b[43m(\u001b[49m\u001b[43mu\u001b[49m\u001b[43m)\u001b[49m  \u001b[38;5;66;03m# System dynamics\u001b[39;00m\n\u001b[1;32m     19\u001b[0m     cost \u001b[38;5;241m+\u001b[39m\u001b[38;5;241m=\u001b[39m np\u001b[38;5;241m.\u001b[39msum((x \u001b[38;5;241m-\u001b[39m X_d[k])\u001b[38;5;241m*\u001b[39m\u001b[38;5;241m*\u001b[39m\u001b[38;5;241m2\u001b[39m) \u001b[38;5;241m+\u001b[39m np\u001b[38;5;241m.\u001b[39msum(u\u001b[38;5;241m*\u001b[39m\u001b[38;5;241m*\u001b[39m\u001b[38;5;241m2\u001b[39m)  \u001b[38;5;66;03m# Cost terms\u001b[39;00m\n\u001b[1;32m     21\u001b[0m \u001b[38;5;28;01mreturn\u001b[39;00m cost\n",
      "Cell \u001b[0;32mIn[49], line 8\u001b[0m, in \u001b[0;36mdynamics\u001b[0;34m(u)\u001b[0m\n\u001b[1;32m      7\u001b[0m \u001b[38;5;28;01mdef\u001b[39;00m \u001b[38;5;21mdynamics\u001b[39m(u):\n\u001b[0;32m----> 8\u001b[0m     state, _, _ \u001b[38;5;241m=\u001b[39m \u001b[43menv\u001b[49m\u001b[38;5;241;43m.\u001b[39;49m\u001b[43mstep\u001b[49m\u001b[43m(\u001b[49m\u001b[43mnp\u001b[49m\u001b[38;5;241;43m.\u001b[39;49m\u001b[43mclip\u001b[49m\u001b[43m(\u001b[49m\u001b[43mu\u001b[49m\u001b[43m,\u001b[49m\u001b[38;5;241;43m-\u001b[39;49m\u001b[38;5;241;43m1\u001b[39;49m\u001b[43m,\u001b[49m\u001b[38;5;241;43m1\u001b[39;49m\u001b[43m)\u001b[49m\u001b[43m)\u001b[49m\n\u001b[1;32m      9\u001b[0m     time\u001b[38;5;241m.\u001b[39msleep(\u001b[38;5;241m0.05\u001b[39m)\n\u001b[1;32m     10\u001b[0m     \u001b[38;5;28;01mreturn\u001b[39;00m state\n",
      "Cell \u001b[0;32mIn[15], line 51\u001b[0m, in \u001b[0;36mEnvRealistic.step\u001b[0;34m(self, action)\u001b[0m\n\u001b[1;32m     49\u001b[0m \u001b[38;5;28;01mif\u001b[39;00m action \u001b[38;5;241m<\u001b[39m \u001b[38;5;241m-\u001b[39m\u001b[38;5;241m1\u001b[39m \u001b[38;5;129;01mor\u001b[39;00m action \u001b[38;5;241m>\u001b[39m \u001b[38;5;241m1\u001b[39m:\n\u001b[1;32m     50\u001b[0m   \u001b[38;5;28;01mraise\u001b[39;00m \u001b[38;5;167;01mException\u001b[39;00m(\u001b[38;5;124m\"\u001b[39m\u001b[38;5;124mAction not in range [-1, 1]\u001b[39m\u001b[38;5;124m\"\u001b[39m)\n\u001b[0;32m---> 51\u001b[0m current_position \u001b[38;5;241m=\u001b[39m \u001b[43mp\u001b[49m\u001b[38;5;241;43m.\u001b[39;49m\u001b[43mgetLinkState\u001b[49m\u001b[43m(\u001b[49m\u001b[43mrobot_id\u001b[49m\u001b[43m,\u001b[49m\u001b[43m \u001b[49m\u001b[43meff_idx\u001b[49m\u001b[43m)\u001b[49m[\u001b[38;5;241m0\u001b[39m]\n\u001b[1;32m     52\u001b[0m target \u001b[38;5;241m=\u001b[39m \u001b[38;5;28mself\u001b[39m\u001b[38;5;241m.\u001b[39mstart_point \u001b[38;5;241m-\u001b[39m action \u001b[38;5;241m*\u001b[39m EnvRealistic\u001b[38;5;241m.\u001b[39maxis_vector\n\u001b[1;32m     55\u001b[0m joint_angles \u001b[38;5;241m=\u001b[39m p\u001b[38;5;241m.\u001b[39mcalculateInverseKinematics(robot_id,eff_idx,target)\n",
      "\u001b[0;31mKeyboardInterrupt\u001b[0m: "
     ]
    }
   ],
   "source": [
    "from scipy.optimize import minimize\n",
    "# Initialize environment\n",
    "env = EnvRealistic(TIME_HORIZON=1000,swing = True)\n",
    "time.sleep(2)\n",
    "\n",
    "# Define the system dynamics\n",
    "def dynamics(u):\n",
    "    state, _, _ = env.step(np.clip(u,-1,1))\n",
    "    time.sleep(0.05)\n",
    "    return state\n",
    "\n",
    "# Define the cost function\n",
    "def cost_function(U, X_d, T):\n",
    "    s = env.reset()\n",
    "    cost = 0\n",
    "    for k in range(T):\n",
    "        u = U[k]\n",
    "        x = dynamics(u)  # System dynamics\n",
    "        cost += np.sum((x - X_d[k])**2) + np.sum(u**2)  # Cost terms\n",
    "        \n",
    "    return cost\n",
    "\n",
    "# Define problem parameters\n",
    "T = 131  # Number of timesteps\n",
    "u_dim = 1  # Control dimension\n",
    "X_d = state_D  # Example demonstration trajectory\n",
    "\n",
    "U_init = np.zeros(T)  # Initial guess for control\n",
    "\n",
    "# Solve the optimization problem\n",
    "result = minimize(\n",
    "    fun=cost_function, \n",
    "    x0=U_init, \n",
    "    args=(X_d,  T), \n",
    "    method='L-BFGS-B'\n",
    ")\n",
    "\n",
    "# Optimal controls\n",
    "U_optimal = result.x"
   ]
  },
  {
   "cell_type": "code",
   "execution_count": 19,
   "metadata": {},
   "outputs": [
    {
     "name": "stderr",
     "output_type": "stream",
     "text": [
      "100%|██████████| 130/130 [21:17<00:00,  9.83s/it]"
     ]
    },
    {
     "name": "stdout",
     "output_type": "stream",
     "text": [
      "Optimal controls:  [-0.53894737 -0.31842105  0.09263158  0.09263158  0.10789474  0.11789474\n",
      "  0.12789474  0.09263158 -0.92473684 -0.92473684 -0.92473684 -0.92473684\n",
      " -0.92473684 -0.91473684 -0.91473684 -0.90473684 -0.90473684 -0.89473684\n",
      " -0.89473684 -0.89473684 -0.88473684 -0.88473684 -0.88473684 -0.87473684\n",
      " -0.87473684 -0.87473684 -0.86473684 -0.86473684 -0.86473684 -0.85473684\n",
      " -0.85473684 -0.84473684 -0.84473684 -0.83947368 -0.82947368 -0.82947368\n",
      " -0.82947368 -0.81947368 -0.80947368 -0.80947368 -0.79947368 -0.79947368\n",
      " -0.78947368 -0.78947368 -0.77947368 -0.76947368 -0.76947368 -0.38842105\n",
      "  1.          1.          1.          1.          1.          1.\n",
      "  1.          1.          1.          1.          1.          1.\n",
      "  1.          1.          1.          1.          0.985       0.96\n",
      "  0.94473684  0.93473684  0.91473684  0.90473684  0.89473684  0.88473684\n",
      "  0.86473684  0.85473684  0.83947368  0.82947368  0.80947368  0.79947368\n",
      "  0.78947368  0.76947368  0.75947368  0.68421053 -0.30315789 -1.\n",
      " -1.         -1.         -1.         -1.         -1.         -1.\n",
      " -1.         -1.         -1.         -1.         -1.         -1.\n",
      " -1.         -1.         -1.         -1.         -1.         -1.\n",
      " -1.         -1.         -1.         -1.         -1.         -1.\n",
      " -1.         -1.         -1.         -1.         -1.         -1.\n",
      " -1.         -1.         -1.         -1.         -1.         -1.\n",
      " -1.         -1.         -1.         -1.         -1.         -1.\n",
      " -1.         -1.         -1.         -1.        ]\n"
     ]
    },
    {
     "name": "stderr",
     "output_type": "stream",
     "text": [
      "\n"
     ]
    }
   ],
   "source": [
    "import numpy as np\n",
    "import time\n",
    "from scipy.optimize import minimize\n",
    "\n",
    "best_states =[]\n",
    "# Initialize environment\n",
    "env = EnvRealistic(TIME_HORIZON=1000, swing=True)\n",
    "time.sleep(2)\n",
    "\n",
    "# Define the system dynamics (no change, just call step with clipping)\n",
    "def dynamics(u):\n",
    "    state, _, _ = env.step(np.clip(u, -1, 1))\n",
    "    time.sleep(0.05)\n",
    "    return state\n",
    "\n",
    "# Define the cost function\n",
    "def cost_function_at_t(u_t, X_d, t):\n",
    "    \"\"\"\n",
    "    Computes the cost for a given control u_t at time t, taking into account previous controls\n",
    "    and previous states in the trajectory.\n",
    "    \"\"\"\n",
    "    \n",
    "    # Apply the control u_t and get the new state\n",
    "    new_state = dynamics(u_t)\n",
    "    \n",
    "    # Compute cost: the difference between the target trajectory and the simulated state\n",
    "    cost = np.sum((new_state - X_d[t+1])**2) + u_t**2  # Include control effort in cost\n",
    "    return cost\n",
    "\n",
    "# Hierarchical optimization function\n",
    "def hierarchical_optimization(X_d, T):\n",
    "    \"\"\"\n",
    "    Solves the optimal control problem in a hierarchical fashion by optimizing\n",
    "    controls at each timestep t, given previous optimal controls.\n",
    "    \"\"\"\n",
    "    U_optimal = np.zeros(T)  # Control array to store optimal controls\n",
    "\n",
    "    \n",
    "    # For each timestep, optimize the control for that timestep\n",
    "    for t in tqdm(range(T)):\n",
    "        # For this step, we want to minimize the cost for control u_t given previous best controls\n",
    "        \n",
    "        # Use a discretized search over the control range [-1, 1] with 100 steps\n",
    "        u_values = np.linspace(-1, 1, 20)\n",
    "        \n",
    "        # Minimize the cost for the current timestep's control\n",
    "        best_cost = float('inf')\n",
    "        best_u = None\n",
    "        \n",
    "        \n",
    "        for u_t in u_values:\n",
    "            if t==0:\n",
    "                env.reset()\n",
    "            else : \n",
    "                p.restoreState(best_states[-1])\n",
    "            # Minimize cost for this u_t\n",
    "            cost = cost_function_at_t(u_t, X_d, t)\n",
    "            \n",
    "            # If the cost is better, update the best control\n",
    "            if cost < best_cost:\n",
    "                best_cost = cost\n",
    "                best_u = u_t\n",
    "                best_state = p.saveState()\n",
    "        u_neighborhood = np.linspace(np.clip(best_u - 0.1, -1, 1), np.clip(best_u + 0.1, -1, 1), int(0.2 / 0.01) + 1)\n",
    "        for u_t in u_neighborhood:\n",
    "            if t==0:\n",
    "                env.reset()\n",
    "            else : \n",
    "                p.restoreState(best_states[-1])\n",
    "            # Minimize cost for this u_t\n",
    "            cost = cost_function_at_t(u_t, X_d, t)\n",
    "            \n",
    "            # If the cost is better, update the best control\n",
    "            if cost < best_cost:\n",
    "                best_cost = cost\n",
    "                best_u = u_t\n",
    "                best_state = p.saveState()\n",
    "        \n",
    "        # Store the best control for this timestep\n",
    "        U_optimal[t] = best_u\n",
    "        \n",
    "        # Simulate the system with the best control and save the state for the next iteration\n",
    "        best_states.append(best_state)\n",
    "    \n",
    "    return U_optimal\n",
    "\n",
    "# Example problem parameters\n",
    "T = 130  # Number of timesteps (for example, 131)\n",
    "X_d = state_D  # Example demonstration trajectory\n",
    "\n",
    "# Perform the hierarchical optimization\n",
    "U_optimal = hierarchical_optimization(X_d, T)\n",
    "\n",
    "# Resulting optimal controls\n",
    "print(\"Optimal controls: \", U_optimal)\n"
   ]
  },
  {
   "cell_type": "code",
   "execution_count": 20,
   "metadata": {},
   "outputs": [],
   "source": [
    "with open('U_opt_2_stage.txt', 'w') as file:\n",
    "    for item in U_optimal:\n",
    "        file.write(f\"{item}\\n\")  # Write each item on a new line"
   ]
  },
  {
   "cell_type": "code",
   "execution_count": null,
   "metadata": {},
   "outputs": [],
   "source": [
    "with open('U_opt_2_stage.txt', 'r') as file:\n",
    "    Uopt = [float(line.strip()) for line in file]"
   ]
  },
  {
   "cell_type": "code",
   "execution_count": 21,
   "metadata": {},
   "outputs": [],
   "source": [
    "s = env.reset()\n",
    "time.sleep(2)\n",
    "for u in U_optimal:\n",
    "\n",
    "  s, dead, trunc =env.step(np.clip(1.5*u, -1, 1))\n",
    "  \n",
    "for t in range(20):\n",
    "  s, dead, trunc =env.step(np.clip(U_optimal[-1], -1, 1))\n"
   ]
  },
  {
   "cell_type": "code",
   "execution_count": 25,
   "metadata": {},
   "outputs": [
    {
     "name": "stdout",
     "output_type": "stream",
     "text": [
      "[-1.]\n",
      "[-1.]\n",
      "[-1.]\n",
      "[-1.]\n",
      "[-1.]\n",
      "[-1.]\n",
      "[-1.]\n",
      "[-1.]\n",
      "[-1.]\n",
      "[-1.]\n",
      "[-1.]\n",
      "[-1.]\n",
      "[-1.]\n",
      "[-1.]\n",
      "[-1.]\n",
      "[-1.]\n",
      "[-1.]\n",
      "[-1.]\n",
      "[-1.]\n",
      "[0.29362956]\n",
      "[1.]\n",
      "[1.]\n",
      "[1.]\n",
      "[1.]\n",
      "[1.]\n",
      "[1.]\n",
      "[1.]\n",
      "[1.]\n",
      "[1.]\n",
      "[1.]\n",
      "[1.]\n",
      "[1.]\n",
      "[1.]\n",
      "[1.]\n",
      "[1.]\n",
      "[1.]\n",
      "[1.]\n",
      "[1.]\n",
      "[1.]\n",
      "[1.]\n",
      "[1.]\n",
      "[1.]\n",
      "[1.]\n",
      "[1.]\n",
      "[1.]\n",
      "[1.]\n",
      "[1.]\n",
      "[1.]\n",
      "[1.]\n",
      "[1.]\n",
      "[1.]\n",
      "[1.]\n",
      "[1.]\n",
      "[1.]\n",
      "[1.]\n",
      "[1.]\n",
      "[1.]\n",
      "[1.]\n",
      "[1.]\n",
      "[1.]\n",
      "[1.]\n",
      "[1.]\n",
      "[1.]\n",
      "[1.]\n",
      "[1.]\n",
      "[1.]\n",
      "[1.]\n",
      "[1.]\n",
      "[1.]\n",
      "[1.]\n",
      "[1.]\n",
      "[1.]\n",
      "[1.]\n",
      "[1.]\n",
      "[1.]\n",
      "[1.]\n",
      "[1.]\n",
      "[1.]\n",
      "[1.]\n",
      "[1.]\n",
      "[1.]\n",
      "[1.]\n",
      "[1.]\n",
      "[1.]\n",
      "[1.]\n",
      "[1.]\n",
      "[1.]\n",
      "[1.]\n",
      "[1.]\n",
      "[1.]\n",
      "[1.]\n",
      "[1.]\n",
      "[1.]\n",
      "[1.]\n",
      "[1.]\n",
      "[1.]\n",
      "[1.]\n",
      "[1.]\n",
      "[1.]\n",
      "[1.]\n",
      "[1.]\n",
      "[1.]\n",
      "[1.]\n",
      "[1.]\n",
      "[1.]\n",
      "[1.]\n",
      "[1.]\n",
      "[1.]\n",
      "[1.]\n",
      "[1.]\n",
      "[1.]\n",
      "[1.]\n",
      "[1.]\n",
      "[1.]\n",
      "[1.]\n",
      "[1.]\n",
      "[1.]\n",
      "[1.]\n",
      "[1.]\n",
      "[1.]\n",
      "[1.]\n",
      "[1.]\n",
      "[1.]\n",
      "[1.]\n",
      "[1.]\n",
      "[1.]\n",
      "[1.]\n",
      "[1.]\n",
      "[1.]\n",
      "[1.]\n",
      "[1.]\n",
      "[1.]\n",
      "[1.]\n",
      "[1.]\n",
      "[1.]\n",
      "[1.]\n",
      "[1.]\n",
      "[1.]\n",
      "[1.]\n",
      "[1.]\n",
      "[1.]\n",
      "[1.]\n",
      "[1.]\n",
      "[1.]\n",
      "[1.]\n",
      "[1.]\n",
      "[1.]\n",
      "[1.]\n",
      "[1.]\n",
      "[1.]\n",
      "[1.]\n",
      "[1.]\n",
      "[1.]\n",
      "[1.]\n",
      "[1.]\n",
      "[1.]\n",
      "[1.]\n",
      "[1.]\n",
      "[1.]\n",
      "[1.]\n",
      "[1.]\n",
      "[1.]\n",
      "[1.]\n",
      "[1.]\n",
      "[1.]\n",
      "[1.]\n",
      "[1.]\n",
      "[1.]\n",
      "[1.]\n",
      "[1.]\n",
      "[1.]\n",
      "[1.]\n",
      "[1.]\n",
      "[1.]\n",
      "[1.]\n",
      "[1.]\n",
      "[1.]\n",
      "[1.]\n",
      "[1.]\n",
      "[1.]\n",
      "[1.]\n",
      "[1.]\n",
      "[1.]\n",
      "[1.]\n",
      "[1.]\n",
      "[1.]\n",
      "[1.]\n",
      "[1.]\n",
      "[1.]\n",
      "[1.]\n",
      "[1.]\n",
      "[1.]\n",
      "[1.]\n",
      "[1.]\n",
      "[1.]\n",
      "[1.]\n",
      "[1.]\n",
      "[1.]\n",
      "[1.]\n",
      "[1.]\n",
      "[1.]\n",
      "[1.]\n",
      "[1.]\n",
      "[1.]\n",
      "[1.]\n",
      "[1.]\n",
      "[1.]\n",
      "[1.]\n",
      "[1.]\n",
      "[1.]\n",
      "[1.]\n",
      "[1.]\n",
      "[1.]\n",
      "[1.]\n",
      "[1.]\n",
      "[1.]\n",
      "[1.]\n",
      "[1.]\n",
      "[1.]\n",
      "[1.]\n",
      "[1.]\n",
      "[1.]\n",
      "[1.]\n",
      "[1.]\n",
      "[1.]\n",
      "[1.]\n",
      "[1.]\n",
      "[1.]\n",
      "[1.]\n",
      "[1.]\n",
      "[1.]\n",
      "[1.]\n",
      "[1.]\n",
      "[1.]\n",
      "[1.]\n",
      "[1.]\n",
      "[1.]\n",
      "[1.]\n",
      "[1.]\n",
      "[1.]\n",
      "[1.]\n",
      "[1.]\n",
      "[1.]\n",
      "[1.]\n",
      "[1.]\n",
      "[1.]\n",
      "[1.]\n",
      "[1.]\n",
      "[1.]\n",
      "[1.]\n",
      "[1.]\n",
      "[1.]\n",
      "[1.]\n",
      "[1.]\n",
      "[1.]\n",
      "[1.]\n",
      "[1.]\n",
      "[1.]\n",
      "[1.]\n",
      "[1.]\n",
      "[1.]\n",
      "[1.]\n",
      "[1.]\n",
      "[1.]\n",
      "[1.]\n",
      "[1.]\n",
      "[1.]\n",
      "[1.]\n",
      "[1.]\n",
      "[1.]\n",
      "[1.]\n",
      "[1.]\n",
      "[1.]\n",
      "[1.]\n",
      "[1.]\n",
      "[1.]\n",
      "[1.]\n",
      "[1.]\n",
      "[1.]\n",
      "[1.]\n",
      "[1.]\n",
      "[1.]\n",
      "[1.]\n",
      "[1.]\n",
      "[1.]\n",
      "[1.]\n",
      "[1.]\n",
      "[1.]\n",
      "[1.]\n",
      "[1.]\n",
      "[1.]\n",
      "[1.]\n",
      "[1.]\n",
      "[1.]\n",
      "[1.]\n",
      "[1.]\n",
      "[1.]\n",
      "[1.]\n",
      "[1.]\n",
      "[1.]\n",
      "[1.]\n",
      "[1.]\n",
      "[1.]\n",
      "[1.]\n",
      "[1.]\n",
      "[1.]\n",
      "[1.]\n",
      "[1.]\n",
      "[1.]\n",
      "[1.]\n",
      "[1.]\n",
      "[1.]\n",
      "[1.]\n",
      "[1.]\n",
      "[1.]\n",
      "[1.]\n",
      "[1.]\n",
      "[1.]\n",
      "[1.]\n",
      "[1.]\n",
      "[1.]\n",
      "[1.]\n",
      "[1.]\n",
      "[1.]\n",
      "[1.]\n",
      "[1.]\n",
      "[1.]\n",
      "[1.]\n",
      "[1.]\n",
      "[1.]\n",
      "[1.]\n",
      "[1.]\n",
      "[1.]\n",
      "[1.]\n",
      "[1.]\n",
      "[1.]\n",
      "[1.]\n",
      "[1.]\n",
      "[1.]\n",
      "[1.]\n",
      "[1.]\n",
      "[1.]\n",
      "[1.]\n",
      "[1.]\n",
      "[1.]\n",
      "[1.]\n",
      "[1.]\n",
      "[1.]\n",
      "[1.]\n",
      "[1.]\n",
      "[1.]\n",
      "[1.]\n",
      "[1.]\n",
      "[1.]\n",
      "[1.]\n",
      "[1.]\n",
      "[1.]\n",
      "[1.]\n",
      "[1.]\n",
      "[1.]\n",
      "[1.]\n",
      "[1.]\n",
      "[1.]\n",
      "[1.]\n",
      "[1.]\n",
      "[1.]\n",
      "[1.]\n",
      "[1.]\n",
      "[1.]\n",
      "[1.]\n",
      "[1.]\n",
      "[1.]\n",
      "[1.]\n",
      "[1.]\n",
      "[1.]\n",
      "[1.]\n",
      "[1.]\n",
      "[1.]\n",
      "[1.]\n",
      "[1.]\n",
      "[1.]\n",
      "[1.]\n",
      "[1.]\n",
      "[1.]\n",
      "[1.]\n",
      "[1.]\n",
      "[1.]\n",
      "[1.]\n",
      "[1.]\n",
      "[1.]\n",
      "[1.]\n",
      "[1.]\n",
      "[1.]\n",
      "[1.]\n",
      "[1.]\n",
      "[1.]\n",
      "[1.]\n",
      "[1.]\n",
      "[1.]\n",
      "[1.]\n",
      "[1.]\n",
      "[1.]\n",
      "[1.]\n",
      "[1.]\n",
      "[1.]\n",
      "[1.]\n",
      "[1.]\n",
      "[1.]\n",
      "[1.]\n",
      "[1.]\n",
      "[1.]\n",
      "[1.]\n",
      "[1.]\n",
      "[1.]\n",
      "[1.]\n",
      "[1.]\n",
      "[1.]\n",
      "[1.]\n",
      "[1.]\n",
      "[1.]\n",
      "[1.]\n",
      "[1.]\n",
      "[1.]\n",
      "[1.]\n",
      "[1.]\n",
      "[1.]\n",
      "[1.]\n",
      "[1.]\n",
      "[1.]\n",
      "[1.]\n",
      "[1.]\n",
      "[1.]\n",
      "[1.]\n",
      "[1.]\n",
      "[1.]\n",
      "[1.]\n",
      "[1.]\n",
      "[1.]\n",
      "[1.]\n",
      "[1.]\n",
      "[1.]\n",
      "[1.]\n",
      "[1.]\n",
      "[1.]\n",
      "[1.]\n",
      "[1.]\n",
      "[1.]\n",
      "[1.]\n",
      "[1.]\n",
      "[1.]\n",
      "[1.]\n",
      "[1.]\n",
      "[1.]\n",
      "[1.]\n",
      "[1.]\n",
      "[1.]\n",
      "[1.]\n",
      "[1.]\n",
      "[1.]\n",
      "[1.]\n",
      "[1.]\n",
      "[1.]\n",
      "[1.]\n",
      "[1.]\n",
      "[1.]\n",
      "[1.]\n",
      "[1.]\n",
      "[1.]\n",
      "[1.]\n",
      "[1.]\n",
      "[1.]\n",
      "[1.]\n",
      "[1.]\n",
      "[1.]\n",
      "[1.]\n",
      "[1.]\n",
      "[1.]\n",
      "[1.]\n",
      "[1.]\n",
      "[1.]\n",
      "[1.]\n",
      "[1.]\n",
      "[1.]\n",
      "[1.]\n",
      "[1.]\n",
      "[1.]\n",
      "[1.]\n",
      "[1.]\n",
      "[1.]\n",
      "[1.]\n",
      "[1.]\n",
      "[1.]\n",
      "[1.]\n",
      "[1.]\n",
      "[1.]\n",
      "[1.]\n",
      "[1.]\n",
      "[1.]\n",
      "[1.]\n",
      "[1.]\n",
      "[1.]\n",
      "[1.]\n",
      "[1.]\n",
      "[1.]\n",
      "[1.]\n",
      "[1.]\n",
      "[1.]\n",
      "[1.]\n",
      "[1.]\n",
      "[1.]\n",
      "[1.]\n",
      "[1.]\n",
      "[1.]\n",
      "[1.]\n",
      "[1.]\n",
      "[1.]\n",
      "[1.]\n",
      "[1.]\n",
      "[1.]\n",
      "[1.]\n",
      "[1.]\n",
      "[1.]\n",
      "[1.]\n",
      "[1.]\n",
      "[1.]\n",
      "[1.]\n",
      "[1.]\n",
      "[1.]\n",
      "[1.]\n",
      "[1.]\n",
      "[1.]\n",
      "[1.]\n",
      "[1.]\n",
      "[1.]\n",
      "[1.]\n",
      "[1.]\n",
      "[1.]\n",
      "[1.]\n",
      "[1.]\n",
      "[1.]\n",
      "[1.]\n",
      "[1.]\n",
      "[1.]\n",
      "[1.]\n",
      "[1.]\n",
      "[1.]\n",
      "[1.]\n",
      "[1.]\n",
      "[1.]\n",
      "[1.]\n",
      "[1.]\n",
      "[1.]\n",
      "[1.]\n",
      "[1.]\n",
      "[1.]\n",
      "[1.]\n",
      "[1.]\n",
      "[1.]\n",
      "[1.]\n",
      "[1.]\n",
      "[1.]\n",
      "[1.]\n",
      "[1.]\n",
      "[1.]\n",
      "[1.]\n",
      "[1.]\n",
      "[1.]\n",
      "[1.]\n",
      "[1.]\n",
      "[1.]\n",
      "[1.]\n",
      "[1.]\n",
      "[1.]\n",
      "[1.]\n",
      "[1.]\n",
      "[1.]\n",
      "[1.]\n",
      "[1.]\n",
      "[1.]\n",
      "[1.]\n",
      "[1.]\n",
      "[1.]\n",
      "[1.]\n",
      "[1.]\n",
      "[1.]\n",
      "[1.]\n",
      "[1.]\n",
      "[1.]\n",
      "[1.]\n",
      "[1.]\n",
      "[1.]\n",
      "[1.]\n",
      "[1.]\n",
      "[1.]\n",
      "[1.]\n",
      "[1.]\n",
      "[1.]\n",
      "[1.]\n",
      "[1.]\n",
      "[1.]\n",
      "[1.]\n",
      "[1.]\n",
      "[1.]\n",
      "[1.]\n",
      "[1.]\n",
      "[1.]\n",
      "[1.]\n",
      "[1.]\n",
      "[1.]\n",
      "[1.]\n",
      "[1.]\n",
      "[1.]\n",
      "[1.]\n",
      "[1.]\n",
      "[1.]\n",
      "[1.]\n",
      "[1.]\n",
      "[1.]\n",
      "[1.]\n",
      "[1.]\n",
      "[1.]\n",
      "[1.]\n",
      "[1.]\n",
      "[1.]\n",
      "[1.]\n",
      "[1.]\n",
      "[1.]\n",
      "[1.]\n",
      "[1.]\n",
      "[1.]\n",
      "[1.]\n",
      "[1.]\n",
      "[1.]\n",
      "[1.]\n",
      "[1.]\n",
      "[1.]\n",
      "[1.]\n",
      "[1.]\n",
      "[1.]\n",
      "[1.]\n",
      "[1.]\n",
      "[1.]\n",
      "[1.]\n",
      "[1.]\n",
      "[1.]\n",
      "[1.]\n",
      "[1.]\n",
      "[1.]\n",
      "[1.]\n",
      "[1.]\n",
      "[1.]\n",
      "[1.]\n",
      "[1.]\n",
      "[1.]\n",
      "[1.]\n",
      "[1.]\n",
      "[1.]\n",
      "[1.]\n",
      "[1.]\n",
      "[1.]\n",
      "[1.]\n",
      "[1.]\n",
      "[1.]\n",
      "[1.]\n",
      "[1.]\n",
      "[1.]\n",
      "[1.]\n",
      "[1.]\n",
      "[1.]\n",
      "[1.]\n",
      "[1.]\n",
      "[1.]\n",
      "[1.]\n",
      "[1.]\n",
      "[1.]\n",
      "[1.]\n",
      "[1.]\n",
      "[1.]\n",
      "[1.]\n",
      "[1.]\n",
      "[1.]\n",
      "[1.]\n",
      "[1.]\n",
      "[1.]\n",
      "[1.]\n",
      "[1.]\n",
      "[1.]\n",
      "[1.]\n",
      "[1.]\n",
      "[1.]\n",
      "[1.]\n",
      "[1.]\n",
      "[1.]\n",
      "[1.]\n",
      "[1.]\n",
      "[1.]\n",
      "[1.]\n",
      "[1.]\n",
      "[1.]\n",
      "[1.]\n",
      "[1.]\n",
      "[1.]\n",
      "[1.]\n",
      "[1.]\n",
      "[1.]\n",
      "[1.]\n",
      "[1.]\n",
      "[1.]\n",
      "[1.]\n",
      "[1.]\n",
      "[1.]\n",
      "[1.]\n",
      "[1.]\n",
      "[1.]\n",
      "[1.]\n",
      "[1.]\n",
      "[1.]\n",
      "[1.]\n",
      "[1.]\n",
      "[1.]\n",
      "[1.]\n",
      "[1.]\n",
      "[1.]\n",
      "[1.]\n",
      "[1.]\n",
      "[1.]\n",
      "[1.]\n",
      "[1.]\n",
      "[1.]\n",
      "[1.]\n",
      "[1.]\n",
      "[1.]\n",
      "[1.]\n",
      "[1.]\n",
      "[1.]\n",
      "[1.]\n",
      "[1.]\n",
      "[1.]\n",
      "[1.]\n",
      "[1.]\n",
      "[1.]\n",
      "[1.]\n",
      "[1.]\n",
      "[1.]\n",
      "[1.]\n",
      "[1.]\n",
      "[1.]\n",
      "[1.]\n",
      "[1.]\n",
      "[1.]\n",
      "[1.]\n",
      "[1.]\n",
      "[1.]\n",
      "[1.]\n",
      "[1.]\n",
      "[1.]\n",
      "[1.]\n",
      "[1.]\n",
      "[1.]\n",
      "[1.]\n",
      "[1.]\n",
      "[1.]\n",
      "[1.]\n",
      "[1.]\n",
      "[1.]\n",
      "[1.]\n",
      "[1.]\n",
      "[1.]\n",
      "[1.]\n",
      "[1.]\n",
      "[1.]\n",
      "[1.]\n",
      "[1.]\n",
      "[1.]\n",
      "[1.]\n",
      "[1.]\n",
      "[1.]\n",
      "[1.]\n",
      "[1.]\n",
      "[1.]\n",
      "[1.]\n",
      "[1.]\n",
      "[1.]\n",
      "[1.]\n",
      "[1.]\n",
      "[1.]\n",
      "[1.]\n",
      "[1.]\n",
      "[1.]\n",
      "[1.]\n",
      "[1.]\n",
      "[1.]\n",
      "[1.]\n",
      "[1.]\n",
      "[1.]\n",
      "[1.]\n",
      "[1.]\n",
      "[1.]\n",
      "[1.]\n",
      "[1.]\n",
      "[1.]\n",
      "[1.]\n",
      "[1.]\n",
      "[1.]\n",
      "[1.]\n",
      "[1.]\n",
      "[1.]\n",
      "[1.]\n",
      "[1.]\n",
      "[1.]\n",
      "[1.]\n",
      "[1.]\n",
      "[1.]\n",
      "[1.]\n",
      "[1.]\n",
      "[1.]\n",
      "[1.]\n",
      "[1.]\n",
      "[1.]\n",
      "[1.]\n",
      "[1.]\n",
      "[1.]\n",
      "[1.]\n",
      "[1.]\n",
      "[1.]\n",
      "[1.]\n",
      "[1.]\n",
      "[1.]\n",
      "[1.]\n",
      "[1.]\n",
      "[1.]\n",
      "[1.]\n",
      "[1.]\n",
      "[1.]\n",
      "[1.]\n",
      "[1.]\n",
      "[1.]\n",
      "[1.]\n",
      "[1.]\n",
      "[1.]\n",
      "[1.]\n",
      "[1.]\n",
      "[1.]\n",
      "[1.]\n",
      "[1.]\n",
      "[1.]\n",
      "[1.]\n",
      "[1.]\n",
      "[1.]\n",
      "[1.]\n",
      "[1.]\n",
      "[1.]\n",
      "[1.]\n",
      "[1.]\n",
      "[1.]\n",
      "[1.]\n",
      "[1.]\n",
      "[1.]\n",
      "[1.]\n",
      "[1.]\n",
      "[1.]\n",
      "[1.]\n",
      "[1.]\n",
      "[1.]\n",
      "[1.]\n",
      "[1.]\n",
      "[1.]\n",
      "[1.]\n",
      "[1.]\n",
      "[1.]\n",
      "[1.]\n",
      "[1.]\n",
      "[1.]\n",
      "[1.]\n",
      "[1.]\n",
      "[1.]\n",
      "[1.]\n",
      "[1.]\n",
      "[1.]\n",
      "[1.]\n",
      "[1.]\n",
      "[1.]\n",
      "[1.]\n",
      "[1.]\n"
     ]
    },
    {
     "ename": "KeyboardInterrupt",
     "evalue": "",
     "output_type": "error",
     "traceback": [
      "\u001b[0;31m---------------------------------------------------------------------------\u001b[0m",
      "\u001b[0;31mKeyboardInterrupt\u001b[0m                         Traceback (most recent call last)",
      "Cell \u001b[0;32mIn[25], line 5\u001b[0m\n\u001b[1;32m      3\u001b[0m a \u001b[38;5;241m=\u001b[39m np\u001b[38;5;241m.\u001b[39mclip(np\u001b[38;5;241m.\u001b[39mdot(\u001b[38;5;241m-\u001b[39mK, s), \u001b[38;5;241m-\u001b[39m\u001b[38;5;241m1\u001b[39m, \u001b[38;5;241m1\u001b[39m)\n\u001b[1;32m      4\u001b[0m \u001b[38;5;28mprint\u001b[39m(a)\n\u001b[0;32m----> 5\u001b[0m s, dead, trunc \u001b[38;5;241m=\u001b[39m \u001b[43menv\u001b[49m\u001b[38;5;241;43m.\u001b[39;49m\u001b[43mstep\u001b[49m\u001b[43m(\u001b[49m\u001b[43ma\u001b[49m\u001b[43m)\u001b[49m\n\u001b[1;32m      6\u001b[0m \u001b[38;5;28;01mif\u001b[39;00m dead \u001b[38;5;129;01mor\u001b[39;00m trunc:\n\u001b[1;32m      7\u001b[0m   \u001b[38;5;28mprint\u001b[39m(\u001b[38;5;124mf\u001b[39m\u001b[38;5;124m\"\u001b[39m\u001b[38;5;124mSuccessfull balancing for \u001b[39m\u001b[38;5;132;01m{\u001b[39;00menv\u001b[38;5;241m.\u001b[39mtimestep\u001b[38;5;132;01m}\u001b[39;00m\u001b[38;5;124m timesteps\u001b[39m\u001b[38;5;124m\"\u001b[39m)\n",
      "Cell \u001b[0;32mIn[9], line 56\u001b[0m, in \u001b[0;36mEnvRealistic.step\u001b[0;34m(self, action)\u001b[0m\n\u001b[1;32m     52\u001b[0m target \u001b[38;5;241m=\u001b[39m \u001b[38;5;28mself\u001b[39m\u001b[38;5;241m.\u001b[39mstart_point \u001b[38;5;241m-\u001b[39m action \u001b[38;5;241m*\u001b[39m EnvRealistic\u001b[38;5;241m.\u001b[39maxis_vector\n\u001b[1;32m     55\u001b[0m joint_angles \u001b[38;5;241m=\u001b[39m p\u001b[38;5;241m.\u001b[39mcalculateInverseKinematics(robot_id,eff_idx,target)\n\u001b[0;32m---> 56\u001b[0m \u001b[43mcontrol_to_desired_configuration\u001b[49m\u001b[43m(\u001b[49m\u001b[43mrobot_id\u001b[49m\u001b[43m,\u001b[49m\u001b[43m \u001b[49m\u001b[43mjoint_angles\u001b[49m\u001b[43m,\u001b[49m\u001b[43m \u001b[49m\u001b[43mmax_steps\u001b[49m\u001b[38;5;241;43m=\u001b[39;49m\u001b[38;5;241;43m100\u001b[39;49m\u001b[43m,\u001b[49m\u001b[43m \u001b[49m\u001b[43msleep\u001b[49m\u001b[38;5;241;43m=\u001b[39;49m\u001b[38;5;28;43mself\u001b[39;49m\u001b[38;5;241;43m.\u001b[39;49m\u001b[43msleep\u001b[49m\u001b[43m)\u001b[49m\n\u001b[1;32m     57\u001b[0m (x, x_dot, theta, theta_dot) \u001b[38;5;241m=\u001b[39m \u001b[38;5;28mself\u001b[39m\u001b[38;5;241m.\u001b[39mget_state()\n\u001b[1;32m     58\u001b[0m \u001b[38;5;28mself\u001b[39m\u001b[38;5;241m.\u001b[39mtimestep \u001b[38;5;241m+\u001b[39m\u001b[38;5;241m=\u001b[39m \u001b[38;5;241m1\u001b[39m\n",
      "Cell \u001b[0;32mIn[6], line 30\u001b[0m, in \u001b[0;36mcontrol_to_desired_configuration\u001b[0;34m(robot_id, q_desired, v_desired, max_steps, sleep)\u001b[0m\n\u001b[1;32m     23\u001b[0m torques \u001b[38;5;241m=\u001b[39m pd_control(robot_id, q_desired, v_desired, Kp, Kd)\u001b[38;5;241m.\u001b[39mtolist()\n\u001b[1;32m     24\u001b[0m p\u001b[38;5;241m.\u001b[39msetJointMotorControlArray(\n\u001b[1;32m     25\u001b[0m   bodyUniqueId\u001b[38;5;241m=\u001b[39mrobot_id,\n\u001b[1;32m     26\u001b[0m   jointIndices\u001b[38;5;241m=\u001b[39mjoint_indices,\n\u001b[1;32m     27\u001b[0m   controlMode\u001b[38;5;241m=\u001b[39mp\u001b[38;5;241m.\u001b[39mTORQUE_CONTROL,\n\u001b[1;32m     28\u001b[0m   forces\u001b[38;5;241m=\u001b[39mtorques\n\u001b[1;32m     29\u001b[0m )\n\u001b[0;32m---> 30\u001b[0m \u001b[43mp\u001b[49m\u001b[38;5;241;43m.\u001b[39;49m\u001b[43mstepSimulation\u001b[49m\u001b[43m(\u001b[49m\u001b[43m)\u001b[49m\n\u001b[1;32m     31\u001b[0m \u001b[38;5;28;01mif\u001b[39;00m sleep \u001b[38;5;129;01mis\u001b[39;00m \u001b[38;5;129;01mnot\u001b[39;00m \u001b[38;5;28;01mNone\u001b[39;00m:\n\u001b[1;32m     32\u001b[0m   time\u001b[38;5;241m.\u001b[39msleep(sleep)\n",
      "\u001b[0;31mKeyboardInterrupt\u001b[0m: "
     ]
    }
   ],
   "source": [
    "K = np.array(K)\n",
    "while True:\n",
    "  a = np.clip(np.dot(-K, s), -1, 1)\n",
    "  print(a)\n",
    "  s, dead, trunc = env.step(a)\n",
    "  if dead or trunc:\n",
    "    print(f\"Successfull balancing for {env.timestep} timesteps\")\n",
    "    break"
   ]
  },
  {
   "cell_type": "code",
   "execution_count": 64,
   "metadata": {},
   "outputs": [],
   "source": [
    "# Adjust camera settings to place the camera looking along the Y-axis\n",
    "camera_distance = 5  # Camera distance from the target\n",
    "camera_up = [0, 1, 0]  # Up vector along the Y-axis\n",
    "camera_target = [0, 0, 1]  # Target the center of the environment\n",
    "\n",
    "# The camera \"eye\" is positioned along the Y-axis, looking along the X or Z axis\n",
    "camera_eye = [0, 5, 1]  # Camera position is 5 units along the Y-axis, at height 1\n",
    "\n",
    "# Set the camera using resetDebugVisualizerCamera\n",
    "# Arguments: (camera_distance, camera_yaw, camera_pitch, camera_target_position)\n",
    "# Camera yaw = 90 degrees (rotated around the Z-axis)\n",
    "# Camera pitch = -30 degrees (downward)\n",
    "p.resetDebugVisualizerCamera(camera_distance, cameraYaw=90, cameraPitch=-30, cameraTargetPosition=camera_target)\n",
    "\n"
   ]
  }
 ],
 "metadata": {
  "kernelspec": {
   "display_name": "venv",
   "language": "python",
   "name": "python3"
  },
  "language_info": {
   "codemirror_mode": {
    "name": "ipython",
    "version": 3
   },
   "file_extension": ".py",
   "mimetype": "text/x-python",
   "name": "python",
   "nbconvert_exporter": "python",
   "pygments_lexer": "ipython3",
   "version": "3.10.12"
  }
 },
 "nbformat": 4,
 "nbformat_minor": 2
}
