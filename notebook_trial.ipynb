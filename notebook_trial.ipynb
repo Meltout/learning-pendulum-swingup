{
 "cells": [
  {
   "cell_type": "code",
   "execution_count": 1,
   "metadata": {},
   "outputs": [
    {
     "name": "stderr",
     "output_type": "stream",
     "text": [
      "pybullet build time: Nov 29 2024 16:26:49\n"
     ]
    }
   ],
   "source": [
    "import numpy as np\n",
    "import pybullet as p\n",
    "import time\n",
    "from robot_descriptions.loaders.pybullet import load_robot_description"
   ]
  },
  {
   "cell_type": "code",
   "execution_count": null,
   "metadata": {},
   "outputs": [],
   "source": [
    "p.connect(p.GUI_SERVER)\n",
    "p.setTimeStep(0.001)\n",
    "p.setGravity(0, 0, -9.81)"
   ]
  },
  {
   "cell_type": "code",
   "execution_count": 7,
   "metadata": {},
   "outputs": [
    {
     "name": "stdout",
     "output_type": "stream",
     "text": [
      "(0, b'world_joint', 4, -1, -1, 0, 0.0, 0.0, 0.0, -1.0, 0.0, 0.0, b'base_link', (0.0, 0.0, 0.0), (0.0, 0.0, 0.0), (0.0, 0.0, 0.0, 1.0), -1)\n",
      "(1, b'shoulder_pan_joint', 0, 7, 6, 1, 0.0, 0.0, -6.28318530718, 6.28318530718, 150.0, 3.15, b'shoulder_link', (0.0, 0.0, 1.0), (0.0, 0.0, 0.089159), (0.0, 0.0, 0.0, 1.0), 0)\n",
      "(2, b'shoulder_lift_joint', 0, 8, 7, 1, 0.0, 0.0, -6.28318530718, 6.28318530718, 150.0, 3.15, b'upper_arm_link', (0.0, 1.0, 0.0), (0.0, 0.13585, 0.0), (0.0, -0.7071067811848163, 0.0, 0.7071067811882787), 1)\n",
      "(3, b'elbow_joint', 0, 9, 8, 1, 0.0, 0.0, -3.14159265359, 3.14159265359, 150.0, 3.15, b'forearm_link', (0.0, 1.0, 0.0), (0.0, -0.1197, 0.14499999999999996), (0.0, 0.0, 0.0, 1.0), 2)\n",
      "(4, b'wrist_1_joint', 0, 10, 9, 1, 0.0, 0.0, -6.28318530718, 6.28318530718, 28.0, 3.2, b'wrist_1_link', (0.0, 1.0, 0.0), (0.0, 0.0, 0.14225), (0.0, -0.7071067811848163, 0.0, 0.7071067811882787), 3)\n",
      "(5, b'wrist_2_joint', 0, 11, 10, 1, 0.0, 0.0, -6.28318530718, 6.28318530718, 28.0, 3.2, b'wrist_2_link', (0.0, 0.0, 1.0), (0.0, 0.093, 0.0), (0.0, 0.0, 0.0, 1.0), 4)\n",
      "(6, b'wrist_3_joint', 0, 12, 11, 1, 0.0, 0.0, -6.28318530718, 6.28318530718, 28.0, 3.2, b'wrist_3_link', (0.0, 1.0, 0.0), (0.0, 0.0, 0.09465), (0.0, 0.0, 0.0, 1.0), 5)\n",
      "(7, b'ee_fixed_joint', 4, -1, -1, 0, 0.0, 0.0, 0.0, -1.0, 0.0, 0.0, b'ee_link', (0.0, 0.0, 0.0), (0.0, 0.0823, 0.0), (0.0, 0.0, -0.7071067811848163, 0.7071067811882787), 6)\n",
      "(8, b'pendulum_joint', 4, -1, -1, 0, 0.1, 0.01, -0.4, 0.4, 0.0, 1.0, b'pendulum_link', (0.0, 0.0, 0.0), (0.0, 0.0, 0.0), (0.0, 0.9999999999932537, 0.0, 3.6732051033465744e-06), 7)\n",
      "(9, b'pendulum_mass_joint', 4, -1, -1, 0, 0.0, 0.0, 0.0, -1.0, 0.0, 0.0, b'pendulum_mass', (0.0, 0.0, 0.0), (0.0, 0.0, -0.125), (0.0, 0.0, 0.0, 1.0), 8)\n",
      "(10, b'base_link-base_fixed_joint', 4, -1, -1, 0, 0.0, 0.0, 0.0, -1.0, 0.0, 0.0, b'base', (0.0, 0.0, 0.0), (0.0, 0.0, 0.0), (0.0, 0.0, 1.0, -1.0341155355510722e-13), 0)\n",
      "End effector joint:  7\n",
      "Revolute joints:  [1, 2, 3, 4, 5, 6]\n"
     ]
    }
   ],
   "source": [
    "#robot_id = load_robot_description('ur5_description', useFixedBase=True)\n",
    "joint_indices = [i for i in range(p.getNumJoints(robot_id)) if p.getJointInfo(robot_id, i)[2] == p.JOINT_REVOLUTE]\n",
    "for i in range(p.getNumJoints(robot_id)):\n",
    "  print(p.getJointInfo(robot_id, i))\n",
    "\n",
    "eff_idx = 7\n",
    "print(\"End effector joint: \", eff_idx)\n",
    "print(\"Revolute joints: \", joint_indices)"
   ]
  },
  {
   "cell_type": "code",
   "execution_count": 2,
   "metadata": {},
   "outputs": [
    {
     "name": "stdout",
     "output_type": "stream",
     "text": [
      "/Users/theo/.cache/robot_descriptions/example-robot-data/robots/ur_description/urdf/ur5_robot.urdf\n"
     ]
    }
   ],
   "source": [
    "from robot_descriptions import ur5_description\n",
    "urdf_file_path_ur5 = ur5_description.URDF_PATH\n",
    "print(urdf_file_path_ur5)"
   ]
  },
  {
   "cell_type": "markdown",
   "metadata": {},
   "source": [
    "# Disable default motor control"
   ]
  },
  {
   "cell_type": "code",
   "execution_count": 8,
   "metadata": {},
   "outputs": [],
   "source": [
    "for i in joint_indices:\n",
    "    p.setJointMotorControl2(\n",
    "        bodyUniqueId=robot_id,\n",
    "        jointIndex=i,\n",
    "        controlMode=p.VELOCITY_CONTROL,\n",
    "        force=0  # Disable motor forces\n",
    "    )"
   ]
  },
  {
   "cell_type": "markdown",
   "metadata": {},
   "source": [
    "# Feedback and Stabilization"
   ]
  },
  {
   "cell_type": "code",
   "execution_count": 10,
   "metadata": {},
   "outputs": [],
   "source": [
    "def pd_control(robot_id, q_desired, v_desired, Kp, Kd):\n",
    "  joint_states = p.getJointStates(robot_id, joint_indices)\n",
    "  q_measured = np.array([state[0] for state in joint_states])\n",
    "  v_measured = np.array([state[1] for state in joint_states])\n",
    "  position_error = q_desired - q_measured\n",
    "  velocity_error = v_desired - v_measured\n",
    "  \n",
    "  tau = Kp * position_error + Kd * velocity_error\n",
    "  # add gravity compensation\n",
    "  tau += np.array(p.calculateInverseDynamics(robot_id, q_measured.tolist(), [0] * len(joint_indices), [0] * len(joint_indices)))\n",
    "  return tau\n",
    "\n",
    "Kp = 100 * np.ones_like(joint_indices)\n",
    "Kd = 5 * np.ones_like(joint_indices)\n",
    "\n",
    "def control_to_desired_configuration(robot_id, q_desired, v_desired=None, max_steps=5000):\n",
    "  if v_desired is None:\n",
    "    v_desired = np.zeros_like(q_desired)\n",
    "  for step in range(max_steps):  # Simulation steps\n",
    "    torques = pd_control(robot_id, q_desired, v_desired, Kp, Kd).tolist()\n",
    "    p.setJointMotorControlArray(\n",
    "      bodyUniqueId=robot_id,\n",
    "      jointIndices=joint_indices,\n",
    "      controlMode=p.TORQUE_CONTROL,\n",
    "      forces=torques\n",
    "    )\n",
    "    p.stepSimulation()\n",
    "    "
   ]
  },
  {
   "cell_type": "markdown",
   "metadata": {},
   "source": [
    "# Test PD controller"
   ]
  },
  {
   "cell_type": "code",
   "execution_count": 13,
   "metadata": {},
   "outputs": [],
   "source": [
    "desired_positions = np.array([0.5, -1.0, 0.0, -1.5, 0.0, 1.0])\n",
    "desired_velocities = np.zeros_like(desired_positions)\n",
    "\n",
    "control_to_desired_configuration(robot_id, desired_positions, desired_velocities)"
   ]
  },
  {
   "cell_type": "markdown",
   "metadata": {},
   "source": [
    "# Moving end-effector along a horizontal line"
   ]
  },
  {
   "cell_type": "code",
   "execution_count": 6,
   "metadata": {},
   "outputs": [
    {
     "name": "stdout",
     "output_type": "stream",
     "text": [
      "[0.8 0.3 0.3] [0.8        0.29393939 0.3       ]\n"
     ]
    },
    {
     "ename": "NameError",
     "evalue": "name 'eff_idx' is not defined",
     "output_type": "error",
     "traceback": [
      "\u001b[0;31m---------------------------------------------------------------------------\u001b[0m",
      "\u001b[0;31mNameError\u001b[0m                                 Traceback (most recent call last)",
      "Cell \u001b[0;32mIn[6], line 6\u001b[0m\n\u001b[1;32m      4\u001b[0m target_positions \u001b[38;5;241m=\u001b[39m start_point \u001b[38;5;241m+\u001b[39m np\u001b[38;5;241m.\u001b[39mlinspace(\u001b[38;5;241m0\u001b[39m, \u001b[38;5;241m1\u001b[39m, num\u001b[38;5;241m=\u001b[39m\u001b[38;5;241m100\u001b[39m)[:, np\u001b[38;5;241m.\u001b[39mnewaxis] \u001b[38;5;241m*\u001b[39m direction_vector[np\u001b[38;5;241m.\u001b[39mnewaxis, :]\n\u001b[1;32m      5\u001b[0m \u001b[38;5;28mprint\u001b[39m(target_positions[\u001b[38;5;241m0\u001b[39m], target_positions[\u001b[38;5;241m1\u001b[39m])\n\u001b[0;32m----> 6\u001b[0m \u001b[38;5;28mprint\u001b[39m(p\u001b[38;5;241m.\u001b[39mgetJointInfo(robot, \u001b[43meff_idx\u001b[49m))\n\u001b[1;32m      7\u001b[0m \u001b[38;5;66;03m# set robot at starting point\u001b[39;00m\n\u001b[1;32m      8\u001b[0m time\u001b[38;5;241m.\u001b[39msleep(\u001b[38;5;241m2\u001b[39m)\n",
      "\u001b[0;31mNameError\u001b[0m: name 'eff_idx' is not defined"
     ]
    }
   ],
   "source": [
    "# Define the start point and direction of the line\n",
    "start_point = np.array([0.8, 0.3, 0.3])  # [x, y, z] in 3D space\n",
    "direction_vector = np.array([0.0, -0.6, 0])  # Direction along X-axis (horizontal)\n",
    "target_positions = start_point + np.linspace(0, 1, num=100)[:, np.newaxis] * direction_vector[np.newaxis, :]\n",
    "print(target_positions[0], target_positions[1])\n",
    "print(p.getJointInfo(robot, eff_idx))\n",
    "# set robot at starting point\n",
    "time.sleep(2)\n",
    "for target in target_positions:\n",
    "  joint_angles = p.calculateInverseKinematics(\n",
    "    robot,\n",
    "    eff_idx,\n",
    "    target\n",
    "  )\n",
    "  control_to_desired_configuration(robot, joint_angles)\n",
    "  time.sleep(1 / 240.0)"
   ]
  },
  {
   "cell_type": "markdown",
   "metadata": {},
   "source": [
    "## Adding pendulum to end effector"
   ]
  },
  {
   "cell_type": "code",
   "execution_count": 3,
   "metadata": {},
   "outputs": [],
   "source": [
    "import os\n",
    "\n",
    "\n",
    "\n",
    "def addpendulum_urdf(urdf_file_path, save_to_path):\n",
    "    # Read the URDF file\n",
    "    with open(urdf_file_path, 'r') as file:\n",
    "        urdf_data = file.readlines()\n",
    "\n",
    "    # Remove trailing blank lines and the </robot> tag\n",
    "    while urdf_data and urdf_data[-1].strip() == \"\":  # Remove blank lines\n",
    "        urdf_data.pop()\n",
    "    # Remove the last line (`</robot>`)\n",
    "    if urdf_data[-1].strip() == \"</robot>\":\n",
    "        urdf_data.pop()\n",
    "\n",
    "\n",
    "    # The pendulum components to add\n",
    "    pendulum_urdf = \"\"\"  <!-- Pendulum Link (Thin cylinder attached to link_6) -->\n",
    "  <link name=\"pendulum_link\">\n",
    "    <inertial>\n",
    "      <origin xyz=\"0 0 -0.125\" rpy=\"0 0 0\" />\n",
    "      <mass value=\"0.005\" />\n",
    "      <inertia ixx=\"0.0001\" ixy=\"0\" ixz=\"0\" iyy=\"0.0000\" iyz=\"0\" izz=\"0.0001\" /> <!-- ixx =izz = m * l **2 /3, rest is 0 (source wiki)  -->\n",
    "    </inertial>\n",
    "    <visual>\n",
    "      <origin xyz=\"0 0 -0.125\" rpy=\"0 0 0\" />\n",
    "      <geometry>\n",
    "      <cylinder length=\"0.25\" radius=\"0.0025\"/> <!-- Thin cylinder, length 0.25m, radius 2.5mm -->\n",
    "      </geometry>\n",
    "      <material name=\"\">\n",
    "        <color rgba=\"0.792156862745098 0.819607843137255 0.933333333333333 1\" />\n",
    "      </material>\n",
    "    </visual>\n",
    "    <collision>\n",
    "      <origin xyz=\"0 0 -0.125\" rpy=\"0 0 0\" /> \n",
    "      <geometry>\n",
    "      <cylinder length=\"0.25\" radius=\"0.0025\"/> <!-- Thin cylinder, length 0.25m, radius 2.5mm -->\n",
    "      </geometry>\n",
    "    </collision>\n",
    "  </link>\n",
    "\n",
    "  <!-- Pendulum Mass at the end of the pendulum_link -->\n",
    "  <link name=\"pendulum_mass\">\n",
    "    <inertial>\n",
    "      <origin xyz=\"0 0 -0.03\" rpy=\"0 0 0\" />\n",
    "      <mass value=\"0.001\" /> <!-- Mass m at the end of 100g -->\n",
    "      <inertia ixx=\"0.000036\" ixy=\"0\" ixz=\"0\" iyy=\"0.000036\" iyz=\"0\" izz=\"0.000036\" /> <!-- ixx = iyy=izz = 2 *m * r **2 /5 , rest is 0 (source wiki)   -->\n",
    "    </inertial>\n",
    "    <visual>\n",
    "      <origin xyz=\"0 0 -0.03\" rpy=\"0 0 0\" />\n",
    "      <geometry>\n",
    "        <sphere radius =\"0.03\" /> <!-- Small sphere representing the mass, radius of 3cm -->\n",
    "      </geometry>\n",
    "      <material name=\"\">\n",
    "        <color rgba=\"0.792156862745098 0.819607843137255 0.933333333333333 1\" />\n",
    "      </material>\n",
    "    </visual>\n",
    "    <collision>\n",
    "      <origin xyz=\"0 0 -0.03\" rpy=\"0 0 0\" />\n",
    "      <geometry>\n",
    "        <sphere radius=\"0.03\" />\n",
    "      </geometry>\n",
    "    </collision>\n",
    "  </link>\n",
    "\n",
    "  <!-- Pendulum Joint (connects pendulum_link to link_6) -->\n",
    "  <joint name=\"pendulum_joint\" type=\"fixed\">\n",
    "    <parent link=\"ee_link\" /> <!-- Attach to link_6 -->\n",
    "    <child link=\"pendulum_link\" />\n",
    "    <origin xyz=\"0 0 0\" rpy=\"0 3.1416 0\" /> <!-- Positioning pendulum at link_6's end -->\n",
    "    <axis xyz=\"0 1 0\" /> <!-- Swinging along Y-axis -->\n",
    "    <limit lower=\"-0.4\" upper=\"0.4\" effort=\"0\" velocity=\"1\" /> <!-- Passive joint with zero effort -->\n",
    "    <dynamics damping=\"0.1\" friction=\"0.01\" />\n",
    "  </joint>\n",
    "\n",
    "  <!-- Pendulum Mass Joint (fixes mass to the end of the pendulum) -->\n",
    "  <joint name=\"pendulum_mass_joint\" type=\"fixed\">\n",
    "    <parent link=\"pendulum_link\" />\n",
    "    <child link=\"pendulum_mass\" />\n",
    "    <origin xyz=\"0 0 -0.25\" rpy=\"0 0 0\" /> <!-- Attach mass at the tip of pendulum -->\n",
    "  </joint>\n",
    "  \"\"\"\n",
    "    # Append the pendulum components to the URDF data\n",
    "    urdf_data.append(pendulum_urdf)\n",
    "\n",
    "    # Add the </robot> tag back\n",
    "    urdf_data.append(\"</robot>\\n\")\n",
    "\n",
    "    # Write the modified URDF back to the file\n",
    "    with open(save_to_path, 'w') as file:\n",
    "        file.writelines(urdf_data)\n",
    "\n",
    "    print(\"URDF file has been updated with pendulum components.\")\n",
    "    print(f\"New URDF saved to {save_to_path}\")\n",
    "\n",
    "\n"
   ]
  },
  {
   "cell_type": "code",
   "execution_count": 4,
   "metadata": {},
   "outputs": [
    {
     "name": "stdout",
     "output_type": "stream",
     "text": [
      "URDF file has been updated with pendulum components.\n",
      "New URDF saved to /Users/theo/.cache/robot_descriptions/example-robot-data/robots/ur_description/urdf/ur5_pendulum.urdf\n"
     ]
    }
   ],
   "source": [
    "pendulum_arm_path = os.path.dirname(urdf_file_path_ur5) + '/ur5_pendulum.urdf'\n",
    "\n",
    "addpendulum_urdf(urdf_file_path_ur5, save_to_path= pendulum_arm_path)"
   ]
  },
  {
   "cell_type": "code",
   "execution_count": 5,
   "metadata": {},
   "outputs": [
    {
     "name": "stdout",
     "output_type": "stream",
     "text": [
      "Version = 4.1 Metal - 76.3\n",
      "Vendor = Apple\n",
      "Renderer = Apple M1\n",
      "b3Printf: Selected demo: Physics Server\n",
      "startThreads creating 1 threads.\n",
      "starting thread 0\n",
      "started thread 0 \n",
      "b3Printf: PosixSharedMemory::releaseSharedMemory removed shared memory\n",
      "b3Printf: PosixSharedMemory::releaseSharedMemory detached shared memory\n",
      "\n",
      "b3Printf: PosixSharedMemory::releaseSharedMemory removed shared memory\n",
      "b3Printf: PosixSharedMemory::releaseSharedMemory detached shared memory\n",
      "\n",
      "MotionThreadFunc thread started\n",
      "b3Printf: b3Warning[examples/Importers/ImportURDFDemo/BulletUrdfImporter.cpp,126]:\n",
      "\n",
      "b3Printf: urdfdom: no axis element for Joint, defaulting to (1,0,0) axis ee_fixed_joint\n",
      "\n"
     ]
    }
   ],
   "source": [
    "p.connect(p.GUI_SERVER)\n",
    "p.setTimeStep(0.001)\n",
    "p.setGravity(0, 0, -9.81)\n",
    "\n",
    "robot_id = p.loadURDF(pendulum_arm_path)"
   ]
  }
 ],
 "metadata": {
  "kernelspec": {
   "display_name": "venv",
   "language": "python",
   "name": "python3"
  },
  "language_info": {
   "codemirror_mode": {
    "name": "ipython",
    "version": 3
   },
   "file_extension": ".py",
   "mimetype": "text/x-python",
   "name": "python",
   "nbconvert_exporter": "python",
   "pygments_lexer": "ipython3",
   "version": "3.10.12"
  }
 },
 "nbformat": 4,
 "nbformat_minor": 2
}
