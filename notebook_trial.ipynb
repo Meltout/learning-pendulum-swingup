{
 "cells": [
  {
   "cell_type": "code",
   "execution_count": null,
   "metadata": {},
   "outputs": [],
   "source": [
    "import numpy as np\n",
    "import pybullet as p\n",
    "import time\n",
    "from robot_descriptions.loaders.pybullet import load_robot_description"
   ]
  },
  {
   "cell_type": "code",
   "execution_count": null,
   "metadata": {},
   "outputs": [],
   "source": [
    "p.connect(p.GUI_SERVER)\n",
    "p.setTimeStep(0.0001)\n",
    "p.setGravity(0, 0, -9.81)"
   ]
  },
  {
   "cell_type": "code",
   "execution_count": null,
   "metadata": {},
   "outputs": [],
   "source": [
    "robot_id = load_robot_description('ur5_description', useFixedBase=True) \n",
    "joint_indices = [i for i in range(p.getNumJoints(robot_id)) if p.getJointInfo(robot_id, i)[2] == p.JOINT_REVOLUTE]\n",
    "for i in range(p.getNumJoints(robot_id)):\n",
    "  print(p.getJointInfo(robot_id, i))\n",
    "  print(p.getJointInfo(robot_id, i)[2] == p.JOINT_REVOLUTE)\n",
    "\n",
    "immovable_joints = [6, 8]\n",
    "wrist3_joint = 6\n",
    "eff_idx = 7\n",
    "pendulum_joint_idx = 8\n",
    "print(\"End effector joint: \", eff_idx)\n",
    "print(\"Revolute joints: \", joint_indices)"
   ]
  },
  {
   "cell_type": "markdown",
   "metadata": {},
   "source": [
    "# Inverse kinematics with preferred positions"
   ]
  },
  {
   "cell_type": "code",
   "execution_count": null,
   "metadata": {},
   "outputs": [],
   "source": [
    "#lower limits for null space\n",
    "ll = [3.14 / 18 * x for x in [-36, 3.5, -6.5, 1.5, -4, 17.5, 0]]\n",
    "#upper limits for null space\n",
    "ul = [3.14 / 18 * x for x in [36,  4.5, -5.5, 4.5,  4, 17.5, 0]]\n",
    "#joint ranges for null space\n",
    "jr = [3.14 / 18  * x for x in [72,    1,    1,   3,  8,    0, 0]]\n",
    "#restposes for null space\n",
    "rp = [3.14 / 18 * x for x in [0,     4,   -6,   3,  0, 17.5, 0]]\n",
    "\n",
    "print(ll)\n",
    "print(ul)\n",
    "print(jr)\n",
    "print(rp)\n",
    "\n",
    "def smoothInverseKinematics(robot_id, eff_idx, target_pos):\n",
    "  current_positon = p.getLinkState(robot_id, eff_idx)[0]\n",
    "  return p.calculateInverseKinematics(\n",
    "    robot_id,\n",
    "    eff_idx,\n",
    "    target_pos,\n",
    "    lowerLimits = ll,\n",
    "    upperLimits = ul,\n",
    "    jointRanges = jr,\n",
    "    restPoses   = rp,\n",
    "    solver=420,\n",
    "    maxNumIterations=20,\n",
    "    residualThreshold=.01\n",
    "  )"
   ]
  },
  {
   "cell_type": "markdown",
   "metadata": {},
   "source": [
    "# Disable default motor control"
   ]
  },
  {
   "cell_type": "code",
   "execution_count": null,
   "metadata": {},
   "outputs": [],
   "source": [
    "for i in joint_indices:\n",
    "    p.setJointMotorControl2(\n",
    "        bodyUniqueId=robot_id,\n",
    "        jointIndex=i,\n",
    "        controlMode=p.VELOCITY_CONTROL,\n",
    "        force=0  # Disable motor forces\n",
    "    )"
   ]
  },
  {
   "cell_type": "markdown",
   "metadata": {},
   "source": [
    "# Feedback and Stabilization"
   ]
  },
  {
   "cell_type": "code",
   "execution_count": null,
   "metadata": {},
   "outputs": [],
   "source": [
    "def pd_control(robot_id, q_desired, v_desired, Kp, Kd):\n",
    "  joint_states = p.getJointStates(robot_id, joint_indices)\n",
    "  q_measured = np.array([state[0] for state in joint_states])\n",
    "  v_measured = np.array([state[1] for state in joint_states])\n",
    "  position_error = q_desired - q_measured\n",
    "  velocity_error = v_desired - v_measured\n",
    "  \n",
    "  tau = Kp * position_error + Kd * velocity_error\n",
    "  # add gravity compensation\n",
    "  tau += np.array(p.calculateInverseDynamics(robot_id, q_measured.tolist(), [0] * len(joint_indices), [0] * len(joint_indices)))\n",
    "  for i in range(len(joint_indices)):\n",
    "    if joint_indices[i] in immovable_joints: # ensure pendulum and wrist 3 joint is commanded with zero torque\n",
    "      tau[i] = 0\n",
    "  return tau\n",
    "\n",
    "Kp = 100 * np.ones_like(joint_indices)\n",
    "Kd = 5 * np.ones_like(joint_indices)\n",
    "\n",
    "def control_to_desired_configuration(robot_id, q_desired, v_desired=None, max_steps=5000):\n",
    "  if v_desired is None:\n",
    "    v_desired = np.zeros_like(q_desired)\n",
    "  for step in range(max_steps):  # Simulation steps\n",
    "    torques = pd_control(robot_id, q_desired, v_desired, Kp, Kd).tolist()\n",
    "    p.setJointMotorControlArray(\n",
    "      bodyUniqueId=robot_id,\n",
    "      jointIndices=joint_indices,\n",
    "      controlMode=p.TORQUE_CONTROL,\n",
    "      forces=torques\n",
    "    )\n",
    "    p.stepSimulation()\n",
    "    "
   ]
  },
  {
   "cell_type": "markdown",
   "metadata": {},
   "source": [
    "# Resetting to balanced pose"
   ]
  },
  {
   "cell_type": "code",
   "execution_count": null,
   "metadata": {},
   "outputs": [],
   "source": [
    "rest_pose_balancing = [np.pi / 18 * x for x in [0, 4, -6, 3, 0, 17.5, 0]]\n",
    "def reset_to_balancing_pose(robot_id):\n",
    "  for i in range(len(joint_indices)): \n",
    "    p.resetJointState(robot_id, joint_indices[i], targetValue=-rest_pose_balancing[i], targetVelocity=0)\n",
    "    p.setJointMotorControl2(\n",
    "          bodyUniqueId=robot_id,\n",
    "          jointIndex=joint_indices[i],\n",
    "          controlMode=p.VELOCITY_CONTROL,\n",
    "          force=0  # Disable motor forces\n",
    "      )"
   ]
  },
  {
   "cell_type": "code",
   "execution_count": null,
   "metadata": {},
   "outputs": [],
   "source": [
    "reset_to_balancing_pose(robot_id)"
   ]
  },
  {
   "cell_type": "code",
   "execution_count": null,
   "metadata": {},
   "outputs": [],
   "source": [
    "print(p.getLinkState(robot_id, eff_idx))"
   ]
  },
  {
   "cell_type": "code",
   "execution_count": null,
   "metadata": {},
   "outputs": [],
   "source": [
    "p.calculateInverseKinematics(robot_id, eff_idx, (0.7105991188452455, 0.19145000000000006, 0.13497427907824033))"
   ]
  },
  {
   "cell_type": "markdown",
   "metadata": {},
   "source": [
    "# Moving end-effector along a horizontal line"
   ]
  },
  {
   "cell_type": "markdown",
   "metadata": {},
   "source": [
    "## Forward movement"
   ]
  },
  {
   "cell_type": "code",
   "execution_count": null,
   "metadata": {},
   "outputs": [],
   "source": [
    "# Define the start point and direction of the line\n",
    "reset_to_balancing_pose(robot_id)\n",
    "start_point = np.array([0.7105991188452455, 0.19145000000000006, 0.13497427907824033])  # [x, y, z] in 3D space\n",
    "direction_vector = np.array([+0.2, 0, 0])  # Direction along X-axis (horizontal)\n",
    "target_positions = start_point + np.linspace(0, 1, num=10)[:, np.newaxis] * direction_vector[np.newaxis, :]\n",
    "print(target_positions[0], target_positions[-1])\n",
    "print(p.getJointInfo(robot_id, eff_idx))\n",
    "\n",
    "time.sleep(1)\n",
    "for target in target_positions:\n",
    "  joint_angles = p.calculateInverseKinematics(robot_id,eff_idx,target)\n",
    "  control_to_desired_configuration(robot_id, joint_angles)\n",
    "  time.sleep(1 / 1000.)"
   ]
  },
  {
   "cell_type": "markdown",
   "metadata": {},
   "source": [
    "## Backward movement"
   ]
  },
  {
   "cell_type": "code",
   "execution_count": null,
   "metadata": {},
   "outputs": [],
   "source": [
    "# Define the start point and direction of the line\n",
    "reset_to_balancing_pose(robot_id)\n",
    "start_point = np.array([0.7105991188452455, 0.19145000000000006, 0.13497427907824033])  # [x, y, z] in 3D space\n",
    "direction_vector = np.array([-0.3, 0, 0])  # Direction along X-axis (horizontal)\n",
    "target_positions = start_point + np.linspace(0, 1, num=10)[:, np.newaxis] * direction_vector[np.newaxis, :]\n",
    "print(target_positions[0], target_positions[-1])\n",
    "print(p.getJointInfo(robot_id, eff_idx))\n",
    "\n",
    "time.sleep(1)\n",
    "for target in target_positions:\n",
    "  joint_angles = p.calculateInverseKinematics(robot_id,eff_idx,target)\n",
    "  control_to_desired_configuration(robot_id, joint_angles)\n",
    "  time.sleep(1 / 1000.)"
   ]
  },
  {
   "cell_type": "code",
   "execution_count": null,
   "metadata": {},
   "outputs": [],
   "source": [
    "reset_to_balancing_pose(robot_id)\n",
    "left_point = np.array([0.7105991188452455, 0.19145000000000006, 0.13497427907824033])  - np.array([0.1, 0, 0])\n",
    "right_point = np.array([0.7105991188452455, 0.19145000000000006, 0.13497427907824033])  + np.array([0.1, 0, 0])\n",
    "\n",
    "time.sleep(2)\n",
    "for i in range(100):\n",
    "  if i % 2 == 0:\n",
    "    target = left_point\n",
    "  else:\n",
    "    target = right_point\n",
    "  joint_angles = p.calculateInverseKinematics(robot_id,eff_idx,target)\n",
    "  control_to_desired_configuration(robot_id, joint_angles)\n",
    "  time.sleep(0.05)"
   ]
  },
  {
   "cell_type": "markdown",
   "metadata": {},
   "source": [
    "# Balancing the pendulum"
   ]
  },
  {
   "cell_type": "code",
   "execution_count": null,
   "metadata": {},
   "outputs": [],
   "source": [
    "from tqdm import tqdm\n",
    "\n",
    "class EnvRealistic:\n",
    "  action_space = [-1, 1]\n",
    "  scale_action = 0.01\n",
    "  TIME_HORIZON = 1000\n",
    "  def __init__(self, robot_id, pendulum_link, pendulum_joint, line_vec):\n",
    "    self.robot_id = robot_id\n",
    "    self.line_vector = line_vec\n",
    "    self.pendulum_link = pendulum_link\n",
    "    self.pendulum_joint = pendulum_joint\n",
    "    self.reset()\n",
    "\n",
    "\n",
    "  def get_state(self):\n",
    "    (position, _, _, _, _, _, velocity, _) = pybullet.getLinkState(self.robot_id, self.pendulum_link, computeLinkVelocity=True)\n",
    "    position = np.array(position)\n",
    "    velocity = np.array(velocity)\n",
    "    x = position[0]\n",
    "    x_dot = np.dot((velocity - self.initial_pos), self.line_vector)\n",
    "    theta = pybullet.getJointState(robot_id, self.pendulum_joint)[0] - self.initial_theta\n",
    "    theta_dot = pybullet.getJointState(robot_id, self.pendulum_joint)[1]\n",
    "    print(x, x_dot,  theta, theta_dot, self.initial_pos, self.initial_theta)\n",
    "    return (x.item(), x_dot, theta, theta_dot)\n",
    "\n",
    "  def reset(self):\n",
    "    \"\"\" \n",
    "    Returns state\n",
    "    \"\"\"\n",
    "    self.timestep = 0\n",
    "    reset_to_balanced_position(self.robot_id)\n",
    "    self.initial_pos = np.array(pybullet.getLinkState(self.robot_id, self.pendulum_link)[0])\n",
    "    self.initial_theta = pybullet.getJointState(self.robot_id, self.pendulum_joint)[0]\n",
    "    return (self.initial_pos, 0, 0, 0)\n",
    "  \n",
    "  def step(self, action):\n",
    "    \"\"\"\n",
    "    Returns tuple (state, dead, truncated)\n",
    "    \"\"\"\n",
    "    position = pybullet.getJointState(robot_id, self.pendulum_joint)[0]\n",
    "    target = position + (action * self.scale_action) * self.line_vector\n",
    "    move_end_effector_along_trajectory(robot_id, [target], self.pendulum_joint)\n",
    "    (x, x_dot, theta, theta_dot) = self.get_state()\n",
    "    self.timestep += 1\n",
    "    dead = False\n",
    "    truncated = False\n",
    "    if np.abs(theta) > np.pi / 16:\n",
    "      dead = True\n",
    "    if self.timestep == self.TIME_HORIZON:\n",
    "      truncated = True\n",
    "    return ((x, x_dot, theta, theta_dot), dead, truncated)\n",
    "\n",
    "\n",
    "def generate_sample_of_system_dynamics_realistic(env, nb_samples):\n",
    "  samples = []\n",
    "  s = env.reset()\n",
    "  for _ in tqdm(range(nb_samples)):\n",
    "    a = EnvRealistic.action_space[np.random.randint(0, 2)]\n",
    "    next_s, dead, trunc = env.step(a)\n",
    "    samples.append({\n",
    "      'x': s[0], \n",
    "      'x_dot': s[1], \n",
    "      'theta': s[2], \n",
    "      'theta_dot': s[3], \n",
    "      'u': a, # mapping inputs to {-1, 1} rather than {0, 1} is important, because otherwise the linear regression needs a non-zero constant to fit well\n",
    "      'evolution_x': next_s[0], \n",
    "      'evolution_x_dot': next_s[1], \n",
    "      'evolution_theta_dot': next_s[3]})\n",
    "    if dead or trunc:\n",
    "      s = env.reset()\n",
    "    else:\n",
    "      s = next_s\n",
    "    return pd.DataFrame(samples)"
   ]
  }
 ],
 "metadata": {
  "kernelspec": {
   "display_name": "venv",
   "language": "python",
   "name": "python3"
  },
  "language_info": {
   "codemirror_mode": {
    "name": "ipython",
    "version": 3
   },
   "file_extension": ".py",
   "mimetype": "text/x-python",
   "name": "python",
   "nbconvert_exporter": "python",
   "pygments_lexer": "ipython3",
   "version": "3.10.12"
  }
 },
 "nbformat": 4,
 "nbformat_minor": 2
}
